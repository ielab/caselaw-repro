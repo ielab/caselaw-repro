{
 "cells": [
  {
   "cell_type": "markdown",
   "metadata": {},
   "source": [
    "This notebook generates results for JM, DP, TFIDF, BM25 tuning, SDM tuning and PLM"
   ]
  },
  {
   "cell_type": "code",
   "execution_count": null,
   "metadata": {},
   "outputs": [],
   "source": [
    "%matplotlib inline\n",
    "\n",
    "import sys \n",
    "import os \n",
    "\n",
    "nb_dir = os.getcwd()\n",
    "if nb_dir not in sys.path:\n",
    "    sys.path.append(nb_dir)\n",
    "\n",
    "from plotlib.loaders import *\n",
    "from plotlib.plotters import *\n",
    "from phdconf.config import *\n",
    "from phdconf import config \n",
    "\n",
    "plt.style.use('seaborn-white')"
   ]
  },
  {
   "cell_type": "code",
   "execution_count": null,
   "metadata": {},
   "outputs": [],
   "source": [
    "queries = load_queries(AUS_TOPIC_PATH)\n",
    "broad, specific = load_query_types(queries)"
   ]
  },
  {
   "cell_type": "code",
   "execution_count": null,
   "metadata": {},
   "outputs": [],
   "source": [
    "index_names = ['filtered-phrasestop']\n",
    "qrel_paths = [config.AUS_QREL_PATH, config.AUS_QREL_PATH]#, config.SIGIR_QREL_PATH]\n",
    "rel_levels = [config.AUS_REL_LEVEL, config.AUS_REL_LEVEL]#, config.SIGIR_REL_LEVEL]\n",
    "display_names = ['AUS', 'FIL_STOP']#, 'SIGIR']"
   ]
  },
  {
   "cell_type": "code",
   "execution_count": null,
   "metadata": {},
   "outputs": [],
   "source": [
    "mu = 2000\n",
    "base_df = load_1d_dfs(['filtered-phrasestop'], qrel_paths, os.path.join(BASE_DIR, 'preprocessing', 'dirichlet_prior'), 'case-topics-{0}-unigram_dir_mu_{1:.2f}.run', rel_levels, mu, mu, 1)[0][0]\n",
    "base_qry = load_1d_dfs(['filtered-phrasestop'], qrel_paths, os.path.join(BASE_DIR, 'preprocessing', 'dirichlet_prior'), 'case-topics-{0}-unigram_dir_mu_{1:.2f}.run', rel_levels, mu, mu, 1, per_query=True)[0][0]"
   ]
  },
  {
   "cell_type": "code",
   "execution_count": null,
   "metadata": {},
   "outputs": [],
   "source": [
    "jm_path = os.path.join(BASE_DIR, 'jelinek_mercer')\n",
    "\n",
    "lambda_start = 0.0\n",
    "lambda_end = 1.0\n",
    "increment = 0.05"
   ]
  },
  {
   "cell_type": "code",
   "execution_count": null,
   "metadata": {},
   "outputs": [],
   "source": [
    "jm_dfs = load_1d_dfs(index_names, qrel_paths, jm_path, 'case-topics-{0}-unigram_jm_lambda_{1:.2f}.run', rel_levels, lambda_start, lambda_end, increment)"
   ]
  },
  {
   "cell_type": "code",
   "execution_count": null,
   "metadata": {},
   "outputs": [],
   "source": [
    "jm_fig = plot_tune_1d_comp([''], RERANK_METRICS, jm_dfs, lambda_start, lambda_end, increment)\n",
    "# jm_fig.savefig('figures/jm-tune.pdf')"
   ]
  },
  {
   "cell_type": "markdown",
   "metadata": {},
   "source": [
    "## Dirichlet Prior "
   ]
  },
  {
   "cell_type": "code",
   "execution_count": null,
   "metadata": {},
   "outputs": [],
   "source": [
    "dir_path = os.path.join(BASE_DIR, 'preprocessing', 'dirichlet_prior')\n",
    "\n",
    "mu_start = 300.0\n",
    "mu_end = 3000.0\n",
    "mu_increment = 50.0"
   ]
  },
  {
   "cell_type": "code",
   "execution_count": null,
   "metadata": {},
   "outputs": [],
   "source": [
    "dir_dfs = load_1d_dfs(index_names, qrel_paths, dir_path, 'case-topics-{0}-unigram_dir_mu_{1:.2f}.run', rel_levels, mu_start, mu_end, mu_increment)"
   ]
  },
  {
   "cell_type": "code",
   "execution_count": null,
   "metadata": {},
   "outputs": [],
   "source": [
    "dir_fig = plot_tune_1d_comp(['ausnl'], RERANK_METRICS, dir_dfs, mu_start, mu_end, mu_increment)\n",
    "# dir_fig.savefig('figures/dir-tune.pdf')"
   ]
  },
  {
   "cell_type": "markdown",
   "metadata": {},
   "source": [
    "# Load BM25 "
   ]
  },
  {
   "cell_type": "code",
   "execution_count": null,
   "metadata": {},
   "outputs": [],
   "source": [
    "bm25_path = 'bm25'\n",
    "\n",
    "def load_bm25_dfs(index_names, qrel_paths, results_path, rel_levels, name='{0}-filtered-phrasestop-unigram_bm25_k1_{1:.2f}_b_{2:.2f}.run', per_query=False, filtered=None):\n",
    "    k1_start = 1.2\n",
    "    k1_end = 3.05\n",
    "    b_start = 0.05\n",
    "    b_end = 1.05\n",
    "    increment = 0.05\n",
    "    \n",
    "    dfs = []\n",
    "    \n",
    "    for i in range(len(index_names)):\n",
    "        dfs.append([])\n",
    "        cnt = 0\n",
    "        for k1 in np.arange(k1_start, k1_end, increment):\n",
    "            dfs[i].append([])\n",
    "            for b in np.arange(b_start, b_end, increment):\n",
    "                dfs[i][cnt].append(to_trec_df(qrel_paths[i], os.path.join(results_path, name.format(index_names[i], k1, b)), rel_levels[i], per_query=per_query, filtered=filtered))\n",
    "            cnt+=1\n",
    "    \n",
    "    return dfs "
   ]
  },
  {
   "cell_type": "code",
   "execution_count": null,
   "metadata": {},
   "outputs": [],
   "source": [
    "bm25_dfs = load_bm25_dfs(['case-topics'], qrel_paths, os.path.join(BASE_DIR, bm25_path), rel_levels)"
   ]
  },
  {
   "cell_type": "markdown",
   "metadata": {},
   "source": [
    "# Cross val results"
   ]
  },
  {
   "cell_type": "code",
   "execution_count": null,
   "metadata": {},
   "outputs": [],
   "source": [
    "tt_folds = read_folds(AUS_FOLDS)"
   ]
  },
  {
   "cell_type": "code",
   "execution_count": null,
   "metadata": {},
   "outputs": [],
   "source": [
    "jm_qry_dfs = load_1d_dfs(index_names, qrel_paths, jm_path, 'case-topics-{0}-unigram_jm_lambda_{1:.2f}.run', rel_levels, lambda_start, lambda_end, increment, per_query=True)\n",
    "dir_qry_dfs = load_1d_dfs(index_names, qrel_paths, dir_path, 'case-topics-{0}-unigram_dir_mu_{1:.2f}.run', rel_levels, mu_start, mu_end, mu_increment, per_query=True)\n",
    "tf_df = load_1d_dfs(index_names, qrel_paths, os.path.join(BASE_DIR, 'tfidf'), 'case-topics-filtered-phrasestop-unigram_tfidf.run', rel_levels, 1, 1, 1, per_query=True)\n",
    "tfln_df = load_1d_dfs(index_names, qrel_paths, os.path.join(BASE_DIR, 'tfidf'), 'case-topics-filtered-phrasestop-unigram_tfidfln.run', rel_levels, 1, 1, 1, per_query=True)"
   ]
  },
  {
   "cell_type": "code",
   "execution_count": null,
   "metadata": {},
   "outputs": [],
   "source": [
    "bm25_query_dfs = load_bm25_dfs(['case-topics'], qrel_paths, os.path.join(BASE_DIR, bm25_path), rel_levels, per_query=True)"
   ]
  },
  {
   "cell_type": "code",
   "execution_count": null,
   "metadata": {},
   "outputs": [],
   "source": [
    "cv_df = pd.DataFrame(columns=config.METRIC_NAMES)\n",
    "\n",
    "for ab, runs in zip(['JM', 'DP', 'BM25', 'TFIDF', 'TFIDF\\subscript{norm}'], [jm_qry_dfs[0], dir_qry_dfs[0], list(chain.from_iterable(bm25_query_dfs[0])), tf_df[0], tfln_df[0]]):\n",
    "    cross = cross_validation(runs, tt_folds, config.METRIC_NAMES, base_qry)\n",
    "    cv_df.loc[ab] = cross[0]"
   ]
  },
  {
   "cell_type": "code",
   "execution_count": null,
   "metadata": {},
   "outputs": [],
   "source": [
    "# write_table('tables/ausnl-traditional', bold_max(cv_df).drop('unjudged@20',axis='columns').rename(config.METRIC_NAMES, axis='columns').to_latex(escape=False))"
   ]
  },
  {
   "cell_type": "code",
   "execution_count": null,
   "metadata": {},
   "outputs": [],
   "source": [
    "# same but for sigir\n",
    "jm_qry_dfs = load_1d_dfs(['sigir-stop'], SIGIR_QREL_PATH, jm_path, 'sigir-topic-topics-{0}-unigram_jm_lambda_{1:.2f}.run', rel_levels, lambda_start, lambda_end, increment, per_query=True, filtered=[1, 3, 9, 19, 23, 25, 31, 37, 39, 45, 51, 97])\n",
    "dir_qry_dfs = load_1d_dfs(['sigir-stop'], SIGIR_QREL_PATH, os.path.join(BASE_DIR, 'dirichlet_prior'), 'sigir-topic-topics-{0}-unigram_dir_mu_{1:.2f}.run', rel_levels, mu_start, mu_end, mu_increment, per_query=True, filtered=[1, 3, 9, 19, 23, 25, 31, 37, 39, 45, 51, 97])\n",
    "tf_df = load_1d_dfs(['sigir-stop'], SIGIR_QREL_PATH, os.path.join(BASE_DIR, 'tfidf'), 'sigir-topic-topics-sigir-stop-unigram_tfidf.run', rel_levels, 1, 1, 1, per_query=True, filtered=[1, 3, 9, 19, 23, 25, 31, 37, 39, 45, 51, 97])\n",
    "tfln_df = load_1d_dfs(['sigir-stop'], SIGIR_QREL_PATH, os.path.join(BASE_DIR, 'tfidf'), 'sigir-topic-topics-sigir-stop-unigram_tfidfln.run', rel_levels, 1, 1, 1, per_query=True, filtered=[1, 3, 9, 19, 23, 25, 31, 37, 39, 45, 51, 97])"
   ]
  },
  {
   "cell_type": "code",
   "execution_count": null,
   "metadata": {},
   "outputs": [],
   "source": [
    "bm25_query_dfs = load_bm25_dfs(['sigir-topic-topics'], SIGIR_QREL_PATH, os.path.join(BASE_DIR, bm25_path), rel_levels, name='{0}-sigir-stop-unigram_bm25_k1_{1:.2f}_b_{2:.2f}.run', per_query=True, filtered=[1, 3, 9, 19, 23, 25, 31, 37, 39, 45, 51, 97])"
   ]
  },
  {
   "cell_type": "code",
   "execution_count": null,
   "metadata": {},
   "outputs": [],
   "source": [
    "base_sig = load_1d_dfs(['sigir-stop'], SIGIR_QREL_PATH, os.path.join(BASE_DIR, 'dirichlet_prior'), 'sigir-topic-topics-{0}-unigram_dir_mu_{1:.2f}.run', rel_levels, 1500, 1500, 1, per_query=True, filtered=[1, 3, 9, 19, 23, 25, 31, 37, 39, 45, 51, 97])[0][0]\n",
    "\n",
    "#sig_folds = [[[1, 3, 9, 19, 23, 25, 31, 37, 39, 45, 51, 97], [1, 3, 9, 19, 23, 25, 31, 37, 39, 45, 51, 97]]]\n",
    "sig_folds = read_folds('sigir-folds.txt')"
   ]
  },
  {
   "cell_type": "code",
   "execution_count": null,
   "metadata": {},
   "outputs": [],
   "source": [
    "cv_df = pd.DataFrame(columns=config.METRIC_NAMES)\n",
    "for ab, runs in zip(['JM', 'DP', 'BM25', 'TFIDF', 'TFIDF\\subscript{norm}'], [jm_qry_dfs[0], dir_qry_dfs[0], list(chain.from_iterable(bm25_query_dfs[0])), tf_df[0], tfln_df[0]]):\n",
    "    cross = cross_validation(runs, sig_folds, config.METRIC_NAMES, base_sig)\n",
    "    cv_df.loc[ab] = cross[0]\n",
    "    \n",
    "# write_table('tables/sigir-traditional', bold_max(cv_df).drop('unjudged@20',axis='columns').rename(config.METRIC_NAMES, axis='columns').to_latex(escape=False))"
   ]
  },
  {
   "cell_type": "code",
   "execution_count": null,
   "metadata": {},
   "outputs": [],
   "source": [
    "jm_qry_dfs = None\n",
    "dir_qry_dfs = None\n",
    "bm25_qry_dfs = None"
   ]
  },
  {
   "cell_type": "markdown",
   "metadata": {},
   "source": [
    "# BM25 max results"
   ]
  },
  {
   "cell_type": "code",
   "execution_count": null,
   "metadata": {},
   "outputs": [],
   "source": [
    "# get max run \n",
    "\n",
    "def create_max_df(bm25_dfs): \n",
    "    k1_start = 1.2\n",
    "    k1_end = 3.05\n",
    "    b_start = 0.05\n",
    "    b_end = 1.05\n",
    "    increment = 0.05\n",
    "    \n",
    "    num_x = len(bm25_dfs[0][0])\n",
    "    num_y = len(bm25_dfs[0])\n",
    "    \n",
    "    x = np.array([[i]*num_x for i in np.arange(k1_start, k1_end, increment)])\n",
    "    y = np.array([list(np.arange(b_start, b_end, increment))] * num_y)\n",
    "    \n",
    "    max_for = {}\n",
    "    for i in range(len(bm25_dfs)):\n",
    "        for j in range(len(bm25_dfs[i])):\n",
    "            inds = bm25_dfs[i][j].index\n",
    "            for ind in inds:\n",
    "                if ind not in max_for:\n",
    "                    max_for[ind] = (bm25_dfs[i][j][ind], i, j)\n",
    "                else:\n",
    "                    if bm25_dfs[i][j][ind] > max_for[ind][0]:\n",
    "                        max_for[ind] = (bm25_dfs[i][j][ind], i, j)\n",
    "              \n",
    "    for measure in max_for:\n",
    "        max_for[measure] = {'b': y[0][max_for[measure][2]], 'k1': x[max_for[measure][1]][0], 'score': max_for[measure][0]}\n",
    "        \n",
    "    max_df = pd.DataFrame.from_dict(max_for, orient='index')\n",
    "    return max_df"
   ]
  },
  {
   "cell_type": "code",
   "execution_count": null,
   "metadata": {},
   "outputs": [],
   "source": [
    "bm25_max_df = create_max_df(bm25_dfs[0])"
   ]
  },
  {
   "cell_type": "code",
   "execution_count": null,
   "metadata": {},
   "outputs": [],
   "source": [
    "bm25_max_df"
   ]
  },
  {
   "cell_type": "code",
   "execution_count": null,
   "metadata": {},
   "outputs": [],
   "source": [
    "print(bm25_max_df[bm25_max_df.index.isin(config.METRIC_NAMES)].rename(index=config.METRIC_NAMES).round(4).to_latex())"
   ]
  },
  {
   "cell_type": "code",
   "execution_count": null,
   "metadata": {},
   "outputs": [],
   "source": [
    "def plot_bm25(metric_names, dfs, ylims=[]): \n",
    "    r = int(len(metric_names)/2)\n",
    "    c = r\n",
    "    if len(metric_names)%2 != 0:\n",
    "        c += 1 \n",
    "    \n",
    "    fig, axs = plt.subplots(r, c, subplot_kw=dict(projection='3d'))\n",
    "    fig.set_size_inches(16, 8)\n",
    "    \n",
    "    k1_start = 1.2\n",
    "    k1_end = 3.05\n",
    "    b_start = 0.05\n",
    "    b_end = 1.05\n",
    "    increment = 0.05\n",
    "    \n",
    "    num_x = len(dfs[0])\n",
    "    num_y = len(dfs)\n",
    "    \n",
    "    x = np.array([[i]*num_x for i in np.arange(k1_start, k1_end, increment)])\n",
    "    y = np.array([list(np.arange(b_start, b_end, increment))] * num_y)\n",
    "            \n",
    "    cnt = 0 \n",
    "    row = 0\n",
    "    for m in metric_names:\n",
    "\n",
    "        z = [[y[m] for y in x] for x in dfs]\n",
    "        z = np.array(z)\n",
    "\n",
    "        axs[row, cnt].plot_surface(x, y, z, cmap=cm.gray)\n",
    "\n",
    "        axs[row, cnt].tick_params(labelsize=10)\n",
    "        axs[row, cnt].zaxis.set_major_formatter(FormatStrFormatter('%.3f'))\n",
    "\n",
    "        print(row, cnt, m)\n",
    "        axs[row, cnt].set_zlabel(metric_names[m], fontsize=14, rotation='vertical')\n",
    "        \n",
    "#         axs[row, cnt].view_init(30,20)\n",
    "\n",
    "        cnt += 1 \n",
    "        if cnt >= c:\n",
    "            cnt = 0\n",
    "            row += 1\n",
    "                \n",
    "    if len(metric_names) % 2 != 0: \n",
    "        fig.delaxes(axs[row, -1])\n",
    "        \n",
    "#     for i in range(len(ylims)):\n",
    "#         plt.gcf().get_axes()[i].set_ylim(ymax=ylims[i])\n",
    "                \n",
    "#     fig.subplots_adjust(wspace=0.07, hspace=0.05, left=0.01, right=1.7)\n",
    "    return fig \n",
    "\n",
    "bm25_fig = plot_bm25(RERANK_METRICS, bm25_dfs[0], ylims=ALL_YLIMS)"
   ]
  },
  {
   "cell_type": "code",
   "execution_count": null,
   "metadata": {},
   "outputs": [],
   "source": [
    "# bm25_fig.savefig('figures/ausnl-bm25-tune.pdf')"
   ]
  },
  {
   "cell_type": "code",
   "execution_count": null,
   "metadata": {},
   "outputs": [],
   "source": [
    "def plot_single_bm25(dfs, metric):\n",
    "    fig, axs = plt.subplots(1, 1, subplot_kw=dict(projection='3d'))\n",
    "    fig.set_size_inches(16, 8)\n",
    "    \n",
    "    k1_start = 1.2\n",
    "    k1_end = 3.05\n",
    "    b_start = 0.05\n",
    "    b_end = 1.05\n",
    "    increment = 0.05\n",
    "    \n",
    "    num_x = len(dfs[0])\n",
    "    num_y = len(dfs)\n",
    "    \n",
    "    x = np.array([[i]*num_x for i in np.arange(k1_start, k1_end, increment)])\n",
    "    y = np.array([list(np.arange(b_start, b_end, increment))] * num_y)\n",
    "    \n",
    "    z = [[y[list(metric.keys())[0]] for y in x] for x in dfs]\n",
    "    z = np.array(z)\n",
    "    \n",
    "    axs.plot_surface(x, y, z, cmap=cm.gray)\n",
    "\n",
    "    axs.tick_params(axis='x',labelsize=25, pad=3)\n",
    "    axs.tick_params(axis='y',labelsize=25, pad=3)\n",
    "    axs.tick_params(axis='z',labelsize=25, pad=13)\n",
    "    axs.set_ylabel('b', fontsize=35, rotation='horizontal', labelpad=25)\n",
    "    axs.set_xlabel('k1', fontsize=35, rotation='horizontal', labelpad=25)\n",
    "    axs.zaxis.set_major_formatter(FormatStrFormatter('%.3f'))\n",
    "\n",
    "    axs.set_zlabel(list(metric.values())[0], fontsize=30, rotation='vertical', labelpad=27)\n",
    "    \n",
    "    return fig\n",
    "\n",
    "bm25_fig = plot_single_bm25(bm25_dfs[0], {'rbp@0.80': 'RBP'})\n",
    "# bm25_fig.savefig('figures/ausnl-bm25-tune.pdf')"
   ]
  },
  {
   "cell_type": "code",
   "execution_count": null,
   "metadata": {},
   "outputs": [],
   "source": [
    "bm25_dfs = load_bm25_dfs(['sigir-topic-topics'], [config.SIGIR_QREL_PATH], \n",
    "    os.path.join(BASE_DIR, bm25_path), name='{0}-sigir-stop-unigram_bm25_k1_{1:.2f}_b_{2:.2f}.run', \n",
    "    rel_levels=[config.SIGIR_REL_LEVEL])"
   ]
  },
  {
   "cell_type": "code",
   "execution_count": null,
   "metadata": {},
   "outputs": [],
   "source": [
    "bm25_fig = plot_single_bm25(bm25_dfs[0], {'rbp@0.80': 'RBP'})\n",
    "# bm25_fig.savefig('figures/sigir-bm25-tune.pdf')"
   ]
  },
  {
   "cell_type": "markdown",
   "metadata": {},
   "source": [
    "# SDM "
   ]
  },
  {
   "cell_type": "code",
   "execution_count": null,
   "metadata": {},
   "outputs": [],
   "source": [
    "def all_combinations(n, k, increment: float):\n",
    "    ret = []\n",
    "    cnt = 0\n",
    "    inp = [0] * (k + 1)\n",
    "    inc = int(increment * 100)\n",
    "    mtc = False \n",
    "    t = n\n",
    "    h = 0\n",
    "    while True:\n",
    "        if mtc:\n",
    "            if t > 1:\n",
    "                h = 0\n",
    "            h+=1\n",
    "            t = inp[h]\n",
    "            inp[h] = 0\n",
    "            inp[1] = t - 1\n",
    "            inp[h + 1]+=1\n",
    "        else:\n",
    "            inp[1] = n\n",
    "            for i in range(2, k+1):\n",
    "                inp[i] = 0\n",
    "        \n",
    "        allVal = True\n",
    "        for i in range(1, k+1):\n",
    "            if inp[i] == n:\n",
    "                break\n",
    "            \n",
    "            if inp[i] % inc != 0:\n",
    "                allVal = False\n",
    "                break\n",
    "        \n",
    "        if allVal:\n",
    "            add = []\n",
    "            for i in range(1, k+1):\n",
    "                add.append(float(inp[i]) / 100.0)\n",
    "            \n",
    "            ret.append(add)\n",
    "            cnt+=1\n",
    "        \n",
    "\n",
    "        mtc = inp[k] != n\n",
    "        if not mtc:\n",
    "            break\n",
    "    \n",
    "    return ret "
   ]
  },
  {
   "cell_type": "code",
   "execution_count": null,
   "metadata": {},
   "outputs": [],
   "source": [
    "sdm_measures = []\n",
    "smooth_measures = []\n",
    "metric_names = ['ERR', 'RBP']\n",
    "for m in metric_names:\n",
    "    sdm_measures.append(load_dfs(config.AUS_QREL_PATH, config.AUS_REL_LEVEL, '', [os.path.join(BASE_DIR, 'grid-search', 'sdm-'+str(x)+\"-window-\"+m+\"-combine-max.run\") for x in range(1, 21)]))\n",
    "    smooth_measures.append(load_dfs(config.AUS_QREL_PATH, config.AUS_REL_LEVEL, '', [os.path.join(BASE_DIR, 'grid-search', 'sdm-'+str(x)+\"-smooth-window-\"+m+\"-combine-max.run\") for x in range(1, 21)]))"
   ]
  },
  {
   "cell_type": "code",
   "execution_count": null,
   "metadata": {},
   "outputs": [],
   "source": [
    "def plot_different(dfs, smooth_dfs, base, metric_names, start, end, increment, names=[], styles=[], y_lims=[], legend_x=0.96, legend_y=0.46):\n",
    "    if len(metric_names) == 2:\n",
    "        r = 1\n",
    "        c = 2\n",
    "    else:\n",
    "        r = int(len(metric_names)/2)\n",
    "        c = r\n",
    "        if len(metric_names)%2 != 0:\n",
    "            c += 1 \n",
    "        \n",
    "    fig, axs = plt.subplots(r, c)\n",
    "    fig.set_size_inches(16, 4)\n",
    "    x = np.arange(start, end+increment, increment)\n",
    "    cnt = 0 \n",
    "    row = 0\n",
    "    for i, (df, smooth_df, m) in enumerate(zip(dfs, smooth_dfs, metric_names)):\n",
    "        s = None \n",
    "        if i < len(styles): \n",
    "            s = styles[i]\n",
    "\n",
    "        axs[row, cnt].plot(x, [base[m] for x in range(len(df))], linestyle=s)\n",
    "        axs[row, cnt].plot(x, [y[m] for y in df], linestyle=s)\n",
    "        axs[row, cnt].plot(x, [y[m] for y in smooth_df], linestyle=s)\n",
    "        if m.startswith('rbp@'):\n",
    "            es = 'rbp-res@'+m[4:]\n",
    "            axs[row, cnt].fill_between(x, [base[m] for y in range(len(df))], [base[es]+base[m] for y in range(len(df))], alpha=0.3)\n",
    "            axs[row, cnt].fill_between(x, [y[m] for y in df], [y[es]+y[m] for y in df], alpha=0.3)\n",
    "            axs[row, cnt].fill_between(x, [y[m] for y in smooth_df], [y[es]+y[m] for y in smooth_df], alpha=0.3)\n",
    "\n",
    "        axs[row, cnt].set_ylabel(metric_names[m],fontsize=30)\n",
    "        axs[row, cnt].tick_params(labelsize=15)\n",
    "        axs[row, cnt].yaxis.set_major_formatter(FormatStrFormatter('%.4f'))\n",
    "        cnt += 1\n",
    "        if cnt >= c: \n",
    "            cnt = 0 \n",
    "            row += 1 \n",
    "    \n",
    "    for i in range(len(y_lims)):\n",
    "        plt.gcf().get_axes()[i].set_ylim(ymax=y_lims[i])\n",
    "    \n",
    "    if len(metric_names) % 2 != 0: \n",
    "        fig.delaxes(axs[row, -1])\n",
    "\n",
    "    if len(names) > 0:\n",
    "        fig.legend(names, bbox_to_anchor=[legend_x, legend_y], frameon=True, ncol=2, prop={\"size\": 15}).get_frame().set_edgecolor('black')\n",
    "        \n",
    "    fig.tight_layout()\n",
    "    return fig\n",
    "    "
   ]
  },
  {
   "cell_type": "code",
   "execution_count": null,
   "metadata": {},
   "outputs": [],
   "source": [
    "sdm_max_fig = plot_different(sdm_measures, smooth_measures, base_df, RERANK_METRICS, 1, 20, 1, names=['$R$', 'SDM', 'SDM$_{\\mathrm{smooth}}$'], legend_y=0.9, legend_x=0.99)\n",
    "# sdm_max_fig.savefig('figures/sdm-window.pdf')"
   ]
  },
  {
   "cell_type": "code",
   "execution_count": null,
   "metadata": {},
   "outputs": [],
   "source": [
    "sdm_index = ['filtered-phrasestop']#, 'sigir']\n",
    "sdm_path = 'sdm_rerank'\n",
    "sdm_dir_mu = [1050]#, 1350]\n",
    "\n",
    "def load_sdm(index_names, qrel_paths, str_format, results_path, sdm_dir_mu, increment, window, per_query=False, clip=True):\n",
    "    dfs = []\n",
    "    combs = all_combinations(100, 3, increment)\n",
    "    for i, ind in enumerate(index_names):\n",
    "        temp = []\n",
    "        for comb in combs:\n",
    "            if clip and comb[0] > 0.6 or not clip:\n",
    "                temp.append((comb, to_trec_df(qrel_paths[i], \n",
    "                  os.path.join(results_path, str_format.format(ind, sdm_dir_mu[i], comb[0], comb[1], comb[2], window)), rel_levels[i], per_query=per_query)))\n",
    "        \n",
    "        dfs.append(temp)\n",
    "    \n",
    "    return dfs \n",
    "\n",
    "# sdm_format = '{0}-sdm-dir-mu-{1:.2f}-weights-{2:.2f}-{3:.2f}-{4:.2f}-window-{5}.run'\n",
    "\n",
    "# sdm_dfs = load_sdm(sdm_index, [config.AUS_QREL_PATH], 'case-topics-{0}-sdm_rerank-dir-mu-{1:.2f}-weights-{2:.2f}-{3:.2f}-{4:.2f}-window-{5}.run', os.path.join(BASE_DIR, sdm_path), sdm_dir_mu, 0.05, 11)"
   ]
  },
  {
   "cell_type": "code",
   "execution_count": null,
   "metadata": {},
   "outputs": [],
   "source": [
    "mu = 1050\n",
    "base_df = load_1d_dfs(['filtered-phrasestop'], qrel_paths, os.path.join(BASE_DIR, 'preprocessing', 'dirichlet_prior'), 'case-topics-{0}-unigram_dir_mu_{1:.2f}.run', rel_levels, mu, mu, 1)[0][0]\n",
    "base_qry = load_1d_dfs(['filtered-phrasestop'], qrel_paths, os.path.join(BASE_DIR, 'preprocessing', 'dirichlet_prior'), 'case-topics-{0}-unigram_dir_mu_{1:.2f}.run', rel_levels, mu, mu, 1, per_query=True)[0][0]"
   ]
  },
  {
   "cell_type": "code",
   "execution_count": null,
   "metadata": {},
   "outputs": [],
   "source": [
    "sdm_measures = []\n",
    "smooth_measures = []\n",
    "for m in metric_names:\n",
    "    sdm_measures.append(load_dfs(config.AUS_QREL_PATH, config.AUS_REL_LEVEL, '', [os.path.join(BASE_DIR, 'grid-search', 'sdm-'+str(x)+\"-window-\"+m+\"-combine-max.run\") for x in range(1, 21)], per_query=True))\n",
    "    smooth_measures.append(load_dfs(config.AUS_QREL_PATH, config.AUS_REL_LEVEL, '', [os.path.join(BASE_DIR, 'grid-search', 'sdm-'+str(x)+\"-smooth-window-\"+m+\"-combine-max.run\") for x in range(1, 21)], per_query=True))"
   ]
  },
  {
   "cell_type": "code",
   "execution_count": null,
   "metadata": {},
   "outputs": [],
   "source": [
    "# insert plm into df\n",
    "def load_plm(ind, qrel_path, str_format, results_path, rel_level, per_query=False):\n",
    "    dfs = []\n",
    "    # sigma\n",
    "    for s in range(10, 510, 10):\n",
    "        temp = []\n",
    "        for mu in range(300, 2050, 50):\n",
    "            temp.append((s, mu, to_trec_df(qrel_path, \n",
    "              os.path.join(results_path, str_format.format(ind, mu, s)), rel_level, per_query=per_query)))        \n",
    "        dfs.append(temp)\n",
    "    \n",
    "    return dfs \n",
    "\n",
    "plm_qry_dfs = load_plm(index_names[0], qrel_paths[0], 'case-topics-{0}-plm-dir-mu-{1:.2f}-sigma-{2:.2f}.run', os.path.join(BASE_DIR, 'plm'), '1', per_query=True)\n",
    "flattened = [x[2] for y in plm_qry_dfs for x in y]"
   ]
  },
  {
   "cell_type": "code",
   "execution_count": null,
   "metadata": {},
   "outputs": [],
   "source": [
    "for ab, runs in zip(['PLM'], [flattened]):\n",
    "    cross = cross_validation(runs, tt_folds, RERANK_METRICS, base_qry)\n",
    "    cv_df.loc[ab] = cross[0]"
   ]
  },
  {
   "cell_type": "code",
   "execution_count": null,
   "metadata": {},
   "outputs": [],
   "source": [
    "cv_df.loc['$R$'] = ['{:.4f}'.format(base_df[m]) for m in RERANK_METRICS]\n",
    "cv_df = cv_df.reindex(['$R$', 'PLM', 'SDM', 'SDM\\subscript{smooth}'])\n",
    "# write_table('tables/ausnl-bbow', bold_max(cv_df).rename(config.METRIC_NAMES, axis='columns').to_latex(escape=False))"
   ]
  },
  {
   "cell_type": "code",
   "execution_count": null,
   "metadata": {},
   "outputs": [],
   "source": [
    "def plot_qry_diff(runs, qry_df, metrics):\n",
    "    _max = [0.0] * len(metrics)\n",
    "    max_inds = [0] * len(metrics)\n",
    "    qry_res = pd.DataFrame()\n",
    "\n",
    "    print(len(runs), len(metrics))\n",
    "\n",
    "    # print(runs[0][0].mean)\n",
    "    \n",
    "    for i, (metric_runs, m) in enumerate(zip(runs, metrics)):\n",
    "        for j, run in enumerate(metric_runs):            \n",
    "            v = run[m].mean()\n",
    "            if v > _max[i]:\n",
    "                _max[i] = v\n",
    "                max_inds[i] = j\n",
    "\n",
    "    for i, m in enumerate(metrics):\n",
    "        qry_res[m] = runs[i][max_inds[i]][m]\n",
    "                        \n",
    "    qry_res.sort_index(inplace=True)\n",
    "    qry_comp_df = qry_res-qry_df\n",
    "    qry_comp_fig = qry_comp_df[metrics.keys()].rename(metrics, axis='columns').plot.box(fontsize=15, boxprops=dict(linestyle='-', linewidth=2), medianprops=dict(linestyle='-', linewidth=2), color=dict(boxes='black', whiskers='black', medians='b', caps='r'),figsize=(16, 4)).axhline(y=0, xmin=0.0, xmax=1.0, linestyle='--', linewidth=1.0, color='grey')\n",
    "    return qry_comp_fig\n",
    "\n",
    "metrics = copy.copy(config.METRIC_NAMES)\n",
    "del metrics['unjudged@20']\n",
    "sdm_qry_diff = plot_qry_diff(smooth_measures, base_qry, {'err@20': 'ERR', 'rbp@0.80': 'RBP'})\n",
    "# sdm_qry_diff.get_figure().savefig('figures/ausnl-sdm-qry-diff.pdf')"
   ]
  },
  {
   "cell_type": "code",
   "execution_count": null,
   "metadata": {},
   "outputs": [],
   "source": [
    "sdm_dfs = load_sdm(sdm_index, [config.AUS_QREL_PATH], 'case-topics-{0}-sdm_rerank-smooth-dir-mu-{1:.2f}-weights-{2:.2f}-{3:.2f}-{4:.2f}-window-{5}.run', os.path.join(BASE_DIR, sdm_path), sdm_dir_mu, 0.05, 8, clip=False)"
   ]
  },
  {
   "cell_type": "code",
   "execution_count": null,
   "metadata": {},
   "outputs": [],
   "source": [
    "def plot_sdm_1d(dfs, index_names, metric_names):\n",
    "    r = int(len(metric_names)/2)\n",
    "    c = r\n",
    "    r -= 1\n",
    "#     if len(metric_names)%2 != 0:\n",
    "#         c += 1 \n",
    "    \n",
    "    fig, axs = plt.subplots(r, c, subplot_kw=dict(projection='3d'))\n",
    "    fig.set_size_inches(16, 8)\n",
    "    \n",
    "    xs = np.array([x[0][0] for x in dfs])\n",
    "    ys = np.array([x[0][1] for x in dfs])\n",
    "\n",
    "    verts = list(zip(xs, ys))\n",
    "    cnt = 0 \n",
    "    row = 0 \n",
    "    for m in metric_names:\n",
    "        print(row, cnt)\n",
    "        zs = np.array([x[1][m] for x in dfs])\n",
    "#         print(zs.shape)\n",
    "#                 print(sorted(list(zip(zs, verts))))\n",
    "\n",
    "        axs[row, cnt].scatter(xs, ys, zs)\n",
    "\n",
    "        axs[row, cnt].tick_params(labelsize=10)\n",
    "        axs[row, cnt].yaxis.set_major_formatter(FormatStrFormatter('%.1f'))\n",
    "        axs[row, cnt].xaxis.set_major_formatter(FormatStrFormatter('%.1f'))\n",
    "        axs[row, cnt].zaxis.set_major_formatter(FormatStrFormatter('%.4f'))\n",
    "\n",
    "        axs[row, cnt].set_zlabel(metric_names[m],fontsize=20, rotation=90)\n",
    "\n",
    "        axs[row, cnt].view_init(20, 120)\n",
    "        cnt += 1 \n",
    "        if cnt >= c: \n",
    "            cnt = 0 \n",
    "            row += 1 \n",
    "            \n",
    "    if len(metric_names) % 2 != 0: \n",
    "        fig.delaxes(axs[row, -1])\n",
    "                \n",
    "#     fig.subplots_adjust(wspace=0.07, hspace=0.05, left=0.01, right=1.7)\n",
    "\n",
    "    fig.tight_layout()\n",
    "    return fig \n",
    "\n",
    "# def plot_sdm(dfs, index_names, metric_names):\n",
    "    \n",
    "#     fig, axs = plt.subplots(len(metric_names), len(index_names), subplot_kw=dict(projection='3d'))\n",
    "#     fig.set_size_inches(16, 8)\n",
    "#     xs = np.array([x[0][0] for x in dfs])\n",
    "#     ys = np.array([x[0][1] for x in dfs])\n",
    "\n",
    "#     verts = list(zip(xs, ys))\n",
    "#     cnt = 0 \n",
    "#     for j, m in enumerate(dfs[i][0][1].index):\n",
    "#         if m in metric_names:\n",
    "#             zs = np.array([x[1][m] for x in dfs])\n",
    "# #                 print(sorted(list(zip(zs, verts))))\n",
    "\n",
    "#             axs[cnt, i].scatter(xs, ys, zs)\n",
    "\n",
    "#             axs[cnt, i].tick_params(labelsize=10)\n",
    "#             axs[cnt, i].yaxis.set_major_formatter(FormatStrFormatter('%.1f'))\n",
    "#             axs[cnt, i].xaxis.set_major_formatter(FormatStrFormatter('%.1f'))\n",
    "#             axs[cnt, i].zaxis.set_major_formatter(FormatStrFormatter('%.2f'))\n",
    "\n",
    "#             if i == 0:\n",
    "#                 axs[cnt, i].set_zlabel(metric_names[m],fontsize=20)\n",
    "\n",
    "#             axs[cnt, i].view_init(30, 120)\n",
    "#             cnt += 1 \n",
    "            \n",
    "#     fig.tight_layout()\n",
    "\n",
    "rerank_metrics = copy.copy(config.METRIC_NAMES)\n",
    "del rerank_metrics['recall_100']\n",
    "    \n",
    "sdm_fig = plot_sdm_1d(sdm_dfs[0], display_names[0], rerank_metrics)\n",
    "# sdm_fig.savefig('figures/aus-sdm-tune.pdf')"
   ]
  },
  {
   "cell_type": "code",
   "execution_count": null,
   "metadata": {},
   "outputs": [],
   "source": [
    "sdm_1d_dfs = load_1d_dfs(index_names[:1], qrel_paths, os.path.join(BASE_DIR, sdm_path), 'case-topics-{0}-sdm_rerank-dir-mu-1050.00-weights-0.80-0.10-0.10-window-{1}.run', rel_levels, 6, 20, 1)"
   ]
  },
  {
   "cell_type": "code",
   "execution_count": null,
   "metadata": {},
   "outputs": [],
   "source": [
    "sdm_1d_fig = plot_tune_1d_comp(display_names, RERANK_METRICS, sdm_1d_dfs, 6, 20, 1)"
   ]
  },
  {
   "cell_type": "markdown",
   "metadata": {},
   "source": [
    "# PLM"
   ]
  },
  {
   "cell_type": "code",
   "execution_count": null,
   "metadata": {},
   "outputs": [],
   "source": [
    "sigma_start = 25\n",
    "sigma_end = 300\n",
    "sigma_inc = 25\n",
    "\n",
    "plm_dfs = load_1d_dfs(index_names[:1], qrel_paths, os.path.join(BASE_DIR, 'plm'), 'case-topics-{0}-plm-dir-mu-2400.00-sigma-{1:.2f}.run', rel_levels, sigma_start, sigma_end, sigma_inc)\n",
    "plm_b_dfs = load_1d_dfs(index_names[:1], qrel_paths, os.path.join(BASE_DIR, 'plm'), 'case-topics-{0}-plm-dir-mu-2400.00-sigma-{1:.2f}.run', rel_levels, sigma_start, sigma_end, sigma_inc, filtered=broad)\n",
    "plm_s_dfs = load_1d_dfs(index_names[:1], qrel_paths, os.path.join(BASE_DIR, 'plm'), 'case-topics-{0}-plm-dir-mu-2400.00-sigma-{1:.2f}.run', rel_levels, sigma_start, sigma_end, sigma_inc, filtered=specific)"
   ]
  },
  {
   "cell_type": "code",
   "execution_count": null,
   "metadata": {},
   "outputs": [],
   "source": [
    "plm_fig = plot_tune_1d_comp(display_names, RERANK_METRICS, plm_dfs, sigma_start, sigma_end, sigma_inc, ylims=YLIMS)\n",
    "# plm_fig.savefig('figures/plm-tuning.pdf')"
   ]
  }
 ],
 "metadata": {
  "kernelspec": {
   "display_name": "Python 3",
   "language": "python",
   "name": "python3"
  },
  "language_info": {
   "codemirror_mode": {
    "name": "ipython",
    "version": 3
   },
   "file_extension": ".py",
   "mimetype": "text/x-python",
   "name": "python",
   "nbconvert_exporter": "python",
   "pygments_lexer": "ipython3",
   "version": "3.9.9"
  }
 },
 "nbformat": 4,
 "nbformat_minor": 4
}
