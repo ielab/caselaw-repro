{
 "cells": [
  {
   "cell_type": "code",
   "execution_count": null,
   "metadata": {},
   "outputs": [],
   "source": [
    "# import everything as needed\n",
    "\n",
    "import re \n",
    "import sys \n",
    "import os \n",
    "\n",
    "nb_dir = os.getcwd()\n",
    "if nb_dir not in sys.path:\n",
    "    sys.path.append(nb_dir)\n",
    "\n",
    "from plotlib.loaders import *\n",
    "from plotlib.plotters import *\n",
    "\n",
    "%matplotlib inline\n",
    "\n",
    "from phdconf import config\n",
    "from phdconf.config import * "
   ]
  },
  {
   "cell_type": "code",
   "execution_count": null,
   "metadata": {},
   "outputs": [],
   "source": [
    "queries = load_queries(config.AUS_TOPIC_PATH)"
   ]
  },
  {
   "cell_type": "code",
   "execution_count": null,
   "metadata": {},
   "outputs": [],
   "source": [
    "broad, specific = load_query_types(queries)"
   ]
  },
  {
   "cell_type": "code",
   "execution_count": null,
   "metadata": {},
   "outputs": [],
   "source": [
    "qrel_paths = [config.AUS_QREL_PATH, config.AUS_QREL_PATH]\n",
    "index_names = ['case-topics-smallstop', 'case-topics-stemmed-smallstop']\n",
    "rel_levels = [config.AUS_REL_LEVEL, config.AUS_REL_LEVEL]"
   ]
  },
  {
   "cell_type": "code",
   "execution_count": null,
   "metadata": {},
   "outputs": [],
   "source": [
    "start = 300\n",
    "end = 3000\n",
    "inc = 50 \n",
    "\n",
    "dir_path = os.path.join(config.BASE_DIR,'dirichlet_prior')\n",
    "model_name = '{0}-unigram_dir_mu_{1:.2f}.run'"
   ]
  },
  {
   "cell_type": "code",
   "execution_count": null,
   "metadata": {},
   "outputs": [],
   "source": [
    "dfs = load_1d_dfs(index_names, qrel_paths, dir_path, model_name, rel_levels, start, end, inc)\n",
    "broad_dfs = load_1d_dfs(index_names, qrel_paths, dir_path, model_name, rel_levels, start, end, inc, filtered=broad)\n",
    "specific_dfs = load_1d_dfs(index_names, qrel_paths, dir_path, model_name, rel_levels, start, end, inc, filtered=specific)"
   ]
  },
  {
   "cell_type": "code",
   "execution_count": null,
   "metadata": {},
   "outputs": [],
   "source": [
    "fig = plot_tune_1d_comp(['unstemmed', 'stemmed'], RERANK_METRICS, dfs, start, end, inc)"
   ]
  },
  {
   "cell_type": "code",
   "execution_count": null,
   "metadata": {},
   "outputs": [],
   "source": [
    "fig2 = plot_tune_1d_comp(['broad', 'broad-stem', 'specific', 'specific-stem'], RERANK_METRICS, broad_dfs + specific_dfs, start, end, inc)"
   ]
  },
  {
   "cell_type": "code",
   "execution_count": null,
   "metadata": {},
   "outputs": [],
   "source": [
    "query_dfs = load_1d_dfs(index_names, qrel_paths, dir_path, model_name, rel_levels, start, end, inc, per_query=True)"
   ]
  },
  {
   "cell_type": "code",
   "execution_count": null,
   "metadata": {},
   "outputs": [],
   "source": [
    "ind = int((2400 - start) / inc)\n",
    "plot_diff(query_dfs[0][ind], query_dfs[1][ind], RERANK_METRICS, queries)"
   ]
  },
  {
   "cell_type": "code",
   "execution_count": null,
   "metadata": {
    "collapsed": true,
    "jupyter": {
     "outputs_hidden": true
    }
   },
   "outputs": [],
   "source": [
    "plot_diff_query_ind(query_dfs[0], query_dfs[1], ind, RERANK_METRICS, queries)"
   ]
  },
  {
   "cell_type": "code",
   "execution_count": null,
   "metadata": {},
   "outputs": [],
   "source": [
    "stopwords = load_stopwords(config.AUS_STOPWORD_PATH)"
   ]
  },
  {
   "cell_type": "code",
   "execution_count": null,
   "metadata": {},
   "outputs": [],
   "source": [
    "from nltk.stem.snowball import SnowballStemmer\n",
    "from nltk.stem import WordNetLemmatizer \n",
    "\n",
    "# import nltk\n",
    "# import ssl\n",
    "\n",
    "# try:\n",
    "#     _create_unverified_https_context = ssl._create_unverified_context\n",
    "# except AttributeError:\n",
    "#     pass\n",
    "# else:\n",
    "#     ssl._create_default_https_context = _create_unverified_https_context\n",
    "# nltk.download('wordnet')\n",
    "    \n",
    "\n",
    "stemmer = SnowballStemmer(\"english\")\n",
    "lemmatizer = WordNetLemmatizer()"
   ]
  },
  {
   "cell_type": "code",
   "execution_count": null,
   "metadata": {},
   "outputs": [],
   "source": [
    "for topic_id, topic in queries.items():\n",
    "    terms = set(re.sub('[^0-9a-zA-Z]+', ' ', topic['topic']).lower().split())\n",
    "    query = {term for term in terms if term not in stopwords}\n",
    "    print(topic_id, ['{0}-->{1}'.format(t, stemmer.stem(t)) for t in query])\n",
    "    print(topic_id, ['{0}-->{1}'.format(t, lemmatizer.lemmatize(t)) for t in query])"
   ]
  }
 ],
 "metadata": {
  "kernelspec": {
   "display_name": "Python 3",
   "language": "python",
   "name": "python3"
  },
  "language_info": {
   "codemirror_mode": {
    "name": "ipython",
    "version": 3
   },
   "file_extension": ".py",
   "mimetype": "text/x-python",
   "name": "python",
   "nbconvert_exporter": "python",
   "pygments_lexer": "ipython3",
   "version": "3.9.9"
  }
 },
 "nbformat": 4,
 "nbformat_minor": 4
}
