{
 "cells": [
  {
   "cell_type": "code",
   "execution_count": null,
   "metadata": {},
   "outputs": [],
   "source": [
    "%matplotlib inline\n",
    "\n",
    "import sys \n",
    "import os \n",
    "import copy \n",
    "import numpy as np\n",
    "\n",
    "nb_dir = os.getcwd()\n",
    "if nb_dir not in sys.path:\n",
    "    sys.path.append(nb_dir)\n",
    "\n",
    "from plotlib.loaders import *\n",
    "from plotlib.plotters import *\n",
    "\n",
    "from phdconf import config \n",
    "from phdconf.config import *"
   ]
  },
  {
   "cell_type": "code",
   "execution_count": null,
   "metadata": {},
   "outputs": [],
   "source": [
    "emb_names = ['all-paras-lower-100-skip-minoccur-50', 'aus-100-cbow-min-50-k30-n100', 'flattened-wiki-news-300d-1M']\n",
    "models = ['mnzexp', 'maxexp', 'centroid', 'tlm']\n",
    "folders = ['mnz', 'max', 'centroid', 'tlm']\n",
    "\n",
    "def load_exp_dfs(qrel_path, results_path, run_format, rel_level, emb_names, models, model_dirs, per_query=False, filtered=None):\n",
    "    dfs = []\n",
    "    for i, e in enumerate(emb_names):\n",
    "        temp = []\n",
    "        for j, m in enumerate(models):\n",
    "            ltemp = []\n",
    "            for k in range(1, 21): \n",
    "                    ltemp.append(to_trec_df(qrel_path, os.path.join(results_path, model_dirs[j], run_format.format(e, m, k)), rel_level, per_query, filtered))\n",
    "            temp.append(ltemp)\n",
    "        dfs.append(temp)\n",
    "\n",
    "    return dfs \n",
    "\n",
    "tlm_dfs = load_exp_dfs(config.AUS_QREL_PATH, os.path.join(BASE_DIR, 'expansion'), 'flattened-{0}-{1}-dir-mu-2400.00-neighbours-{2}.run', '1', emb_names, models, folders)"
   ]
  },
  {
   "cell_type": "code",
   "execution_count": null,
   "metadata": {},
   "outputs": [],
   "source": [
    "base_res = load_1d_dfs(['filtered-phrasestop'], [config.AUS_QREL_PATH], os.path.join(BASE_DIR, 'preprocessing', 'dirichlet_prior'), 'case-topics-{0}-unigram_dir_mu_{1:.2f}.run', [AUS_REL_LEVEL], 1050.0, 1050.0, 50.0)[0][0]"
   ]
  },
  {
   "cell_type": "code",
   "execution_count": null,
   "metadata": {},
   "outputs": [],
   "source": [
    "# def plot_tune_1d_comp(names, metric_names, dfs, start, end, increment, legend_x: float=0.96, legend_y: float=0.46): \n",
    "\n",
    "#     r = int(len(metric_names)/2)\n",
    "#     c = r\n",
    "#     if c == r: \n",
    "#         r-=1\n",
    "#     if len(metric_names) % 2 != 0:\n",
    "#         c += 1\n",
    "#     fig, axs = plt.subplots(r, c)\n",
    "#     fig.set_size_inches(16, 6)\n",
    "#     x = np.arange(start, end+increment, increment)\n",
    "#     cnt = 0 \n",
    "#     row = 0\n",
    "#     print(len(x))\n",
    "#     for m in metric_names:\n",
    "#             for df in dfs: \n",
    "#                 axs[row, cnt].plot(x, [y[m] for y in df])\n",
    "\n",
    "#             axs[row, cnt].set_ylabel(metric_names[m],fontsize=18)\n",
    "\n",
    "#             axs[row, cnt].tick_params(labelsize=12)\n",
    "#             axs[row, cnt].yaxis.set_major_formatter(FormatStrFormatter('%.4f'))\n",
    "#             cnt += 1 \n",
    "#             if cnt >= c: \n",
    "#                 cnt = 0 \n",
    "#                 row += 1 \n",
    "    \n",
    "#     if len(metric_names) % 2 != 0: \n",
    "#         fig.delaxes(axs[row, -1])\n",
    "\n",
    "#     fig.legend(names, bbox_to_anchor=[legend_x, legend_y], frameon=True, ncol=2, prop={\"size\": 15}).get_frame().set_edgecolor('black')\n",
    "        \n",
    "#     fig.tight_layout()\n",
    "#     return fig"
   ]
  },
  {
   "cell_type": "code",
   "execution_count": null,
   "metadata": {},
   "outputs": [],
   "source": [
    "comp_fig = plot_tune_1d_comp(['base']+models, RERANK_METRICS, [[base_res for x in range(20)]] + tlm_dfs[1], 1, 20, 1, ylims=RERANK_YLIMS, styles=['--'])"
   ]
  },
  {
   "cell_type": "code",
   "execution_count": null,
   "metadata": {},
   "outputs": [],
   "source": [
    "# comp_fig.savefig('figures/ausnl-embedding-expansion.pdf')"
   ]
  },
  {
   "cell_type": "code",
   "execution_count": null,
   "metadata": {},
   "outputs": [],
   "source": [
    "comp_fig = plot_tune_1d_comp(['base']+models, RERANK_METRICS, [[base_res for x in range(20)]] + tlm_dfs[0], 1, 20, 1, legend_y=0.25)"
   ]
  },
  {
   "cell_type": "code",
   "execution_count": null,
   "metadata": {},
   "outputs": [],
   "source": [
    "baseline_res = load_1d_dfs(['case-topics'], [config.AUS_QREL_PATH], os.path.join(BASE_DIR, 'preprocessing', 'dirichlet_prior'), '{0}-filtered-phrasestop-unigram_dir_mu_{1:.2f}.run', [AUS_REL_LEVEL], 1050, 1050, 50)"
   ]
  },
  {
   "cell_type": "code",
   "execution_count": null,
   "metadata": {},
   "outputs": [],
   "source": [
    "def plot_tune_1d(index_names, metric_names, df, start, end, increment): \n",
    "    fig, axs = plt.subplots(len(metric_names), len(index_names), sharex=True)\n",
    "    fig.set_size_inches(16, 10)\n",
    "    for i in range(len(index_names)):\n",
    "        cnt = 0\n",
    "        for m in metric_names:\n",
    "            y = [y[m] for y in df[i]]\n",
    "            axs[cnt, i].plot(np.arange(start, end, increment), y)\n",
    "\n",
    "            if i == 0:\n",
    "                axs[cnt, i].set_ylabel(metric_names[m],fontsize=18)\n",
    "\n",
    "            axs[cnt, i].tick_params(labelsize=12)\n",
    "            axs[cnt, i].yaxis.set_major_formatter(FormatStrFormatter('%.4f'))\n",
    "            cnt += 1\n",
    "                \n",
    "        axs[cnt-1, i].set_xlabel(index_names[i], fontsize=20)\n",
    "        \n",
    "    fig.tight_layout()\n",
    "    return fig \n",
    "\n",
    "\n",
    "tlm_fig = plot_tune_1d(models, RERANK_METRICS, tlm_dfs[0], 1, 21, 1)"
   ]
  }
 ],
 "metadata": {
  "kernelspec": {
   "display_name": "Python 3",
   "language": "python",
   "name": "python3"
  },
  "language_info": {
   "codemirror_mode": {
    "name": "ipython",
    "version": 3
   },
   "file_extension": ".py",
   "mimetype": "text/x-python",
   "name": "python",
   "nbconvert_exporter": "python",
   "pygments_lexer": "ipython3",
   "version": "3.9.9"
  }
 },
 "nbformat": 4,
 "nbformat_minor": 4
}
