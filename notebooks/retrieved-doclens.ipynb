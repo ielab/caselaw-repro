{
 "cells": [
  {
   "cell_type": "code",
   "execution_count": 11,
   "metadata": {},
   "outputs": [],
   "source": [
    "# import everything as needed\n",
    "%matplotlib inline\n",
    "\n",
    "import os \n",
    "import math\n",
    "\n",
    "from plotlib.loaders import *\n",
    "from plotlib.plotters import *\n",
    "\n",
    "from phdconf import config "
   ]
  },
  {
   "cell_type": "code",
   "execution_count": 13,
   "metadata": {},
   "outputs": [],
   "source": [
    "display_names = ['flattened']\n",
    "index_names = ['flattened'] #, 'sigir']\n",
    "qrel_paths = [config.AUS_QREL_PATH, ]\n",
    "\n",
    "# QREL_DIRS = ['aus', 'sigir']\n",
    "# QREL_BASE_DIR = '/Users/danlocke/go/src/github.com/dan-locke/phd-data/'\n",
    "BASE_DIR = os.path.join(os.environ[\"HOME\"], 'phd-generated')\n",
    "# PARA_DIR = 'para-rerank'\n",
    "EXPERIMENT_DIR = 'experiments'\n",
    "\n",
    "# qrels = []\n",
    "# for i, q in enumerate(qrel_paths): \n",
    "#     qrels.append(TrecQrel(os.path.join(QREL_BASE_DIR, QREL_DIRS[i], q)))\n",
    "\n",
    "# start = 1000\n",
    "# end = 3050\n",
    "# increment = 50\n",
    "# base_run_name = 'flattened-unigram_dir_mu_2400.00-'"
   ]
  },
  {
   "cell_type": "code",
   "execution_count": 14,
   "metadata": {},
   "outputs": [],
   "source": [
    "class ValLookup: \n",
    "    \n",
    "    def __init__(self):\n",
    "        self.lookup = {}\n",
    "        self.data = []\n",
    "        self._min = math.inf\n",
    "        self._max = 0.0 \n",
    "        self.normalized = None\n",
    "        self.probs = None \n",
    "        \n",
    "    def add(self, k, v):\n",
    "        self.data.append(v)\n",
    "        if v > self._max: \n",
    "            self._max = v         \n",
    "        if v < self._min:\n",
    "            self._min = v\n",
    "        \n",
    "        self.lookup[k] = len(self.data)-1\n",
    "        \n",
    "    def get(self, k, which):\n",
    "        if k in self.lookup:\n",
    "            if which == 1: \n",
    "                return self.normalized[self.lookup[k]]\n",
    "            elif which == 2:     \n",
    "                return self.probs[self.lookup[k]]\n",
    "            else:\n",
    "                return self.data[self.lookup[k]]\n",
    "        \n",
    "        return 0.0 \n",
    "    \n",
    "    def present(self, k):\n",
    "        return k in self.lookup\n",
    "    \n",
    "    def provide_probs(self, probs):\n",
    "        self.probs = probs \n",
    "    \n",
    "    def normalize(self):\n",
    "        diff = self._max - self._min \n",
    "        \n",
    "        self.normalized = [0.0] * len(self.data)\n",
    "        for i, v in enumerate(self.data): \n",
    "            self.normalized[i] = (v - self._min) / diff\n",
    "            \n",
    "    \n",
    "def load_degree_file(path: str, summed=False):\n",
    "    lookup = ValLookup()\n",
    "    with open(path, 'r', encoding='utf-8') as f:\n",
    "        for line in f: \n",
    "            parts = line.strip().split()\n",
    "            # 0 is id, 1 is cnt and 2 is total ref cnt \n",
    "            if summed:\n",
    "                lookup.add(parts[0], int(float(parts[2])))\n",
    "            else:\n",
    "                lookup.add(parts[0], float(parts[1]))\n",
    "            \n",
    "    return lookup\n",
    "\n",
    "\n",
    "lens = load_degree_file(os.path.join(config.DATA_DIR, 'generated', 'flattened-id-doclens.txt'))"
   ]
  },
  {
   "cell_type": "code",
   "execution_count": 15,
   "metadata": {},
   "outputs": [],
   "source": [
    "def get_doc_lens_for_res(path: str, lookup):\n",
    "    query_lens = {}\n",
    "    \n",
    "    with open(path) as f:\n",
    "        for line in f: \n",
    "            parts = line.strip().split()\n",
    "            #  29 Q0 2013QSC331 0 10.78345959 flattened-unigram_dir_mu_2400.00\n",
    "            if parts[0] not in query_lens:\n",
    "                query_lens[parts[0]] = []\n",
    "            \n",
    "            query_lens[parts[0]].append(lookup.get(parts[2], 0))\n",
    "                                        \n",
    "    return query_lens\n",
    "    \n",
    "\n",
    "def load_1d(index_names, results_path, run_format, iterator, lookup):\n",
    "    dfs = []\n",
    "    for i, ind in enumerate(index_names):\n",
    "        temp = []\n",
    "        for l in iterator:\n",
    "            lens = get_doc_lens_for_res(os.path.join(results_path, run_format.format(ind, l)), lookup)\n",
    "            temp.append(lens)\n",
    "        dfs.append(temp)\n",
    "    return dfs \n"
   ]
  },
  {
   "cell_type": "code",
   "execution_count": 22,
   "metadata": {},
   "outputs": [],
   "source": [
    "result_lens = load_1d(['flattened'], os.path.join(BASE_DIR,'jelinek_mercer'), 'case-topics-{0}-unigram_jm_lambda_{1:0.2f}.run', np.arange(0.0, 1.1, 0.1), lens)"
   ]
  },
  {
   "cell_type": "code",
   "execution_count": 23,
   "metadata": {},
   "outputs": [],
   "source": [
    "import statistics\n",
    "\n",
    "def get_avg_lens(results, depth=100, per_query=False):\n",
    "    \n",
    "    all_av_lens = []\n",
    "    for i, res in enumerate(results):\n",
    "        av_lens = []\n",
    "        for k in range(len(res)):\n",
    "            if per_query:\n",
    "                av_lens.append({x: statistics.mean(vals[:depth]) for x, vals in res[k].items()})\n",
    "            else: \n",
    "                av_lens.append(statistics.mean([statistics.mean(x[:depth]) for x in res[k].values()]))\n",
    "                \n",
    "        all_av_lens.append(av_lens)\n",
    "    \n",
    "    return all_av_lens "
   ]
  },
  {
   "cell_type": "code",
   "execution_count": 33,
   "metadata": {},
   "outputs": [
    {
     "data": {
      "text/plain": [
       "[<matplotlib.lines.Line2D at 0x7f53c97c51d0>]"
      ]
     },
     "execution_count": 33,
     "metadata": {},
     "output_type": "execute_result"
    },
    {
     "data": {
      "application/pdf": "[encoded data removed]",
      "text/plain": [
       "<Figure size 1152x720 with 3 Axes>"
      ]
     },
     "metadata": {
      "needs_background": "light"
     },
     "output_type": "display_data"
    }
   ],
   "source": [
    "fig, axs = plt.subplots()\n",
    "fig.set_size_inches(16, 10)\n",
    "# axs.plot(np.arange(0.0, 1.1, 0.1), get_avg_lens(result_lens)[0], color='b', linewidth=2)\n",
    "# axs.plot(np.arange(0.0, 1.1, 0.1), [get_avg_lens(load_1d(index_names, os.path.join(BASE_DIR, EXPERIMENT_DIR, 'tfidf'), '{0}-unigram_tfidf.run', range(1, 2, 1), lens))[0]] * 11, color='g', linewidth=2)\n",
    "axs.plot(np.arange(1.2, 3.05, 0.05), [get_avg_lens(load_1d(index_names, os.path.join(BASE_DIR, 'tfidf'), 'case-topics-{0}-unigram_tfidf.run', range(1, 2, 1), lens))[0]] * 37, color='g', linewidth=2)\n",
    "axs.plot(np.arange(1.2, 3.05, 0.05), get_avg_lens(load_1d(index_names, os.path.join(BASE_DIR, 'bm25'), 'case-topics-{0}-unigram_bm25_k1_{1:.2f}_b_0.70.run', np.arange(1.2, 3.05, 0.05), lens))[0], color='b', linewidth=2)\n",
    "axs2 = axs.twiny()\n",
    "axs2.plot(range(1000, 3050, 50), get_avg_lens(load_1d(index_names, os.path.join(BASE_DIR, 'dirichlet_prior'), 'case-topics-{0}-unigram_dir_mu_{1:0.2f}.run', range(1000, 3050, 50), lens))[0], color='r', linewidth=2)\n",
    "axs3 = axs.twiny()\n",
    "axs3.plot(get_avg_lens(load_1d(['flattened'], os.path.join(BASE_DIR,'jelinek_mercer'), 'case-topics-{0}-unigram_jm_lambda_{1:0.2f}.run', np.arange(0.0, 1.1, 0.1), lens))[0], linewidth=2)\n",
    "\n"
   ]
  },
  {
   "cell_type": "code",
   "execution_count": 25,
   "metadata": {},
   "outputs": [
    {
     "ename": "NameError",
     "evalue": "name 'all_av_lens' is not defined",
     "output_type": "error",
     "traceback": [
      "\u001b[0;31m---------------------------------------------------------------------------\u001b[0m",
      "\u001b[0;31mNameError\u001b[0m                                 Traceback (most recent call last)",
      "\u001b[0;32m<ipython-input-25-11853e8282ea>\u001b[0m in \u001b[0;36m<module>\u001b[0;34m\u001b[0m\n\u001b[0;32m----> 1\u001b[0;31m \u001b[0mnum_x\u001b[0m \u001b[0;34m=\u001b[0m \u001b[0mlen\u001b[0m\u001b[0;34m(\u001b[0m\u001b[0mall_av_lens\u001b[0m\u001b[0;34m[\u001b[0m\u001b[0;36m0\u001b[0m\u001b[0;34m]\u001b[0m\u001b[0;34m[\u001b[0m\u001b[0;36m0\u001b[0m\u001b[0;34m]\u001b[0m\u001b[0;34m)\u001b[0m\u001b[0;34m\u001b[0m\u001b[0;34m\u001b[0m\u001b[0m\n\u001b[0m\u001b[1;32m      2\u001b[0m \u001b[0mnum_y\u001b[0m \u001b[0;34m=\u001b[0m \u001b[0mlen\u001b[0m\u001b[0;34m(\u001b[0m\u001b[0mall_av_lens\u001b[0m\u001b[0;34m[\u001b[0m\u001b[0;36m0\u001b[0m\u001b[0;34m]\u001b[0m\u001b[0;34m)\u001b[0m\u001b[0;34m\u001b[0m\u001b[0;34m\u001b[0m\u001b[0m\n\u001b[1;32m      3\u001b[0m \u001b[0;34m\u001b[0m\u001b[0m\n\u001b[1;32m      4\u001b[0m \u001b[0mx\u001b[0m \u001b[0;34m=\u001b[0m \u001b[0mnp\u001b[0m\u001b[0;34m.\u001b[0m\u001b[0marray\u001b[0m\u001b[0;34m(\u001b[0m\u001b[0;34m[\u001b[0m\u001b[0;34m[\u001b[0m\u001b[0mi\u001b[0m\u001b[0;34m]\u001b[0m\u001b[0;34m*\u001b[0m\u001b[0mnum_x\u001b[0m \u001b[0;32mfor\u001b[0m \u001b[0mi\u001b[0m \u001b[0;32min\u001b[0m \u001b[0mrange\u001b[0m\u001b[0;34m(\u001b[0m\u001b[0;36m0\u001b[0m\u001b[0;34m,\u001b[0m \u001b[0;36m11\u001b[0m\u001b[0;34m)\u001b[0m\u001b[0;34m]\u001b[0m\u001b[0;34m)\u001b[0m\u001b[0;34m\u001b[0m\u001b[0;34m\u001b[0m\u001b[0m\n\u001b[1;32m      5\u001b[0m \u001b[0my\u001b[0m \u001b[0;34m=\u001b[0m \u001b[0mnp\u001b[0m\u001b[0;34m.\u001b[0m\u001b[0marray\u001b[0m\u001b[0;34m(\u001b[0m\u001b[0;34m[\u001b[0m\u001b[0mlist\u001b[0m\u001b[0;34m(\u001b[0m\u001b[0mnp\u001b[0m\u001b[0;34m.\u001b[0m\u001b[0marange\u001b[0m\u001b[0;34m(\u001b[0m\u001b[0;36m0.0\u001b[0m\u001b[0;34m,\u001b[0m \u001b[0;36m1.1\u001b[0m\u001b[0;34m,\u001b[0m \u001b[0;36m0.1\u001b[0m\u001b[0;34m)\u001b[0m\u001b[0;34m)\u001b[0m\u001b[0;34m]\u001b[0m \u001b[0;34m*\u001b[0m \u001b[0mnum_y\u001b[0m\u001b[0;34m)\u001b[0m\u001b[0;34m\u001b[0m\u001b[0;34m\u001b[0m\u001b[0m\n",
      "\u001b[0;31mNameError\u001b[0m: name 'all_av_lens' is not defined"
     ]
    }
   ],
   "source": [
    "num_x = len(all_av_lens[0][0])\n",
    "num_y = len(all_av_lens[0])\n",
    "\n",
    "x = np.array([[i]*num_x for i in range(0, 11)])\n",
    "y = np.array([list(np.arange(0.0, 1.1, 0.1))] * num_y)\n",
    "\n",
    "\n",
    "fig = plt.figure()\n",
    "fig.set_size_inches(16, 10)\n",
    "ax = fig.gca(projection='3d')\n",
    "\n",
    "df = pd.DataFrame(all_av_lens[0])\n",
    "z = np.array(df)\n",
    "print(z.shape, x.shape, y.shape)\n",
    "\n",
    "ax.plot_surface(x, y, z, cmap=cm.gray)               "
   ]
  },
  {
   "cell_type": "code",
   "execution_count": null,
   "metadata": {},
   "outputs": [],
   "source": []
  }
 ],
 "metadata": {
  "kernelspec": {
   "display_name": "Python 3",
   "language": "python",
   "name": "python3"
  },
  "language_info": {
   "codemirror_mode": {
    "name": "ipython",
    "version": 3
   },
   "file_extension": ".py",
   "mimetype": "text/x-python",
   "name": "python",
   "nbconvert_exporter": "python",
   "pygments_lexer": "ipython3",
   "version": "3.7.5"
  }
 },
 "nbformat": 4,
 "nbformat_minor": 4
}
