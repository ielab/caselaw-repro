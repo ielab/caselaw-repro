{
 "cells": [
  {
   "cell_type": "code",
   "execution_count": 1,
   "metadata": {},
   "outputs": [],
   "source": [
    "from plotlib.loaders import *\n",
    "from plotlib.plotters import *\n",
    "from phdconf import config \n",
    "\n",
    "import pandas as pd\n",
    "import copy\n",
    "import subprocess"
   ]
  },
  {
   "cell_type": "code",
   "execution_count": 36,
   "metadata": {},
   "outputs": [
    {
     "name": "stdout",
     "output_type": "stream",
     "text": [
      "/home/danlocke/go/src/github.com/dan-locke/phd-data/\n"
     ]
    }
   ],
   "source": [
    "print(config.DATA_DIR)\n",
    "# queries = load_queries(config.AUS_TOPIC_PATH)"
   ]
  },
  {
   "cell_type": "code",
   "execution_count": 37,
   "metadata": {},
   "outputs": [],
   "source": [
    "queries = load_queries(os.path.join(config.DATA_DIR, 'all-leg-queries.json'))\n",
    "broad, specific = load_query_types(queries)\n",
    "\n",
    "paths = ['leg-casename.run', 'leg-citation.run', 'leg-count.run', 'leg-date.run', 'leg-query.run', 'leg-sec-count.run', 'leg-specific-sec-count.run', 'leg-interp.run', 'leg-comb.run', 'auspdfs-unigram_dir_mu_1050.00.run', 'filtered-phrasestop-unigram_dir_mu_1050.00.run']\n",
    "paths = ['all-leg-queries-'+x for x in paths]\n",
    "names = ['casenames', 'citations', 'counts', 'date', 'query', 'section', 'specific_section', 'interp', 'comb', 'pdf', 'text']\n",
    "displays = ['Casename', 'Citation', 'Legislation', 'Date', 'Query', 'Section', 'Specific Sec', 'Interp', 'Combined', 'PDF', 'Cleaned']"
   ]
  },
  {
   "cell_type": "code",
   "execution_count": 38,
   "metadata": {},
   "outputs": [],
   "source": [
    "# def create_folds(queries, k: int):\n",
    "#     l = len(queries)\n",
    "#     q_set = set(queries)\n",
    "#     inds = [x for x in range(l)]\n",
    "#     np.random.shuffle(inds)\n",
    "#     queries = np.array(queries)\n",
    "#     queries = queries[inds]\n",
    "    \n",
    "#     avg = l / float(k)\n",
    "#     parts = []\n",
    "#     last = 0.0\n",
    "    \n",
    "#     test = []\n",
    "\n",
    "#     while last < l:\n",
    "#         test.append(list(queries[int(last):int(last + avg)]))\n",
    "#         last += avg\n",
    "     \n",
    "#     for i in range(len(parts)):\n",
    "#         train.append()\n",
    "    \n",
    "#     train = []\n",
    "#     for i in range(len(test)):\n",
    "#         train.append(list(q_set.difference(test[i])))\n",
    "    \n",
    "#     return train, test\n",
    "    \n",
    "# train, test = create_folds(list(queries.keys()), 5)"
   ]
  },
  {
   "cell_type": "code",
   "execution_count": 39,
   "metadata": {},
   "outputs": [],
   "source": [
    "# # write folds to file \n",
    "# with open('ausleg-folds.txt', 'w') as f:\n",
    "#     for tr, te in zip(train, test):\n",
    "#         f.write('{0} {1}\\n'.format(tr, te))"
   ]
  },
  {
   "cell_type": "code",
   "execution_count": 40,
   "metadata": {},
   "outputs": [],
   "source": [
    "# dfs = load_dfs(config.AUS_QREL_PATH, config.AUS_REL_LEVEL, os.path.join(config.BASE_DIR, 'dirichlet_prior'), paths)\n",
    "dfs = load_dfs(config.AUS_QREL_PATH, config.AUS_REL_LEVEL, '/home/danlocke/phd-generated/legislative/', paths, per_query=True)"
   ]
  },
  {
   "cell_type": "code",
   "execution_count": 41,
   "metadata": {},
   "outputs": [
    {
     "name": "stdout",
     "output_type": "stream",
     "text": [
      "     recip_rank  unjudged@20  recall_20  recall_100    ndcg   set_P  \\\n",
      "1        1.0000         13.0     0.2857      1.0000  0.6559  0.1707   \n",
      "10       0.0020         19.0     0.0000      0.0000  0.1252  0.0003   \n",
      "103      1.0000         18.0     0.2000      0.2000  0.3296  0.0097   \n",
      "104      1.0000         16.0     0.0870      0.5217  0.5179  0.1111   \n",
      "106      0.0021         15.0     0.0000      0.0000  0.1746  0.0013   \n",
      "119      0.5000          0.0     1.0000      1.0000  0.7168  0.5000   \n",
      "14       1.0000          0.0     1.0000      1.0000  1.0000  1.0000   \n",
      "16       0.1250          0.0     0.5000      0.5000  0.1199  0.0769   \n",
      "17       0.0172         18.0     0.0000      0.3333  0.1235  0.0068   \n",
      "18       0.0000          0.0     0.0000      0.0000  0.0000  0.0000   \n",
      "2        0.0312         19.0     0.0000      0.6667  0.2157  0.0345   \n",
      "20       1.0000          0.0     1.0000      1.0000  0.7626  0.5000   \n",
      "26       1.0000          0.0     1.0000      1.0000  0.7769  0.6875   \n",
      "30       0.1667          6.0     0.2941      0.9412  0.4868  0.2025   \n",
      "31       0.3333          0.0     0.7143      1.0000  0.5730  0.2333   \n",
      "35       0.0769         16.0     0.2000      0.4000  0.1451  0.0513   \n",
      "36       0.0263         15.0     0.0000      0.0588  0.2386  0.0029   \n",
      "38       0.3333          0.0     0.2500      0.2500  0.1757  0.2500   \n",
      "40       0.0588          8.0     0.2500      1.0000  0.3041  0.0615   \n",
      "42       0.5000          6.0     0.2143      1.0000  0.5468  0.2000   \n",
      "47       1.0000         18.0     0.0800      0.2000  0.4005  0.0138   \n",
      "48       1.0000         10.0     0.5000      1.0000  0.8344  0.1622   \n",
      "51       0.0065         14.0     0.0000      0.0000  0.0995  0.0053   \n",
      "54       0.0120         19.0     0.0000      0.4000  0.2021  0.0008   \n",
      "55       1.0000         16.0     0.1579      0.1579  0.1690  0.0312   \n",
      "56       0.1667          0.0     1.0000      1.0000  0.3562  0.1250   \n",
      "60       0.0556         19.0     0.0417      0.2500  0.1458  0.0625   \n",
      "61       0.0625         17.0     0.0526      0.4211  0.2485  0.0777   \n",
      "63       0.0909          0.0     0.8000      1.0000  0.3739  0.2000   \n",
      "66       1.0000          0.0     0.6471      0.9412  0.8734  0.4571   \n",
      "72       0.3333         10.0     0.1500      0.4000  0.4510  0.0574   \n",
      "77       0.0345         18.0     0.0000      0.1892  0.2955  0.0387   \n",
      "78       0.0345         19.0     0.0000      0.1429  0.1485  0.0115   \n",
      "79       0.0000         14.0     0.0000      0.0000  0.0000  0.0000   \n",
      "86       0.0108         18.0     0.0000      0.0714  0.1486  0.0206   \n",
      "87       0.0056         19.0     0.0000      0.0000  0.0368  0.0029   \n",
      "88       0.0400         20.0     0.0000      0.1429  0.2452  0.0152   \n",
      "89       0.0312         20.0     0.0000      0.2000  0.2110  0.0109   \n",
      "9        0.0143         19.0     0.0000      0.0588  0.2949  0.0056   \n",
      "92       0.0588         12.0     0.0769      0.4615  0.2987  0.0654   \n",
      "96       0.2500         16.0     0.1250      0.6875  0.3299  0.1209   \n",
      "97       0.0714         12.0     0.2000      0.6000  0.1989  0.0968   \n",
      "\n",
      "     set_recall  set_F_.5  rbp@0.10  rbp-res@0.10  rbp@0.50  rbp-res@0.50  \\\n",
      "1        1.0000    0.2360    0.9000        0.1000    0.5098        0.4896   \n",
      "10       1.0000    0.0005    0.0000        1.0000    0.0000        0.9844   \n",
      "103      0.4000    0.0143    0.9000        0.1000    0.5000        0.4999   \n",
      "104      1.0000    0.1579    0.9000        0.0100    0.5001        0.2499   \n",
      "106      1.0000    0.0019    0.0000        0.0910    0.0000        0.3700   \n",
      "119      1.0000    0.6000    0.0990        0.0000    0.4004        0.0010   \n",
      "14       1.0000    1.0000    0.9900        0.0100    0.7500        0.2500   \n",
      "16       0.5000    0.1071    0.0000        0.0000    0.0039        0.0001   \n",
      "17       0.3333    0.0102    0.0000        0.9991    0.0000        0.9375   \n",
      "18       0.0000    0.0000    0.0000        0.0100    0.0000        0.2500   \n",
      "2        0.6667    0.0504    0.0000        0.9100    0.0000        0.7500   \n",
      "20       1.0000    0.6000    0.9901        0.0000    0.7960        0.0002   \n",
      "26       1.0000    0.7674    0.9991        0.0000    0.9360        0.0000   \n",
      "30       0.9412    0.2743    0.0000        0.0001    0.0240        0.0368   \n",
      "31       1.0000    0.3134    0.0090        0.0000    0.1458        0.0000   \n",
      "35       0.4000    0.0723    0.0000        1.0000    0.0001        0.9840   \n",
      "36       0.9412    0.0043    0.0000        0.0100    0.0000        0.2497   \n",
      "38       0.2500    0.2500    0.0090        0.0001    0.1250        0.0625   \n",
      "40       1.0000    0.0896    0.0000        0.0010    0.0000        0.0946   \n",
      "42       1.0000    0.2727    0.0990        0.0000    0.3752        0.0008   \n",
      "47       0.8800    0.0205    0.9000        0.1000    0.5010        0.4990   \n",
      "48       1.0000    0.2250    1.0000        0.0000    0.9768        0.0193   \n",
      "51       0.6667    0.0079    0.0000        0.0909    0.0000        0.3350   \n",
      "54       1.0000    0.0012    0.0000        0.9100    0.0000        0.7500   \n",
      "55       0.1579    0.0427    0.9000        0.1000    0.5073        0.4927   \n",
      "56       1.0000    0.1765    0.0000        0.0000    0.0156        0.0039   \n",
      "60       0.2500    0.0833    0.0000        1.0000    0.0000        1.0000   \n",
      "61       0.4211    0.1067    0.0000        0.0910    0.0000        0.3750   \n",
      "63       1.0000    0.2727    0.0000        0.0000    0.0007        0.0000   \n",
      "66       0.9412    0.5517    0.9999        0.0000    0.9386        0.0000   \n",
      "72       0.9500    0.0836    0.0090        0.0909    0.1252        0.3193   \n",
      "77       0.7297    0.0566    0.0000        1.0000    0.0000        0.9999   \n",
      "78       0.5714    0.0170    0.0000        1.0000    0.0000        0.9980   \n",
      "79       0.0000    0.0000    0.0000        0.0001    0.0000        0.0596   \n",
      "86       0.5000    0.0303    0.0000        0.9100    0.0000        0.7495   \n",
      "87       0.5000    0.0044    0.0000        0.9100    0.0000        0.7500   \n",
      "88       1.0000    0.0227    0.0000        1.0000    0.0000        1.0000   \n",
      "89       1.0000    0.0162    0.0000        1.0000    0.0000        1.0000   \n",
      "9        1.0000    0.0084    0.0000        1.0000    0.0000        0.9844   \n",
      "92       0.7692    0.0940    0.0000        0.0001    0.0000        0.0532   \n",
      "96       0.6875    0.1667    0.0009        0.9991    0.0781        0.9218   \n",
      "97       0.6000    0.1343    0.0000        0.0100    0.0000        0.2264   \n",
      "\n",
      "     rbp@0.80  rbp-res@0.80   err@20  \n",
      "1      0.2978        0.6628  0.88990  \n",
      "10     0.0000        0.9345  0.00000  \n",
      "103    0.2000        0.7862  0.37500  \n",
      "104    0.2138        0.6183  0.41707  \n",
      "106    0.0000        0.5894  0.00000  \n",
      "119    0.4395        0.1074  0.47649  \n",
      "14     0.3600        0.6400  0.89844  \n",
      "16     0.0419        0.0550  0.01562  \n",
      "17     0.0000        0.8942  0.00000  \n",
      "18     0.0000        0.6400  0.00000  \n",
      "2      0.0002        0.8398  0.00000  \n",
      "20     0.5573        0.0687  0.51710  \n",
      "26     0.7985        0.0281  0.51572  \n",
      "30     0.1539        0.1927  0.11559  \n",
      "31     0.2816        0.0012  0.31168  \n",
      "35     0.0145        0.8931  0.00962  \n",
      "36     0.0001        0.6103  0.00000  \n",
      "38     0.1280        0.4096  0.12500  \n",
      "40     0.0087        0.2598  0.05147  \n",
      "42     0.3041        0.0773  0.45007  \n",
      "47     0.2272        0.7728  0.20156  \n",
      "48     0.7502        0.2073  0.91803  \n",
      "51     0.0000        0.5053  0.00000  \n",
      "54     0.0000        0.8395  0.00000  \n",
      "55     0.2774        0.7169  0.22480  \n",
      "56     0.0655        0.1678  0.06250  \n",
      "60     0.0045        0.9955  0.04861  \n",
      "61     0.0085        0.6634  0.05469  \n",
      "63     0.0508        0.0038  0.08674  \n",
      "66     0.6648        0.0004  0.93469  \n",
      "72     0.1538        0.3869  0.30050  \n",
      "77     0.0003        0.9824  0.00000  \n",
      "78     0.0003        0.9660  0.00000  \n",
      "79     0.0000        0.3474  0.00000  \n",
      "86     0.0000        0.8147  0.00000  \n",
      "87     0.0000        0.8398  0.00000  \n",
      "88     0.0009        0.9991  0.00000  \n",
      "89     0.0002        0.9985  0.00000  \n",
      "9      0.0000        0.9345  0.00000  \n",
      "92     0.0083        0.3005  0.02206  \n",
      "96     0.1680        0.8201  0.22656  \n",
      "97     0.0121        0.4820  0.02679  \n"
     ]
    }
   ],
   "source": [
    "print(dfs[0])"
   ]
  },
  {
   "cell_type": "code",
   "execution_count": 92,
   "metadata": {},
   "outputs": [
    {
     "name": "stdout",
     "output_type": "stream",
     "text": [
      "\\begin{tabular}{llll}\n",
      "\\toprule\n",
      "{} &                           P &                            R &                     F_{0.5} \\\\\n",
      "\\midrule\n",
      "Casename     &                    0.135281 &                     0.739455 &                     0.16535 \\\\\n",
      "Citation     &                    0.135281 &                     0.739455 &                     0.16535 \\\\\n",
      "Legislation  &                    0.135281 &                     0.739455 &                     0.16535 \\\\\n",
      "Date         &                    0.135281 &                     0.739455 &                     0.16535 \\\\\n",
      "Query        &                    0.135281 &                     0.739455 &                     0.16535 \\\\\n",
      "Section      &                 0.1353$^{}$ &                  0.7395$^{}$ &                 0.1653$^{}$ \\\\\n",
      "Specific Sec &                 0.1353$^{}$ &                  0.7395$^{}$ &                 0.1653$^{}$ \\\\\n",
      "Interp       &                 0.1353$^{}$ &                  0.7395$^{}$ &                 0.1653$^{}$ \\\\\n",
      "Combined     &                 0.1353$^{}$ &                  0.7395$^{}$ &                 0.1653$^{}$ \\\\\n",
      "PDF          &                 0.0690$^{}$ &                  0.6409$^{}$ &                 0.0949$^{}$ \\\\\n",
      "Cleaned      &  0.0543$^{*\\dagger\\dagger}$ &  0.4392$^{**\\dagger\\dagger}$ &  0.0741$^{*\\dagger\\dagger}$ \\\\\n",
      "\\bottomrule\n",
      "\\end{tabular}\n",
      "\n"
     ]
    }
   ],
   "source": [
    "def calc_sig(dfs, comps, names, metrics):\n",
    "    d = pd.DataFrame(columns=dfs[0].columns)\n",
    "    all_ind = set()\n",
    "    for df in dfs:\n",
    "        all_ind.update(df.index)\n",
    "        \n",
    "    for i in range(len(dfs)): \n",
    "        ind = all_ind - set(dfs[i].index)\n",
    "        ncol = len(dfs[i].columns)\n",
    "        for x in ind: \n",
    "            dfs[i].loc[x] = [0.0] * ncol\n",
    "        dfs[i].sort_index(inplace=True)\n",
    "    \n",
    "    symbols = ['*', '\\dagger', '\\cdot', '\\textdollar', '\\textyen', '\\textcent', '\\texteuro', '\\text', '\\cdot', '\\circ', '\\centerdot', '\\diamond']\n",
    "    comp_res = []\n",
    "    for c in comps: \n",
    "        res = {}\n",
    "        for m in metrics:\n",
    "            res[m] = dfs[c][m]\n",
    "        comp_res.append((c, res))\n",
    "\n",
    "    for i, df in enumerate(dfs):\n",
    "        av = df.mean()\n",
    "        for j, res in enumerate(comp_res):\n",
    "            if i <= res[0]: \n",
    "                continue\n",
    "            for m in metrics:\n",
    "#                 print(res[m])\n",
    "#                 print(df[m])\n",
    "                p = stats.ttest_rel(res[1][m], df[m]).pvalue\n",
    "                if p < 0.05: \n",
    "                    sym = symbols[j]\n",
    "                    if p < 0.01:\n",
    "                        sym = sym*2\n",
    "                    if isinstance(av[m], str):\n",
    "                        av[m] = av[m][:-2] + sym + \"}$\"\n",
    "                    else:\n",
    "                        av[m] = \"{0:.4f}$^{{\".format(av[m]) + sym + \"}$\"\n",
    "                elif isinstance(av[m], float):\n",
    "                    av[m] = \"{0:.4f}$^{{}}$\".format(av[m])\n",
    "\n",
    "        d.loc[names[i]] = av\n",
    "    print(d.round(4).filter(metrics, axis='columns').rename(metrics, axis='columns').to_latex(escape=False))\n",
    "    return d.filter(metrics, axis='columns').rename(metrics, axis='columns')\n",
    "                    \n",
    "\n",
    "metrics = {}\n",
    "metrics['set_P'] = 'P'\n",
    "metrics['set_recall'] = 'R'\n",
    "metrics['set_F_.5'] = 'F_{0.5}'\n",
    "all_leg_df = calc_sig(dfs, [4, 9, 10], displays, metrics)  "
   ]
  },
  {
   "cell_type": "code",
   "execution_count": 94,
   "metadata": {},
   "outputs": [
    {
     "data": {
      "text/plain": [
       "Ttest_relResult(statistic=2.592600020740532, pvalue=0.013142732858364743)"
      ]
     },
     "execution_count": 94,
     "metadata": {},
     "output_type": "execute_result"
    }
   ],
   "source": [
    "stats.ttest_rel(dfs[9]['recip_rank'], dfs[10]['recip_rank'])"
   ]
  },
  {
   "cell_type": "code",
   "execution_count": 43,
   "metadata": {},
   "outputs": [],
   "source": [
    "sub_df = all_leg_df.reindex(['Query', 'PDF', 'Cleaned'])\n",
    "sub_df = sub_df.rename(index={'PDF': '\\texttt{PDF}', 'Cleaned': '\\texttt{cleaned}', 'Query': '\\texttt{bool}'})\n",
    "write_table('tables/ausl-leg-bool', bold_max(sub_df).to_latex(escape=False))"
   ]
  },
  {
   "cell_type": "code",
   "execution_count": 44,
   "metadata": {},
   "outputs": [
    {
     "name": "stdout",
     "output_type": "stream",
     "text": [
      "\\begin{tabular}{lllllll}\n",
      "\\toprule\n",
      "{} &             RR &         ERR@20 &           R@20 &          R@100 &           NDCG &            RBP \\\\\n",
      "\\midrule\n",
      "Casename     &       0.320271 &       0.197055 &       0.257776 &        0.48086 &        0.34169 &       0.147445 \\\\\n",
      "Citation     &       0.238398 &       0.135637 &       0.275395 &       0.480848 &       0.321067 &       0.114488 \\\\\n",
      "Legislation  &         0.2219 &       0.125844 &        0.22249 &       0.431017 &       0.299038 &       0.099986 \\\\\n",
      "Date         &       0.273671 &       0.157686 &       0.253379 &       0.482286 &       0.322574 &        0.12661 \\\\\n",
      "Query        &       0.577874 &       0.327866 &       0.426814 &       0.584733 &       0.449486 &       0.311152 \\\\\n",
      "Section      &  0.1581$^{**}$ &  0.0664$^{**}$ &  0.1894$^{**}$ &  0.4392$^{**}$ &  0.2723$^{**}$ &  0.0596$^{**}$ \\\\\n",
      "Specific Sec &  0.2742$^{**}$ &  0.1612$^{**}$ &  0.2565$^{**}$ &  0.4842$^{**}$ &  0.3217$^{**}$ &  0.1055$^{**}$ \\\\\n",
      "Interp       &   0.4794$^{*}$ &   0.2782$^{*}$ &   0.3821$^{*}$ &   0.5515$^{*}$ &  0.4124$^{**}$ &  0.2538$^{**}$ \\\\\n",
      "Combined     &    0.5526$^{}$ &    0.3158$^{}$ &    0.4300$^{}$ &    0.5800$^{}$ &    0.4449$^{}$ &  0.3050$^{**}$ \\\\\n",
      "\\bottomrule\n",
      "\\end{tabular}\n",
      "\n"
     ]
    },
    {
     "data": {
      "text/html": [
       "<div>\n",
       "<style scoped>\n",
       "    .dataframe tbody tr th:only-of-type {\n",
       "        vertical-align: middle;\n",
       "    }\n",
       "\n",
       "    .dataframe tbody tr th {\n",
       "        vertical-align: top;\n",
       "    }\n",
       "\n",
       "    .dataframe thead th {\n",
       "        text-align: right;\n",
       "    }\n",
       "</style>\n",
       "<table border=\"1\" class=\"dataframe\">\n",
       "  <thead>\n",
       "    <tr style=\"text-align: right;\">\n",
       "      <th></th>\n",
       "      <th>RR</th>\n",
       "      <th>ERR@20</th>\n",
       "      <th>R@20</th>\n",
       "      <th>R@100</th>\n",
       "      <th>NDCG</th>\n",
       "      <th>RBP</th>\n",
       "    </tr>\n",
       "  </thead>\n",
       "  <tbody>\n",
       "    <tr>\n",
       "      <th>Casename</th>\n",
       "      <td>0.320271</td>\n",
       "      <td>0.197055</td>\n",
       "      <td>0.257776</td>\n",
       "      <td>0.48086</td>\n",
       "      <td>0.34169</td>\n",
       "      <td>0.147445</td>\n",
       "    </tr>\n",
       "    <tr>\n",
       "      <th>Citation</th>\n",
       "      <td>0.238398</td>\n",
       "      <td>0.135637</td>\n",
       "      <td>0.275395</td>\n",
       "      <td>0.480848</td>\n",
       "      <td>0.321067</td>\n",
       "      <td>0.114488</td>\n",
       "    </tr>\n",
       "    <tr>\n",
       "      <th>Legislation</th>\n",
       "      <td>0.2219</td>\n",
       "      <td>0.125844</td>\n",
       "      <td>0.22249</td>\n",
       "      <td>0.431017</td>\n",
       "      <td>0.299038</td>\n",
       "      <td>0.099986</td>\n",
       "    </tr>\n",
       "    <tr>\n",
       "      <th>Date</th>\n",
       "      <td>0.273671</td>\n",
       "      <td>0.157686</td>\n",
       "      <td>0.253379</td>\n",
       "      <td>0.482286</td>\n",
       "      <td>0.322574</td>\n",
       "      <td>0.12661</td>\n",
       "    </tr>\n",
       "    <tr>\n",
       "      <th>Query</th>\n",
       "      <td>0.577874</td>\n",
       "      <td>0.327866</td>\n",
       "      <td>0.426814</td>\n",
       "      <td>0.584733</td>\n",
       "      <td>0.449486</td>\n",
       "      <td>0.311152</td>\n",
       "    </tr>\n",
       "    <tr>\n",
       "      <th>Section</th>\n",
       "      <td>0.1581$^{**}$</td>\n",
       "      <td>0.0664$^{**}$</td>\n",
       "      <td>0.1894$^{**}$</td>\n",
       "      <td>0.4392$^{**}$</td>\n",
       "      <td>0.2723$^{**}$</td>\n",
       "      <td>0.0596$^{**}$</td>\n",
       "    </tr>\n",
       "    <tr>\n",
       "      <th>Specific Sec</th>\n",
       "      <td>0.2742$^{**}$</td>\n",
       "      <td>0.1612$^{**}$</td>\n",
       "      <td>0.2565$^{**}$</td>\n",
       "      <td>0.4842$^{**}$</td>\n",
       "      <td>0.3217$^{**}$</td>\n",
       "      <td>0.1055$^{**}$</td>\n",
       "    </tr>\n",
       "    <tr>\n",
       "      <th>Interp</th>\n",
       "      <td>0.4794$^{*}$</td>\n",
       "      <td>0.2782$^{*}$</td>\n",
       "      <td>0.3821$^{*}$</td>\n",
       "      <td>0.5515$^{*}$</td>\n",
       "      <td>0.4124$^{**}$</td>\n",
       "      <td>0.2538$^{**}$</td>\n",
       "    </tr>\n",
       "    <tr>\n",
       "      <th>Combined</th>\n",
       "      <td>0.5526$^{}$</td>\n",
       "      <td>0.3158$^{}$</td>\n",
       "      <td>0.4300$^{}$</td>\n",
       "      <td>0.5800$^{}$</td>\n",
       "      <td>0.4449$^{}$</td>\n",
       "      <td>0.3050$^{**}$</td>\n",
       "    </tr>\n",
       "  </tbody>\n",
       "</table>\n",
       "</div>"
      ],
      "text/plain": [
       "                         RR         ERR@20           R@20          R@100  \\\n",
       "Casename           0.320271       0.197055       0.257776        0.48086   \n",
       "Citation           0.238398       0.135637       0.275395       0.480848   \n",
       "Legislation          0.2219       0.125844        0.22249       0.431017   \n",
       "Date               0.273671       0.157686       0.253379       0.482286   \n",
       "Query              0.577874       0.327866       0.426814       0.584733   \n",
       "Section       0.1581$^{**}$  0.0664$^{**}$  0.1894$^{**}$  0.4392$^{**}$   \n",
       "Specific Sec  0.2742$^{**}$  0.1612$^{**}$  0.2565$^{**}$  0.4842$^{**}$   \n",
       "Interp         0.4794$^{*}$   0.2782$^{*}$   0.3821$^{*}$   0.5515$^{*}$   \n",
       "Combined        0.5526$^{}$    0.3158$^{}$    0.4300$^{}$    0.5800$^{}$   \n",
       "\n",
       "                       NDCG            RBP  \n",
       "Casename            0.34169       0.147445  \n",
       "Citation           0.321067       0.114488  \n",
       "Legislation        0.299038       0.099986  \n",
       "Date               0.322574        0.12661  \n",
       "Query              0.449486       0.311152  \n",
       "Section       0.2723$^{**}$  0.0596$^{**}$  \n",
       "Specific Sec  0.3217$^{**}$  0.1055$^{**}$  \n",
       "Interp        0.4124$^{**}$  0.2538$^{**}$  \n",
       "Combined        0.4449$^{}$  0.3050$^{**}$  "
      ]
     },
     "execution_count": 44,
     "metadata": {},
     "output_type": "execute_result"
    }
   ],
   "source": [
    "metrics = copy.copy(config.METRIC_NAMES)\n",
    "del metrics['unjudged@20']\n",
    "calc_sig(dfs[:-2], [4], displays[:-2], metrics)  "
   ]
  },
  {
   "cell_type": "code",
   "execution_count": 45,
   "metadata": {},
   "outputs": [
    {
     "name": "stdout",
     "output_type": "stream",
     "text": [
      "all-leg-queries-leg-casename.run\n",
      "all-leg-queries-leg-citation.run\n",
      "all-leg-queries-leg-count.run\n",
      "all-leg-queries-leg-date.run\n",
      "all-leg-queries-leg-sec-count.run\n",
      "all-leg-queries-leg-specific-sec-count.run\n"
     ]
    }
   ],
   "source": [
    "paths = ['leg-casename.run', 'leg-citation.run', 'leg-count.run', 'leg-date.run', 'leg-query.run', 'leg-sec-count.run', 'leg-specific-sec-count.run', 'leg-interp.run', 'leg-comb.run', 'auspdfs-unigram_dir_mu_1050.00.run', 'filtered-phrasestop-unigram_dir_mu_1050.00.run']\n",
    "paths = ['all-leg-queries-'+x for x in paths]\n",
    "names = ['casenames', 'citations', 'counts', 'date', 'query', 'section', 'specific_section', 'interp', 'comb', 'pdf', 'text']\n",
    "    \n",
    "# names[4]\n",
    "inter = Interpolater(os.path.join('/home/danlocke/phd-generated/legislative/', paths[4]), normalize=True)\n",
    "\n",
    "dfs = []\n",
    "for d in paths[:4]+paths[5:-4]: \n",
    "    print(d)\n",
    "    interped_dfs = []\n",
    "    for _lambda in np.arange(0, 1.0, 0.01):\n",
    "        inter.interpolate(os.path.join('/home/danlocke/phd-generated/legislative/', d), _lambda, 'tmp.run')\n",
    "        interped_dfs.append(load_dfs(config.AUS_QREL_PATH, config.AUS_REL_LEVEL, '', ['tmp.run'], per_query=True)[0])\n",
    "    dfs.append(interped_dfs)"
   ]
  },
  {
   "cell_type": "code",
   "execution_count": 12,
   "metadata": {},
   "outputs": [],
   "source": [
    "# inter.interpolate(os.path.join('/home/danlocke/phd-generated/legislative/', paths[3]), 0.5, 'tmp.run')\n",
    "# load_dfs(config.AUS_QREL_PATH, config.AUS_REL_LEVEL, '', ['tmp.run'], per_query=True)[0]"
   ]
  },
  {
   "cell_type": "code",
   "execution_count": null,
   "metadata": {},
   "outputs": [],
   "source": []
  },
  {
   "cell_type": "code",
   "execution_count": 46,
   "metadata": {},
   "outputs": [],
   "source": [
    "tt_folds = read_folds('ausleg-folds.txt')"
   ]
  },
  {
   "cell_type": "code",
   "execution_count": 47,
   "metadata": {},
   "outputs": [],
   "source": [
    "base_query = load_dfs(config.AUS_QREL_PATH, config.AUS_REL_LEVEL, '', [os.path.join('/home/danlocke/phd-generated/legislative/', paths[4])], per_query=True)[0]"
   ]
  },
  {
   "cell_type": "code",
   "execution_count": 48,
   "metadata": {},
   "outputs": [
    {
     "name": "stdout",
     "output_type": "stream",
     "text": [
      "counts\n",
      "date\n",
      "section\n",
      "specific_section\n"
     ]
    }
   ],
   "source": [
    "metrics = copy.copy(config.METRIC_NAMES)\n",
    "\n",
    "ntlm_df = pd.DataFrame(columns=metrics)\n",
    "\n",
    "for ab, runs in zip(names[2:4]+names[5:-4], dfs[2:]):\n",
    "    print(ab)\n",
    "    ntlm_cross = cross_validation(runs, tt_folds, metrics, base_query)\n",
    "    ntlm_df.loc[ab] = ntlm_cross[0]"
   ]
  },
  {
   "cell_type": "code",
   "execution_count": 49,
   "metadata": {},
   "outputs": [
    {
     "name": "stdout",
     "output_type": "stream",
     "text": [
      "\\begin{tabular}{llllll}\n",
      "\\toprule\n",
      "{} &      RR &  ERR@20 &          R@20 &           NDCG &           RBP \\\\\n",
      "\\midrule\n",
      "$R$              &  0.5779 &  0.3279 &        0.4268 &         0.4495 &        0.3112 \\\\\n",
      "counts           &  0.5254 &  0.2970 &  0.3732$^{*}$ &  0.3573$^{**}$ &  0.2807$^{*}$ \\\\\n",
      "section          &  0.5148 &  0.3020 &  0.3732$^{*}$ &  0.3568$^{**}$ &  0.2826$^{*}$ \\\\\n",
      "specific_section &  0.5412 &  0.3143 &  0.3732$^{*}$ &  0.3620$^{**}$ &  0.2825$^{*}$ \\\\\n",
      "date             &  0.5424 &  0.3179 &  0.3661$^{*}$ &  0.3608$^{**}$ &  0.2809$^{*}$ \\\\\n",
      "\\bottomrule\n",
      "\\end{tabular}\n",
      "\n"
     ]
    }
   ],
   "source": [
    "ntlm_df.loc['$R$'] = base_query.mean().round(4)\n",
    "ntlm_df = ntlm_df.reindex(['$R$', 'counts', 'section', 'specific_section', 'date'])\n",
    "print(ntlm_df.rename(columns=metrics).drop(['Unjudged@20', 'R@100'],axis='columns').to_latex(escape=False))"
   ]
  },
  {
   "cell_type": "code",
   "execution_count": 50,
   "metadata": {},
   "outputs": [],
   "source": [
    "ausl_leg_df = ntlm_df.reindex(['$R$', 'counts', 'section'])\n",
    "ausl_leg_df = ausl_leg_df.rename(index={'counts': 'leg', 'section': 'sec'})\n",
    "write_table('tables/ausl-leg-ranking', bold_max(ausl_leg_df).rename(columns=metrics).drop(['Unjudged@20', 'R@100'],axis='columns').to_latex(escape=False))"
   ]
  },
  {
   "cell_type": "code",
   "execution_count": 51,
   "metadata": {},
   "outputs": [],
   "source": [
    "ausl_date_df = ntlm_df.reindex(['$R$', 'date'])\n",
    "write_table('tables/ausl-date-ranking', bold_max(ausl_date_df).rename(columns=metrics).drop(['Unjudged@20', 'R@100'],axis='columns').to_latex(escape=False))"
   ]
  },
  {
   "cell_type": "code",
   "execution_count": 19,
   "metadata": {},
   "outputs": [],
   "source": [
    "def get_missed(run_name: str):    \n",
    "    retrieved = {}\n",
    "    with open('/home/danlocke/phd-generated/legislative/{0}.run'.format(run_name)) as f:\n",
    "        for line in f: \n",
    "            parts = line.strip().split()\n",
    "            if parts[0] not in retrieved:\n",
    "                retrieved[parts[0]] = set()\n",
    "            retrieved[parts[0]].add(parts[2])\n",
    "            \n",
    "    relevant = {}\n",
    "    with open(config.AUS_QREL_PATH) as f:\n",
    "        for line in f:\n",
    "            parts = line.strip().split()\n",
    "            if parts[0] not in retrieved:\n",
    "                continue\n",
    "            if parts[0] not in relevant:\n",
    "                relevant[parts[0]] = set()\n",
    "            if parts[3] == \"1\":\n",
    "                relevant[parts[0]].add(parts[2])\n",
    "                \n",
    "                \n",
    "    for topic in relevant.keys():\n",
    "        items = copy.copy(relevant[topic])\n",
    "        for doc in items:\n",
    "            if doc in retrieved[topic]: \n",
    "                relevant[topic].remove(doc)\n",
    "    \n",
    "    return(relevant)\n",
    "    \n",
    "missed = get_missed('all-leg-queries-leg-query')\n",
    "\n",
    "\n",
    "# not cite - 33\n",
    "# 2 - 2006QCA155, 2003FCA50\n",
    "# 17 - 2014FCA765, \n",
    "# 35 - 2003FCAFC109, 2014QSC281\n",
    "# 47 - 2005FCA494, 2008FCAFC170\n",
    "# 55 - 2009FCA1502, 2013FCA1038, 2011FCA1159, 2013QCA104, 2015FCA741\n",
    "# 60 - 2015QSC149, 2014QCA183\n",
    "# 61 - 2013QCA161, 2016FCA243, 2002QCA225, 2012QCA100, 2009QSC417, 2016QCA215, 2010QSC122, 2008FCA0865, 2014FCA585\n",
    "# 66 - 2006QSC349\n",
    "# 77 - 2005QCA277, 2010FCA769, 2005FCA918, 2010FCA285, 2018FCA33\n",
    "# 78 - 2010FCA285, 2005FCA918, 2018FCA33\n",
    "# 86 - 2011QDC213\n",
    "\n",
    "# reason for this is might be appeal or costs decision\n",
    "\n",
    "# cite prev leg - 4\n",
    "# 36 - 2001QSC211\n",
    "# 38 - 2004FCA5\n",
    "# 92 - 2011QSC307, 2009QCA75\n",
    "\n",
    "# cite other sec from same act or another act - 15\n",
    "# 17 - 2011FCA1063\n",
    "# 55 - 2019QSC144\n",
    "# 60 - 2001QSC444, 2007QCA185, 2007QSC92, 2008QSC4, 2011QSC88, 2012QDC73, 2006QSC274, 2004QSC272, 2009QSC192, \n",
    "# 78 - 2018QCA79, 2007QSC262\n",
    "# 96 - 2018FCA657, 2018FCA1405"
   ]
  },
  {
   "cell_type": "code",
   "execution_count": 20,
   "metadata": {},
   "outputs": [],
   "source": [
    "# missed_standard = get_missed('all-leg-queries-leg-linked-rep')"
   ]
  },
  {
   "cell_type": "code",
   "execution_count": 21,
   "metadata": {},
   "outputs": [],
   "source": [
    "# a = missed_standard\n",
    "# b = missed\n",
    "# for k, v in a.items():\n",
    "#     if k in b:\n",
    "#         for v1 in v:\n",
    "#             if v1 not in b[k]:\n",
    "#                 print(k, v1)"
   ]
  },
  {
   "cell_type": "code",
   "execution_count": 22,
   "metadata": {},
   "outputs": [],
   "source": [
    "# for k, v in missed_standard.items():\n",
    "#     print(k, v)"
   ]
  },
  {
   "cell_type": "code",
   "execution_count": 52,
   "metadata": {},
   "outputs": [],
   "source": [
    "# for k, v in missed.items():\n",
    "#     print(k, v)\n",
    "dfs = load_dfs(config.AUS_QREL_PATH, config.AUS_REL_LEVEL, '/home/danlocke/phd-generated/legislative/', paths, per_query=True)"
   ]
  },
  {
   "cell_type": "code",
   "execution_count": 53,
   "metadata": {},
   "outputs": [],
   "source": [
    "topics = ['legislative-queries', 'case-topics']\n",
    "expansion_paths = ['leg-exp.run', 'leg-filtered-exp.run', 'leg-linked-all.run', 'leg-linked-rep.run', 'leg-linked-same.run']\n",
    "expansion_paths = ['all-leg-queries-'+x for x in expansion_paths]\n",
    "\n",
    "results = load_dfs(config.AUS_QREL_PATH, config.AUS_REL_LEVEL, '/home/danlocke/phd-generated/legislative/', expansion_paths, per_query=True)"
   ]
  },
  {
   "cell_type": "code",
   "execution_count": 54,
   "metadata": {},
   "outputs": [
    {
     "data": {
      "text/plain": [
       "8"
      ]
     },
     "execution_count": 54,
     "metadata": {},
     "output_type": "execute_result"
    }
   ],
   "source": [
    "len(dfs[-3:]+results)"
   ]
  },
  {
   "cell_type": "code",
   "execution_count": 55,
   "metadata": {},
   "outputs": [
    {
     "name": "stdout",
     "output_type": "stream",
     "text": [
      "\\begin{tabular}{lllllllllll}\n",
      "\\toprule\n",
      "{} &                                     RR &                                 ERR@20 &                                   R@20 &                                  R@100 &                                   NDCG &                                    RBP &                             Unjudged@20 &                                      P &                                      R &                                F_{0.5} \\\\\n",
      "\\midrule\n",
      "Combined         &                               0.552605 &                               0.315797 &                               0.430007 &                               0.579971 &                               0.444857 &                               0.304998 &                                8.071429 &                               0.135281 &                               0.739455 &                                0.16535 \\\\\n",
      "PDF              &                            0.5410$^{}$ &                            0.3021$^{}$ &                            0.4044$^{}$ &                            0.6409$^{}$ &                            0.4160$^{}$ &                            0.2954$^{}$ &                             5.7619$^{}$ &                            0.0690$^{}$ &                            0.6409$^{}$ &                            0.0949$^{}$ \\\\\n",
      "Cleaned          &                    0.4088$^{*\\dagger}$ &                   0.2128$^{**\\dagger}$ &            0.2428$^{**\\dagger\\dagger}$ &              0.4392$^{\\dagger\\dagger}$ &            0.2683$^{**\\dagger\\dagger}$ &            0.2067$^{**\\dagger\\dagger}$ &                             6.1905$^{}$ &             0.0543$^{*\\dagger\\dagger}$ &            0.4392$^{**\\dagger\\dagger}$ &             0.0741$^{*\\dagger\\dagger}$ \\\\\n",
      "leg-exp          &            0.3509$^{**\\dagger\\dagger}$ &            0.1962$^{**\\dagger\\dagger}$ &                          0.3319$^{**}$ &                            0.5392$^{}$ &                          0.3670$^{**}$ &            0.1853$^{**\\dagger\\dagger}$ &       11.0476$^{**\\dagger\\dagger\\cdot}$ &                       0.1353$^{\\cdot}$ &                  0.7395$^{\\cdot\\cdot}$ &                       0.1653$^{\\cdot}$ \\\\\n",
      "leg-filtered-exp &  0.0789$^{**\\dagger\\dagger\\cdot\\cdot}$ &  0.0317$^{**\\dagger\\dagger\\cdot\\cdot}$ &  0.0444$^{**\\dagger\\dagger\\cdot\\cdot}$ &  0.1599$^{**\\dagger\\dagger\\cdot\\cdot}$ &  0.0622$^{**\\dagger\\dagger\\cdot\\cdot}$ &  0.0314$^{**\\dagger\\dagger\\cdot\\cdot}$ &  17.3333$^{**\\dagger\\dagger\\cdot\\cdot}$ &  0.0164$^{**\\dagger\\dagger\\cdot\\cdot}$ &  0.1599$^{**\\dagger\\dagger\\cdot\\cdot}$ &  0.0228$^{**\\dagger\\dagger\\cdot\\cdot}$ \\\\\n",
      "leg-linked-all   &            0.2576$^{**\\dagger\\dagger}$ &            0.1508$^{**\\dagger\\dagger}$ &            0.2612$^{**\\dagger\\dagger}$ &                   0.4819$^{**\\dagger}$ &                   0.3130$^{**\\dagger}$ &       0.1040$^{**\\dagger\\dagger\\cdot}$ &  12.6429$^{**\\dagger\\dagger\\cdot\\cdot}$ &                       0.1188$^{\\cdot}$ &                  0.7463$^{\\cdot\\cdot}$ &                       0.1509$^{\\cdot}$ \\\\\n",
      "leg-linked-rep   &            0.2615$^{**\\dagger\\dagger}$ &            0.1513$^{**\\dagger\\dagger}$ &            0.2612$^{**\\dagger\\dagger}$ &                   0.4805$^{**\\dagger}$ &                   0.3143$^{**\\dagger}$ &       0.1044$^{**\\dagger\\dagger\\cdot}$ &  12.5476$^{**\\dagger\\dagger\\cdot\\cdot}$ &                       0.1193$^{\\cdot}$ &                  0.7478$^{\\cdot\\cdot}$ &                       0.1515$^{\\cdot}$ \\\\\n",
      "leg-linked-same  &            0.2695$^{**\\dagger\\dagger}$ &            0.1616$^{**\\dagger\\dagger}$ &            0.2612$^{**\\dagger\\dagger}$ &                   0.4842$^{**\\dagger}$ &                   0.3200$^{**\\dagger}$ &       0.1079$^{**\\dagger\\dagger\\cdot}$ &  12.5714$^{**\\dagger\\dagger\\cdot\\cdot}$ &                       0.1348$^{\\cdot}$ &                  0.7395$^{\\cdot\\cdot}$ &                       0.1648$^{\\cdot}$ \\\\\n",
      "\\bottomrule\n",
      "\\end{tabular}\n",
      "\n"
     ]
    }
   ],
   "source": [
    "metrics['set_P'] = 'P'\n",
    "metrics['set_recall'] = 'R'\n",
    "metrics['set_F_.5'] = 'F_{0.5}'\n",
    "leg_filter_df = calc_sig(dfs[-3:]+results, [0, 1, 2], displays[-3:]+['leg-exp', 'leg-filtered-exp', 'leg-linked-all', 'leg-linked-rep', 'leg-linked-same'], metrics)    "
   ]
  },
  {
   "cell_type": "code",
   "execution_count": 70,
   "metadata": {},
   "outputs": [],
   "source": [
    "leg_filter_df = leg_filter_df.rename(index={'PDF': '\\texttt{PDF}', 'Cleaned': '\\texttt{cleaned}', 'Combined': '\\texttt{bool}', \n",
    "                                        'leg-linked-all': 'all-link', 'leg-linked-rep': 'rep-link', 'leg-linked-same': 'same-link'})\n",
    "leg_filter_df = leg_filter_df.applymap(lambda x: round(x, 4) \n",
    "    if isinstance(x, (int, float)) else x)\n",
    "write_table('tables/ausl-leg-exp', bold_max(leg_filter_df.round(4)).rename(columns=metrics).to_latex(escape=False))"
   ]
  },
  {
   "cell_type": "code",
   "execution_count": 71,
   "metadata": {},
   "outputs": [],
   "source": [
    "ndf = leg_filter_df.reindex(['\\texttt{bool}', '\\texttt{cleaned}', '\\texttt{PDF}', 'leg-exp'])\n",
    "ndf = ndf.applymap(lambda x: round(x, 4) if isinstance(x, (int, float)) else x)\n",
    "write_table('tables/ausl-leg-term-exp', bold_max(ndf).rename(columns=metrics).to_latex(escape=False))"
   ]
  },
  {
   "cell_type": "code",
   "execution_count": 29,
   "metadata": {},
   "outputs": [
    {
     "name": "stdout",
     "output_type": "stream",
     "text": [
      "\\begin{tabular}{lllllll}\n",
      "\\toprule\n",
      "{} &                                     RR &                                 ERR@20 &                                   R@20 &                                  R@100 &                                   NDCG &                                    RBP \\\\\n",
      "\\midrule\n",
      "Casename         &              0.3203$^{\\dagger\\dagger}$ &                     0.1971$^{\\dagger}$ &              0.2578$^{\\dagger\\dagger}$ &                     0.4809$^{\\dagger}$ &                            0.3417$^{}$ &              0.1474$^{\\dagger\\dagger}$ \\\\\n",
      "Citation         &                     0.2384$^{**\\cdot}$ &                          0.1356$^{**}$ &                          0.2754$^{**}$ &                          0.4808$^{**}$ &                          0.3211$^{**}$ &                          0.1145$^{**}$ \\\\\n",
      "Legislation      &            0.2219$^{**\\dagger\\dagger}$ &            0.1258$^{**\\dagger\\dagger}$ &            0.2225$^{**\\dagger\\dagger}$ &            0.4310$^{**\\dagger\\dagger}$ &            0.2990$^{**\\dagger\\dagger}$ &            0.1000$^{**\\dagger\\dagger}$ \\\\\n",
      "Date             &            0.2737$^{**\\dagger\\dagger}$ &            0.1577$^{**\\dagger\\dagger}$ &            0.2534$^{**\\dagger\\dagger}$ &                   0.4823$^{**\\dagger}$ &                   0.3226$^{**\\dagger}$ &            0.1266$^{**\\dagger\\dagger}$ \\\\\n",
      "Query            &                  0.5779$^{\\cdot\\cdot}$ &                  0.3279$^{\\cdot\\cdot}$ &                  0.4268$^{\\cdot\\cdot}$ &                            0.5847$^{}$ &                  0.4495$^{\\cdot\\cdot}$ &                  0.3112$^{\\cdot\\cdot}$ \\\\\n",
      "Section          &  0.1581$^{**\\dagger\\dagger\\cdot\\cdot}$ &       0.0664$^{**\\dagger\\dagger\\cdot}$ &            0.1894$^{**\\dagger\\dagger}$ &            0.4392$^{**\\dagger\\dagger}$ &            0.2723$^{**\\dagger\\dagger}$ &  0.0596$^{**\\dagger\\dagger\\cdot\\cdot}$ \\\\\n",
      "Specific Sec     &            0.2742$^{**\\dagger\\dagger}$ &            0.1612$^{**\\dagger\\dagger}$ &            0.2565$^{**\\dagger\\dagger}$ &                   0.4842$^{**\\dagger}$ &                   0.3217$^{**\\dagger}$ &       0.1055$^{**\\dagger\\dagger\\cdot}$ \\\\\n",
      "Interp           &                           0.4794$^{*}$ &                           0.2782$^{*}$ &                      0.3821$^{*\\cdot}$ &                           0.5515$^{*}$ &                0.4124$^{**\\cdot\\cdot}$ &                          0.2538$^{**}$ \\\\\n",
      "Combined         &                       0.5526$^{\\cdot}$ &                  0.3158$^{\\cdot\\cdot}$ &                  0.4300$^{\\cdot\\cdot}$ &                            0.5800$^{}$ &                  0.4449$^{\\cdot\\cdot}$ &                0.3050$^{**\\cdot\\cdot}$ \\\\\n",
      "PDF              &                       0.5410$^{\\cdot}$ &                       0.3021$^{\\cdot}$ &                  0.4044$^{\\cdot\\cdot}$ &                  0.6409$^{\\cdot\\cdot}$ &                  0.4160$^{\\cdot\\cdot}$ &                  0.2954$^{\\cdot\\cdot}$ \\\\\n",
      "Cleaned          &                   0.4088$^{**\\dagger}$ &                   0.2128$^{**\\dagger}$ &            0.2428$^{**\\dagger\\dagger}$ &              0.4392$^{\\dagger\\dagger}$ &            0.2683$^{**\\dagger\\dagger}$ &            0.2067$^{**\\dagger\\dagger}$ \\\\\n",
      "leg-exp          &            0.3509$^{**\\dagger\\dagger}$ &            0.1962$^{**\\dagger\\dagger}$ &                          0.3319$^{**}$ &                           0.5392$^{*}$ &                          0.3670$^{**}$ &            0.1853$^{**\\dagger\\dagger}$ \\\\\n",
      "leg-filtered-exp &  0.0789$^{**\\dagger\\dagger\\cdot\\cdot}$ &  0.0317$^{**\\dagger\\dagger\\cdot\\cdot}$ &  0.0444$^{**\\dagger\\dagger\\cdot\\cdot}$ &  0.1599$^{**\\dagger\\dagger\\cdot\\cdot}$ &  0.0622$^{**\\dagger\\dagger\\cdot\\cdot}$ &  0.0314$^{**\\dagger\\dagger\\cdot\\cdot}$ \\\\\n",
      "leg-linked-all   &            0.2576$^{**\\dagger\\dagger}$ &            0.1508$^{**\\dagger\\dagger}$ &            0.2612$^{**\\dagger\\dagger}$ &                   0.4819$^{**\\dagger}$ &                   0.3130$^{**\\dagger}$ &       0.1040$^{**\\dagger\\dagger\\cdot}$ \\\\\n",
      "leg-linked-rep   &            0.2615$^{**\\dagger\\dagger}$ &            0.1513$^{**\\dagger\\dagger}$ &            0.2612$^{**\\dagger\\dagger}$ &                   0.4805$^{**\\dagger}$ &                   0.3143$^{**\\dagger}$ &       0.1044$^{**\\dagger\\dagger\\cdot}$ \\\\\n",
      "leg-linked-same  &            0.2695$^{**\\dagger\\dagger}$ &            0.1616$^{**\\dagger\\dagger}$ &            0.2612$^{**\\dagger\\dagger}$ &                   0.4842$^{**\\dagger}$ &                   0.3200$^{**\\dagger}$ &       0.1079$^{**\\dagger\\dagger\\cdot}$ \\\\\n",
      "\\bottomrule\n",
      "\\end{tabular}\n",
      "\n"
     ]
    },
    {
     "data": {
      "text/html": [
       "<div>\n",
       "<style scoped>\n",
       "    .dataframe tbody tr th:only-of-type {\n",
       "        vertical-align: middle;\n",
       "    }\n",
       "\n",
       "    .dataframe tbody tr th {\n",
       "        vertical-align: top;\n",
       "    }\n",
       "\n",
       "    .dataframe thead th {\n",
       "        text-align: right;\n",
       "    }\n",
       "</style>\n",
       "<table border=\"1\" class=\"dataframe\">\n",
       "  <thead>\n",
       "    <tr style=\"text-align: right;\">\n",
       "      <th></th>\n",
       "      <th>RR</th>\n",
       "      <th>ERR@20</th>\n",
       "      <th>R@20</th>\n",
       "      <th>R@100</th>\n",
       "      <th>NDCG</th>\n",
       "      <th>RBP</th>\n",
       "    </tr>\n",
       "  </thead>\n",
       "  <tbody>\n",
       "    <tr>\n",
       "      <th>Casename</th>\n",
       "      <td>0.3203$^{\\dagger\\dagger}$</td>\n",
       "      <td>0.1971$^{\\dagger}$</td>\n",
       "      <td>0.2578$^{\\dagger\\dagger}$</td>\n",
       "      <td>0.4809$^{\\dagger}$</td>\n",
       "      <td>0.3417$^{}$</td>\n",
       "      <td>0.1474$^{\\dagger\\dagger}$</td>\n",
       "    </tr>\n",
       "    <tr>\n",
       "      <th>Citation</th>\n",
       "      <td>0.2384$^{**\\cdot}$</td>\n",
       "      <td>0.1356$^{**}$</td>\n",
       "      <td>0.2754$^{**}$</td>\n",
       "      <td>0.4808$^{**}$</td>\n",
       "      <td>0.3211$^{**}$</td>\n",
       "      <td>0.1145$^{**}$</td>\n",
       "    </tr>\n",
       "    <tr>\n",
       "      <th>Legislation</th>\n",
       "      <td>0.2219$^{**\\dagger\\dagger}$</td>\n",
       "      <td>0.1258$^{**\\dagger\\dagger}$</td>\n",
       "      <td>0.2225$^{**\\dagger\\dagger}$</td>\n",
       "      <td>0.4310$^{**\\dagger\\dagger}$</td>\n",
       "      <td>0.2990$^{**\\dagger\\dagger}$</td>\n",
       "      <td>0.1000$^{**\\dagger\\dagger}$</td>\n",
       "    </tr>\n",
       "    <tr>\n",
       "      <th>Date</th>\n",
       "      <td>0.2737$^{**\\dagger\\dagger}$</td>\n",
       "      <td>0.1577$^{**\\dagger\\dagger}$</td>\n",
       "      <td>0.2534$^{**\\dagger\\dagger}$</td>\n",
       "      <td>0.4823$^{**\\dagger}$</td>\n",
       "      <td>0.3226$^{**\\dagger}$</td>\n",
       "      <td>0.1266$^{**\\dagger\\dagger}$</td>\n",
       "    </tr>\n",
       "    <tr>\n",
       "      <th>Query</th>\n",
       "      <td>0.5779$^{\\cdot\\cdot}$</td>\n",
       "      <td>0.3279$^{\\cdot\\cdot}$</td>\n",
       "      <td>0.4268$^{\\cdot\\cdot}$</td>\n",
       "      <td>0.5847$^{}$</td>\n",
       "      <td>0.4495$^{\\cdot\\cdot}$</td>\n",
       "      <td>0.3112$^{\\cdot\\cdot}$</td>\n",
       "    </tr>\n",
       "    <tr>\n",
       "      <th>Section</th>\n",
       "      <td>0.1581$^{**\\dagger\\dagger\\cdot\\cdot}$</td>\n",
       "      <td>0.0664$^{**\\dagger\\dagger\\cdot}$</td>\n",
       "      <td>0.1894$^{**\\dagger\\dagger}$</td>\n",
       "      <td>0.4392$^{**\\dagger\\dagger}$</td>\n",
       "      <td>0.2723$^{**\\dagger\\dagger}$</td>\n",
       "      <td>0.0596$^{**\\dagger\\dagger\\cdot\\cdot}$</td>\n",
       "    </tr>\n",
       "    <tr>\n",
       "      <th>Specific Sec</th>\n",
       "      <td>0.2742$^{**\\dagger\\dagger}$</td>\n",
       "      <td>0.1612$^{**\\dagger\\dagger}$</td>\n",
       "      <td>0.2565$^{**\\dagger\\dagger}$</td>\n",
       "      <td>0.4842$^{**\\dagger}$</td>\n",
       "      <td>0.3217$^{**\\dagger}$</td>\n",
       "      <td>0.1055$^{**\\dagger\\dagger\\cdot}$</td>\n",
       "    </tr>\n",
       "    <tr>\n",
       "      <th>Interp</th>\n",
       "      <td>0.4794$^{*}$</td>\n",
       "      <td>0.2782$^{*}$</td>\n",
       "      <td>0.3821$^{*\\cdot}$</td>\n",
       "      <td>0.5515$^{*}$</td>\n",
       "      <td>0.4124$^{**\\cdot\\cdot}$</td>\n",
       "      <td>0.2538$^{**}$</td>\n",
       "    </tr>\n",
       "    <tr>\n",
       "      <th>Combined</th>\n",
       "      <td>0.5526$^{\\cdot}$</td>\n",
       "      <td>0.3158$^{\\cdot\\cdot}$</td>\n",
       "      <td>0.4300$^{\\cdot\\cdot}$</td>\n",
       "      <td>0.5800$^{}$</td>\n",
       "      <td>0.4449$^{\\cdot\\cdot}$</td>\n",
       "      <td>0.3050$^{**\\cdot\\cdot}$</td>\n",
       "    </tr>\n",
       "    <tr>\n",
       "      <th>PDF</th>\n",
       "      <td>0.5410$^{\\cdot}$</td>\n",
       "      <td>0.3021$^{\\cdot}$</td>\n",
       "      <td>0.4044$^{\\cdot\\cdot}$</td>\n",
       "      <td>0.6409$^{\\cdot\\cdot}$</td>\n",
       "      <td>0.4160$^{\\cdot\\cdot}$</td>\n",
       "      <td>0.2954$^{\\cdot\\cdot}$</td>\n",
       "    </tr>\n",
       "    <tr>\n",
       "      <th>Cleaned</th>\n",
       "      <td>0.4088$^{**\\dagger}$</td>\n",
       "      <td>0.2128$^{**\\dagger}$</td>\n",
       "      <td>0.2428$^{**\\dagger\\dagger}$</td>\n",
       "      <td>0.4392$^{\\dagger\\dagger}$</td>\n",
       "      <td>0.2683$^{**\\dagger\\dagger}$</td>\n",
       "      <td>0.2067$^{**\\dagger\\dagger}$</td>\n",
       "    </tr>\n",
       "    <tr>\n",
       "      <th>leg-exp</th>\n",
       "      <td>0.3509$^{**\\dagger\\dagger}$</td>\n",
       "      <td>0.1962$^{**\\dagger\\dagger}$</td>\n",
       "      <td>0.3319$^{**}$</td>\n",
       "      <td>0.5392$^{*}$</td>\n",
       "      <td>0.3670$^{**}$</td>\n",
       "      <td>0.1853$^{**\\dagger\\dagger}$</td>\n",
       "    </tr>\n",
       "    <tr>\n",
       "      <th>leg-filtered-exp</th>\n",
       "      <td>0.0789$^{**\\dagger\\dagger\\cdot\\cdot}$</td>\n",
       "      <td>0.0317$^{**\\dagger\\dagger\\cdot\\cdot}$</td>\n",
       "      <td>0.0444$^{**\\dagger\\dagger\\cdot\\cdot}$</td>\n",
       "      <td>0.1599$^{**\\dagger\\dagger\\cdot\\cdot}$</td>\n",
       "      <td>0.0622$^{**\\dagger\\dagger\\cdot\\cdot}$</td>\n",
       "      <td>0.0314$^{**\\dagger\\dagger\\cdot\\cdot}$</td>\n",
       "    </tr>\n",
       "    <tr>\n",
       "      <th>leg-linked-all</th>\n",
       "      <td>0.2576$^{**\\dagger\\dagger}$</td>\n",
       "      <td>0.1508$^{**\\dagger\\dagger}$</td>\n",
       "      <td>0.2612$^{**\\dagger\\dagger}$</td>\n",
       "      <td>0.4819$^{**\\dagger}$</td>\n",
       "      <td>0.3130$^{**\\dagger}$</td>\n",
       "      <td>0.1040$^{**\\dagger\\dagger\\cdot}$</td>\n",
       "    </tr>\n",
       "    <tr>\n",
       "      <th>leg-linked-rep</th>\n",
       "      <td>0.2615$^{**\\dagger\\dagger}$</td>\n",
       "      <td>0.1513$^{**\\dagger\\dagger}$</td>\n",
       "      <td>0.2612$^{**\\dagger\\dagger}$</td>\n",
       "      <td>0.4805$^{**\\dagger}$</td>\n",
       "      <td>0.3143$^{**\\dagger}$</td>\n",
       "      <td>0.1044$^{**\\dagger\\dagger\\cdot}$</td>\n",
       "    </tr>\n",
       "    <tr>\n",
       "      <th>leg-linked-same</th>\n",
       "      <td>0.2695$^{**\\dagger\\dagger}$</td>\n",
       "      <td>0.1616$^{**\\dagger\\dagger}$</td>\n",
       "      <td>0.2612$^{**\\dagger\\dagger}$</td>\n",
       "      <td>0.4842$^{**\\dagger}$</td>\n",
       "      <td>0.3200$^{**\\dagger}$</td>\n",
       "      <td>0.1079$^{**\\dagger\\dagger\\cdot}$</td>\n",
       "    </tr>\n",
       "  </tbody>\n",
       "</table>\n",
       "</div>"
      ],
      "text/plain": [
       "                                                     RR  \\\n",
       "Casename                      0.3203$^{\\dagger\\dagger}$   \n",
       "Citation                             0.2384$^{**\\cdot}$   \n",
       "Legislation                 0.2219$^{**\\dagger\\dagger}$   \n",
       "Date                        0.2737$^{**\\dagger\\dagger}$   \n",
       "Query                             0.5779$^{\\cdot\\cdot}$   \n",
       "Section           0.1581$^{**\\dagger\\dagger\\cdot\\cdot}$   \n",
       "Specific Sec                0.2742$^{**\\dagger\\dagger}$   \n",
       "Interp                                     0.4794$^{*}$   \n",
       "Combined                               0.5526$^{\\cdot}$   \n",
       "PDF                                    0.5410$^{\\cdot}$   \n",
       "Cleaned                            0.4088$^{**\\dagger}$   \n",
       "leg-exp                     0.3509$^{**\\dagger\\dagger}$   \n",
       "leg-filtered-exp  0.0789$^{**\\dagger\\dagger\\cdot\\cdot}$   \n",
       "leg-linked-all              0.2576$^{**\\dagger\\dagger}$   \n",
       "leg-linked-rep              0.2615$^{**\\dagger\\dagger}$   \n",
       "leg-linked-same             0.2695$^{**\\dagger\\dagger}$   \n",
       "\n",
       "                                                 ERR@20  \\\n",
       "Casename                             0.1971$^{\\dagger}$   \n",
       "Citation                                  0.1356$^{**}$   \n",
       "Legislation                 0.1258$^{**\\dagger\\dagger}$   \n",
       "Date                        0.1577$^{**\\dagger\\dagger}$   \n",
       "Query                             0.3279$^{\\cdot\\cdot}$   \n",
       "Section                0.0664$^{**\\dagger\\dagger\\cdot}$   \n",
       "Specific Sec                0.1612$^{**\\dagger\\dagger}$   \n",
       "Interp                                     0.2782$^{*}$   \n",
       "Combined                          0.3158$^{\\cdot\\cdot}$   \n",
       "PDF                                    0.3021$^{\\cdot}$   \n",
       "Cleaned                            0.2128$^{**\\dagger}$   \n",
       "leg-exp                     0.1962$^{**\\dagger\\dagger}$   \n",
       "leg-filtered-exp  0.0317$^{**\\dagger\\dagger\\cdot\\cdot}$   \n",
       "leg-linked-all              0.1508$^{**\\dagger\\dagger}$   \n",
       "leg-linked-rep              0.1513$^{**\\dagger\\dagger}$   \n",
       "leg-linked-same             0.1616$^{**\\dagger\\dagger}$   \n",
       "\n",
       "                                                   R@20  \\\n",
       "Casename                      0.2578$^{\\dagger\\dagger}$   \n",
       "Citation                                  0.2754$^{**}$   \n",
       "Legislation                 0.2225$^{**\\dagger\\dagger}$   \n",
       "Date                        0.2534$^{**\\dagger\\dagger}$   \n",
       "Query                             0.4268$^{\\cdot\\cdot}$   \n",
       "Section                     0.1894$^{**\\dagger\\dagger}$   \n",
       "Specific Sec                0.2565$^{**\\dagger\\dagger}$   \n",
       "Interp                                0.3821$^{*\\cdot}$   \n",
       "Combined                          0.4300$^{\\cdot\\cdot}$   \n",
       "PDF                               0.4044$^{\\cdot\\cdot}$   \n",
       "Cleaned                     0.2428$^{**\\dagger\\dagger}$   \n",
       "leg-exp                                   0.3319$^{**}$   \n",
       "leg-filtered-exp  0.0444$^{**\\dagger\\dagger\\cdot\\cdot}$   \n",
       "leg-linked-all              0.2612$^{**\\dagger\\dagger}$   \n",
       "leg-linked-rep              0.2612$^{**\\dagger\\dagger}$   \n",
       "leg-linked-same             0.2612$^{**\\dagger\\dagger}$   \n",
       "\n",
       "                                                  R@100  \\\n",
       "Casename                             0.4809$^{\\dagger}$   \n",
       "Citation                                  0.4808$^{**}$   \n",
       "Legislation                 0.4310$^{**\\dagger\\dagger}$   \n",
       "Date                               0.4823$^{**\\dagger}$   \n",
       "Query                                       0.5847$^{}$   \n",
       "Section                     0.4392$^{**\\dagger\\dagger}$   \n",
       "Specific Sec                       0.4842$^{**\\dagger}$   \n",
       "Interp                                     0.5515$^{*}$   \n",
       "Combined                                    0.5800$^{}$   \n",
       "PDF                               0.6409$^{\\cdot\\cdot}$   \n",
       "Cleaned                       0.4392$^{\\dagger\\dagger}$   \n",
       "leg-exp                                    0.5392$^{*}$   \n",
       "leg-filtered-exp  0.1599$^{**\\dagger\\dagger\\cdot\\cdot}$   \n",
       "leg-linked-all                     0.4819$^{**\\dagger}$   \n",
       "leg-linked-rep                     0.4805$^{**\\dagger}$   \n",
       "leg-linked-same                    0.4842$^{**\\dagger}$   \n",
       "\n",
       "                                                   NDCG  \\\n",
       "Casename                                    0.3417$^{}$   \n",
       "Citation                                  0.3211$^{**}$   \n",
       "Legislation                 0.2990$^{**\\dagger\\dagger}$   \n",
       "Date                               0.3226$^{**\\dagger}$   \n",
       "Query                             0.4495$^{\\cdot\\cdot}$   \n",
       "Section                     0.2723$^{**\\dagger\\dagger}$   \n",
       "Specific Sec                       0.3217$^{**\\dagger}$   \n",
       "Interp                          0.4124$^{**\\cdot\\cdot}$   \n",
       "Combined                          0.4449$^{\\cdot\\cdot}$   \n",
       "PDF                               0.4160$^{\\cdot\\cdot}$   \n",
       "Cleaned                     0.2683$^{**\\dagger\\dagger}$   \n",
       "leg-exp                                   0.3670$^{**}$   \n",
       "leg-filtered-exp  0.0622$^{**\\dagger\\dagger\\cdot\\cdot}$   \n",
       "leg-linked-all                     0.3130$^{**\\dagger}$   \n",
       "leg-linked-rep                     0.3143$^{**\\dagger}$   \n",
       "leg-linked-same                    0.3200$^{**\\dagger}$   \n",
       "\n",
       "                                                    RBP  \n",
       "Casename                      0.1474$^{\\dagger\\dagger}$  \n",
       "Citation                                  0.1145$^{**}$  \n",
       "Legislation                 0.1000$^{**\\dagger\\dagger}$  \n",
       "Date                        0.1266$^{**\\dagger\\dagger}$  \n",
       "Query                             0.3112$^{\\cdot\\cdot}$  \n",
       "Section           0.0596$^{**\\dagger\\dagger\\cdot\\cdot}$  \n",
       "Specific Sec           0.1055$^{**\\dagger\\dagger\\cdot}$  \n",
       "Interp                                    0.2538$^{**}$  \n",
       "Combined                        0.3050$^{**\\cdot\\cdot}$  \n",
       "PDF                               0.2954$^{\\cdot\\cdot}$  \n",
       "Cleaned                     0.2067$^{**\\dagger\\dagger}$  \n",
       "leg-exp                     0.1853$^{**\\dagger\\dagger}$  \n",
       "leg-filtered-exp  0.0314$^{**\\dagger\\dagger\\cdot\\cdot}$  \n",
       "leg-linked-all         0.1040$^{**\\dagger\\dagger\\cdot}$  \n",
       "leg-linked-rep         0.1044$^{**\\dagger\\dagger\\cdot}$  \n",
       "leg-linked-same        0.1079$^{**\\dagger\\dagger\\cdot}$  "
      ]
     },
     "execution_count": 29,
     "metadata": {},
     "output_type": "execute_result"
    }
   ],
   "source": [
    "metrics = copy.copy(config.METRIC_NAMES)\n",
    "del metrics ['unjudged@20']\n",
    "calc_sig(dfs+results, [4, 9, 10], displays+['leg-exp', 'leg-filtered-exp', 'leg-linked-all', 'leg-linked-rep', 'leg-linked-same'], metrics)    "
   ]
  },
  {
   "cell_type": "code",
   "execution_count": 30,
   "metadata": {},
   "outputs": [
    {
     "data": {
      "text/html": [
       "<div>\n",
       "<style scoped>\n",
       "    .dataframe tbody tr th:only-of-type {\n",
       "        vertical-align: middle;\n",
       "    }\n",
       "\n",
       "    .dataframe tbody tr th {\n",
       "        vertical-align: top;\n",
       "    }\n",
       "\n",
       "    .dataframe thead th {\n",
       "        text-align: right;\n",
       "    }\n",
       "</style>\n",
       "<table border=\"1\" class=\"dataframe\">\n",
       "  <thead>\n",
       "    <tr style=\"text-align: right;\">\n",
       "      <th></th>\n",
       "      <th>recip_rank</th>\n",
       "      <th>unjudged@20</th>\n",
       "      <th>recall_20</th>\n",
       "      <th>recall_100</th>\n",
       "      <th>ndcg</th>\n",
       "      <th>set_P</th>\n",
       "      <th>set_recall</th>\n",
       "      <th>set_F_.5</th>\n",
       "      <th>rbp@0.10</th>\n",
       "      <th>rbp-res@0.10</th>\n",
       "      <th>rbp@0.50</th>\n",
       "      <th>rbp-res@0.50</th>\n",
       "      <th>rbp@0.80</th>\n",
       "      <th>rbp-res@0.80</th>\n",
       "      <th>err@20</th>\n",
       "    </tr>\n",
       "  </thead>\n",
       "  <tbody>\n",
       "  </tbody>\n",
       "</table>\n",
       "</div>"
      ],
      "text/plain": [
       "Empty DataFrame\n",
       "Columns: [recip_rank, unjudged@20, recall_20, recall_100, ndcg, set_P, set_recall, set_F_.5, rbp@0.10, rbp-res@0.10, rbp@0.50, rbp-res@0.50, rbp@0.80, rbp-res@0.80, err@20]\n",
       "Index: []"
      ]
     },
     "execution_count": 30,
     "metadata": {},
     "output_type": "execute_result"
    }
   ],
   "source": [
    "results[-1][(results[-1]-dfs[-3])['set_recall'] < 0]"
   ]
  },
  {
   "cell_type": "code",
   "execution_count": 31,
   "metadata": {},
   "outputs": [
    {
     "data": {
      "text/plain": [
       "recip_rank      0.3333\n",
       "unjudged@20     0.0000\n",
       "recall_20       0.2500\n",
       "recall_100      0.2500\n",
       "ndcg            0.1757\n",
       "set_P           0.2500\n",
       "set_recall      0.2500\n",
       "set_F_.5        0.2500\n",
       "rbp@0.10        0.0090\n",
       "rbp-res@0.10    0.0001\n",
       "rbp@0.50        0.1250\n",
       "rbp-res@0.50    0.0625\n",
       "rbp@0.80        0.1280\n",
       "rbp-res@0.80    0.4096\n",
       "err@20          0.1250\n",
       "Name: 38, dtype: float64"
      ]
     },
     "execution_count": 31,
     "metadata": {},
     "output_type": "execute_result"
    }
   ],
   "source": [
    "dfs[-3].loc[38]"
   ]
  },
  {
   "cell_type": "code",
   "execution_count": 32,
   "metadata": {},
   "outputs": [
    {
     "ename": "FileNotFoundError",
     "evalue": "[Errno 2] No such file or directory: '/home/danlocke/phd-generated/legislative/legislative-queries-leg-linked-all.run'",
     "output_type": "error",
     "traceback": [
      "\u001b[0;31m---------------------------------------------------------------------------\u001b[0m",
      "\u001b[0;31mFileNotFoundError\u001b[0m                         Traceback (most recent call last)",
      "\u001b[0;32m<ipython-input-32-ca9a6054de2c>\u001b[0m in \u001b[0;36m<module>\u001b[0;34m\u001b[0m\n\u001b[0;32m----> 1\u001b[0;31m \u001b[0mmiss_b\u001b[0m \u001b[0;34m=\u001b[0m \u001b[0mget_missed\u001b[0m\u001b[0;34m(\u001b[0m\u001b[0;34m'legislative-queries-leg-linked-all'\u001b[0m\u001b[0;34m)\u001b[0m\u001b[0;34m\u001b[0m\u001b[0;34m\u001b[0m\u001b[0m\n\u001b[0m\u001b[1;32m      2\u001b[0m \u001b[0mmiss_a\u001b[0m \u001b[0;34m=\u001b[0m \u001b[0mget_missed\u001b[0m\u001b[0;34m(\u001b[0m\u001b[0;34m'legislative-queries-leg-exp'\u001b[0m\u001b[0;34m)\u001b[0m\u001b[0;34m\u001b[0m\u001b[0;34m\u001b[0m\u001b[0m\n\u001b[1;32m      3\u001b[0m \u001b[0;31m# first is missing from baseline\u001b[0m\u001b[0;34m\u001b[0m\u001b[0;34m\u001b[0m\u001b[0;34m\u001b[0m\u001b[0m\n\u001b[1;32m      4\u001b[0m \u001b[0;31m# for k, v in miss_a.items():\u001b[0m\u001b[0;34m\u001b[0m\u001b[0;34m\u001b[0m\u001b[0;34m\u001b[0m\u001b[0m\n\u001b[1;32m      5\u001b[0m \u001b[0;31m#     if len(v) > 0 or len(miss_b[k]) > 0:\u001b[0m\u001b[0;34m\u001b[0m\u001b[0;34m\u001b[0m\u001b[0;34m\u001b[0m\u001b[0m\n",
      "\u001b[0;32m<ipython-input-19-1425e9a3fab8>\u001b[0m in \u001b[0;36mget_missed\u001b[0;34m(run_name)\u001b[0m\n\u001b[1;32m      1\u001b[0m \u001b[0;32mdef\u001b[0m \u001b[0mget_missed\u001b[0m\u001b[0;34m(\u001b[0m\u001b[0mrun_name\u001b[0m\u001b[0;34m:\u001b[0m \u001b[0mstr\u001b[0m\u001b[0;34m)\u001b[0m\u001b[0;34m:\u001b[0m\u001b[0;34m\u001b[0m\u001b[0;34m\u001b[0m\u001b[0m\n\u001b[1;32m      2\u001b[0m     \u001b[0mretrieved\u001b[0m \u001b[0;34m=\u001b[0m \u001b[0;34m{\u001b[0m\u001b[0;34m}\u001b[0m\u001b[0;34m\u001b[0m\u001b[0;34m\u001b[0m\u001b[0m\n\u001b[0;32m----> 3\u001b[0;31m     \u001b[0;32mwith\u001b[0m \u001b[0mopen\u001b[0m\u001b[0;34m(\u001b[0m\u001b[0;34m'/home/danlocke/phd-generated/legislative/{0}.run'\u001b[0m\u001b[0;34m.\u001b[0m\u001b[0mformat\u001b[0m\u001b[0;34m(\u001b[0m\u001b[0mrun_name\u001b[0m\u001b[0;34m)\u001b[0m\u001b[0;34m)\u001b[0m \u001b[0;32mas\u001b[0m \u001b[0mf\u001b[0m\u001b[0;34m:\u001b[0m\u001b[0;34m\u001b[0m\u001b[0;34m\u001b[0m\u001b[0m\n\u001b[0m\u001b[1;32m      4\u001b[0m         \u001b[0;32mfor\u001b[0m \u001b[0mline\u001b[0m \u001b[0;32min\u001b[0m \u001b[0mf\u001b[0m\u001b[0;34m:\u001b[0m\u001b[0;34m\u001b[0m\u001b[0;34m\u001b[0m\u001b[0m\n\u001b[1;32m      5\u001b[0m             \u001b[0mparts\u001b[0m \u001b[0;34m=\u001b[0m \u001b[0mline\u001b[0m\u001b[0;34m.\u001b[0m\u001b[0mstrip\u001b[0m\u001b[0;34m(\u001b[0m\u001b[0;34m)\u001b[0m\u001b[0;34m.\u001b[0m\u001b[0msplit\u001b[0m\u001b[0;34m(\u001b[0m\u001b[0;34m)\u001b[0m\u001b[0;34m\u001b[0m\u001b[0;34m\u001b[0m\u001b[0m\n",
      "\u001b[0;31mFileNotFoundError\u001b[0m: [Errno 2] No such file or directory: '/home/danlocke/phd-generated/legislative/legislative-queries-leg-linked-all.run'"
     ]
    }
   ],
   "source": [
    "miss_b = get_missed('legislative-queries-leg-linked-all') \n",
    "miss_a = get_missed('legislative-queries-leg-exp') \n",
    "# first is missing from baseline \n",
    "# for k, v in miss_a.items():\n",
    "#     if len(v) > 0 or len(miss_b[k]) > 0:\n",
    "#         print(k, v, '|', miss_b[k])\n",
    "# print('-'*20)\n",
    "# miss_b = get_missed('legislative-queries-leg-linked-same') \n",
    "# miss_a = get_missed('legislative-queries-leg-exp') \n",
    "# for k, v in miss_a.items():\n",
    "#     if len(v) > 0 or len(miss_b[k]) > 0:\n",
    "#         print(k, v, '|', miss_b[k])\n",
    "# print('-'*20)\n",
    "# miss_b = get_missed('legislative-queries-leg-linked-rep') \n",
    "# miss_a = get_missed('legislative-queries-leg-exp') \n",
    "# for k, v in miss_a.items():\n",
    "#     if len(v) > 0 or len(miss_b[k]) > 0:\n",
    "#         print(k, v, '|', miss_b[k])\n",
    "# print('-'*20)"
   ]
  },
  {
   "cell_type": "code",
   "execution_count": 33,
   "metadata": {},
   "outputs": [
    {
     "ename": "FileNotFoundError",
     "evalue": "[Errno 2] No such file or directory: '/home/danlocke/phd-generated/legislative/case-topics-leg-exp.run'",
     "output_type": "error",
     "traceback": [
      "\u001b[0;31m---------------------------------------------------------------------------\u001b[0m",
      "\u001b[0;31mFileNotFoundError\u001b[0m                         Traceback (most recent call last)",
      "\u001b[0;32m<ipython-input-33-d0f562a3eabf>\u001b[0m in \u001b[0;36m<module>\u001b[0;34m\u001b[0m\n\u001b[0;32m----> 1\u001b[0;31m \u001b[0mget_missed\u001b[0m\u001b[0;34m(\u001b[0m\u001b[0;34m'case-topics-leg-exp'\u001b[0m\u001b[0;34m)\u001b[0m\u001b[0;34m\u001b[0m\u001b[0;34m\u001b[0m\u001b[0m\n\u001b[0m",
      "\u001b[0;32m<ipython-input-19-1425e9a3fab8>\u001b[0m in \u001b[0;36mget_missed\u001b[0;34m(run_name)\u001b[0m\n\u001b[1;32m      1\u001b[0m \u001b[0;32mdef\u001b[0m \u001b[0mget_missed\u001b[0m\u001b[0;34m(\u001b[0m\u001b[0mrun_name\u001b[0m\u001b[0;34m:\u001b[0m \u001b[0mstr\u001b[0m\u001b[0;34m)\u001b[0m\u001b[0;34m:\u001b[0m\u001b[0;34m\u001b[0m\u001b[0;34m\u001b[0m\u001b[0m\n\u001b[1;32m      2\u001b[0m     \u001b[0mretrieved\u001b[0m \u001b[0;34m=\u001b[0m \u001b[0;34m{\u001b[0m\u001b[0;34m}\u001b[0m\u001b[0;34m\u001b[0m\u001b[0;34m\u001b[0m\u001b[0m\n\u001b[0;32m----> 3\u001b[0;31m     \u001b[0;32mwith\u001b[0m \u001b[0mopen\u001b[0m\u001b[0;34m(\u001b[0m\u001b[0;34m'/home/danlocke/phd-generated/legislative/{0}.run'\u001b[0m\u001b[0;34m.\u001b[0m\u001b[0mformat\u001b[0m\u001b[0;34m(\u001b[0m\u001b[0mrun_name\u001b[0m\u001b[0;34m)\u001b[0m\u001b[0;34m)\u001b[0m \u001b[0;32mas\u001b[0m \u001b[0mf\u001b[0m\u001b[0;34m:\u001b[0m\u001b[0;34m\u001b[0m\u001b[0;34m\u001b[0m\u001b[0m\n\u001b[0m\u001b[1;32m      4\u001b[0m         \u001b[0;32mfor\u001b[0m \u001b[0mline\u001b[0m \u001b[0;32min\u001b[0m \u001b[0mf\u001b[0m\u001b[0;34m:\u001b[0m\u001b[0;34m\u001b[0m\u001b[0;34m\u001b[0m\u001b[0m\n\u001b[1;32m      5\u001b[0m             \u001b[0mparts\u001b[0m \u001b[0;34m=\u001b[0m \u001b[0mline\u001b[0m\u001b[0;34m.\u001b[0m\u001b[0mstrip\u001b[0m\u001b[0;34m(\u001b[0m\u001b[0;34m)\u001b[0m\u001b[0;34m.\u001b[0m\u001b[0msplit\u001b[0m\u001b[0;34m(\u001b[0m\u001b[0;34m)\u001b[0m\u001b[0;34m\u001b[0m\u001b[0;34m\u001b[0m\u001b[0m\n",
      "\u001b[0;31mFileNotFoundError\u001b[0m: [Errno 2] No such file or directory: '/home/danlocke/phd-generated/legislative/case-topics-leg-exp.run'"
     ]
    }
   ],
   "source": [
    "get_missed('case-topics-leg-exp') "
   ]
  },
  {
   "cell_type": "code",
   "execution_count": 34,
   "metadata": {},
   "outputs": [],
   "source": [
    "runs = [os.path.join('/home/danlocke/phd-generated/legislative/', x) for x in ['leg-casename.run', 'leg-citation.run', 'leg-count.run', 'leg-query.run', 'leg-sec-count.run', 'leg-specific-sec-count.run', 'leg-interp.run']]\n",
    "comb_method = ['combmax', 'combanz', 'combmed', 'combmin', 'combmax', 'combmnz', 'combsum']\n",
    "for method in comb_method:\n",
    "    f = open(\"{0}-tmp.run\".format(method), \"w\")\n",
    "    subprocess.call(['polyfuse', method, '-n', 'minsum'] + runs, stdout=f)\n",
    "    f.close()"
   ]
  },
  {
   "cell_type": "code",
   "execution_count": 35,
   "metadata": {},
   "outputs": [
    {
     "ename": "CalledProcessError",
     "evalue": "Command '['trec_eval', '-q', '-m', 'recall.20,100', '-m', 'ndcg', '-m', 'recip_rank', '-m', 'set_P', '-m', 'set_recall', '-m', 'relstring.20', '-m', 'set_F..5', '-l', '1', '/home/danlocke/go/src/github.com/dan-locke/phd-data/aus/filtered-qrels.txt', './combmax-tmp.run']' returned non-zero exit status 2.",
     "output_type": "error",
     "traceback": [
      "\u001b[0;31m---------------------------------------------------------------------------\u001b[0m",
      "\u001b[0;31mCalledProcessError\u001b[0m                        Traceback (most recent call last)",
      "\u001b[0;32m<ipython-input-35-709d92e38d54>\u001b[0m in \u001b[0;36m<module>\u001b[0;34m\u001b[0m\n\u001b[0;32m----> 1\u001b[0;31m \u001b[0mcomb_method_dfs\u001b[0m \u001b[0;34m=\u001b[0m \u001b[0mload_dfs\u001b[0m\u001b[0;34m(\u001b[0m\u001b[0mconfig\u001b[0m\u001b[0;34m.\u001b[0m\u001b[0mAUS_QREL_PATH\u001b[0m\u001b[0;34m,\u001b[0m \u001b[0mconfig\u001b[0m\u001b[0;34m.\u001b[0m\u001b[0mAUS_REL_LEVEL\u001b[0m\u001b[0;34m,\u001b[0m \u001b[0;34m'.'\u001b[0m\u001b[0;34m,\u001b[0m \u001b[0;34m[\u001b[0m\u001b[0;34m'{0}-tmp.run'\u001b[0m\u001b[0;34m.\u001b[0m\u001b[0mformat\u001b[0m\u001b[0;34m(\u001b[0m\u001b[0mx\u001b[0m\u001b[0;34m)\u001b[0m \u001b[0;32mfor\u001b[0m \u001b[0mx\u001b[0m \u001b[0;32min\u001b[0m \u001b[0mcomb_method\u001b[0m\u001b[0;34m]\u001b[0m\u001b[0;34m)\u001b[0m\u001b[0;34m\u001b[0m\u001b[0;34m\u001b[0m\u001b[0m\n\u001b[0m\u001b[1;32m      2\u001b[0m \u001b[0mprint\u001b[0m\u001b[0;34m(\u001b[0m\u001b[0mpd\u001b[0m\u001b[0;34m.\u001b[0m\u001b[0mDataFrame\u001b[0m\u001b[0;34m.\u001b[0m\u001b[0mfrom_dict\u001b[0m\u001b[0;34m(\u001b[0m\u001b[0;34m{\u001b[0m\u001b[0mk\u001b[0m\u001b[0;34m:\u001b[0m \u001b[0mcomb_method_dfs\u001b[0m\u001b[0;34m[\u001b[0m\u001b[0mi\u001b[0m\u001b[0;34m]\u001b[0m \u001b[0;32mfor\u001b[0m \u001b[0mi\u001b[0m\u001b[0;34m,\u001b[0m \u001b[0mk\u001b[0m \u001b[0;32min\u001b[0m \u001b[0menumerate\u001b[0m\u001b[0;34m(\u001b[0m\u001b[0mcomb_method\u001b[0m\u001b[0;34m)\u001b[0m\u001b[0;34m}\u001b[0m\u001b[0;34m)\u001b[0m\u001b[0;34m)\u001b[0m\u001b[0;34m\u001b[0m\u001b[0;34m\u001b[0m\u001b[0m\n",
      "\u001b[0;32m~/src/phd-notebooks/plotlib/loaders.py\u001b[0m in \u001b[0;36mload_dfs\u001b[0;34m(qrel_path, rel_level, results_path, names, per_query, filtered)\u001b[0m\n\u001b[1;32m     81\u001b[0m     \u001b[0mdfs\u001b[0m \u001b[0;34m=\u001b[0m \u001b[0;34m[\u001b[0m\u001b[0;34m]\u001b[0m\u001b[0;34m\u001b[0m\u001b[0;34m\u001b[0m\u001b[0m\n\u001b[1;32m     82\u001b[0m     \u001b[0;32mfor\u001b[0m \u001b[0mn\u001b[0m \u001b[0;32min\u001b[0m \u001b[0mnames\u001b[0m\u001b[0;34m:\u001b[0m\u001b[0;34m\u001b[0m\u001b[0;34m\u001b[0m\u001b[0m\n\u001b[0;32m---> 83\u001b[0;31m         \u001b[0mdfs\u001b[0m\u001b[0;34m.\u001b[0m\u001b[0mappend\u001b[0m\u001b[0;34m(\u001b[0m\u001b[0mto_trec_df\u001b[0m\u001b[0;34m(\u001b[0m\u001b[0mqrel_path\u001b[0m\u001b[0;34m,\u001b[0m \u001b[0mos\u001b[0m\u001b[0;34m.\u001b[0m\u001b[0mpath\u001b[0m\u001b[0;34m.\u001b[0m\u001b[0mjoin\u001b[0m\u001b[0;34m(\u001b[0m\u001b[0mresults_path\u001b[0m\u001b[0;34m,\u001b[0m \u001b[0mn\u001b[0m\u001b[0;34m)\u001b[0m\u001b[0;34m,\u001b[0m \u001b[0mrel_level\u001b[0m\u001b[0;34m,\u001b[0m \u001b[0mper_query\u001b[0m\u001b[0;34m,\u001b[0m \u001b[0mfiltered\u001b[0m\u001b[0;34m)\u001b[0m\u001b[0;34m)\u001b[0m\u001b[0;34m\u001b[0m\u001b[0;34m\u001b[0m\u001b[0m\n\u001b[0m\u001b[1;32m     84\u001b[0m \u001b[0;34m\u001b[0m\u001b[0m\n\u001b[1;32m     85\u001b[0m     \u001b[0;32mreturn\u001b[0m \u001b[0mdfs\u001b[0m\u001b[0;34m\u001b[0m\u001b[0;34m\u001b[0m\u001b[0m\n",
      "\u001b[0;32m~/src/phd-notebooks/plotlib/trec_df.py\u001b[0m in \u001b[0;36mto_trec_df\u001b[0;34m(qrel_path, res_path, rel_level, per_query, filtered)\u001b[0m\n\u001b[1;32m     62\u001b[0m \u001b[0;34m\u001b[0m\u001b[0m\n\u001b[1;32m     63\u001b[0m \u001b[0;32mdef\u001b[0m \u001b[0mto_trec_df\u001b[0m\u001b[0;34m(\u001b[0m\u001b[0mqrel_path\u001b[0m\u001b[0;34m:\u001b[0m \u001b[0mstr\u001b[0m\u001b[0;34m,\u001b[0m \u001b[0mres_path\u001b[0m\u001b[0;34m:\u001b[0m \u001b[0mstr\u001b[0m\u001b[0;34m,\u001b[0m \u001b[0mrel_level\u001b[0m\u001b[0;34m=\u001b[0m\u001b[0;34m'1'\u001b[0m\u001b[0;34m,\u001b[0m \u001b[0mper_query\u001b[0m\u001b[0;34m=\u001b[0m\u001b[0;32mFalse\u001b[0m\u001b[0;34m,\u001b[0m \u001b[0mfiltered\u001b[0m\u001b[0;34m=\u001b[0m\u001b[0;32mNone\u001b[0m\u001b[0;34m)\u001b[0m\u001b[0;34m:\u001b[0m\u001b[0;34m\u001b[0m\u001b[0;34m\u001b[0m\u001b[0m\n\u001b[0;32m---> 64\u001b[0;31m     \u001b[0mresults\u001b[0m \u001b[0;34m=\u001b[0m \u001b[0mprocess\u001b[0m\u001b[0;34m(\u001b[0m\u001b[0;34m[\u001b[0m\u001b[0;34m'trec_eval'\u001b[0m\u001b[0;34m,\u001b[0m \u001b[0;34m'-q'\u001b[0m\u001b[0;34m,\u001b[0m \u001b[0;34m'-m'\u001b[0m\u001b[0;34m,\u001b[0m \u001b[0;34m'recall.20,100'\u001b[0m\u001b[0;34m,\u001b[0m \u001b[0;34m'-m'\u001b[0m\u001b[0;34m,\u001b[0m \u001b[0;34m'ndcg'\u001b[0m\u001b[0;34m,\u001b[0m \u001b[0;34m'-m'\u001b[0m\u001b[0;34m,\u001b[0m \u001b[0;34m'recip_rank'\u001b[0m\u001b[0;34m,\u001b[0m \u001b[0;34m'-m'\u001b[0m\u001b[0;34m,\u001b[0m \u001b[0;34m'set_P'\u001b[0m\u001b[0;34m,\u001b[0m \u001b[0;34m'-m'\u001b[0m\u001b[0;34m,\u001b[0m \u001b[0;34m'set_recall'\u001b[0m\u001b[0;34m,\u001b[0m \u001b[0;34m'-m'\u001b[0m\u001b[0;34m,\u001b[0m \u001b[0;34m'relstring.20'\u001b[0m\u001b[0;34m,\u001b[0m \u001b[0;34m'-m'\u001b[0m\u001b[0;34m,\u001b[0m \u001b[0;34m'set_F..5'\u001b[0m\u001b[0;34m,\u001b[0m \u001b[0;34m'-l'\u001b[0m\u001b[0;34m,\u001b[0m \u001b[0mrel_level\u001b[0m\u001b[0;34m,\u001b[0m \u001b[0mqrel_path\u001b[0m\u001b[0;34m,\u001b[0m \u001b[0mres_path\u001b[0m\u001b[0;34m]\u001b[0m\u001b[0;34m)\u001b[0m\u001b[0;34m\u001b[0m\u001b[0;34m\u001b[0m\u001b[0m\n\u001b[0m\u001b[1;32m     65\u001b[0m     \u001b[0mdf\u001b[0m \u001b[0;34m=\u001b[0m \u001b[0mpd\u001b[0m\u001b[0;34m.\u001b[0m\u001b[0mDataFrame\u001b[0m\u001b[0;34m.\u001b[0m\u001b[0mfrom_dict\u001b[0m\u001b[0;34m(\u001b[0m\u001b[0mresults\u001b[0m\u001b[0;34m,\u001b[0m \u001b[0morient\u001b[0m\u001b[0;34m=\u001b[0m\u001b[0;34m'index'\u001b[0m\u001b[0;34m)\u001b[0m\u001b[0;34m\u001b[0m\u001b[0;34m\u001b[0m\u001b[0m\n\u001b[1;32m     66\u001b[0m \u001b[0;34m\u001b[0m\u001b[0m\n",
      "\u001b[0;32m~/src/phd-notebooks/plotlib/trec_df.py\u001b[0m in \u001b[0;36mprocess\u001b[0;34m(args)\u001b[0m\n\u001b[1;32m      6\u001b[0m \u001b[0;34m\u001b[0m\u001b[0m\n\u001b[1;32m      7\u001b[0m \u001b[0;32mdef\u001b[0m \u001b[0mprocess\u001b[0m\u001b[0;34m(\u001b[0m\u001b[0margs\u001b[0m\u001b[0;34m)\u001b[0m\u001b[0;34m:\u001b[0m\u001b[0;34m\u001b[0m\u001b[0;34m\u001b[0m\u001b[0m\n\u001b[0;32m----> 8\u001b[0;31m     \u001b[0mres\u001b[0m \u001b[0;34m=\u001b[0m \u001b[0msubprocess\u001b[0m\u001b[0;34m.\u001b[0m\u001b[0mcheck_output\u001b[0m\u001b[0;34m(\u001b[0m\u001b[0margs\u001b[0m\u001b[0;34m)\u001b[0m\u001b[0;34m\u001b[0m\u001b[0;34m\u001b[0m\u001b[0m\n\u001b[0m\u001b[1;32m      9\u001b[0m     \u001b[0mresults\u001b[0m \u001b[0;34m=\u001b[0m \u001b[0;34m{\u001b[0m\u001b[0;34m}\u001b[0m\u001b[0;34m\u001b[0m\u001b[0;34m\u001b[0m\u001b[0m\n\u001b[1;32m     10\u001b[0m \u001b[0;34m\u001b[0m\u001b[0m\n",
      "\u001b[0;32m/usr/lib/python3.7/subprocess.py\u001b[0m in \u001b[0;36mcheck_output\u001b[0;34m(timeout, *popenargs, **kwargs)\u001b[0m\n\u001b[1;32m    409\u001b[0m \u001b[0;34m\u001b[0m\u001b[0m\n\u001b[1;32m    410\u001b[0m     return run(*popenargs, stdout=PIPE, timeout=timeout, check=True,\n\u001b[0;32m--> 411\u001b[0;31m                **kwargs).stdout\n\u001b[0m\u001b[1;32m    412\u001b[0m \u001b[0;34m\u001b[0m\u001b[0m\n\u001b[1;32m    413\u001b[0m \u001b[0;34m\u001b[0m\u001b[0m\n",
      "\u001b[0;32m/usr/lib/python3.7/subprocess.py\u001b[0m in \u001b[0;36mrun\u001b[0;34m(input, capture_output, timeout, check, *popenargs, **kwargs)\u001b[0m\n\u001b[1;32m    510\u001b[0m         \u001b[0;32mif\u001b[0m \u001b[0mcheck\u001b[0m \u001b[0;32mand\u001b[0m \u001b[0mretcode\u001b[0m\u001b[0;34m:\u001b[0m\u001b[0;34m\u001b[0m\u001b[0;34m\u001b[0m\u001b[0m\n\u001b[1;32m    511\u001b[0m             raise CalledProcessError(retcode, process.args,\n\u001b[0;32m--> 512\u001b[0;31m                                      output=stdout, stderr=stderr)\n\u001b[0m\u001b[1;32m    513\u001b[0m     \u001b[0;32mreturn\u001b[0m \u001b[0mCompletedProcess\u001b[0m\u001b[0;34m(\u001b[0m\u001b[0mprocess\u001b[0m\u001b[0;34m.\u001b[0m\u001b[0margs\u001b[0m\u001b[0;34m,\u001b[0m \u001b[0mretcode\u001b[0m\u001b[0;34m,\u001b[0m \u001b[0mstdout\u001b[0m\u001b[0;34m,\u001b[0m \u001b[0mstderr\u001b[0m\u001b[0;34m)\u001b[0m\u001b[0;34m\u001b[0m\u001b[0;34m\u001b[0m\u001b[0m\n\u001b[1;32m    514\u001b[0m \u001b[0;34m\u001b[0m\u001b[0m\n",
      "\u001b[0;31mCalledProcessError\u001b[0m: Command '['trec_eval', '-q', '-m', 'recall.20,100', '-m', 'ndcg', '-m', 'recip_rank', '-m', 'set_P', '-m', 'set_recall', '-m', 'relstring.20', '-m', 'set_F..5', '-l', '1', '/home/danlocke/go/src/github.com/dan-locke/phd-data/aus/filtered-qrels.txt', './combmax-tmp.run']' returned non-zero exit status 2."
     ]
    }
   ],
   "source": [
    "comb_method_dfs = load_dfs(config.AUS_QREL_PATH, config.AUS_REL_LEVEL, '.', ['{0}-tmp.run'.format(x) for x in comb_method])\n",
    "print(pd.DataFrame.from_dict({k: comb_method_dfs[i] for i, k in enumerate(comb_method)}))"
   ]
  },
  {
   "cell_type": "code",
   "execution_count": 36,
   "metadata": {},
   "outputs": [
    {
     "ename": "CalledProcessError",
     "evalue": "Command '['trec_eval', '-q', '-m', 'recall.20,100', '-m', 'ndcg', '-m', 'recip_rank', '-m', 'set_P', '-m', 'set_recall', '-m', 'relstring.20', '-m', 'set_F..5', '-l', '1', '/home/danlocke/go/src/github.com/dan-locke/phd-data/aus/filtered-qrels.txt', './minmax-tmp.run']' returned non-zero exit status 2.",
     "output_type": "error",
     "traceback": [
      "\u001b[0;31m---------------------------------------------------------------------------\u001b[0m",
      "\u001b[0;31mCalledProcessError\u001b[0m                        Traceback (most recent call last)",
      "\u001b[0;32m<ipython-input-36-0f1a6478090f>\u001b[0m in \u001b[0;36m<module>\u001b[0;34m\u001b[0m\n\u001b[1;32m      5\u001b[0m     \u001b[0mf\u001b[0m\u001b[0;34m.\u001b[0m\u001b[0mclose\u001b[0m\u001b[0;34m(\u001b[0m\u001b[0;34m)\u001b[0m\u001b[0;34m\u001b[0m\u001b[0;34m\u001b[0m\u001b[0m\n\u001b[1;32m      6\u001b[0m \u001b[0;34m\u001b[0m\u001b[0m\n\u001b[0;32m----> 7\u001b[0;31m \u001b[0mnorm_type_dfs\u001b[0m \u001b[0;34m=\u001b[0m \u001b[0mload_dfs\u001b[0m\u001b[0;34m(\u001b[0m\u001b[0mconfig\u001b[0m\u001b[0;34m.\u001b[0m\u001b[0mAUS_QREL_PATH\u001b[0m\u001b[0;34m,\u001b[0m \u001b[0mconfig\u001b[0m\u001b[0;34m.\u001b[0m\u001b[0mAUS_REL_LEVEL\u001b[0m\u001b[0;34m,\u001b[0m \u001b[0;34m'.'\u001b[0m\u001b[0;34m,\u001b[0m \u001b[0;34m[\u001b[0m\u001b[0;34m'{0}-tmp.run'\u001b[0m\u001b[0;34m.\u001b[0m\u001b[0mformat\u001b[0m\u001b[0;34m(\u001b[0m\u001b[0mx\u001b[0m\u001b[0;34m)\u001b[0m \u001b[0;32mfor\u001b[0m \u001b[0mx\u001b[0m \u001b[0;32min\u001b[0m \u001b[0mnorm_type\u001b[0m\u001b[0;34m]\u001b[0m\u001b[0;34m)\u001b[0m\u001b[0;34m\u001b[0m\u001b[0;34m\u001b[0m\u001b[0m\n\u001b[0m\u001b[1;32m      8\u001b[0m \u001b[0mprint\u001b[0m\u001b[0;34m(\u001b[0m\u001b[0mpd\u001b[0m\u001b[0;34m.\u001b[0m\u001b[0mDataFrame\u001b[0m\u001b[0;34m.\u001b[0m\u001b[0mfrom_dict\u001b[0m\u001b[0;34m(\u001b[0m\u001b[0;34m{\u001b[0m\u001b[0mk\u001b[0m\u001b[0;34m:\u001b[0m \u001b[0mnorm_type_dfs\u001b[0m\u001b[0;34m[\u001b[0m\u001b[0mi\u001b[0m\u001b[0;34m]\u001b[0m \u001b[0;32mfor\u001b[0m \u001b[0mi\u001b[0m\u001b[0;34m,\u001b[0m \u001b[0mk\u001b[0m \u001b[0;32min\u001b[0m \u001b[0menumerate\u001b[0m\u001b[0;34m(\u001b[0m\u001b[0mnorm_type\u001b[0m\u001b[0;34m)\u001b[0m\u001b[0;34m}\u001b[0m\u001b[0;34m)\u001b[0m\u001b[0;34m)\u001b[0m\u001b[0;34m\u001b[0m\u001b[0;34m\u001b[0m\u001b[0m\n",
      "\u001b[0;32m~/src/phd-notebooks/plotlib/loaders.py\u001b[0m in \u001b[0;36mload_dfs\u001b[0;34m(qrel_path, rel_level, results_path, names, per_query, filtered)\u001b[0m\n\u001b[1;32m     81\u001b[0m     \u001b[0mdfs\u001b[0m \u001b[0;34m=\u001b[0m \u001b[0;34m[\u001b[0m\u001b[0;34m]\u001b[0m\u001b[0;34m\u001b[0m\u001b[0;34m\u001b[0m\u001b[0m\n\u001b[1;32m     82\u001b[0m     \u001b[0;32mfor\u001b[0m \u001b[0mn\u001b[0m \u001b[0;32min\u001b[0m \u001b[0mnames\u001b[0m\u001b[0;34m:\u001b[0m\u001b[0;34m\u001b[0m\u001b[0;34m\u001b[0m\u001b[0m\n\u001b[0;32m---> 83\u001b[0;31m         \u001b[0mdfs\u001b[0m\u001b[0;34m.\u001b[0m\u001b[0mappend\u001b[0m\u001b[0;34m(\u001b[0m\u001b[0mto_trec_df\u001b[0m\u001b[0;34m(\u001b[0m\u001b[0mqrel_path\u001b[0m\u001b[0;34m,\u001b[0m \u001b[0mos\u001b[0m\u001b[0;34m.\u001b[0m\u001b[0mpath\u001b[0m\u001b[0;34m.\u001b[0m\u001b[0mjoin\u001b[0m\u001b[0;34m(\u001b[0m\u001b[0mresults_path\u001b[0m\u001b[0;34m,\u001b[0m \u001b[0mn\u001b[0m\u001b[0;34m)\u001b[0m\u001b[0;34m,\u001b[0m \u001b[0mrel_level\u001b[0m\u001b[0;34m,\u001b[0m \u001b[0mper_query\u001b[0m\u001b[0;34m,\u001b[0m \u001b[0mfiltered\u001b[0m\u001b[0;34m)\u001b[0m\u001b[0;34m)\u001b[0m\u001b[0;34m\u001b[0m\u001b[0;34m\u001b[0m\u001b[0m\n\u001b[0m\u001b[1;32m     84\u001b[0m \u001b[0;34m\u001b[0m\u001b[0m\n\u001b[1;32m     85\u001b[0m     \u001b[0;32mreturn\u001b[0m \u001b[0mdfs\u001b[0m\u001b[0;34m\u001b[0m\u001b[0;34m\u001b[0m\u001b[0m\n",
      "\u001b[0;32m~/src/phd-notebooks/plotlib/trec_df.py\u001b[0m in \u001b[0;36mto_trec_df\u001b[0;34m(qrel_path, res_path, rel_level, per_query, filtered)\u001b[0m\n\u001b[1;32m     62\u001b[0m \u001b[0;34m\u001b[0m\u001b[0m\n\u001b[1;32m     63\u001b[0m \u001b[0;32mdef\u001b[0m \u001b[0mto_trec_df\u001b[0m\u001b[0;34m(\u001b[0m\u001b[0mqrel_path\u001b[0m\u001b[0;34m:\u001b[0m \u001b[0mstr\u001b[0m\u001b[0;34m,\u001b[0m \u001b[0mres_path\u001b[0m\u001b[0;34m:\u001b[0m \u001b[0mstr\u001b[0m\u001b[0;34m,\u001b[0m \u001b[0mrel_level\u001b[0m\u001b[0;34m=\u001b[0m\u001b[0;34m'1'\u001b[0m\u001b[0;34m,\u001b[0m \u001b[0mper_query\u001b[0m\u001b[0;34m=\u001b[0m\u001b[0;32mFalse\u001b[0m\u001b[0;34m,\u001b[0m \u001b[0mfiltered\u001b[0m\u001b[0;34m=\u001b[0m\u001b[0;32mNone\u001b[0m\u001b[0;34m)\u001b[0m\u001b[0;34m:\u001b[0m\u001b[0;34m\u001b[0m\u001b[0;34m\u001b[0m\u001b[0m\n\u001b[0;32m---> 64\u001b[0;31m     \u001b[0mresults\u001b[0m \u001b[0;34m=\u001b[0m \u001b[0mprocess\u001b[0m\u001b[0;34m(\u001b[0m\u001b[0;34m[\u001b[0m\u001b[0;34m'trec_eval'\u001b[0m\u001b[0;34m,\u001b[0m \u001b[0;34m'-q'\u001b[0m\u001b[0;34m,\u001b[0m \u001b[0;34m'-m'\u001b[0m\u001b[0;34m,\u001b[0m \u001b[0;34m'recall.20,100'\u001b[0m\u001b[0;34m,\u001b[0m \u001b[0;34m'-m'\u001b[0m\u001b[0;34m,\u001b[0m \u001b[0;34m'ndcg'\u001b[0m\u001b[0;34m,\u001b[0m \u001b[0;34m'-m'\u001b[0m\u001b[0;34m,\u001b[0m \u001b[0;34m'recip_rank'\u001b[0m\u001b[0;34m,\u001b[0m \u001b[0;34m'-m'\u001b[0m\u001b[0;34m,\u001b[0m \u001b[0;34m'set_P'\u001b[0m\u001b[0;34m,\u001b[0m \u001b[0;34m'-m'\u001b[0m\u001b[0;34m,\u001b[0m \u001b[0;34m'set_recall'\u001b[0m\u001b[0;34m,\u001b[0m \u001b[0;34m'-m'\u001b[0m\u001b[0;34m,\u001b[0m \u001b[0;34m'relstring.20'\u001b[0m\u001b[0;34m,\u001b[0m \u001b[0;34m'-m'\u001b[0m\u001b[0;34m,\u001b[0m \u001b[0;34m'set_F..5'\u001b[0m\u001b[0;34m,\u001b[0m \u001b[0;34m'-l'\u001b[0m\u001b[0;34m,\u001b[0m \u001b[0mrel_level\u001b[0m\u001b[0;34m,\u001b[0m \u001b[0mqrel_path\u001b[0m\u001b[0;34m,\u001b[0m \u001b[0mres_path\u001b[0m\u001b[0;34m]\u001b[0m\u001b[0;34m)\u001b[0m\u001b[0;34m\u001b[0m\u001b[0;34m\u001b[0m\u001b[0m\n\u001b[0m\u001b[1;32m     65\u001b[0m     \u001b[0mdf\u001b[0m \u001b[0;34m=\u001b[0m \u001b[0mpd\u001b[0m\u001b[0;34m.\u001b[0m\u001b[0mDataFrame\u001b[0m\u001b[0;34m.\u001b[0m\u001b[0mfrom_dict\u001b[0m\u001b[0;34m(\u001b[0m\u001b[0mresults\u001b[0m\u001b[0;34m,\u001b[0m \u001b[0morient\u001b[0m\u001b[0;34m=\u001b[0m\u001b[0;34m'index'\u001b[0m\u001b[0;34m)\u001b[0m\u001b[0;34m\u001b[0m\u001b[0;34m\u001b[0m\u001b[0m\n\u001b[1;32m     66\u001b[0m \u001b[0;34m\u001b[0m\u001b[0m\n",
      "\u001b[0;32m~/src/phd-notebooks/plotlib/trec_df.py\u001b[0m in \u001b[0;36mprocess\u001b[0;34m(args)\u001b[0m\n\u001b[1;32m      6\u001b[0m \u001b[0;34m\u001b[0m\u001b[0m\n\u001b[1;32m      7\u001b[0m \u001b[0;32mdef\u001b[0m \u001b[0mprocess\u001b[0m\u001b[0;34m(\u001b[0m\u001b[0margs\u001b[0m\u001b[0;34m)\u001b[0m\u001b[0;34m:\u001b[0m\u001b[0;34m\u001b[0m\u001b[0;34m\u001b[0m\u001b[0m\n\u001b[0;32m----> 8\u001b[0;31m     \u001b[0mres\u001b[0m \u001b[0;34m=\u001b[0m \u001b[0msubprocess\u001b[0m\u001b[0;34m.\u001b[0m\u001b[0mcheck_output\u001b[0m\u001b[0;34m(\u001b[0m\u001b[0margs\u001b[0m\u001b[0;34m)\u001b[0m\u001b[0;34m\u001b[0m\u001b[0;34m\u001b[0m\u001b[0m\n\u001b[0m\u001b[1;32m      9\u001b[0m     \u001b[0mresults\u001b[0m \u001b[0;34m=\u001b[0m \u001b[0;34m{\u001b[0m\u001b[0;34m}\u001b[0m\u001b[0;34m\u001b[0m\u001b[0;34m\u001b[0m\u001b[0m\n\u001b[1;32m     10\u001b[0m \u001b[0;34m\u001b[0m\u001b[0m\n",
      "\u001b[0;32m/usr/lib/python3.7/subprocess.py\u001b[0m in \u001b[0;36mcheck_output\u001b[0;34m(timeout, *popenargs, **kwargs)\u001b[0m\n\u001b[1;32m    409\u001b[0m \u001b[0;34m\u001b[0m\u001b[0m\n\u001b[1;32m    410\u001b[0m     return run(*popenargs, stdout=PIPE, timeout=timeout, check=True,\n\u001b[0;32m--> 411\u001b[0;31m                **kwargs).stdout\n\u001b[0m\u001b[1;32m    412\u001b[0m \u001b[0;34m\u001b[0m\u001b[0m\n\u001b[1;32m    413\u001b[0m \u001b[0;34m\u001b[0m\u001b[0m\n",
      "\u001b[0;32m/usr/lib/python3.7/subprocess.py\u001b[0m in \u001b[0;36mrun\u001b[0;34m(input, capture_output, timeout, check, *popenargs, **kwargs)\u001b[0m\n\u001b[1;32m    510\u001b[0m         \u001b[0;32mif\u001b[0m \u001b[0mcheck\u001b[0m \u001b[0;32mand\u001b[0m \u001b[0mretcode\u001b[0m\u001b[0;34m:\u001b[0m\u001b[0;34m\u001b[0m\u001b[0;34m\u001b[0m\u001b[0m\n\u001b[1;32m    511\u001b[0m             raise CalledProcessError(retcode, process.args,\n\u001b[0;32m--> 512\u001b[0;31m                                      output=stdout, stderr=stderr)\n\u001b[0m\u001b[1;32m    513\u001b[0m     \u001b[0;32mreturn\u001b[0m \u001b[0mCompletedProcess\u001b[0m\u001b[0;34m(\u001b[0m\u001b[0mprocess\u001b[0m\u001b[0;34m.\u001b[0m\u001b[0margs\u001b[0m\u001b[0;34m,\u001b[0m \u001b[0mretcode\u001b[0m\u001b[0;34m,\u001b[0m \u001b[0mstdout\u001b[0m\u001b[0;34m,\u001b[0m \u001b[0mstderr\u001b[0m\u001b[0;34m)\u001b[0m\u001b[0;34m\u001b[0m\u001b[0;34m\u001b[0m\u001b[0m\n\u001b[1;32m    514\u001b[0m \u001b[0;34m\u001b[0m\u001b[0m\n",
      "\u001b[0;31mCalledProcessError\u001b[0m: Command '['trec_eval', '-q', '-m', 'recall.20,100', '-m', 'ndcg', '-m', 'recip_rank', '-m', 'set_P', '-m', 'set_recall', '-m', 'relstring.20', '-m', 'set_F..5', '-l', '1', '/home/danlocke/go/src/github.com/dan-locke/phd-data/aus/filtered-qrels.txt', './minmax-tmp.run']' returned non-zero exit status 2."
     ]
    }
   ],
   "source": [
    "norm_type = ['minmax', 'std', 'sum', 'minsum']\n",
    "for nt in norm_type: \n",
    "    f = open(\"{0}-tmp.run\".format(nt), \"w\")\n",
    "    subprocess.call(['polyfuse', 'combmax', '-n', nt] + runs, stdout=f)\n",
    "    f.close()\n",
    "    \n",
    "norm_type_dfs = load_dfs(config.AUS_QREL_PATH, config.AUS_REL_LEVEL, '.', ['{0}-tmp.run'.format(x) for x in norm_type])\n",
    "print(pd.DataFrame.from_dict({k: norm_type_dfs[i] for i, k in enumerate(norm_type)}))"
   ]
  },
  {
   "cell_type": "code",
   "execution_count": 12,
   "metadata": {},
   "outputs": [],
   "source": [
    "def get_num_results(path: str):\n",
    "    res = {}\n",
    "    with open(path) as f:\n",
    "        for line in f:\n",
    "            topic = line.split()[0]\n",
    "            v = res.get(topic, 0)\n",
    "            res[topic] = v + 1\n",
    "                \n",
    "    return res"
   ]
  },
  {
   "cell_type": "code",
   "execution_count": 13,
   "metadata": {},
   "outputs": [
    {
     "data": {
      "text/plain": [
       "{'1': 81,\n",
       " '2': 115,\n",
       " '9': 6046,\n",
       " '10': 6046,\n",
       " '17': 145,\n",
       " '35': 39,\n",
       " '47': 1593,\n",
       " '54': 6046,\n",
       " '55': 96,\n",
       " '60': 95,\n",
       " '61': 102,\n",
       " '77': 692,\n",
       " '78': 692,\n",
       " '86': 333,\n",
       " '87': 333,\n",
       " '88': 457,\n",
       " '89': 457,\n",
       " '96': 91,\n",
       " '97': 31,\n",
       " '103': 205,\n",
       " '104': 205}"
      ]
     },
     "execution_count": 13,
     "metadata": {},
     "output_type": "execute_result"
    }
   ],
   "source": [
    "# get_num_results(os.path.join('/home/danlocke/phd-generated/legislative/', 'case-topics-leg-exp.run'))"
   ]
  },
  {
   "cell_type": "code",
   "execution_count": 62,
   "metadata": {},
   "outputs": [
    {
     "data": {
      "text/plain": [
       "{'14': 31135,\n",
       " '16': 46807,\n",
       " '18': 34744,\n",
       " '20': 11552,\n",
       " '26': 29603,\n",
       " '30': 32583,\n",
       " '31': 36319,\n",
       " '36': 12118,\n",
       " '38': 41085,\n",
       " '40': 37361,\n",
       " '42': 23058,\n",
       " '48': 31855,\n",
       " '51': 28337,\n",
       " '56': 16271,\n",
       " '63': 49538,\n",
       " '66': 35510,\n",
       " '72': 19829,\n",
       " '79': 39939,\n",
       " '92': 39840,\n",
       " '106': 24429,\n",
       " '119': 39774,\n",
       " '120': 44638,\n",
       " '121': 47314,\n",
       " '122': 50168,\n",
       " '123': 43030,\n",
       " '124': 47684,\n",
       " '125': 52388,\n",
       " '127': 49601,\n",
       " '128': 32738,\n",
       " '129': 52254,\n",
       " '130': 34914,\n",
       " '131': 50825,\n",
       " '133': 51241,\n",
       " '134': 3901,\n",
       " '135': 42452,\n",
       " '136': 31339,\n",
       " '137': 51718,\n",
       " '138': 51382,\n",
       " '139': 43415}"
      ]
     },
     "execution_count": 62,
     "metadata": {},
     "output_type": "execute_result"
    }
   ],
   "source": [
    "# get_num_results(os.path.join('/home/danlocke/phd-generated/legislative/', 'legislative-queries-flattened-unigram_dir_mu_2400.00.run'))\n",
    "\n",
    "# clear files"
   ]
  },
  {
   "cell_type": "code",
   "execution_count": 37,
   "metadata": {},
   "outputs": [],
   "source": [
    "def load_prf(path: str): \n",
    "    with open(path) as f:\n",
    "        data = json.load(f)\n",
    "        return data\n",
    "        \n",
    "prf_data = load_prf('/home/danlocke/go/src/github.com/dan-locke/phd/leg-prf/leg-prf.json')"
   ]
  },
  {
   "cell_type": "code",
   "execution_count": 38,
   "metadata": {},
   "outputs": [],
   "source": [
    "secs = []\n",
    "legs = []\n",
    "for i in range(0, 4):\n",
    "    secs.append([])\n",
    "    legs.append([])\n",
    "\n",
    "for section in prf_data['sections']:\n",
    "    q_leg = set()\n",
    "    q_sec = []\n",
    "    \n",
    "    if section in prf_data['Found']:\n",
    "        q_leg = set(prf_data['Found'][section][0])\n",
    "        if prf_data['Found'][section][1] is not None:\n",
    "            q_sec = set(prf_data['Found'][section][1])\n",
    "    \n",
    "    for i in range(0, 4):\n",
    "        if prf_data['legislation'][section][i] is None:\n",
    "            continue\n",
    "            \n",
    "        for l in prf_data['legislation'][section][i].items():\n",
    "            if l[0] == 'act' or l[0] == 'acts':\n",
    "                continue\n",
    "            legs[i].append((section, l[0], l[1], l[0] in q_leg))\n",
    "            \n",
    "        for s in prf_data['sections'][section][i].items():\n",
    "            secs[i].append((section, s[0], s[1], s[0] in q_sec))\n",
    "\n",
    "#         legs = sorted(prf_data['legislation'][section][i].items(), key=lambda x: x[1], reverse=True)\n",
    "#         secs = sorted(prf_data['sections'][section][i].items(), key=lambda x: x[1], reverse=True)\n",
    "                    \n",
    "    \n",
    "#     break"
   ]
  },
  {
   "cell_type": "code",
   "execution_count": 39,
   "metadata": {},
   "outputs": [
    {
     "name": "stdout",
     "output_type": "stream",
     "text": [
      "dict_keys(['1', '10', '103', '104', '106', '119', '14', '16', '17', '18', '2', '20', '26', '30', '31', '35', '36', '38', '40', '42', '47', '48', '51', '54', '55', '56', '60', '61', '63', '66', '77', '78', '79', '86', '87', '88', '89', '9', '92', '96', '97'])\n",
      "{'72'}\n",
      "42\n",
      "dict_keys(['1', '10', '103', '104', '106', '119', '14', '16', '17', '18', '2', '20', '26', '30', '31', '35', '36', '38', '40', '42', '47', '48', '51', '54', '55', '56', '60', '61', '63', '66', '72', '77', '78', '79', '86', '87', '88', '89', '9', '92', '96', '97'])\n"
     ]
    }
   ],
   "source": [
    "print(prf_data['Found'].keys())\n",
    "print(set(prf_data['sections'].keys()).difference(set(prf_data['Found'].keys())))\n",
    "print(len(prf_data['sections'].keys()))\n",
    "print(prf_data['legislation'].keys())"
   ]
  },
  {
   "cell_type": "code",
   "execution_count": 40,
   "metadata": {},
   "outputs": [
    {
     "data": {
      "application/pdf": "[encoded data removed]",
      "text/plain": [
       "<Figure size 1152x288 with 1 Axes>"
      ]
     },
     "metadata": {},
     "output_type": "display_data"
    }
   ],
   "source": [
    "sec_df = pd.DataFrame(data=secs[0], columns=['query', 'item', 'count', 'in_query'])\n",
    "f, ax = plt.subplots(1)\n",
    "sec_scatter = sns.scatterplot(x='count', y='query',\n",
    "              hue='in_query',\n",
    "              data=sec_df)\n",
    "\n",
    "f.set_size_inches(16, 4)\n",
    "ax.set_xlabel('Frequency', fontsize=15)\n",
    "ax.axes.yaxis.set_visible(False)\n",
    "ax.axes.tick_params(labelsize=12)\n",
    "ax.axes.yaxis.set_visible(False)\n",
    "ax.get_legend().remove()\n",
    "f.savefig('figures/aus-sec-prf.pdf')"
   ]
  },
  {
   "cell_type": "code",
   "execution_count": 41,
   "metadata": {},
   "outputs": [
    {
     "data": {
      "application/pdf": "[encoded data removed]",
      "text/plain": [
       "<Figure size 1152x288 with 1 Axes>"
      ]
     },
     "metadata": {},
     "output_type": "display_data"
    }
   ],
   "source": [
    "leg_df = pd.DataFrame(data=legs[0], columns=['query', 'item', 'count', 'in_query'])\n",
    "f, ax = plt.subplots(1)\n",
    "leg_scatter = sns.scatterplot(x='count', y='query',\n",
    "              hue='in_query',\n",
    "              data=leg_df, ax=ax)\n",
    "\n",
    "f.set_size_inches(16, 4)\n",
    "# ax.axes.xaxis.set_visible(False)\n",
    "ax.set_xlabel('Frequency', fontsize=15)\n",
    "ax.axes.yaxis.set_visible(False)\n",
    "ax.axes.tick_params(labelsize=12)\n",
    "ax.get_legend().remove()\n",
    "f.savefig('figures/aus-leg-prf.pdf')"
   ]
  },
  {
   "cell_type": "code",
   "execution_count": null,
   "metadata": {},
   "outputs": [],
   "source": []
  }
 ],
 "metadata": {
  "kernelspec": {
   "display_name": "Python 3",
   "language": "python",
   "name": "python3"
  },
  "language_info": {
   "codemirror_mode": {
    "name": "ipython",
    "version": 3
   },
   "file_extension": ".py",
   "mimetype": "text/x-python",
   "name": "python",
   "nbconvert_exporter": "python",
   "pygments_lexer": "ipython3",
   "version": "3.8.10"
  }
 },
 "nbformat": 4,
 "nbformat_minor": 4
}
