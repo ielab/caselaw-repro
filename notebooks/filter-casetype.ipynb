{
 "cells": [
  {
   "cell_type": "code",
   "execution_count": 1,
   "metadata": {},
   "outputs": [],
   "source": [
    "from plotlib.loaders import *\n",
    "from plotlib.plotters import *\n",
    "\n",
    "from phdconf import stop\n",
    "from phdconf import config \n",
    "\n",
    "import os"
   ]
  },
  {
   "cell_type": "code",
   "execution_count": 2,
   "metadata": {},
   "outputs": [],
   "source": [
    "queries = load_queries(config.AUS_TOPIC_PATH)"
   ]
  },
  {
   "cell_type": "code",
   "execution_count": 3,
   "metadata": {},
   "outputs": [],
   "source": [
    "# make crim queries different colour in plots \n",
    "s = {43, 44, 45, 46, 114}\n",
    "for k, v in queries.items():\n",
    "    v['type'] = 'specific' if k in s else 'broad'\n",
    "#     if k == 44 or k == 93:\n",
    "#         v['type'] = 'general'\n",
    "    queries[k] = v"
   ]
  },
  {
   "cell_type": "code",
   "execution_count": 4,
   "metadata": {},
   "outputs": [],
   "source": [
    "BASE_DIR = os.path.join(os.environ[\"HOME\"], 'phd-generated')\n",
    "\n",
    "index_names = ['filtered-phrasestop']#, config.SIGIR_INDEX_NAME]\n",
    "qrel_paths = [config.AUS_QREL_PATH]#, config.SIGIR_QREL_PATH]\n",
    "rel_levels = [config.AUS_REL_LEVEL]#, config.SIGIR_REL_LEVEL]\n",
    "display_names = ['aus']#, 'SIGIR']\n",
    "\n",
    "mu = 1050\n",
    "\n",
    "base_df = load_1d_dfs(index_names, qrel_paths, os.path.join(BASE_DIR, 'preprocessing', 'dirichlet_prior'), 'case-topics-{0}-unigram_dir_mu_{1:.2f}.run', rel_levels, mu, mu, 1)[0][0]\n",
    "base_query_df = load_1d_dfs(index_names, qrel_paths, os.path.join(BASE_DIR, 'preprocessing', 'dirichlet_prior'), 'case-topics-{0}-unigram_dir_mu_{1:.2f}.run', rel_levels, mu, mu, 1, per_query=True)[0][0]"
   ]
  },
  {
   "cell_type": "code",
   "execution_count": 5,
   "metadata": {},
   "outputs": [],
   "source": [
    "runs = ['case-topics-crim-cases-{0}.run'.format(x) for x in ['in', 'out', 'all']]\n",
    "run_dfs = load_dfs(config.AUS_QREL_PATH, config.AUS_REL_LEVEL, os.path.join(BASE_DIR, \"boosted\"), runs, per_query=True)"
   ]
  },
  {
   "cell_type": "code",
   "execution_count": 6,
   "metadata": {},
   "outputs": [],
   "source": [
    "# excluding crim cases \n",
    "# plot_diff(run_dfs[1], base_query_df[0][0], config.METRIC_NAMES, queries)"
   ]
  },
  {
   "cell_type": "code",
   "execution_count": 7,
   "metadata": {},
   "outputs": [],
   "source": [
    "def get_diff(a, b, metric):\n",
    "    diff = a-b\n",
    "    print(diff[diff[metric] != 0.0][metric].sort_values())\n",
    "\n",
    "# get_diff(run_dfs[1], base_query_df[0][0], 'rbp@0.80')"
   ]
  },
  {
   "cell_type": "code",
   "execution_count": 8,
   "metadata": {},
   "outputs": [],
   "source": [
    "def get_num_diff(a, b, metrics):\n",
    "    diff = a-b\n",
    "    diff = diff.astype(bool).sum(axis=0)/len(diff)\n",
    "    print(diff[diff.index.isin(metrics)].rename(metrics).round(4).to_latex())\n",
    "    \n",
    "# get_num_diff(run_dfs[0], base_query_df[0][0], config.METRIC_NAMES)"
   ]
  },
  {
   "cell_type": "code",
   "execution_count": 9,
   "metadata": {},
   "outputs": [
    {
     "name": "stdout",
     "output_type": "stream",
     "text": [
      "crim [43, 44, 45, 46, 59, 64, 71, 104, 114, 117]\n",
      "0.3087718754021768\n",
      "nan\n",
      "0.173841320647987\n",
      "0.32018252154415255\n",
      "0.5659925109462917\n",
      "0.6300607215477304\n",
      "RR        0.001004\n",
      "ERR@20   -0.002994\n",
      "R@20     -0.002312\n",
      "R@100    -0.001471\n",
      "NDCG     -0.001364\n",
      "RBP      -0.000732\n",
      "dtype: float64\n",
      "costs [49, 64, 77, 78, 85, 86, 87, 116]\n"
     ]
    },
    {
     "name": "stderr",
     "output_type": "stream",
     "text": [
      "/home/danlocke/.local/lib/python3.7/site-packages/numpy/core/_asarray.py:83: VisibleDeprecationWarning: Creating an ndarray from ragged nested sequences (which is a list-or-tuple of lists-or-tuples-or ndarrays with different lengths or shapes) is deprecated. If you meant to do this, you must specify 'dtype=object' when creating the ndarray\n",
      "  return array(a, dtype, copy=False, order=order)\n"
     ]
    },
    {
     "name": "stdout",
     "output_type": "stream",
     "text": [
      "0.24044399341519432\n",
      "nan\n",
      "0.0523150685685479\n",
      "0.0047109546366402005\n",
      "0.04684009696383688\n",
      "0.5913769632150621\n",
      "RR        0.003544\n",
      "ERR@20   -0.003994\n",
      "R@20     -0.014380\n",
      "R@100    -0.031253\n",
      "NDCG     -0.009948\n",
      "RBP       0.001500\n",
      "dtype: float64\n"
     ]
    },
    {
     "name": "stderr",
     "output_type": "stream",
     "text": [
      "/home/danlocke/.local/lib/python3.7/site-packages/numpy/core/_asarray.py:83: VisibleDeprecationWarning: Creating an ndarray from ragged nested sequences (which is a list-or-tuple of lists-or-tuples-or ndarrays with different lengths or shapes) is deprecated. If you meant to do this, you must specify 'dtype=object' when creating the ndarray\n",
      "  return array(a, dtype, copy=False, order=order)\n"
     ]
    },
    {
     "data": {
      "application/pdf": "[encoded data removed]",
      "text/plain": [
       "<Figure size 1152x288 with 1 Axes>"
      ]
     },
     "metadata": {},
     "output_type": "display_data"
    },
    {
     "data": {
      "application/pdf": "[encoded data removed]",
      "text/plain": [
       "<Figure size 1152x288 with 1 Axes>"
      ]
     },
     "metadata": {},
     "output_type": "display_data"
    }
   ],
   "source": [
    "import copy\n",
    "\n",
    "metrics = copy.copy(config.METRIC_NAMES)\n",
    "del metrics['unjudged@20']\n",
    "\n",
    "exclude_crim = [43, 44, 45, 46, 59, 64, 71, 104, 114, 117]\n",
    "exclude_costs = [49, 64, 77, 78, 85, 86, 87, 116]\n",
    "\n",
    "for r, ex in zip(['crim', 'costs'], [exclude_crim, exclude_costs]):\n",
    "    print(r, ex)\n",
    "    runs = ['case-topics-{0}-cases-{1}.run'.format(r, x) for x in ['in', 'out', 'all']]\n",
    "    run_dfs = load_dfs(config.AUS_QREL_PATH, config.AUS_REL_LEVEL, os.path.join(BASE_DIR, \"boosted\"), runs, per_query=True)\n",
    "    b = base_query_df.iloc[~(base_query_df.index.isin(ex))]\n",
    "    a = run_dfs[1].iloc[~(run_dfs[1].index.isin(ex))]\n",
    "    diff = a-b\n",
    "    for m in metrics:\n",
    "        print(stats.ttest_rel(a[m].values, b[m].values).pvalue)\n",
    "    print(diff[metrics].rename(metrics, axis='columns').mean())\n",
    "    fig = diff[metrics].rename(metrics, axis='columns').plot.box(fontsize=15, boxprops=dict(linestyle='-', linewidth=2), medianprops=dict(linestyle='-', linewidth=2), color=dict(boxes='black', whiskers='black', medians='b', caps='r'), figsize=(16, 4)).axhline(y=0, xmin=0.0, xmax=1.0, linestyle='--', linewidth=1.0, color='grey')\n",
    "    fig.get_figure().savefig('figures/ausnl-{0}-filtered.pdf'.format(r))"
   ]
  },
  {
   "cell_type": "code",
   "execution_count": 10,
   "metadata": {},
   "outputs": [
    {
     "name": "stdout",
     "output_type": "stream",
     "text": [
      "Series([], Name: recip_rank, dtype: float64)\n",
      "11   NaN\n",
      "Name: err@20, dtype: float64\n",
      "Series([], Name: recall_20, dtype: float64)\n",
      "Series([], Name: recall_100, dtype: float64)\n",
      "Series([], Name: ndcg, dtype: float64)\n",
      "Series([], Name: rbp@0.80, dtype: float64)\n"
     ]
    }
   ],
   "source": [
    "for m in metrics:\n",
    "    print(b[b[m].isnull()][m])"
   ]
  },
  {
   "cell_type": "code",
   "execution_count": 11,
   "metadata": {},
   "outputs": [
    {
     "name": "stdout",
     "output_type": "stream",
     "text": [
      "74 0 2016QSC92 3\n"
     ]
    }
   ],
   "source": [
    "with open('/home/danlocke/go/src/github.com/dan-locke/phd-data/aus/comb-aus.txt') as f:\n",
    "    for line in f:\n",
    "        parts = line.split()\n",
    "        if (parts[0] == '11' or parts[0] == '74') and parts[3] != \"0\":\n",
    "            print(line.strip())"
   ]
  },
  {
   "cell_type": "code",
   "execution_count": 12,
   "metadata": {},
   "outputs": [
    {
     "name": "stdout",
     "output_type": "stream",
     "text": [
      "0.0010035294117647056\n",
      "-0.0029941666666666667\n",
      "-0.002311764705882353\n",
      "-0.0014705882352941176\n",
      "-0.0013635294117647044\n",
      "-0.0007317647058823536\n",
      "0.0035436781609195396\n",
      "-0.003993837209302326\n",
      "-0.014380459770114944\n",
      "-0.03125287356321839\n",
      "-0.009948275862068964\n",
      "0.0014999999999999961\n"
     ]
    }
   ],
   "source": [
    "def get_diff_av_exclude(a, b, metrics, exclude):\n",
    "    diff = a-b\n",
    "    diff = diff[metrics]\n",
    "    diff = diff.iloc[~(diff.index.isin(exclude))]\n",
    "    diff = diff.mean()\n",
    "    for m in metrics:\n",
    "        print(diff[m])\n",
    "        p = stats.ttest_rel(a[m], b[m]).pvalue\n",
    "        if p < 0.01:\n",
    "            diff[m] = \"{:.4f}\".format(diff[m]) + \"$^{**}$\"\n",
    "        elif p < 0.05:\n",
    "            diff[m] = \"{:.4f}\".format(diff[m]) + \"$^{*}$\"\n",
    "        else:\n",
    "            diff[m] = \"{:.4f}\".format(diff[m])\n",
    "    \n",
    "    return diff.rename(metrics)\n",
    "    \n",
    "# excluded_diff = get_diff_av_exclude(run_dfs[1], base_query_df, config.METRIC_NAMES, exclude_crim)\n",
    "\n",
    "metrics = copy.copy(config.METRIC_NAMES)\n",
    "del metrics['unjudged@20']\n",
    "ex_df = pd.DataFrame()\n",
    "for r, ex in zip(['crim', 'costs'], [exclude_crim, exclude_costs]):\n",
    "    runs = ['case-topics-{0}-cases-{1}.run'.format(r, x) for x in ['out']]\n",
    "    run_dfs = load_dfs(config.AUS_QREL_PATH, config.AUS_REL_LEVEL, os.path.join(BASE_DIR, \"boosted\"), runs, per_query=True)\n",
    "    diff = get_diff_av_exclude(run_dfs[0], base_query_df, metrics, ex)\n",
    "    ex_df[r] = diff"
   ]
  },
  {
   "cell_type": "code",
   "execution_count": 13,
   "metadata": {},
   "outputs": [],
   "source": [
    "# print(excluded_diff.round(4).to_latex())\n",
    "write_table('tables/filter-type', bold_max(ex_df).T.to_latex(escape=False))"
   ]
  },
  {
   "cell_type": "code",
   "execution_count": 14,
   "metadata": {},
   "outputs": [],
   "source": [
    "def read_crim_file(path: str):\n",
    "    lookup = set()\n",
    "    with open(path) as f:\n",
    "        for line in f:\n",
    "            parts = line.split()\n",
    "            if parts[1] == '1':\n",
    "                lookup.add(parts[0])\n",
    "    return lookup\n",
    "\n",
    "def count_crim_in_res_file(path: str, crim_lookup):\n",
    "    qry = {}\n",
    "    with open(path) as f:\n",
    "        for line in f: \n",
    "            parts = line.split()\n",
    "            v = qry.get(parts[0], 0)\n",
    "            if parts[2] in crim_lookup: \n",
    "                v += 1\n",
    "            qry[parts[0]] = v\n",
    "                           \n",
    "    return qry\n",
    "\n",
    "crim_lookup = read_crim_file('/home/danlocke/go/src/crim-feature-file/crim-cases.txt')\n",
    "costs_lookup = read_crim_file('/home/danlocke/go/src/crim-feature-file/costs-cases.txt')\n",
    "crim_counts = count_crim_in_res_file('/home/danlocke/phd-generated/dirichlet_prior/case-topics-filtered-stop-unigram_dir_mu_1050.00.run', crim_lookup)"
   ]
  },
  {
   "cell_type": "code",
   "execution_count": 15,
   "metadata": {},
   "outputs": [],
   "source": [
    "def find_lookup_rel(path: str, lookup):\n",
    "    potential = {}\n",
    "    with open(path) as f:\n",
    "        for line in f:\n",
    "            parts = line.split()\n",
    "            if parts[2] in lookup and parts[3] != '0':\n",
    "                if parts[0] not in potential: \n",
    "                    potential[parts[0]] = [[], []]\n",
    "                potential[parts[0]][0].append(parts[2])\n",
    "                potential[parts[0]][1].append(parts[3])\n",
    "    return potential\n",
    "                \n",
    "rel_crim = find_lookup_rel(config.AUS_QREL_PATH, crim_lookup)\n",
    "rel_costs = find_lookup_rel(config.AUS_QREL_PATH, costs_lookup)"
   ]
  },
  {
   "cell_type": "code",
   "execution_count": 16,
   "metadata": {},
   "outputs": [
    {
     "name": "stdout",
     "output_type": "stream",
     "text": [
      "42 None 9\n",
      "43 {'topic': 'equitable jurisidiction to set aside a perfected judgment in criminal case on the basis of fraud', 'type': 'specific', 'legislation_ref': None, 'focus': 'law'} 1\n",
      "44 {'topic': 'Admission of fresh or new evidence', 'type': 'specific', 'legislation_ref': None, 'focus': 'law'} 16\n",
      "45 {'topic': 'Obligation of prosecution to investigate as distinct from the obligation to disclose', 'type': 'specific', 'legislation_ref': None, 'focus': 'law'} 1\n",
      "46 {'topic': 'Whether incompetence of trial counsel is a basis for a criminal appeal', 'type': 'specific', 'legislation_ref': None, 'focus': 'law'} 23\n",
      "47 {'topic': 'Relevant considerations for an application for summary judgment in the Federal Court', 'type': 'broad', 'legislation_ref': None, 'focus': 'generic'} 1\n",
      "59 {'topic': 'motor vehicle accidents involving caravans', 'type': 'broad', 'legislation_ref': None, 'focus': 'fact'} 1\n",
      "64 {'topic': \"Non party costs against a party's solicitor\", 'type': 'broad', 'legislation_ref': None, 'focus': 'generic'} 1\n",
      "117 {'topic': 'motor vehicle accidents involving motorcycles', 'type': 'broad', 'legislation_ref': None, 'focus': 'fact'} 9\n",
      "120 None 1\n",
      "124 None 1\n",
      "125 None 1\n",
      "129 None 1\n",
      "136 None 1\n",
      "137 None 1\n",
      "114 {'topic': 'injuries to children in foster care', 'type': 'specific', 'legislation_ref': None, 'focus': 'fact'} 2\n",
      "71 {'topic': 'judicial review and unreasonableness / intelligible justification', 'type': 'broad', 'legislation_ref': None, 'focus': 'law'} 1\n",
      "104 {'topic': 'staying proceedings commenced by a person who subsequently becomes bankrupt', 'type': 'broad', 'legislation_ref': None, 'focus': 'law'} 1\n"
     ]
    }
   ],
   "source": [
    "for q, rel_docs in rel_crim.items(): \n",
    "    print(q, queries.get(int(q)), len(rel_docs[0]))\n"
   ]
  },
  {
   "cell_type": "code",
   "execution_count": 17,
   "metadata": {},
   "outputs": [
    {
     "name": "stdout",
     "output_type": "stream",
     "text": [
      "7 {'topic': 'Maintenance and champerty', 'type': 'broad', 'legislation_ref': None, 'focus': 'law'} 3\n",
      "16 None 1\n",
      "49 {'topic': 'Recovery of costs in estate litigation matters', 'type': 'broad', 'legislation_ref': None, 'focus': 'generic'} 9\n",
      "53 {'topic': 'Causation and evidentiary standards', 'type': 'broad', 'legislation_ref': None, 'focus': 'generic'} 2\n",
      "61 {'topic': 'amending pleadings after trial date set down', 'type': 'broad', 'legislation_ref': None, 'focus': 'generic'} 3\n",
      "64 {'topic': \"Non party costs against a party's solicitor\", 'type': 'broad', 'legislation_ref': None, 'focus': 'generic'} 14\n",
      "77 {'topic': 'security for costs and delay', 'type': 'broad', 'legislation_ref': None, 'focus': 'law'} 18\n",
      "78 {'topic': 'success in seeking security for costs where there has been a delay', 'type': 'broad', 'legislation_ref': None, 'focus': 'fact'} 7\n",
      "85 {'topic': 'Discretion as to costs', 'type': 'broad', 'legislation_ref': None, 'focus': 'law'} 37\n",
      "86 {'topic': 'where a document specifies the costs that a party may claim from another, is the Court bound to follow the document, or can it fix costs in its own discretion? ', 'type': 'broad', 'legislation_ref': None, 'focus': 'fact'} 9\n",
      "87 {'topic': 'where a party may be subject to an indemnity costs order for their conduct, how does this intersect with a contractual entitlement to indemnity costs', 'type': 'broad', 'legislation_ref': None, 'focus': 'fact'} 1\n",
      "92 None 3\n",
      "57 {'topic': 'Hypothetical nature of declarations', 'type': 'broad', 'legislation_ref': None, 'focus': 'law'} 4\n",
      "115 {'topic': 'is privilege waived by a client that seeks an order that their former laywer should pay costs?', 'type': 'broad', 'legislation_ref': None, 'focus': 'law'} 3\n",
      "134 None 1\n",
      "37 {'topic': 'Damages for defamation compensate for, amongst other things, emotional distress', 'type': 'broad', 'legislation_ref': None, 'focus': 'law'} 1\n",
      "19 {'topic': 'Bare trustee duties', 'type': 'broad', 'legislation_ref': None, 'focus': 'law'} 1\n",
      "104 {'topic': 'staying proceedings commenced by a person who subsequently becomes bankrupt', 'type': 'broad', 'legislation_ref': None, 'focus': 'law'} 1\n",
      "54 {'topic': 'Expectation losses and misleading or deceptive conduct', 'type': 'broad', 'legislation_ref': None, 'focus': 'fact'} 1\n",
      "47 {'topic': 'Relevant considerations for an application for summary judgment in the Federal Court', 'type': 'broad', 'legislation_ref': None, 'focus': 'generic'} 2\n",
      "116 {'topic': 'the effect of death of a party on a cause of action and costs orders', 'type': 'broad', 'legislation_ref': None, 'focus': 'law'} 1\n",
      "70 {'topic': 'Causation and reliance', 'type': 'broad', 'legislation_ref': None, 'focus': 'law'} 1\n",
      "96 {'topic': 'Litigation guardians', 'type': 'broad', 'legislation_ref': None, 'focus': 'law'} 3\n",
      "83 {'topic': 'meaning justiciable controversy', 'type': 'broad', 'legislation_ref': None, 'focus': 'law'} 1\n",
      "9 {'topic': 'In trade or commerce', 'type': 'broad', 'legislation_ref': None, 'focus': 'law'} 1\n",
      "50 {'topic': 'Right of first refusal and restraints on alienation', 'type': 'broad', 'legislation_ref': None, 'focus': 'law'} 1\n",
      "102 {'topic': 'Equitable set off', 'type': 'broad', 'legislation_ref': None, 'focus': 'law'} 2\n",
      "27 {'topic': 'Interlocutory applications and res judicata', 'type': 'broad', 'legislation_ref': None, 'focus': 'law'} 2\n",
      "90 {'topic': 'meaning of debt', 'type': 'broad', 'legislation_ref': None, 'focus': 'law'} 1\n",
      "55 {'topic': 'Redaction of documents for disclosure', 'type': 'broad', 'legislation_ref': None, 'focus': 'law'} 1\n",
      "26 None 3\n",
      "72 None 1\n",
      "97 {'topic': 'Removal of a litigation guardian', 'type': 'broad', 'legislation_ref': None, 'focus': 'law'} 1\n",
      "66 None 1\n",
      "93 {'topic': 'Contract and intention to create legal relations', 'type': 'broad', 'legislation_ref': None, 'focus': 'law'} 2\n",
      "94 {'topic': 'Whether a presumption exists against the creation of legal relations in family relationships', 'type': 'broad', 'legislation_ref': None, 'focus': 'law'} 1\n",
      "3 {'topic': 'Maintenance and champerty and the requisite degree of control', 'type': 'broad', 'legislation_ref': None, 'focus': 'law'} 1\n",
      "5 {'topic': 'Should damages be reduced according to a sum that represents betterment', 'type': 'broad', 'legislation_ref': None, 'focus': 'law'} 1\n",
      "38 None 1\n",
      "58 {'topic': 'Nunc pro tunc', 'type': 'broad', 'legislation_ref': None, 'focus': 'law'} 1\n",
      "63 None 1\n",
      "106 None 1\n",
      "48 None 2\n"
     ]
    }
   ],
   "source": [
    "\n",
    "for q, rel_docs in rel_costs.items(): \n",
    "    print(q, queries.get(int(q)), len(rel_docs[0]))"
   ]
  },
  {
   "cell_type": "code",
   "execution_count": 18,
   "metadata": {},
   "outputs": [
    {
     "data": {
      "application/pdf": "[encoded data removed]",
      "text/plain": [
       "<Figure size 1152x720 with 1 Axes>"
      ]
     },
     "metadata": {},
     "output_type": "display_data"
    }
   ],
   "source": [
    "def create_crim_count_plot(counts):\n",
    "    fig = plt.figure() \n",
    "    ax = fig.add_subplot(111)\n",
    "    fig.set_size_inches(16, 10)\n",
    "    ticks = [str(x[0]) for x in sorted(crim_counts.items(), key=lambda x: x[1], reverse=True)]\n",
    "    count_vals = sorted(crim_counts.values(), reverse=True)\n",
    "    x = [i for i in range(len(counts))]\n",
    "    ax.bar(x, count_vals)\n",
    "    ax.set_xticks(np.arange(len(x)))\n",
    "    ax.set_xticklabels(ticks, rotation=-90)\n",
    "    return fig\n",
    "\n",
    "count_plt = create_crim_count_plot(crim_counts)\n",
    "count_plt.savefig('figures/crim-counts.pdf')"
   ]
  },
  {
   "cell_type": "code",
   "execution_count": null,
   "metadata": {},
   "outputs": [],
   "source": []
  }
 ],
 "metadata": {
  "kernelspec": {
   "display_name": "Python 3",
   "language": "python",
   "name": "python3"
  },
  "language_info": {
   "codemirror_mode": {
    "name": "ipython",
    "version": 3
   },
   "file_extension": ".py",
   "mimetype": "text/x-python",
   "name": "python",
   "nbconvert_exporter": "python",
   "pygments_lexer": "ipython3",
   "version": "3.8.5"
  }
 },
 "nbformat": 4,
 "nbformat_minor": 4
}
