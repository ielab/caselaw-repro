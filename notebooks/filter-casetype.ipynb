{
 "cells": [
  {
   "cell_type": "code",
   "execution_count": null,
   "metadata": {},
   "outputs": [],
   "source": [
    "from plotlib.loaders import *\n",
    "from plotlib.plotters import *\n",
    "\n",
    "from phdconf import config\n",
    "from phdconf.config import * \n",
    "\n",
    "import os"
   ]
  },
  {
   "cell_type": "code",
   "execution_count": null,
   "metadata": {},
   "outputs": [],
   "source": [
    "queries = load_queries(config.AUS_TOPIC_PATH)"
   ]
  },
  {
   "cell_type": "code",
   "execution_count": null,
   "metadata": {},
   "outputs": [],
   "source": [
    "# make crim queries different colour in plots \n",
    "s = {43, 44, 45, 46, 114}\n",
    "for k, v in queries.items():\n",
    "    v['type'] = 'specific' if k in s else 'broad'\n",
    "#     if k == 44 or k == 93:\n",
    "#         v['type'] = 'general'\n",
    "    queries[k] = v"
   ]
  },
  {
   "cell_type": "code",
   "execution_count": null,
   "metadata": {},
   "outputs": [],
   "source": [
    "index_names = ['filtered-phrasestop']#, config.SIGIR_INDEX_NAME]\n",
    "qrel_paths = [config.AUS_QREL_PATH]#, config.SIGIR_QREL_PATH]\n",
    "rel_levels = [config.AUS_REL_LEVEL]#, config.SIGIR_REL_LEVEL]\n",
    "display_names = ['aus']#, 'SIGIR']\n",
    "\n",
    "mu = 1050\n",
    "\n",
    "base_df = load_1d_dfs(index_names, qrel_paths, os.path.join(BASE_DIR, 'preprocessing', 'dirichlet_prior'), 'case-topics-{0}-unigram_dir_mu_{1:.2f}.run', rel_levels, mu, mu, 1)[0][0]\n",
    "base_query_df = load_1d_dfs(index_names, qrel_paths, os.path.join(BASE_DIR, 'preprocessing', 'dirichlet_prior'), 'case-topics-{0}-unigram_dir_mu_{1:.2f}.run', rel_levels, mu, mu, 1, per_query=True)[0][0]"
   ]
  },
  {
   "cell_type": "code",
   "execution_count": null,
   "metadata": {},
   "outputs": [],
   "source": [
    "runs = ['case-topics-crim-cases-{0}.run'.format(x) for x in ['in', 'out', 'all']]\n",
    "run_dfs = load_dfs(config.AUS_QREL_PATH, config.AUS_REL_LEVEL, os.path.join(BASE_DIR, \"boosted\"), runs, per_query=True)"
   ]
  },
  {
   "cell_type": "code",
   "execution_count": null,
   "metadata": {},
   "outputs": [],
   "source": [
    "# excluding crim cases \n",
    "# plot_diff(run_dfs[1], base_query_df[0][0], config.METRIC_NAMES, queries)"
   ]
  },
  {
   "cell_type": "code",
   "execution_count": null,
   "metadata": {},
   "outputs": [],
   "source": [
    "def get_diff(a, b, metric):\n",
    "    diff = a-b\n",
    "    print(diff[diff[metric] != 0.0][metric].sort_values())\n",
    "\n",
    "# get_diff(run_dfs[1], base_query_df[0][0], 'rbp@0.80')"
   ]
  },
  {
   "cell_type": "code",
   "execution_count": null,
   "metadata": {},
   "outputs": [],
   "source": [
    "def get_num_diff(a, b, metrics):\n",
    "    diff = a-b\n",
    "    diff = diff.astype(bool).sum(axis=0)/len(diff)\n",
    "    print(diff[diff.index.isin(metrics)].rename(metrics).round(4).to_latex())\n",
    "    \n",
    "# get_num_diff(run_dfs[0], base_query_df[0][0], config.METRIC_NAMES)"
   ]
  },
  {
   "cell_type": "code",
   "execution_count": null,
   "metadata": {},
   "outputs": [],
   "source": [
    "import copy\n",
    "\n",
    "metrics = copy.copy(config.METRIC_NAMES)\n",
    "del metrics['unjudged@20']\n",
    "\n",
    "exclude_crim = [43, 44, 45, 46, 59, 64, 71, 104, 114, 117]\n",
    "exclude_costs = [49, 64, 77, 78, 85, 86, 87, 116]\n",
    "\n",
    "for r, ex in zip(['crim', 'costs'], [exclude_crim, exclude_costs]):\n",
    "    print(r, ex)\n",
    "    runs = ['case-topics-{0}-cases-{1}.run'.format(r, x) for x in ['in', 'out', 'all']]\n",
    "    run_dfs = load_dfs(config.AUS_QREL_PATH, config.AUS_REL_LEVEL, os.path.join(BASE_DIR, \"boosted\"), runs, per_query=True)\n",
    "    b = base_query_df.iloc[~(base_query_df.index.isin(ex))]\n",
    "    a = run_dfs[1].iloc[~(run_dfs[1].index.isin(ex))]\n",
    "    diff = a-b\n",
    "    for m in metrics:\n",
    "        print(stats.ttest_rel(a[m].values, b[m].values).pvalue)\n",
    "    print(diff[metrics].rename(metrics, axis='columns').mean())\n",
    "    fig = diff[metrics].rename(metrics, axis='columns').plot.box(fontsize=15, boxprops=dict(linestyle='-', linewidth=2), medianprops=dict(linestyle='-', linewidth=2), color=dict(boxes='black', whiskers='black', medians='b', caps='r'), figsize=(16, 4)).axhline(y=0, xmin=0.0, xmax=1.0, linestyle='--', linewidth=1.0, color='grey')\n",
    "    # fig.get_figure().savefig('figures/ausnl-{0}-filtered.pdf'.format(r))"
   ]
  },
  {
   "cell_type": "code",
   "execution_count": null,
   "metadata": {},
   "outputs": [],
   "source": [
    "for m in metrics:\n",
    "    print(b[b[m].isnull()][m])"
   ]
  },
  {
   "cell_type": "code",
   "execution_count": null,
   "metadata": {},
   "outputs": [],
   "source": [
    "def get_diff_av_exclude(a, b, metrics, exclude):\n",
    "    diff = a-b\n",
    "    diff = diff[metrics]\n",
    "    diff = diff.iloc[~(diff.index.isin(exclude))]\n",
    "    diff = diff.mean()\n",
    "    for m in metrics:\n",
    "        print(diff[m])\n",
    "        p = stats.ttest_rel(a[m], b[m]).pvalue\n",
    "        if p < 0.01:\n",
    "            diff[m] = \"{:.4f}\".format(diff[m]) + \"$^{**}$\"\n",
    "        elif p < 0.05:\n",
    "            diff[m] = \"{:.4f}\".format(diff[m]) + \"$^{*}$\"\n",
    "        else:\n",
    "            diff[m] = \"{:.4f}\".format(diff[m])\n",
    "    \n",
    "    return diff.rename(metrics)\n",
    "    \n",
    "# excluded_diff = get_diff_av_exclude(run_dfs[1], base_query_df, config.METRIC_NAMES, exclude_crim)\n",
    "\n",
    "metrics = copy.copy(config.METRIC_NAMES)\n",
    "del metrics['unjudged@20']\n",
    "ex_df = pd.DataFrame()\n",
    "for r, ex in zip(['crim', 'costs'], [exclude_crim, exclude_costs]):\n",
    "    runs = ['case-topics-{0}-cases-{1}.run'.format(r, x) for x in ['out']]\n",
    "    run_dfs = load_dfs(config.AUS_QREL_PATH, config.AUS_REL_LEVEL, os.path.join(BASE_DIR, \"boosted\"), runs, per_query=True)\n",
    "    diff = get_diff_av_exclude(run_dfs[0], base_query_df, metrics, ex)\n",
    "    ex_df[r] = diff"
   ]
  },
  {
   "cell_type": "code",
   "execution_count": null,
   "metadata": {},
   "outputs": [],
   "source": [
    "# print(excluded_diff.round(4).to_latex())\n",
    "# write_table('tables/filter-type', bold_max(ex_df).T.to_latex(escape=False))"
   ]
  },
  {
   "cell_type": "code",
   "execution_count": null,
   "metadata": {},
   "outputs": [],
   "source": [
    "def read_crim_file(path: str):\n",
    "    lookup = set()\n",
    "    with open(path) as f:\n",
    "        for line in f:\n",
    "            parts = line.split()\n",
    "            if parts[1] == '1':\n",
    "                lookup.add(parts[0])\n",
    "    return lookup\n",
    "\n",
    "def count_crim_in_res_file(path: str, crim_lookup):\n",
    "    qry = {}\n",
    "    with open(path) as f:\n",
    "        for line in f: \n",
    "            parts = line.split()\n",
    "            v = qry.get(parts[0], 0)\n",
    "            if parts[2] in crim_lookup: \n",
    "                v += 1\n",
    "            qry[parts[0]] = v\n",
    "                           \n",
    "    return qry\n",
    "\n",
    "crim_lookup = read_crim_file('../features/crim-cases.txt')\n",
    "costs_lookup = read_crim_file('../features/costs-cases.txt')\n",
    "crim_counts = count_crim_in_res_file(os.path.join(BASE_DIR, 'preprocessing', 'dirichlet_prior', 'case-topics-filtered-stop-unigram_dir_mu_1050.00.run', crim_lookup)"
   ]
  },
  {
   "cell_type": "code",
   "execution_count": null,
   "metadata": {},
   "outputs": [],
   "source": [
    "def find_lookup_rel(path: str, lookup):\n",
    "    potential = {}\n",
    "    with open(path) as f:\n",
    "        for line in f:\n",
    "            parts = line.split()\n",
    "            if parts[2] in lookup and parts[3] != '0':\n",
    "                if parts[0] not in potential: \n",
    "                    potential[parts[0]] = [[], []]\n",
    "                potential[parts[0]][0].append(parts[2])\n",
    "                potential[parts[0]][1].append(parts[3])\n",
    "    return potential\n",
    "                \n",
    "rel_crim = find_lookup_rel(config.AUS_QREL_PATH, crim_lookup)\n",
    "rel_costs = find_lookup_rel(config.AUS_QREL_PATH, costs_lookup)"
   ]
  },
  {
   "cell_type": "code",
   "execution_count": null,
   "metadata": {},
   "outputs": [],
   "source": [
    "for q, rel_docs in rel_crim.items(): \n",
    "    print(q, queries.get(int(q)), len(rel_docs[0]))\n"
   ]
  },
  {
   "cell_type": "code",
   "execution_count": null,
   "metadata": {},
   "outputs": [],
   "source": [
    "for q, rel_docs in rel_costs.items(): \n",
    "    print(q, queries.get(int(q)), len(rel_docs[0]))"
   ]
  },
  {
   "cell_type": "code",
   "execution_count": null,
   "metadata": {},
   "outputs": [],
   "source": [
    "def create_crim_count_plot(counts):\n",
    "    fig = plt.figure() \n",
    "    ax = fig.add_subplot(111)\n",
    "    fig.set_size_inches(16, 10)\n",
    "    ticks = [str(x[0]) for x in sorted(crim_counts.items(), key=lambda x: x[1], reverse=True)]\n",
    "    count_vals = sorted(crim_counts.values(), reverse=True)\n",
    "    x = [i for i in range(len(counts))]\n",
    "    ax.bar(x, count_vals)\n",
    "    ax.set_xticks(np.arange(len(x)))\n",
    "    ax.set_xticklabels(ticks, rotation=-90)\n",
    "    return fig\n",
    "\n",
    "count_plt = create_crim_count_plot(crim_counts)\n",
    "# count_plt.savefig('figures/crim-counts.pdf')"
   ]
  },
  {
   "cell_type": "code",
   "execution_count": null,
   "metadata": {},
   "outputs": [],
   "source": []
  }
 ],
 "metadata": {
  "kernelspec": {
   "display_name": "Python 3",
   "language": "python",
   "name": "python3"
  },
  "language_info": {
   "codemirror_mode": {
    "name": "ipython",
    "version": 3
   },
   "file_extension": ".py",
   "mimetype": "text/x-python",
   "name": "python",
   "nbconvert_exporter": "python",
   "pygments_lexer": "ipython3",
   "version": "3.9.9"
  }
 },
 "nbformat": 4,
 "nbformat_minor": 4
}
