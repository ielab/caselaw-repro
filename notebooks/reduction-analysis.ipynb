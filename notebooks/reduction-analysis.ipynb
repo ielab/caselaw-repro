{
 "cells": [
  {
   "cell_type": "code",
   "execution_count": null,
   "metadata": {},
   "outputs": [],
   "source": [
    "%matplotlib inline\n",
    "\n",
    "import sys \n",
    "import os \n",
    "\n",
    "nb_dir = os.getcwd()\n",
    "if nb_dir not in sys.path:\n",
    "    sys.path.append(nb_dir)\n",
    "\n",
    "from plotlib.loaders import *\n",
    "from plotlib.plotters import *\n",
    "\n",
    "from phdconf import config \n",
    "from phdconf.config import *"
   ]
  },
  {
   "cell_type": "code",
   "execution_count": null,
   "metadata": {},
   "outputs": [],
   "source": [
    "queries = load_queries(config.AUS_TOPIC_PATH)"
   ]
  },
  {
   "cell_type": "code",
   "execution_count": null,
   "metadata": {},
   "outputs": [],
   "source": [
    "index_name = 'filtered-phrasestop'#, config.SIGIR_INDEX_NAME]\n",
    "qrel_paths =  [config.AUS_QREL_PATH]#, config.SIGIR_QREL_PATH]\n",
    "rel_levels = [config.AUS_REL_LEVEL]#, config.SIGIR_REL_LEVEL]\n",
    "display_names = ['AUS']#, 'SIGIR']"
   ]
  },
  {
   "cell_type": "code",
   "execution_count": null,
   "metadata": {},
   "outputs": [],
   "source": [
    "base_df = load_1d_dfs([index_name], qrel_paths, os.path.join(BASE_DIR, 'preprocessing', 'dirichlet_prior'),'case-topics-{0}-unigram_dir_mu_{1:.2f}.run', rel_levels, 1050, 1050, 1)[0][0]\n",
    "base_query = load_1d_dfs([index_name], qrel_paths, os.path.join(BASE_DIR, 'preprocessing', 'dirichlet_prior'),'case-topics-{0}-unigram_dir_mu_{1:.2f}.run', rel_levels, 1050, 1050, 1, per_query=True)[0][0]"
   ]
  },
  {
   "cell_type": "code",
   "execution_count": null,
   "metadata": {},
   "outputs": [],
   "source": [
    "methods = ['idf', 'ictf', 'kli', 'plm']\n",
    "start = 0 \n",
    "end = 1.0\n",
    "inc = 0.1 \n",
    "_dir = os.path.join(BASE_DIR, 'reduction', 'dirichlet_prior')\n",
    "\n",
    "#filtered-phrasestop-plm-1.00-topics-filtered-phrasestop-unigram_dir_mu_1050.00\n",
    "method_runs = [load_1d_dfs([index_name], qrel_paths, _dir, '{0}-'+x+'-{1:.2f}-topics-{0}-unigram_dir_mu_1050.00.run', rel_levels, start, end, inc)[0] for x in methods]\n"
   ]
  },
  {
   "cell_type": "code",
   "execution_count": null,
   "metadata": {},
   "outputs": [],
   "source": [
    "plot = plot_tune_1d_comp(methods, RERANK_METRICS, method_runs, start, end, inc, ylims=RERANK_YLIMS)\n",
    "# plot.savefig('figures/ausnl-reduction.pdf')"
   ]
  },
  {
   "cell_type": "code",
   "execution_count": null,
   "metadata": {},
   "outputs": [],
   "source": [
    "qry_runs = method_runs = [load_1d_dfs([index_name], qrel_paths, _dir, '{0}-'+x+'-{1:.2f}-topics-{0}-unigram_dir_mu_1050.00.run', rel_levels, start, end, inc, per_query=True)[0] for x in methods]"
   ]
  },
  {
   "cell_type": "code",
   "execution_count": null,
   "metadata": {},
   "outputs": [],
   "source": [
    "(qry_runs[-1][-2]-base_query).sort_values('rbp@0.80')[-10:]"
   ]
  },
  {
   "cell_type": "code",
   "execution_count": null,
   "metadata": {},
   "outputs": [],
   "source": [
    "def plot_len_correlation(queries, df, metrics):\n",
    "    lens = {k: len(queries[k]['topic'].split()) for k in queries}\n",
    "    df['lens'] = df.index.map(lens)\n",
    "    \n",
    "    fig = plt.figure() \n",
    "    ax = fig.add_subplot(111)\n",
    "    fig.set_size_inches(16, 4)\n",
    "    for m in metrics.keys():\n",
    "        sns.regplot(x=df['lens'], y=df[m], ax=ax, truncate=False)\n",
    "    ax.set_xlabel('Query length', fontsize=15)\n",
    "    ax.set_ylabel('Effectiveness $\\Delta$', fontsize=15)\n",
    "    ax.set_ylim(-1, 1)\n",
    "    ax.tick_params(labelsize=12)\n",
    "    ax.legend(list(metrics.values()), frameon=True, fontsize=12).get_frame().set_edgecolor(\"black\")\n",
    "    \n",
    "    return fig\n",
    "\n",
    "# def load_queries(path: str):  \n",
    "#     queries = {}\n",
    "#     with open(path) as f:\n",
    "#         data = json.load(f)\n",
    "#         for topic in data['topics']:\n",
    "#             leg_ref = None \n",
    "#             if 'legislation_ref' in topic: \n",
    "#                 leg_ref = topic['legislation_ref']\n",
    "#             queries[topic['Id']] = {'topic': topic['Topic']}\n",
    "#     return queries\n",
    "\n",
    "    \n",
    "red_dir = '/home/danlocke/go/src/github.com/dan-locke/phd/query-reduction'\n",
    "# queries = load_queries(os.path.join(red_dir, 'filtered-phrasestop-ictf-0.80-topics.json'))\n",
    "comp_df = load_1d_dfs([index_name], qrel_paths, _dir, '{0}-ictf-{1:.2f}-topics-{0}-unigram_dir_mu_1050.00.run', rel_levels, 0.80, 0.80, inc, per_query=True)[0][0]\n",
    "interped_df = (comp_df - base_query)\n",
    "len_corr_fig = plot_len_correlation(queries, interped_df, {'err@20': 'ERR@20', 'rbp@0.80': 'RBP'})\n",
    "# len_corr_fig.savefig('figures/ausnl-len-reduction-8.pdf')\n",
    "\n",
    "# queries = load_queries(os.path.join(red_dir, 'filtered-phrasestop-ictf-0.50-topics.json'))\n",
    "comp_df = load_1d_dfs([index_name], qrel_paths, _dir, '{0}-ictf-{1:.2f}-topics-{0}-unigram_dir_mu_1050.00.run', rel_levels, 0.50, 0.50, inc, per_query=True)[0][0]\n",
    "interped_df = (comp_df - base_query)\n",
    "len_corr_fig = plot_len_correlation(queries, interped_df, {'err@20': 'ERR@20', 'rbp@0.80': 'RBP'})\n",
    "# len_corr_fig.savefig('figures/ausnl-len-reduction-5.pdf')"
   ]
  },
  {
   "cell_type": "code",
   "execution_count": null,
   "metadata": {},
   "outputs": [],
   "source": [
    "def correlation(queries, df, metrics):\n",
    "    lens = {k: len(queries[k]['topic'].split()) for k in queries}\n",
    "    df['lens'] = df.index.map(lens)\n",
    "    out_df = pd.DataFrame()\n",
    "    out_df['pearson'] = df[['lens', *list(metrics.keys())]].corr(method='pearson')['lens'].T\n",
    "    out_df['kendall'] = df[['lens', *list(metrics.keys())]].corr(method='kendall')['lens'].T\n",
    "    return out_df.drop(['lens'], axis='index').rename(metrics, axis='index').round(4).to_latex()\n",
    "    \n",
    "    \n",
    "metrics = copy.copy(config.METRIC_NAMES)\n",
    "del metrics['unjudged@20']\n",
    "# write_table('tables/reduction-correlation', correlation(queries, interped_df, metrics))"
   ]
  }
 ],
 "metadata": {
  "kernelspec": {
   "display_name": "Python 3",
   "language": "python",
   "name": "python3"
  },
  "language_info": {
   "codemirror_mode": {
    "name": "ipython",
    "version": 3
   },
   "file_extension": ".py",
   "mimetype": "text/x-python",
   "name": "python",
   "nbconvert_exporter": "python",
   "pygments_lexer": "ipython3",
   "version": "3.9.9"
  }
 },
 "nbformat": 4,
 "nbformat_minor": 4
}
