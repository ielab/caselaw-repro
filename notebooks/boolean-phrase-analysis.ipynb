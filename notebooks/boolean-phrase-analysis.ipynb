{
 "cells": [
  {
   "cell_type": "code",
   "execution_count": 1,
   "metadata": {},
   "outputs": [],
   "source": [
    "# looking at phrase boolean queries\n",
    "\n",
    "%matplotlib inline\n",
    "\n",
    "import sys \n",
    "import os \n",
    "\n",
    "nb_dir = os.getcwd()\n",
    "if nb_dir not in sys.path:\n",
    "    sys.path.append(nb_dir)\n",
    "\n",
    "from plotlib.loaders import *\n",
    "from plotlib.plotters import *\n",
    "\n",
    "from phdconf import stop\n",
    "from phdconf import config \n",
    "\n",
    "from typing import List, Dict\n",
    "import math \n",
    "import copy\n",
    "from collections import OrderedDict\n",
    "\n",
    "from sklearn.metrics.pairwise import linear_kernel, cosine_similarity\n",
    "\n",
    "ylims=[0.67, 0.45, 0.60, 0.59, 0.38]"
   ]
  },
  {
   "cell_type": "code",
   "execution_count": 2,
   "metadata": {},
   "outputs": [],
   "source": [
    "queries = load_queries(config.AUS_TOPIC_PATH)\n",
    "broad, specific = load_query_types(queries)\n",
    "law, fact, generic = load_query_focus_types(queries)"
   ]
  },
  {
   "cell_type": "code",
   "execution_count": 3,
   "metadata": {},
   "outputs": [],
   "source": [
    "index_names = ['filtered-phrasestop']#, config.SIGIR_INDEX_NAME]\n",
    "qrel_paths = [config.AUS_QREL_PATH]#, config.SIGIR_QREL_PATH]\n",
    "rel_levels = [config.AUS_REL_LEVEL]#, config.SIGIR_REL_LEVEL]\n",
    "display_names = ['AUS']#, 'SIGIR']"
   ]
  },
  {
   "cell_type": "code",
   "execution_count": 4,
   "metadata": {},
   "outputs": [],
   "source": [
    "BASE_DIR = os.path.join(os.environ[\"HOME\"], 'phd-generated')"
   ]
  },
  {
   "cell_type": "code",
   "execution_count": 5,
   "metadata": {},
   "outputs": [],
   "source": [
    "base_df = load_1d_dfs(index_names, qrel_paths, os.path.join(BASE_DIR, 'preprocessing', 'dirichlet_prior'), 'case-topics-{0}-unigram_dir_mu_{1:.2f}.run', rel_levels, 1050, 1050, 1)[0][0]\n",
    "base_qry = load_1d_dfs(index_names, qrel_paths, os.path.join(BASE_DIR, 'preprocessing', 'dirichlet_prior'), 'case-topics-{0}-unigram_dir_mu_{1:.2f}.run', rel_levels, 1050, 1050, 1, per_query=True)[0][0]"
   ]
  },
  {
   "cell_type": "code",
   "execution_count": null,
   "metadata": {},
   "outputs": [],
   "source": [
    "base_qry_set = load_1d_dfs(index_names, qrel_paths, os.path.join(os.environ[\"HOME\"], 'dirichlet_prior'), 'case-topics-{0}-unigram_dir_mu_{1:.2f}.run', rel_levels, 1050, 1050, 1, per_query=True)[0][0]"
   ]
  },
  {
   "cell_type": "code",
   "execution_count": 9,
   "metadata": {},
   "outputs": [],
   "source": [
    "def res_per_qry(path:str):\n",
    "    res = {}\n",
    "    with open(path) as f:\n",
    "        for line in f:\n",
    "            parts = line.split()\n",
    "            if parts[0] not in res:\n",
    "                res[parts[0]] = 0\n",
    "                \n",
    "            res[parts[0]] += 1\n",
    "            \n",
    "    return res\n",
    "\n",
    "set_res = res_per_qry(os.path.join(os.environ[\"HOME\"], 'dirichlet_prior', 'case-topics-filtered-phrasestop-unigram_dir_mu_1050.00.run'))"
   ]
  },
  {
   "cell_type": "code",
   "execution_count": 13,
   "metadata": {},
   "outputs": [
    {
     "data": {
      "text/plain": [
       "35300.484210526316"
      ]
     },
     "execution_count": 13,
     "metadata": {},
     "output_type": "execute_result"
    }
   ],
   "source": [
    "np.asarray(list(set_res.values())).mean()"
   ]
  },
  {
   "cell_type": "code",
   "execution_count": 14,
   "metadata": {},
   "outputs": [
    {
     "data": {
      "text/plain": [
       "21422.54651162791"
      ]
     },
     "execution_count": 14,
     "metadata": {},
     "output_type": "execute_result"
    }
   ],
   "source": [
    "np.asarray(list(res_per_qry(os.path.join(BASE_DIR, 'phrase-all-or.run')).values())).mean()"
   ]
  },
  {
   "cell_type": "code",
   "execution_count": 21,
   "metadata": {},
   "outputs": [],
   "source": [
    "small_queries = [7, 24, 57, 70, 76, 85, 96]"
   ]
  },
  {
   "cell_type": "code",
   "execution_count": 9,
   "metadata": {},
   "outputs": [],
   "source": [
    "runs = ['phrase-all-or.run', 'phrase-all-and.run', 'phrase-or.run', 'phrase-and.run']\n",
    "names = ['all-or', 'all-and', 'or', 'and']"
   ]
  },
  {
   "cell_type": "code",
   "execution_count": 33,
   "metadata": {},
   "outputs": [],
   "source": [
    "all_qry = load_dfs(config.AUS_QREL_PATH, config.AUS_REL_LEVEL, BASE_DIR, [runs[0]], per_query=True)"
   ]
  },
  {
   "cell_type": "code",
   "execution_count": 34,
   "metadata": {},
   "outputs": [
    {
     "data": {
      "application/pdf": "[encoded data removed]",
      "text/plain": [
       "<Figure size 1152x288 with 1 Axes>"
      ]
     },
     "metadata": {},
     "output_type": "display_data"
    }
   ],
   "source": [
    "diff = all_qry[0]-base_qry\n",
    "metrics = copy.copy(config.METRIC_NAMES)\n",
    "del metrics['unjudged@20']\n",
    "fig = diff[metrics].rename(metrics, axis='columns').plot.box(fontsize=15, boxprops=dict(linestyle='-', linewidth=2), color=dict(boxes='black', whiskers='black', caps='r'), medianprops=dict(linestyle='-', linewidth=2, color='b'), figsize=(16, 4)).axhline(y=0, xmin=0.0, xmax=1.0, linestyle='--', linewidth=1.0, color='grey')"
   ]
  },
  {
   "cell_type": "code",
   "execution_count": 35,
   "metadata": {},
   "outputs": [],
   "source": [
    "fig.get_figure().savefig('figures/ausnl-all-or-phrase-qry-comp.pdf')"
   ]
  },
  {
   "cell_type": "code",
   "execution_count": 44,
   "metadata": {},
   "outputs": [
    {
     "data": {
      "application/pdf": "[encoded data removed]",
      "text/plain": [
       "<Figure size 1152x288 with 1 Axes>"
      ]
     },
     "metadata": {},
     "output_type": "display_data"
    }
   ],
   "source": [
    "diff2 = all_qry[0]-base_qry\n",
    "diff2 = diff2[diff2.index.isin(small_queries)]\n",
    "fig = diff2[metrics].rename(metrics, axis='columns').plot.box(fontsize=15, boxprops=dict(linestyle='-', linewidth=2), color=dict(boxes='black', whiskers='black', caps='r'), medianprops=dict(linestyle='-', linewidth=2, color='b'), figsize=(16, 4)).axhline(y=0, xmin=0.0, xmax=1.0, linestyle='--', linewidth=1.0, color='grey')"
   ]
  },
  {
   "cell_type": "code",
   "execution_count": 58,
   "metadata": {},
   "outputs": [
    {
     "data": {
      "text/html": [
       "<div>\n",
       "<style scoped>\n",
       "    .dataframe tbody tr th:only-of-type {\n",
       "        vertical-align: middle;\n",
       "    }\n",
       "\n",
       "    .dataframe tbody tr th {\n",
       "        vertical-align: top;\n",
       "    }\n",
       "\n",
       "    .dataframe thead th {\n",
       "        text-align: right;\n",
       "    }\n",
       "</style>\n",
       "<table border=\"1\" class=\"dataframe\">\n",
       "  <thead>\n",
       "    <tr style=\"text-align: right;\">\n",
       "      <th></th>\n",
       "      <th>recip_rank</th>\n",
       "      <th>err@20</th>\n",
       "      <th>recall_20</th>\n",
       "      <th>recall_100</th>\n",
       "      <th>ndcg</th>\n",
       "      <th>rbp@0.80</th>\n",
       "    </tr>\n",
       "  </thead>\n",
       "  <tbody>\n",
       "    <tr>\n",
       "      <th>7</th>\n",
       "      <td>0.0</td>\n",
       "      <td>0.00234</td>\n",
       "      <td>0.0000</td>\n",
       "      <td>-0.1111</td>\n",
       "      <td>-0.0325</td>\n",
       "      <td>0.0619</td>\n",
       "    </tr>\n",
       "    <tr>\n",
       "      <th>24</th>\n",
       "      <td>0.0</td>\n",
       "      <td>-0.38789</td>\n",
       "      <td>-0.0588</td>\n",
       "      <td>0.0000</td>\n",
       "      <td>-0.0868</td>\n",
       "      <td>-0.0318</td>\n",
       "    </tr>\n",
       "    <tr>\n",
       "      <th>57</th>\n",
       "      <td>0.0</td>\n",
       "      <td>0.00633</td>\n",
       "      <td>-0.1591</td>\n",
       "      <td>-0.6591</td>\n",
       "      <td>-0.4117</td>\n",
       "      <td>-0.0904</td>\n",
       "    </tr>\n",
       "    <tr>\n",
       "      <th>70</th>\n",
       "      <td>0.0</td>\n",
       "      <td>0.24041</td>\n",
       "      <td>-0.2727</td>\n",
       "      <td>-0.6364</td>\n",
       "      <td>-0.4094</td>\n",
       "      <td>-0.2127</td>\n",
       "    </tr>\n",
       "    <tr>\n",
       "      <th>76</th>\n",
       "      <td>0.0</td>\n",
       "      <td>0.03404</td>\n",
       "      <td>0.0834</td>\n",
       "      <td>0.0000</td>\n",
       "      <td>0.0424</td>\n",
       "      <td>0.1109</td>\n",
       "    </tr>\n",
       "    <tr>\n",
       "      <th>85</th>\n",
       "      <td>0.5</td>\n",
       "      <td>-0.11005</td>\n",
       "      <td>-0.2553</td>\n",
       "      <td>-0.6808</td>\n",
       "      <td>-0.5177</td>\n",
       "      <td>-0.2521</td>\n",
       "    </tr>\n",
       "    <tr>\n",
       "      <th>96</th>\n",
       "      <td>0.0</td>\n",
       "      <td>-0.00623</td>\n",
       "      <td>-0.0625</td>\n",
       "      <td>-0.1250</td>\n",
       "      <td>-0.0966</td>\n",
       "      <td>0.0511</td>\n",
       "    </tr>\n",
       "  </tbody>\n",
       "</table>\n",
       "</div>"
      ],
      "text/plain": [
       "    recip_rank   err@20  recall_20  recall_100    ndcg  rbp@0.80\n",
       "7          0.0  0.00234     0.0000     -0.1111 -0.0325    0.0619\n",
       "24         0.0 -0.38789    -0.0588      0.0000 -0.0868   -0.0318\n",
       "57         0.0  0.00633    -0.1591     -0.6591 -0.4117   -0.0904\n",
       "70         0.0  0.24041    -0.2727     -0.6364 -0.4094   -0.2127\n",
       "76         0.0  0.03404     0.0834      0.0000  0.0424    0.1109\n",
       "85         0.5 -0.11005    -0.2553     -0.6808 -0.5177   -0.2521\n",
       "96         0.0 -0.00623    -0.0625     -0.1250 -0.0966    0.0511"
      ]
     },
     "execution_count": 58,
     "metadata": {},
     "output_type": "execute_result"
    }
   ],
   "source": [
    "diff2[metrics]"
   ]
  },
  {
   "cell_type": "code",
   "execution_count": 52,
   "metadata": {},
   "outputs": [
    {
     "data": {
      "text/html": [
       "<div>\n",
       "<style scoped>\n",
       "    .dataframe tbody tr th:only-of-type {\n",
       "        vertical-align: middle;\n",
       "    }\n",
       "\n",
       "    .dataframe tbody tr th {\n",
       "        vertical-align: top;\n",
       "    }\n",
       "\n",
       "    .dataframe thead th {\n",
       "        text-align: right;\n",
       "    }\n",
       "</style>\n",
       "<table border=\"1\" class=\"dataframe\">\n",
       "  <thead>\n",
       "    <tr style=\"text-align: right;\">\n",
       "      <th></th>\n",
       "      <th>recip_rank</th>\n",
       "      <th>err@20</th>\n",
       "      <th>recall_20</th>\n",
       "      <th>recall_100</th>\n",
       "      <th>ndcg</th>\n",
       "      <th>rbp@0.80</th>\n",
       "    </tr>\n",
       "  </thead>\n",
       "  <tbody>\n",
       "    <tr>\n",
       "      <th>24</th>\n",
       "      <td>1.0</td>\n",
       "      <td>0.91679</td>\n",
       "      <td>0.7647</td>\n",
       "      <td>0.8235</td>\n",
       "      <td>0.7857</td>\n",
       "      <td>0.8159</td>\n",
       "    </tr>\n",
       "    <tr>\n",
       "      <th>57</th>\n",
       "      <td>1.0</td>\n",
       "      <td>0.51116</td>\n",
       "      <td>0.3182</td>\n",
       "      <td>0.8182</td>\n",
       "      <td>0.6739</td>\n",
       "      <td>0.7233</td>\n",
       "    </tr>\n",
       "    <tr>\n",
       "      <th>7</th>\n",
       "      <td>1.0</td>\n",
       "      <td>0.52120</td>\n",
       "      <td>0.7778</td>\n",
       "      <td>0.9444</td>\n",
       "      <td>0.7235</td>\n",
       "      <td>0.7620</td>\n",
       "    </tr>\n",
       "    <tr>\n",
       "      <th>70</th>\n",
       "      <td>1.0</td>\n",
       "      <td>0.66743</td>\n",
       "      <td>0.4545</td>\n",
       "      <td>0.8182</td>\n",
       "      <td>0.7367</td>\n",
       "      <td>0.6699</td>\n",
       "    </tr>\n",
       "    <tr>\n",
       "      <th>76</th>\n",
       "      <td>1.0</td>\n",
       "      <td>0.23080</td>\n",
       "      <td>0.5833</td>\n",
       "      <td>1.0000</td>\n",
       "      <td>0.5962</td>\n",
       "      <td>0.4891</td>\n",
       "    </tr>\n",
       "    <tr>\n",
       "      <th>85</th>\n",
       "      <td>0.5</td>\n",
       "      <td>0.31708</td>\n",
       "      <td>0.2979</td>\n",
       "      <td>0.7234</td>\n",
       "      <td>0.5944</td>\n",
       "      <td>0.5545</td>\n",
       "    </tr>\n",
       "    <tr>\n",
       "      <th>96</th>\n",
       "      <td>1.0</td>\n",
       "      <td>0.89360</td>\n",
       "      <td>0.2500</td>\n",
       "      <td>0.3125</td>\n",
       "      <td>0.4093</td>\n",
       "      <td>0.4369</td>\n",
       "    </tr>\n",
       "  </tbody>\n",
       "</table>\n",
       "</div>"
      ],
      "text/plain": [
       "    recip_rank   err@20  recall_20  recall_100    ndcg  rbp@0.80\n",
       "24         1.0  0.91679     0.7647      0.8235  0.7857    0.8159\n",
       "57         1.0  0.51116     0.3182      0.8182  0.6739    0.7233\n",
       "7          1.0  0.52120     0.7778      0.9444  0.7235    0.7620\n",
       "70         1.0  0.66743     0.4545      0.8182  0.7367    0.6699\n",
       "76         1.0  0.23080     0.5833      1.0000  0.5962    0.4891\n",
       "85         0.5  0.31708     0.2979      0.7234  0.5944    0.5545\n",
       "96         1.0  0.89360     0.2500      0.3125  0.4093    0.4369"
      ]
     },
     "execution_count": 52,
     "metadata": {},
     "output_type": "execute_result"
    }
   ],
   "source": [
    "base_qry[base_qry.index.isin(small_queries)][metrics]"
   ]
  },
  {
   "cell_type": "code",
   "execution_count": 56,
   "metadata": {},
   "outputs": [],
   "source": [
    "write_table('tables/ausnl-phrase-qry-diff', diff2[metrics].rename(columns=metrics).round(4).to_latex(escape=False))"
   ]
  },
  {
   "cell_type": "code",
   "execution_count": 45,
   "metadata": {},
   "outputs": [],
   "source": [
    "fig.get_figure().savefig('figures/ausnl-all-or-phrase-qry-comp-small-queries.pdf')"
   ]
  },
  {
   "cell_type": "code",
   "execution_count": null,
   "metadata": {},
   "outputs": [],
   "source": [
    "dfs = load_dfs(config.AUS_QREL_PATH, config.AUS_REL_LEVEL, BASE_DIR, runs)"
   ]
  },
  {
   "cell_type": "code",
   "execution_count": 8,
   "metadata": {},
   "outputs": [],
   "source": [
    "df = pd.DataFrame(dfs+[base_df], index=names+['base'])"
   ]
  },
  {
   "cell_type": "code",
   "execution_count": 9,
   "metadata": {},
   "outputs": [
    {
     "data": {
      "text/html": [
       "<div>\n",
       "<style scoped>\n",
       "    .dataframe tbody tr th:only-of-type {\n",
       "        vertical-align: middle;\n",
       "    }\n",
       "\n",
       "    .dataframe tbody tr th {\n",
       "        vertical-align: top;\n",
       "    }\n",
       "\n",
       "    .dataframe thead th {\n",
       "        text-align: right;\n",
       "    }\n",
       "</style>\n",
       "<table border=\"1\" class=\"dataframe\">\n",
       "  <thead>\n",
       "    <tr style=\"text-align: right;\">\n",
       "      <th></th>\n",
       "      <th>recip_rank</th>\n",
       "      <th>unjudged@20</th>\n",
       "      <th>recall_20</th>\n",
       "      <th>recall_100</th>\n",
       "      <th>ndcg</th>\n",
       "      <th>set_P</th>\n",
       "      <th>set_recall</th>\n",
       "      <th>set_F_.5</th>\n",
       "      <th>rbp@0.10</th>\n",
       "      <th>rbp-res@0.10</th>\n",
       "      <th>rbp@0.50</th>\n",
       "      <th>rbp-res@0.50</th>\n",
       "      <th>rbp@0.80</th>\n",
       "      <th>rbp-res@0.80</th>\n",
       "      <th>err@20</th>\n",
       "    </tr>\n",
       "  </thead>\n",
       "  <tbody>\n",
       "  </tbody>\n",
       "</table>\n",
       "</div>"
      ],
      "text/plain": [
       "Empty DataFrame\n",
       "Columns: [recip_rank, unjudged@20, recall_20, recall_100, ndcg, set_P, set_recall, set_F_.5, rbp@0.10, rbp-res@0.10, rbp@0.50, rbp-res@0.50, rbp@0.80, rbp-res@0.80, err@20]\n",
       "Index: []"
      ]
     },
     "execution_count": 9,
     "metadata": {},
     "output_type": "execute_result"
    }
   ],
   "source": [
    "df[df.index.isin(config.METRIC_NAMES)]"
   ]
  },
  {
   "cell_type": "code",
   "execution_count": 10,
   "metadata": {},
   "outputs": [
    {
     "name": "stdout",
     "output_type": "stream",
     "text": [
      "\\begin{tabular}{lrrrrrrrrrrrrrrr}\n",
      "\\toprule\n",
      "Empty DataFrame\n",
      "Columns: Index(['recip\\_rank', 'unjudged@20', 'recall\\_20', 'recall\\_100', 'ndcg', 'set\\_P',\n",
      "       'set\\_recall', 'set\\_F\\_.5', 'rbp@0.10', 'rbp-res@0.10', 'rbp@0.50',\n",
      "       'rbp-res@0.50', 'rbp@0.80', 'rbp-res@0.80', 'err@20'],\n",
      "      dtype='object')\n",
      "Index: Index([], dtype='object') \\\\\n",
      "\\bottomrule\n",
      "\\end{tabular}\n",
      "\n"
     ]
    }
   ],
   "source": [
    "print(df[df.index.isin(config.METRIC_NAMES)].rename(index=config.METRIC_NAMES).round(4).to_latex())"
   ]
  },
  {
   "cell_type": "code",
   "execution_count": 11,
   "metadata": {},
   "outputs": [
    {
     "data": {
      "text/html": [
       "<div>\n",
       "<style scoped>\n",
       "    .dataframe tbody tr th:only-of-type {\n",
       "        vertical-align: middle;\n",
       "    }\n",
       "\n",
       "    .dataframe tbody tr th {\n",
       "        vertical-align: top;\n",
       "    }\n",
       "\n",
       "    .dataframe thead th {\n",
       "        text-align: right;\n",
       "    }\n",
       "</style>\n",
       "<table border=\"1\" class=\"dataframe\">\n",
       "  <thead>\n",
       "    <tr style=\"text-align: right;\">\n",
       "      <th></th>\n",
       "      <th>recip_rank</th>\n",
       "      <th>unjudged@20</th>\n",
       "      <th>recall_20</th>\n",
       "      <th>recall_100</th>\n",
       "      <th>ndcg</th>\n",
       "      <th>set_P</th>\n",
       "      <th>set_recall</th>\n",
       "      <th>set_F_.5</th>\n",
       "      <th>rbp@0.10</th>\n",
       "      <th>rbp-res@0.10</th>\n",
       "      <th>rbp@0.50</th>\n",
       "      <th>rbp-res@0.50</th>\n",
       "      <th>rbp@0.80</th>\n",
       "      <th>rbp-res@0.80</th>\n",
       "      <th>err@20</th>\n",
       "    </tr>\n",
       "  </thead>\n",
       "  <tbody>\n",
       "    <tr>\n",
       "      <th>all-or</th>\n",
       "      <td>0.594071</td>\n",
       "      <td>1.046512</td>\n",
       "      <td>0.467912</td>\n",
       "      <td>0.679543</td>\n",
       "      <td>0.490156</td>\n",
       "      <td>0.024016</td>\n",
       "      <td>0.880097</td>\n",
       "      <td>0.028233</td>\n",
       "      <td>0.478608</td>\n",
       "      <td>0.000106</td>\n",
       "      <td>0.418827</td>\n",
       "      <td>0.002381</td>\n",
       "      <td>0.320749</td>\n",
       "      <td>0.018309</td>\n",
       "      <td>0.382911</td>\n",
       "    </tr>\n",
       "    <tr>\n",
       "      <th>all-and</th>\n",
       "      <td>0.553795</td>\n",
       "      <td>1.605263</td>\n",
       "      <td>0.437292</td>\n",
       "      <td>0.602312</td>\n",
       "      <td>0.433595</td>\n",
       "      <td>0.041255</td>\n",
       "      <td>0.761229</td>\n",
       "      <td>0.037187</td>\n",
       "      <td>0.438843</td>\n",
       "      <td>0.028026</td>\n",
       "      <td>0.380308</td>\n",
       "      <td>0.044076</td>\n",
       "      <td>0.276974</td>\n",
       "      <td>0.089614</td>\n",
       "      <td>0.359284</td>\n",
       "    </tr>\n",
       "    <tr>\n",
       "      <th>or</th>\n",
       "      <td>0.570085</td>\n",
       "      <td>3.988372</td>\n",
       "      <td>0.416064</td>\n",
       "      <td>0.563498</td>\n",
       "      <td>0.431833</td>\n",
       "      <td>0.032801</td>\n",
       "      <td>0.646590</td>\n",
       "      <td>0.040559</td>\n",
       "      <td>0.477524</td>\n",
       "      <td>0.047829</td>\n",
       "      <td>0.412557</td>\n",
       "      <td>0.063060</td>\n",
       "      <td>0.311784</td>\n",
       "      <td>0.128351</td>\n",
       "      <td>0.384968</td>\n",
       "    </tr>\n",
       "    <tr>\n",
       "      <th>and</th>\n",
       "      <td>0.445387</td>\n",
       "      <td>5.075472</td>\n",
       "      <td>0.221138</td>\n",
       "      <td>0.258772</td>\n",
       "      <td>0.235642</td>\n",
       "      <td>0.101066</td>\n",
       "      <td>0.273513</td>\n",
       "      <td>0.077287</td>\n",
       "      <td>0.386143</td>\n",
       "      <td>0.141343</td>\n",
       "      <td>0.322034</td>\n",
       "      <td>0.221211</td>\n",
       "      <td>0.219274</td>\n",
       "      <td>0.391240</td>\n",
       "      <td>0.270142</td>\n",
       "    </tr>\n",
       "    <tr>\n",
       "      <th>base</th>\n",
       "      <td>0.568606</td>\n",
       "      <td>0.000000</td>\n",
       "      <td>0.459971</td>\n",
       "      <td>0.721831</td>\n",
       "      <td>0.461328</td>\n",
       "      <td>0.079579</td>\n",
       "      <td>0.721831</td>\n",
       "      <td>0.107272</td>\n",
       "      <td>0.467295</td>\n",
       "      <td>0.000000</td>\n",
       "      <td>0.395954</td>\n",
       "      <td>0.000000</td>\n",
       "      <td>0.311286</td>\n",
       "      <td>0.004524</td>\n",
       "      <td>0.379366</td>\n",
       "    </tr>\n",
       "  </tbody>\n",
       "</table>\n",
       "</div>"
      ],
      "text/plain": [
       "         recip_rank  unjudged@20  recall_20  recall_100      ndcg     set_P  \\\n",
       "all-or     0.594071     1.046512   0.467912    0.679543  0.490156  0.024016   \n",
       "all-and    0.553795     1.605263   0.437292    0.602312  0.433595  0.041255   \n",
       "or         0.570085     3.988372   0.416064    0.563498  0.431833  0.032801   \n",
       "and        0.445387     5.075472   0.221138    0.258772  0.235642  0.101066   \n",
       "base       0.568606     0.000000   0.459971    0.721831  0.461328  0.079579   \n",
       "\n",
       "         set_recall  set_F_.5  rbp@0.10  rbp-res@0.10  rbp@0.50  rbp-res@0.50  \\\n",
       "all-or     0.880097  0.028233  0.478608      0.000106  0.418827      0.002381   \n",
       "all-and    0.761229  0.037187  0.438843      0.028026  0.380308      0.044076   \n",
       "or         0.646590  0.040559  0.477524      0.047829  0.412557      0.063060   \n",
       "and        0.273513  0.077287  0.386143      0.141343  0.322034      0.221211   \n",
       "base       0.721831  0.107272  0.467295      0.000000  0.395954      0.000000   \n",
       "\n",
       "         rbp@0.80  rbp-res@0.80    err@20  \n",
       "all-or   0.320749      0.018309  0.382911  \n",
       "all-and  0.276974      0.089614  0.359284  \n",
       "or       0.311784      0.128351  0.384968  \n",
       "and      0.219274      0.391240  0.270142  \n",
       "base     0.311286      0.004524  0.379366  "
      ]
     },
     "execution_count": 11,
     "metadata": {},
     "output_type": "execute_result"
    }
   ],
   "source": [
    "df"
   ]
  },
  {
   "cell_type": "code",
   "execution_count": 28,
   "metadata": {},
   "outputs": [],
   "source": [
    "ev_files = [('$R$', os.path.join(BASE_DIR, 'preprocessing', 'dirichlet_prior', 'case-topics-filtered-phrasestop-unigram_dir_mu_1050.00.run'), None)]\n",
    "ev_files.append(('$R_{all}$', os.path.join(os.environ[\"HOME\"], 'dirichlet_prior', 'case-topics-filtered-phrasestop-unigram_dir_mu_1050.00.run'), None))\n",
    "for i, r in enumerate(runs):\n",
    "    ev_files.append((names[i], os.path.join(BASE_DIR, r), None))\n",
    "\n",
    "metrics = copy.copy(config.METRIC_NAMES)\n",
    "metrics['set_P'] = 'P'\n",
    "metrics['set_recall'] = 'R'\n",
    "metrics['set_F_.5'] = 'F.5'"
   ]
  },
  {
   "cell_type": "code",
   "execution_count": 29,
   "metadata": {},
   "outputs": [
    {
     "name": "stdout",
     "output_type": "stream",
     "text": [
      "\\begin{tabular}{lllllllllll}\n",
      "\\toprule\n",
      "{} &           RR &       ERR@20 &         R@20 &        R@100 &           NDCG &          RBP &  Unjudged@20 &              P &              R &            F.5 \\\\\n",
      "\\midrule\n",
      "$R$       &  0.5686$^{}$ &  0.3794$^{}$ &  0.4600$^{}$ &  0.7218$^{}$ &    0.4613$^{}$ &  0.3113$^{}$ &  0.0000$^{}$ &    0.0796$^{}$ &    0.7218$^{}$ &    0.1073$^{}$ \\\\\n",
      "$R_{all}$ &  0.5687$^{}$ &  0.3794$^{}$ &  0.4600$^{}$ &  0.7218$^{}$ &  0.5108$^{**}$ &  0.3113$^{}$ &  0.0000$^{}$ &  0.0007$^{**}$ &  0.9888$^{**}$ &  0.0010$^{**}$ \\\\\n",
      "all-or    &  0.5941$^{}$ &  0.3829$^{}$ &  0.4679$^{}$ &  0.6795$^{}$ &    0.4902$^{}$ &  0.3207$^{}$ &       1$^{}$ &    0.0240$^{}$ &    0.8801$^{}$ &    0.0282$^{}$ \\\\\n",
      "all-and   &  0.5538$^{}$ &  0.3593$^{}$ &  0.4373$^{}$ &  0.6023$^{}$ &    0.4336$^{}$ &  0.2770$^{}$ &       1$^{}$ &    0.0413$^{}$ &    0.7612$^{}$ &    0.0372$^{}$ \\\\\n",
      "or        &  0.5701$^{}$ &  0.3850$^{}$ &  0.4161$^{}$ &  0.5635$^{}$ &    0.4318$^{}$ &  0.3118$^{}$ &       3$^{}$ &    0.0328$^{}$ &    0.6466$^{}$ &    0.0406$^{}$ \\\\\n",
      "and       &  0.4454$^{}$ &  0.2701$^{}$ &  0.2211$^{}$ &  0.2588$^{}$ &    0.2356$^{}$ &  0.2193$^{}$ &       5$^{}$ &    0.1011$^{}$ &    0.2735$^{}$ &    0.0773$^{}$ \\\\\n",
      "\\bottomrule\n",
      "\\end{tabular}\n",
      "\n"
     ]
    },
    {
     "name": "stderr",
     "output_type": "stream",
     "text": [
      "/home/danlocke/src/phd-notebooks/plotlib/plotters.py:355: SettingWithCopyWarning: \n",
      "A value is trying to be set on a copy of a slice from a DataFrame\n",
      "\n",
      "See the caveats in the documentation: https://pandas.pydata.org/pandas-docs/stable/user_guide/indexing.html#returning-a-view-versus-a-copy\n",
      "  df2[x][i] = \"{:.4f}\".format(df[x][i]) + \"$^{\" + \",\".join(s[x + i]) + \"}$\"\n",
      "/home/danlocke/.local/lib/python3.8/site-packages/pandas/core/indexing.py:1637: SettingWithCopyWarning: \n",
      "A value is trying to be set on a copy of a slice from a DataFrame\n",
      "\n",
      "See the caveats in the documentation: https://pandas.pydata.org/pandas-docs/stable/user_guide/indexing.html#returning-a-view-versus-a-copy\n",
      "  self._setitem_single_block(indexer, value, name)\n",
      "/home/danlocke/src/phd-notebooks/plotlib/plotters.py:357: SettingWithCopyWarning: \n",
      "A value is trying to be set on a copy of a slice from a DataFrame\n",
      "\n",
      "See the caveats in the documentation: https://pandas.pydata.org/pandas-docs/stable/user_guide/indexing.html#returning-a-view-versus-a-copy\n",
      "  df2[x][i] = \"{}\".format(int(df[x][i])) + \"$^{\" + \",\".join(s[x + i]) + \"}$\"\n"
     ]
    }
   ],
   "source": [
    "df = compute_stat_sig(ev_files, config.AUS_QREL_PATH, ['$R$', '$R_{all}$'], metrics, '1')"
   ]
  },
  {
   "cell_type": "code",
   "execution_count": 30,
   "metadata": {},
   "outputs": [
    {
     "data": {
      "text/html": [
       "<div>\n",
       "<style scoped>\n",
       "    .dataframe tbody tr th:only-of-type {\n",
       "        vertical-align: middle;\n",
       "    }\n",
       "\n",
       "    .dataframe tbody tr th {\n",
       "        vertical-align: top;\n",
       "    }\n",
       "\n",
       "    .dataframe thead th {\n",
       "        text-align: right;\n",
       "    }\n",
       "</style>\n",
       "<table border=\"1\" class=\"dataframe\">\n",
       "  <thead>\n",
       "    <tr style=\"text-align: right;\">\n",
       "      <th></th>\n",
       "      <th>recip_rank</th>\n",
       "      <th>err@20</th>\n",
       "      <th>recall_20</th>\n",
       "      <th>recall_100</th>\n",
       "      <th>ndcg</th>\n",
       "      <th>rbp@0.80</th>\n",
       "      <th>unjudged@20</th>\n",
       "      <th>set_P</th>\n",
       "      <th>set_recall</th>\n",
       "      <th>set_F_.5</th>\n",
       "    </tr>\n",
       "  </thead>\n",
       "  <tbody>\n",
       "    <tr>\n",
       "      <th>$R$</th>\n",
       "      <td>0.5686$^{}$</td>\n",
       "      <td>0.3794$^{}$</td>\n",
       "      <td>0.4600$^{}$</td>\n",
       "      <td>0.7218$^{}$</td>\n",
       "      <td>0.4613$^{}$</td>\n",
       "      <td>0.3113$^{}$</td>\n",
       "      <td>0.0000$^{}$</td>\n",
       "      <td>0.0796$^{}$</td>\n",
       "      <td>0.7218$^{}$</td>\n",
       "      <td>0.1073$^{}$</td>\n",
       "    </tr>\n",
       "    <tr>\n",
       "      <th>$R_{all}$</th>\n",
       "      <td>0.5687$^{}$</td>\n",
       "      <td>0.3794$^{}$</td>\n",
       "      <td>0.4600$^{}$</td>\n",
       "      <td>0.7218$^{}$</td>\n",
       "      <td>0.5108$^{**}$</td>\n",
       "      <td>0.3113$^{}$</td>\n",
       "      <td>0.0000$^{}$</td>\n",
       "      <td>0.0007$^{**}$</td>\n",
       "      <td>0.9888$^{**}$</td>\n",
       "      <td>0.0010$^{**}$</td>\n",
       "    </tr>\n",
       "    <tr>\n",
       "      <th>all-or</th>\n",
       "      <td>0.5941$^{}$</td>\n",
       "      <td>0.3829$^{}$</td>\n",
       "      <td>0.4679$^{}$</td>\n",
       "      <td>0.6795$^{}$</td>\n",
       "      <td>0.4902$^{}$</td>\n",
       "      <td>0.3207$^{}$</td>\n",
       "      <td>1$^{}$</td>\n",
       "      <td>0.0240$^{}$</td>\n",
       "      <td>0.8801$^{}$</td>\n",
       "      <td>0.0282$^{}$</td>\n",
       "    </tr>\n",
       "    <tr>\n",
       "      <th>all-and</th>\n",
       "      <td>0.5538$^{}$</td>\n",
       "      <td>0.3593$^{}$</td>\n",
       "      <td>0.4373$^{}$</td>\n",
       "      <td>0.6023$^{}$</td>\n",
       "      <td>0.4336$^{}$</td>\n",
       "      <td>0.2770$^{}$</td>\n",
       "      <td>1$^{}$</td>\n",
       "      <td>0.0413$^{}$</td>\n",
       "      <td>0.7612$^{}$</td>\n",
       "      <td>0.0372$^{}$</td>\n",
       "    </tr>\n",
       "    <tr>\n",
       "      <th>or</th>\n",
       "      <td>0.5701$^{}$</td>\n",
       "      <td>0.3850$^{}$</td>\n",
       "      <td>0.4161$^{}$</td>\n",
       "      <td>0.5635$^{}$</td>\n",
       "      <td>0.4318$^{}$</td>\n",
       "      <td>0.3118$^{}$</td>\n",
       "      <td>3$^{}$</td>\n",
       "      <td>0.0328$^{}$</td>\n",
       "      <td>0.6466$^{}$</td>\n",
       "      <td>0.0406$^{}$</td>\n",
       "    </tr>\n",
       "    <tr>\n",
       "      <th>and</th>\n",
       "      <td>0.4454$^{}$</td>\n",
       "      <td>0.2701$^{}$</td>\n",
       "      <td>0.2211$^{}$</td>\n",
       "      <td>0.2588$^{}$</td>\n",
       "      <td>0.2356$^{}$</td>\n",
       "      <td>0.2193$^{}$</td>\n",
       "      <td>5$^{}$</td>\n",
       "      <td>0.1011$^{}$</td>\n",
       "      <td>0.2735$^{}$</td>\n",
       "      <td>0.0773$^{}$</td>\n",
       "    </tr>\n",
       "  </tbody>\n",
       "</table>\n",
       "</div>"
      ],
      "text/plain": [
       "            recip_rank       err@20    recall_20   recall_100           ndcg  \\\n",
       "$R$        0.5686$^{}$  0.3794$^{}$  0.4600$^{}$  0.7218$^{}$    0.4613$^{}$   \n",
       "$R_{all}$  0.5687$^{}$  0.3794$^{}$  0.4600$^{}$  0.7218$^{}$  0.5108$^{**}$   \n",
       "all-or     0.5941$^{}$  0.3829$^{}$  0.4679$^{}$  0.6795$^{}$    0.4902$^{}$   \n",
       "all-and    0.5538$^{}$  0.3593$^{}$  0.4373$^{}$  0.6023$^{}$    0.4336$^{}$   \n",
       "or         0.5701$^{}$  0.3850$^{}$  0.4161$^{}$  0.5635$^{}$    0.4318$^{}$   \n",
       "and        0.4454$^{}$  0.2701$^{}$  0.2211$^{}$  0.2588$^{}$    0.2356$^{}$   \n",
       "\n",
       "              rbp@0.80  unjudged@20          set_P     set_recall  \\\n",
       "$R$        0.3113$^{}$  0.0000$^{}$    0.0796$^{}$    0.7218$^{}$   \n",
       "$R_{all}$  0.3113$^{}$  0.0000$^{}$  0.0007$^{**}$  0.9888$^{**}$   \n",
       "all-or     0.3207$^{}$       1$^{}$    0.0240$^{}$    0.8801$^{}$   \n",
       "all-and    0.2770$^{}$       1$^{}$    0.0413$^{}$    0.7612$^{}$   \n",
       "or         0.3118$^{}$       3$^{}$    0.0328$^{}$    0.6466$^{}$   \n",
       "and        0.2193$^{}$       5$^{}$    0.1011$^{}$    0.2735$^{}$   \n",
       "\n",
       "                set_F_.5  \n",
       "$R$          0.1073$^{}$  \n",
       "$R_{all}$  0.0010$^{**}$  \n",
       "all-or       0.0282$^{}$  \n",
       "all-and      0.0372$^{}$  \n",
       "or           0.0406$^{}$  \n",
       "and          0.0773$^{}$  "
      ]
     },
     "execution_count": 30,
     "metadata": {},
     "output_type": "execute_result"
    }
   ],
   "source": [
    "df[metrics]"
   ]
  },
  {
   "cell_type": "code",
   "execution_count": 31,
   "metadata": {},
   "outputs": [],
   "source": [
    "write_table('tables/ausnl-phrase-filter', bold_max(df[metrics]).rename(columns=metrics).round(4).to_latex(escape=False))"
   ]
  },
  {
   "cell_type": "code",
   "execution_count": 35,
   "metadata": {},
   "outputs": [
    {
     "data": {
      "application/pdf": "[encoded data removed]",
      "text/plain": [
       "<Figure size 1152x288 with 1 Axes>"
      ]
     },
     "metadata": {
      "needs_background": "light"
     },
     "output_type": "display_data"
    }
   ],
   "source": []
  },
  {
   "cell_type": "code",
   "execution_count": 17,
   "metadata": {},
   "outputs": [],
   "source": [
    "inter = Interpolater(os.path.join(BASE_DIR, 'preprocessing', 'dirichlet_prior', 'case-topics-filtered-phrasestop-unigram_dir_mu_1050.00.run'), normalize=True)\n",
    "\n",
    "vals = [0]#, 300, 1050, 3000]\n",
    "dfs = []\n",
    "\n",
    "for v in vals:\n",
    "    interped_dfs = []\n",
    "    for _lambda in np.arange(0, 1.0, 0.01):\n",
    "        inter.interpolate(os.path.join(os.environ[\"HOME\"], 'go/src/github.com/dan-locke/phd/phrase-score/case-topics-phrase-scoring-mu-{0:.2f}.run'.format(v)), _lambda, 'tmp.run')\n",
    "        interped_dfs.append(load_dfs(config.AUS_QREL_PATH, config.AUS_REL_LEVEL, '', ['tmp.run'])[0])\n",
    "    dfs.append(interped_dfs)"
   ]
  },
  {
   "cell_type": "code",
   "execution_count": 18,
   "metadata": {},
   "outputs": [
    {
     "data": {
      "application/pdf": "[encoded data removed]",
      "text/plain": [
       "<Figure size 1152x432 with 6 Axes>"
      ]
     },
     "metadata": {},
     "output_type": "display_data"
    }
   ],
   "source": [
    "to = 50\n",
    "metrics = copy.copy(config.METRIC_NAMES)\n",
    "del metrics['recall_100']\n",
    "\n",
    "phrase_interp_fig = plot_tune_1d_comp(['base', 'mle', 'mu=300', 'mu=1050', 'mu=3000'], metrics, [[base_df for x in range(to+1)]] + [x[:to+1] for x in dfs], 0.00, (to)/100, 0.01, legend_x=0.965, ylims=ylims, styles=['--'])"
   ]
  },
  {
   "cell_type": "code",
   "execution_count": 19,
   "metadata": {},
   "outputs": [],
   "source": [
    "# modified so does stat sig to not 0 \n",
    "def select_1d_max_with_interp(display_names, dfs, start, increment, name, interp, base_qry, base_df, base_val, path, qrel_path, rel_level, metrics=None):\n",
    "    measure_max = {}\n",
    "    for i in range(len(display_names)):\n",
    "        for j in range(1, len(dfs[i])):\n",
    "            for m in dfs[i][j].index:\n",
    "                if m not in metrics: \n",
    "                    continue \n",
    "                val = dfs[i][j][m]\n",
    "                if (display_names[i], metrics[m]) not in measure_max: \n",
    "                    measure_max[(display_names[i], metrics[m])] = {'-': val, name: '{0:.2f}'.format(j*increment+start)}\n",
    "                else: \n",
    "                    if measure_max[(display_names[i], metrics[m])]['-'] < val:\n",
    "                        measure_max[(display_names[i], metrics[m])] = {'-': val, name: '{0:.2f}'.format(j*increment+start)}\n",
    "\n",
    "    back_metric = {v: k for k, v in metrics.items()}\n",
    "    for k, v in measure_max.items():\n",
    "        if k[1] == 'Unjudged@20':\n",
    "            continue\n",
    "        _l = float(v[name])\n",
    "        if _l == 0.00:\n",
    "            v['-'] = '{0:.4f}'.format(v['-'])\n",
    "        else:\n",
    "            print(path, k[0])\n",
    "            interp.interpolate(path.format(k[0]), _l, 'tmp.run')\n",
    "            comp = load_dfs(qrel_path, rel_level, '', ['tmp.run'], per_query=True)[0]\n",
    "            p = stats.ttest_rel(base_qry[back_metric[k[1]]], comp[back_metric[k[1]]]).pvalue\n",
    "            if p < 0.01:\n",
    "                v['-'] = '{0:.4f}'.format(v['-'])+'$^{**}$'\n",
    "            elif p < 0.05:\n",
    "                v['-'] = '{0:.4f}'.format(v['-'])+'$^{*}$'\n",
    "            else:\n",
    "                v['-'] = '{0:.4f}'.format(v['-'])\n",
    "                \n",
    "        \n",
    "    for x in base_df.items():\n",
    "        if x[0] not in metrics: \n",
    "            continue\n",
    "        measure_max[('base', metrics[x[0]])] = {'-': '{0:.4f}'.format(x[1]), name: '{0:.2f}'.format(base_val)}\n",
    "        \n",
    "    max_df = pd.DataFrame.from_dict(measure_max).stack().unstack(level=0)\n",
    "    return max_df.reindex(list(metrics.values()))"
   ]
  },
  {
   "cell_type": "code",
   "execution_count": 20,
   "metadata": {},
   "outputs": [
    {
     "ename": "IndexError",
     "evalue": "list index out of range",
     "output_type": "error",
     "traceback": [
      "\u001b[0;31m---------------------------------------------------------------------------\u001b[0m",
      "\u001b[0;31mIndexError\u001b[0m                                Traceback (most recent call last)",
      "\u001b[0;32m<ipython-input-20-fc01c27f88cf>\u001b[0m in \u001b[0;36m<module>\u001b[0;34m\u001b[0m\n\u001b[0;32m----> 1\u001b[0;31m \u001b[0mphrase_interp_max\u001b[0m \u001b[0;34m=\u001b[0m \u001b[0mselect_1d_max_with_interp\u001b[0m\u001b[0;34m(\u001b[0m\u001b[0;34m[\u001b[0m\u001b[0;36m300\u001b[0m\u001b[0;34m,\u001b[0m \u001b[0;36m1050\u001b[0m\u001b[0;34m,\u001b[0m \u001b[0;36m3000\u001b[0m\u001b[0;34m]\u001b[0m\u001b[0;34m,\u001b[0m \u001b[0mdfs\u001b[0m\u001b[0;34m,\u001b[0m \u001b[0;36m0.0\u001b[0m\u001b[0;34m,\u001b[0m \u001b[0;36m0.01\u001b[0m\u001b[0;34m,\u001b[0m \u001b[0;34m'$\\lambda$'\u001b[0m\u001b[0;34m,\u001b[0m \u001b[0minter\u001b[0m\u001b[0;34m,\u001b[0m \u001b[0mbase_qry\u001b[0m\u001b[0;34m,\u001b[0m \u001b[0mbase_df\u001b[0m\u001b[0;34m,\u001b[0m \u001b[0;36m1050\u001b[0m\u001b[0;34m,\u001b[0m \u001b[0mos\u001b[0m\u001b[0;34m.\u001b[0m\u001b[0mpath\u001b[0m\u001b[0;34m.\u001b[0m\u001b[0mjoin\u001b[0m\u001b[0;34m(\u001b[0m\u001b[0mos\u001b[0m\u001b[0;34m.\u001b[0m\u001b[0menviron\u001b[0m\u001b[0;34m[\u001b[0m\u001b[0;34m\"HOME\"\u001b[0m\u001b[0;34m]\u001b[0m\u001b[0;34m,\u001b[0m \u001b[0;34m'go/src/github.com/dan-locke/phd/phrase-score/case-topics-phrase-scoring-mu-{0:.2f}.run'\u001b[0m\u001b[0;34m)\u001b[0m\u001b[0;34m,\u001b[0m \u001b[0mconfig\u001b[0m\u001b[0;34m.\u001b[0m\u001b[0mAUS_QREL_PATH\u001b[0m\u001b[0;34m,\u001b[0m \u001b[0mconfig\u001b[0m\u001b[0;34m.\u001b[0m\u001b[0mAUS_REL_LEVEL\u001b[0m\u001b[0;34m,\u001b[0m \u001b[0mmetrics\u001b[0m\u001b[0;34m=\u001b[0m\u001b[0mmetrics\u001b[0m\u001b[0;34m)\u001b[0m\u001b[0;34m.\u001b[0m\u001b[0mT\u001b[0m\u001b[0;34m\u001b[0m\u001b[0;34m\u001b[0m\u001b[0m\n\u001b[0m",
      "\u001b[0;32m<ipython-input-19-2dae5adf6b9a>\u001b[0m in \u001b[0;36mselect_1d_max_with_interp\u001b[0;34m(display_names, dfs, start, increment, name, interp, base_qry, base_df, base_val, path, qrel_path, rel_level, metrics)\u001b[0m\n\u001b[1;32m      3\u001b[0m     \u001b[0mmeasure_max\u001b[0m \u001b[0;34m=\u001b[0m \u001b[0;34m{\u001b[0m\u001b[0;34m}\u001b[0m\u001b[0;34m\u001b[0m\u001b[0;34m\u001b[0m\u001b[0m\n\u001b[1;32m      4\u001b[0m     \u001b[0;32mfor\u001b[0m \u001b[0mi\u001b[0m \u001b[0;32min\u001b[0m \u001b[0mrange\u001b[0m\u001b[0;34m(\u001b[0m\u001b[0mlen\u001b[0m\u001b[0;34m(\u001b[0m\u001b[0mdisplay_names\u001b[0m\u001b[0;34m)\u001b[0m\u001b[0;34m)\u001b[0m\u001b[0;34m:\u001b[0m\u001b[0;34m\u001b[0m\u001b[0;34m\u001b[0m\u001b[0m\n\u001b[0;32m----> 5\u001b[0;31m         \u001b[0;32mfor\u001b[0m \u001b[0mj\u001b[0m \u001b[0;32min\u001b[0m \u001b[0mrange\u001b[0m\u001b[0;34m(\u001b[0m\u001b[0;36m1\u001b[0m\u001b[0;34m,\u001b[0m \u001b[0mlen\u001b[0m\u001b[0;34m(\u001b[0m\u001b[0mdfs\u001b[0m\u001b[0;34m[\u001b[0m\u001b[0mi\u001b[0m\u001b[0;34m]\u001b[0m\u001b[0;34m)\u001b[0m\u001b[0;34m)\u001b[0m\u001b[0;34m:\u001b[0m\u001b[0;34m\u001b[0m\u001b[0;34m\u001b[0m\u001b[0m\n\u001b[0m\u001b[1;32m      6\u001b[0m             \u001b[0;32mfor\u001b[0m \u001b[0mm\u001b[0m \u001b[0;32min\u001b[0m \u001b[0mdfs\u001b[0m\u001b[0;34m[\u001b[0m\u001b[0mi\u001b[0m\u001b[0;34m]\u001b[0m\u001b[0;34m[\u001b[0m\u001b[0mj\u001b[0m\u001b[0;34m]\u001b[0m\u001b[0;34m.\u001b[0m\u001b[0mindex\u001b[0m\u001b[0;34m:\u001b[0m\u001b[0;34m\u001b[0m\u001b[0;34m\u001b[0m\u001b[0m\n\u001b[1;32m      7\u001b[0m                 \u001b[0;32mif\u001b[0m \u001b[0mm\u001b[0m \u001b[0;32mnot\u001b[0m \u001b[0;32min\u001b[0m \u001b[0mmetrics\u001b[0m\u001b[0;34m:\u001b[0m\u001b[0;34m\u001b[0m\u001b[0;34m\u001b[0m\u001b[0m\n",
      "\u001b[0;31mIndexError\u001b[0m: list index out of range"
     ]
    }
   ],
   "source": [
    "phrase_interp_max = select_1d_max_with_interp([300, 1050, 3000], dfs, 0.0, 0.01, '$\\lambda$', inter, base_qry, base_df, 1050, os.path.join(os.environ[\"HOME\"], 'go/src/github.com/dan-locke/phd/phrase-score/case-topics-phrase-scoring-mu-{0:.2f}.run'), config.AUS_QREL_PATH, config.AUS_REL_LEVEL, metrics=metrics).T"
   ]
  },
  {
   "cell_type": "code",
   "execution_count": 89,
   "metadata": {},
   "outputs": [
    {
     "data": {
      "text/html": [
       "<div>\n",
       "<style scoped>\n",
       "    .dataframe tbody tr th:only-of-type {\n",
       "        vertical-align: middle;\n",
       "    }\n",
       "\n",
       "    .dataframe tbody tr th {\n",
       "        vertical-align: top;\n",
       "    }\n",
       "\n",
       "    .dataframe thead th {\n",
       "        text-align: right;\n",
       "    }\n",
       "</style>\n",
       "<table border=\"1\" class=\"dataframe\">\n",
       "  <thead>\n",
       "    <tr style=\"text-align: right;\">\n",
       "      <th></th>\n",
       "      <th></th>\n",
       "      <th>RR</th>\n",
       "      <th>ERR@20</th>\n",
       "      <th>R@20</th>\n",
       "      <th>NDCG</th>\n",
       "      <th>RBP</th>\n",
       "      <th>Unjudged@20</th>\n",
       "    </tr>\n",
       "  </thead>\n",
       "  <tbody>\n",
       "    <tr>\n",
       "      <th rowspan=\"2\" valign=\"top\">300</th>\n",
       "      <th>$\\lambda$</th>\n",
       "      <td>0.05</td>\n",
       "      <td>0.06</td>\n",
       "      <td>0.12</td>\n",
       "      <td>0.05</td>\n",
       "      <td>0.07</td>\n",
       "      <td>0.99</td>\n",
       "    </tr>\n",
       "    <tr>\n",
       "      <th>-</th>\n",
       "      <td>0.5156</td>\n",
       "      <td>0.3367</td>\n",
       "      <td>0.4513</td>\n",
       "      <td>0.4311</td>\n",
       "      <td>0.2848$^{*}$</td>\n",
       "      <td>6.18947</td>\n",
       "    </tr>\n",
       "    <tr>\n",
       "      <th rowspan=\"2\" valign=\"top\">1050</th>\n",
       "      <th>$\\lambda$</th>\n",
       "      <td>0.05</td>\n",
       "      <td>0.06</td>\n",
       "      <td>0.11</td>\n",
       "      <td>0.06</td>\n",
       "      <td>0.06</td>\n",
       "      <td>0.99</td>\n",
       "    </tr>\n",
       "    <tr>\n",
       "      <th>-</th>\n",
       "      <td>0.5162</td>\n",
       "      <td>0.3378</td>\n",
       "      <td>0.4528</td>\n",
       "      <td>0.4320</td>\n",
       "      <td>0.2865</td>\n",
       "      <td>6.06316</td>\n",
       "    </tr>\n",
       "    <tr>\n",
       "      <th rowspan=\"2\" valign=\"top\">3000</th>\n",
       "      <th>$\\lambda$</th>\n",
       "      <td>0.06</td>\n",
       "      <td>0.03</td>\n",
       "      <td>0.09</td>\n",
       "      <td>0.06</td>\n",
       "      <td>0.06</td>\n",
       "      <td>0.99</td>\n",
       "    </tr>\n",
       "    <tr>\n",
       "      <th>-</th>\n",
       "      <td>0.5167</td>\n",
       "      <td>0.3408</td>\n",
       "      <td>0.4523</td>\n",
       "      <td>0.4327</td>\n",
       "      <td>0.2868</td>\n",
       "      <td>6.08421</td>\n",
       "    </tr>\n",
       "    <tr>\n",
       "      <th rowspan=\"2\" valign=\"top\">base</th>\n",
       "      <th>$\\lambda$</th>\n",
       "      <td>1050.00</td>\n",
       "      <td>1050.00</td>\n",
       "      <td>1050.00</td>\n",
       "      <td>1050.00</td>\n",
       "      <td>1050.00</td>\n",
       "      <td>1050.00</td>\n",
       "    </tr>\n",
       "    <tr>\n",
       "      <th>-</th>\n",
       "      <td>0.5570</td>\n",
       "      <td>0.3747</td>\n",
       "      <td>0.4706</td>\n",
       "      <td>0.4516</td>\n",
       "      <td>0.3062</td>\n",
       "      <td>2.7895</td>\n",
       "    </tr>\n",
       "  </tbody>\n",
       "</table>\n",
       "</div>"
      ],
      "text/plain": [
       "                     RR   ERR@20     R@20     NDCG           RBP Unjudged@20\n",
       "300  $\\lambda$     0.05     0.06     0.12     0.05          0.07        0.99\n",
       "     -           0.5156   0.3367   0.4513   0.4311  0.2848$^{*}$     6.18947\n",
       "1050 $\\lambda$     0.05     0.06     0.11     0.06          0.06        0.99\n",
       "     -           0.5162   0.3378   0.4528   0.4320        0.2865     6.06316\n",
       "3000 $\\lambda$     0.06     0.03     0.09     0.06          0.06        0.99\n",
       "     -           0.5167   0.3408   0.4523   0.4327        0.2868     6.08421\n",
       "base $\\lambda$  1050.00  1050.00  1050.00  1050.00       1050.00     1050.00\n",
       "     -           0.5570   0.3747   0.4706   0.4516        0.3062      2.7895"
      ]
     },
     "execution_count": 89,
     "metadata": {},
     "output_type": "execute_result"
    }
   ],
   "source": [
    "phrase_interp_max"
   ]
  },
  {
   "cell_type": "code",
   "execution_count": null,
   "metadata": {},
   "outputs": [],
   "source": []
  }
 ],
 "metadata": {
  "kernelspec": {
   "display_name": "Python 3",
   "language": "python",
   "name": "python3"
  },
  "language_info": {
   "codemirror_mode": {
    "name": "ipython",
    "version": 3
   },
   "file_extension": ".py",
   "mimetype": "text/x-python",
   "name": "python",
   "nbconvert_exporter": "python",
   "pygments_lexer": "ipython3",
   "version": "3.8.10"
  }
 },
 "nbformat": 4,
 "nbformat_minor": 4
}
