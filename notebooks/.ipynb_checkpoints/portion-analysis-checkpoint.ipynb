{
 "cells": [
  {
   "cell_type": "code",
   "execution_count": 1,
   "metadata": {},
   "outputs": [],
   "source": [
    "%matplotlib inline\n",
    "\n",
    "import sys \n",
    "import os \n",
    "\n",
    "nb_dir = os.getcwd()\n",
    "if nb_dir not in sys.path:\n",
    "    sys.path.append(nb_dir)\n",
    "\n",
    "from plotlib.loaders import *\n",
    "from plotlib.plotters import *\n",
    "\n",
    "from phdconf import config \n",
    "\n",
    "ylims=[0.67, 0.45, 0.60, 0.59, 0.38]"
   ]
  },
  {
   "cell_type": "code",
   "execution_count": 2,
   "metadata": {},
   "outputs": [],
   "source": [
    "queries = load_queries(config.AUS_TOPIC_PATH)\n",
    "broad, specific = load_query_types(queries)\n",
    "law, fact, generic = load_query_focus_types(queries)"
   ]
  },
  {
   "cell_type": "code",
   "execution_count": 3,
   "metadata": {},
   "outputs": [],
   "source": [
    "BASE_DIR = os.path.join(os.environ[\"HOME\"], 'phd-generated')"
   ]
  },
  {
   "cell_type": "code",
   "execution_count": 4,
   "metadata": {},
   "outputs": [],
   "source": [
    "index_names = ['case-topics']\n",
    "qrel_paths = [config.AUS_QREL_PATH]\n",
    "rel_levels = [config.AUS_REL_LEVEL]\n",
    "display_names = ['AUS']\n",
    "\n",
    "_dir = os.path.join(BASE_DIR, \"portions\")"
   ]
  },
  {
   "cell_type": "code",
   "execution_count": 5,
   "metadata": {},
   "outputs": [],
   "source": [
    "base_res = load_1d_dfs(['filtered-phrasestop'], qrel_paths, os.path.join(BASE_DIR, 'preprocessing', 'dirichlet_prior'), 'case-topics-{0}-unigram_dir_mu_{1:.2f}.run', rel_levels, 1050, 1050, 1)[0][0]\n",
    "base_qry = load_1d_dfs(['filtered-phrasestop'], qrel_paths, os.path.join(BASE_DIR, 'preprocessing', 'dirichlet_prior'), 'case-topics-{0}-unigram_dir_mu_{1:.2f}.run', rel_levels, 1050, 1050, 1, per_query=True)[0][0]"
   ]
  },
  {
   "cell_type": "code",
   "execution_count": null,
   "metadata": {},
   "outputs": [],
   "source": [
    "interped_dfs = []\n",
    "\n",
    "inter = Interpolater(os.path.join(BASE_DIR, 'portions', 'case-topics-fact.run'))\n",
    "for _lambda in np.arange(0, 1.01, 0.01):\n",
    "    inter.interpolate(os.path.join(BASE_DIR, 'portions', 'case-topics-law.run'), _lambda, 'tmp.run')\n",
    "    interped_dfs.append(load_dfs(config.AUS_QREL_PATH, config.AUS_REL_LEVEL, '', ['tmp.run'])[0])"
   ]
  },
  {
   "cell_type": "code",
   "execution_count": null,
   "metadata": {},
   "outputs": [],
   "source": [
    "metrics = copy.copy(config.METRIC_NAMES)\n",
    "del metrics['recall_100']"
   ]
  },
  {
   "cell_type": "code",
   "execution_count": null,
   "metadata": {},
   "outputs": [],
   "source": [
    "plot = plot_tune_1d_comp(['base', 'portion'], metrics, [[base_res for x in range(len(interped_dfs))], interped_dfs], 0.0, 1.0, 0.01, legend_y = 0.35, styles=['--'], ylims=ylims)"
   ]
  },
  {
   "cell_type": "code",
   "execution_count": null,
   "metadata": {},
   "outputs": [],
   "source": [
    "plot.savefig('figures/ausnl-portion-interp.pdf')"
   ]
  },
  {
   "cell_type": "code",
   "execution_count": null,
   "metadata": {},
   "outputs": [],
   "source": [
    "len_max = select_1d_max_with_interp(['portion'], [interped_dfs], 0.0, 0.01, '$\\lambda$', inter, base_qry, base_res, 1050, os.path.join(BASE_DIR, 'portions', 'case-topics-law.run'), config.AUS_QREL_PATH, config.AUS_REL_LEVEL, metrics=metrics).T"
   ]
  },
  {
   "cell_type": "code",
   "execution_count": null,
   "metadata": {},
   "outputs": [],
   "source": [
    "write_table('tables/best-portion', bold_max(len_max).drop(['Unjudged@20'], axis='columns').to_latex(escape=False))"
   ]
  },
  {
   "cell_type": "code",
   "execution_count": null,
   "metadata": {},
   "outputs": [],
   "source": [
    "inter.interpolate(os.path.join(BASE_DIR, 'portions', 'case-topics-law.run'), 0.2, 'optimal-portion.run')\n",
    "inter2 = Interpolater(os.path.join(BASE_DIR, 'preprocessing', 'dirichlet_prior', 'case-topics-filtered-phrasestop-unigram_dir_mu_1050.00.run'), normalize=True)\n",
    "interped2_dfs = []\n",
    "fact_dfs = []\n",
    "law_dfs = []\n",
    "for _lambda in np.arange(0, 1.01, 0.01):\n",
    "    inter2.interpolate('optimal-portion.run', _lambda, 'tmp.run')\n",
    "    interped2_dfs.append(load_dfs(config.AUS_QREL_PATH, config.AUS_REL_LEVEL, '', ['tmp.run'])[0])\n",
    "    \n",
    "    inter2.interpolate(os.path.join(BASE_DIR, 'portions', 'case-topics-fact.run'), _lambda, 'tmp.run')\n",
    "    fact_dfs.append(load_dfs(config.AUS_QREL_PATH, config.AUS_REL_LEVEL, '', ['tmp.run'])[0])\n",
    "    \n",
    "    inter2.interpolate(os.path.join(BASE_DIR, 'portions', 'case-topics-law.run'), _lambda, 'tmp.run')\n",
    "    law_dfs.append(load_dfs(config.AUS_QREL_PATH, config.AUS_REL_LEVEL, '', ['tmp.run'])[0])"
   ]
  },
  {
   "cell_type": "code",
   "execution_count": null,
   "metadata": {},
   "outputs": [],
   "source": [
    "len_max = select_1d_max_with_interp(['interp', 'law'], [interped2_dfs, law_dfs], 0.0, 0.01, '$\\lambda$', inter2, base_qry, base_res, 1050, os.path.join(BASE_DIR, 'portions', 'case-topics-law.run'), config.AUS_QREL_PATH, config.AUS_REL_LEVEL, metrics=metrics).T"
   ]
  },
  {
   "cell_type": "code",
   "execution_count": null,
   "metadata": {},
   "outputs": [],
   "source": [
    "print(len_max.drop(['Unjudged@20'], axis='columns').to_latex(escape=False))"
   ]
  },
  {
   "cell_type": "code",
   "execution_count": null,
   "metadata": {},
   "outputs": [],
   "source": [
    "to = 20\n",
    "plot2 = plot_tune_1d_comp(['base', 'interp', 'fact', 'law'], metrics, [[base_res for x in range(len(interped2_dfs[:to+1]))], interped2_dfs[:to+1], fact_dfs[:to+1], law_dfs[:to+1]], 0.0, to/100, 0.01, styles=['--'], ylims=ylims, legend_x=0.91)"
   ]
  },
  {
   "cell_type": "code",
   "execution_count": null,
   "metadata": {},
   "outputs": [],
   "source": [
    "plot2.savefig('figures/ausnl-portion-base-interp.pdf')"
   ]
  },
  {
   "cell_type": "code",
   "execution_count": null,
   "metadata": {},
   "outputs": [],
   "source": []
  },
  {
   "cell_type": "code",
   "execution_count": null,
   "metadata": {},
   "outputs": [],
   "source": [
    "tt_folds = read_folds('ausnl-folds.txt')"
   ]
  },
  {
   "cell_type": "code",
   "execution_count": null,
   "metadata": {},
   "outputs": [],
   "source": [
    "# inter.interpolate(os.path.join(BASE_DIR, 'portions', 'case-topics-law.run'), 0.17, 'optimal-portion.run')\n",
    "inter2 = Interpolater(os.path.join(BASE_DIR, 'preprocessing', 'dirichlet_prior', 'case-topics-filtered-phrasestop-unigram_dir_mu_1050.00.run'), normalize=True)\n",
    "interped2_dfs = []\n",
    "fact_dfs = []\n",
    "law_dfs = []\n",
    "for _lambda in np.arange(0, 1.01, 0.01):\n",
    "    inter2.interpolate('optimal-portion.run', _lambda, 'tmp.run')\n",
    "    interped2_dfs.append(load_dfs(config.AUS_QREL_PATH, config.AUS_REL_LEVEL, '', ['tmp.run'], per_query=True)[0])\n",
    "    \n",
    "    inter2.interpolate(os.path.join(BASE_DIR, 'portions', 'case-topics-law.run'), _lambda, 'tmp.run')\n",
    "    law_dfs.append(load_dfs(config.AUS_QREL_PATH, config.AUS_REL_LEVEL, '', ['tmp.run'], per_query=True)[0])\n",
    "    \n",
    "    inter2.interpolate(os.path.join(BASE_DIR, 'portions', 'case-topics-fact.run'), _lambda, 'tmp.run')\n",
    "    fact_dfs.append(load_dfs(config.AUS_QREL_PATH, config.AUS_REL_LEVEL, '', ['tmp.run'], per_query=True)[0])"
   ]
  },
  {
   "cell_type": "code",
   "execution_count": null,
   "metadata": {},
   "outputs": [],
   "source": [
    "cv_df = pd.DataFrame(columns=config.METRIC_NAMES)\n",
    "\n",
    "for ab, runs in zip(['portion', 'fact', 'law'],[interped2_dfs, fact_dfs, law_dfs]):\n",
    "    cross = cross_validation(runs, tt_folds, config.METRIC_NAMES, base_qry)\n",
    "    cv_df.loc[ab] = cross[0]\n",
    "    \n",
    "cv_df.loc['$R$'] = ['{:.4f}'.format(base_res[m]) for m in config.METRIC_NAMES]\n",
    "cv_df = cv_df.reindex(['$R$', 'portion', 'fact', 'law'])\n",
    "write_table('tables/ausnl-portion', bold_max(cv_df).drop(['unjudged@20', 'recall_100'],axis='columns').rename(config.METRIC_NAMES, axis='columns').to_latex(escape=False))"
   ]
  },
  {
   "cell_type": "markdown",
   "metadata": {},
   "source": [
    "## Compare portion to para effectiveness"
   ]
  },
  {
   "cell_type": "code",
   "execution_count": null,
   "metadata": {},
   "outputs": [],
   "source": [
    "# max for err@20\n",
    "\n",
    "om = copy.copy(config.METRIC_NAMES)\n",
    "del om['recall_100']\n",
    "del om['unjudged@20']\n",
    "# read both runs into array and join and subtract portion \n",
    "interps = list(map(float, len_max.loc['law', '$\\lambda$'].values))\n",
    "para_interps = [0.04, 0.0, 0.02, 0.04, 0.02]\n",
    "\n",
    "cols = om.keys()\n",
    "\n",
    "a = pd.DataFrame()\n",
    "b = pd.DataFrame()\n",
    "\n",
    "comp = load_dfs(config.AUS_QREL_PATH, config.AUS_REL_LEVEL, '', ['tmp.run'], per_query=True)[0]\n",
    "run_names = ['case-topics-top-2-paras-rerank-dir-mu-300.00.run']#, 'case-topics-para-rerank-window-50-context-dir-mu-300.00.run']\n",
    "for r in run_names:\n",
    "    for j, c in zip(interps, cols):\n",
    "        inter2.interpolate(os.path.join(BASE_DIR, 'portions', 'case-topics-law.run'), j, 'tmp.run')\n",
    "        a[c] = load_dfs(config.AUS_QREL_PATH, config.AUS_REL_LEVEL, '', ['tmp.run'], per_query=True)[0][c]\n",
    "    \n",
    "    for j, c in zip(para_interps, cols):\n",
    "        inter2.interpolate(os.path.join(BASE_DIR, 'dirichlet_prior', 'case-topics-top-2-paras-rerank-dir-mu-300.00.run'), j, 'tmp.run')\n",
    "        b[c] = load_dfs(config.AUS_QREL_PATH, config.AUS_REL_LEVEL, '', ['tmp.run'], per_query=True)[0][c]\n",
    "    \n",
    "    qry_comp_df = a-b\n",
    "    qry_comp_fig = qry_comp_df[om.keys()].rename(metrics, axis='columns').plot.box(fontsize=15, boxprops=dict(linestyle='-', linewidth=2), medianprops=dict(linestyle='-', linewidth=2), color=dict(boxes='black', whiskers='black', medians='b', caps='r'),figsize=(16, 4)).axhline(y=0, xmin=0.0, xmax=1.0, linestyle='--', linewidth=1.0, color='grey')\n",
    "    qry_comp_fig.get_figure().savefig('figures/ausnl-para-portion-qry-comp.pdf')\n"
   ]
  },
  {
   "cell_type": "code",
   "execution_count": null,
   "metadata": {},
   "outputs": [],
   "source": [
    "#from scipy.stats import linregress\n"
   ]
  },
  {
   "cell_type": "code",
   "execution_count": 19,
   "metadata": {},
   "outputs": [],
   "source": [
    "# def get_regress(dfs, df_names):\n",
    "#     out = {}\n",
    "#     y = np.arange(0.0, 1.05, 0.05)\n",
    "#     for (i, df) in enumerate(dfs):\n",
    "#         for metric in config.METRIC_NAMES:\n",
    "#             res = linregress([x[metric] for x in df], y)\n",
    "#             # print(res, res[0], res[2])\n",
    "# #             print(metric, df_names[i])\n",
    "#             out[(df_names[i], metric)] = {'slope': res[0], 'r': res[2]}\n",
    "\n",
    "#     df = pd.DataFrame.from_dict(out).stack().unstack(level=0)\n",
    "#     print(df)\n",
    "# get_regress(fact_dfs+law_dfs+generic_dfs, ['fact', 'law', 'generic'])"
   ]
  },
  {
   "cell_type": "code",
   "execution_count": 20,
   "metadata": {},
   "outputs": [],
   "source": [
    "# import subprocess \n",
    "# def get_unjudged(qrel_path: str, path: str):\n",
    "    \n",
    "#     args = ['trec_eval', '-q', qrel_path, path, '-m', 'relstring.10']\n",
    "# #     args[0] = os.path.join(TREC_FILE_PATH, args[0])\n",
    "#     res = subprocess.check_output(args)\n",
    "#     ret = []\n",
    "#     for line in res.decode('utf-8').split('\\n'):\n",
    "#         if line == '':\n",
    "#             break\n",
    "#         parts = line.split()\n",
    "#         # add 1 for the quotation mark\n",
    "#         print(parts[2])\n",
    "#         unjudged = parts[2].count('-')\n",
    "#         nonrel = parts[2].count('0')\n",
    "            \n",
    "# #         # add 1 for the quotation mark\n",
    "# #         unjudged_at_10 = parts[2][:11].count('-')\n",
    "# #         nonrel_at_10 = parts[2][:11].count('0')\n",
    "    \n",
    "# #         ret.append((parts[1], unjudged, nonrel, unjudged_at_10, nonrel_at_10))\n",
    "        \n",
    "# get_unjudged(config.AUS_QREL_PATH, os.path.join(_dir, 'case-topics-fl-interp-0.90.run'))"
   ]
  },
  {
   "cell_type": "code",
   "execution_count": 21,
   "metadata": {},
   "outputs": [],
   "source": [
    "# dfs_query= load_1d_dfs(index_names, qrel_paths, _dir, '{0}-fl-interp-{1:.2f}.run', rel_levels, 0, 1.05, 0.05, per_query=True)\n",
    "# baseline = load_1d_dfs(index_names, qrel_paths, os.path.join(BASE_DIR, 'dirichlet_prior'), '{0}-filtered-stop-unigram_dir_mu_{1:.2f}.run', rel_levels, 2900, 2901, 1, per_query=True)"
   ]
  },
  {
   "cell_type": "code",
   "execution_count": 22,
   "metadata": {},
   "outputs": [],
   "source": [
    "# plot_diff_query_ind(dfs_query[0], baseline[0], -1, config.METRIC_NAMES, queries, True)"
   ]
  },
  {
   "cell_type": "code",
   "execution_count": 29,
   "metadata": {},
   "outputs": [],
   "source": [
    "# import subprocess\n",
    "\n",
    "# runs = [os.path.join(BASE_DIR, 'dirichlet_prior', 'case-topics-filtered-stop-unigram_dir_mu_2900.00.run'), os.path.join(_dir, 'case-topics-fl-interp-1.00.run'), os.path.join(_dir, 'case-topics-fl-interp-0.00.run')]\n",
    "# comb_method = ['combmax', 'combanz', 'combmed', 'combmin', 'combmax', 'combmnz', 'combsum']\n",
    "# for method in comb_method:\n",
    "#     f = open(\"{0}-tmp.run\".format(method), \"w\")\n",
    "#     subprocess.call(['polyfuse', method, '-n', 'std'] + runs, stdout=f)\n",
    "#     f.close()"
   ]
  },
  {
   "cell_type": "code",
   "execution_count": 30,
   "metadata": {},
   "outputs": [],
   "source": [
    "# comb_method_dfs = load_dfs(config.AUS_QREL_PATH, config.AUS_REL_LEVEL, '.', ['{0}-tmp.run'.format(x) for x in comb_method])\n",
    "# print(pd.DataFrame.from_dict({k: comb_method_dfs[i] for i, k in enumerate(comb_method)}))"
   ]
  },
  {
   "cell_type": "code",
   "execution_count": 31,
   "metadata": {},
   "outputs": [],
   "source": [
    "# queries"
   ]
  },
  {
   "cell_type": "code",
   "execution_count": null,
   "metadata": {},
   "outputs": [],
   "source": []
  },
  {
   "cell_type": "code",
   "execution_count": null,
   "metadata": {},
   "outputs": [],
   "source": []
  }
 ],
 "metadata": {
  "kernelspec": {
   "display_name": "Python 3",
   "language": "python",
   "name": "python3"
  },
  "language_info": {
   "codemirror_mode": {
    "name": "ipython",
    "version": 3
   },
   "file_extension": ".py",
   "mimetype": "text/x-python",
   "name": "python",
   "nbconvert_exporter": "python",
   "pygments_lexer": "ipython3",
   "version": "3.7.5"
  }
 },
 "nbformat": 4,
 "nbformat_minor": 4
}
