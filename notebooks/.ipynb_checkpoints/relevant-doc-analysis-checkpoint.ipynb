{
 "cells": [
  {
   "cell_type": "code",
   "execution_count": 2,
   "metadata": {},
   "outputs": [],
   "source": [
    "import json"
   ]
  },
  {
   "cell_type": "code",
   "execution_count": 6,
   "metadata": {},
   "outputs": [],
   "source": [
    "def load_queries(path: str):  \n",
    "    queries = {}\n",
    "    with open(path) as f:\n",
    "        data = json.load(f)\n",
    "        for topic in data['topics']:\n",
    "            queries[topic['id']] = {'topic': topic['topic'], 'type': topic['type']}\n",
    "    return queries\n",
    "\n",
    "def load_qrel(path: str, rel: bool=False):\n",
    "    qrels = {}\n",
    "    with open(path) as f:\n",
    "        for line in f:\n",
    "            parts = line.strip().split()\n",
    "            if int(parts[0]) not in qrels:\n",
    "                qrels[int(parts[0])] = set()\n",
    "            if rel:\n",
    "                if parts[3] == '1':\n",
    "                    qrels[int(parts[0])].add(parts[2])\n",
    "            else:\n",
    "                qrels[int(parts[0])].add(parts[2])\n",
    "            \n",
    "    return qrels\n",
    "\n",
    "def load_relevant_docs(path: str): \n",
    "    with open(path) as f: \n",
    "        return json.load(f)\n",
    "        "
   ]
  },
  {
   "cell_type": "code",
   "execution_count": 3,
   "metadata": {},
   "outputs": [],
   "source": [
    "queries = load_queries('/Users/danlocke/Desktop/case-topics.json')"
   ]
  },
  {
   "cell_type": "code",
   "execution_count": 5,
   "metadata": {},
   "outputs": [],
   "source": [
    "qrels = load_qrel('/Users/danlocke/go/src/github.com/dan-locke/phd-data/aus/comb-aus.txt', True)"
   ]
  },
  {
   "cell_type": "code",
   "execution_count": 7,
   "metadata": {},
   "outputs": [],
   "source": [
    "rel_docs = load_relevant_docs('/Users/danlocke/go/src/github.com/dan-locke/phd/experiments/relevant-docs.json')"
   ]
  },
  {
   "cell_type": "code",
   "execution_count": 20,
   "metadata": {},
   "outputs": [
    {
     "name": "stdout",
     "output_type": "stream",
     "text": [
      "['what', 'is', 'the', 'effect', 'of', 'reinstating', 'a', 'company', 'that', 'was', 'in', 'liquidation', 'as', 'regards', 'money', 'that', 'may', 'be', 'recovered']\n"
     ]
    }
   ],
   "source": [
    "# a lazy simple version of the query tokenization \n",
    "import re\n",
    "\n",
    "print(re.sub('[^0-9a-zA-Z]+', ' ', queries[1]['topic']).lower().split()\n",
    "\n",
    "# print(rel_docs['2000FCA120'])"
   ]
  },
  {
   "cell_type": "code",
   "execution_count": null,
   "metadata": {},
   "outputs": [],
   "source": []
  }
 ],
 "metadata": {
  "kernelspec": {
   "display_name": "Python 3",
   "language": "python",
   "name": "python3"
  },
  "language_info": {
   "codemirror_mode": {
    "name": "ipython",
    "version": 3
   },
   "file_extension": ".py",
   "mimetype": "text/x-python",
   "name": "python",
   "nbconvert_exporter": "python",
   "pygments_lexer": "ipython3",
   "version": "3.6.1"
  }
 },
 "nbformat": 4,
 "nbformat_minor": 4
}
