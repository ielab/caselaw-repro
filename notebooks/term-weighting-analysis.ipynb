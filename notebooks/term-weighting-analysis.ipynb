{
 "cells": [
  {
   "cell_type": "code",
   "execution_count": null,
   "metadata": {},
   "outputs": [],
   "source": [
    "%matplotlib inline\n",
    "\n",
    "import copy\n",
    "import sys \n",
    "import os \n",
    "\n",
    "nb_dir = os.getcwd()\n",
    "if nb_dir not in sys.path:\n",
    "    sys.path.append(nb_dir)\n",
    "\n",
    "from plotlib.loaders import *\n",
    "from plotlib.plotters import *\n",
    "\n",
    "\n",
    "from phdconf import config\n",
    "from phdconf.config import *"
   ]
  },
  {
   "cell_type": "code",
   "execution_count": null,
   "metadata": {},
   "outputs": [],
   "source": [
    "queries = load_queries(config.AUS_TOPIC_PATH)\n",
    "broad, specific = load_query_types(queries)\n",
    "law, fact, generic = load_query_focus_types(queries)"
   ]
  },
  {
   "cell_type": "code",
   "execution_count": null,
   "metadata": {},
   "outputs": [],
   "source": [
    "index_names = ['filtered-phrasestop']#, config.SIGIR_INDEX_NAME]\n",
    "qrel_paths = [config.AUS_QREL_PATH]#, config.SIGIR_QREL_PATH]\n",
    "rel_levels = [config.AUS_REL_LEVEL]#, config.SIGIR_REL_LEVEL]\n",
    "display_names = ['unweighted', 'weighted']#, 'SIGIR']"
   ]
  },
  {
   "cell_type": "code",
   "execution_count": null,
   "metadata": {},
   "outputs": [],
   "source": [
    "tt_folds = read_folds(AUS_FOLDS)"
   ]
  },
  {
   "cell_type": "code",
   "execution_count": null,
   "metadata": {},
   "outputs": [],
   "source": [
    "run_path = os.path.join(BASE_DIR, 'qry-weights')\n",
    "runs = ['idf-term-weight.run', 'ictf-term-weight.run', \n",
    "        'emb-term-ictf-weight.run', 'emb-term-idf-weight.run', 'emb-term-weight.run',\n",
    "        'emb-term-diff-ictf-weight.run', 'emb-term-diff-idf-weight.run', 'emb-term-diff-weight.run', \n",
    "        'avg-cooccur-weight.run', 'coocur-covariance.run']\n",
    "\n",
    "\n",
    "run_names = ['idf', 'ictf', 'emb-ictf', 'emb-idf', 'emb', 'emb-diff-ictf', 'emb-diff-idf', 'emb-diff', 'avg-cooccur', 'co-covar']"
   ]
  },
  {
   "cell_type": "code",
   "execution_count": null,
   "metadata": {},
   "outputs": [],
   "source": [
    "kli_dfs = load_1d_dfs(index_names, qrel_paths, run_path, 'kli-term-weight-{1}.run', rel_levels[0], 0, 100, 1)"
   ]
  },
  {
   "cell_type": "code",
   "execution_count": null,
   "metadata": {},
   "outputs": [],
   "source": [
    "base_df = load_1d_dfs(index_names, qrel_paths, os.path.join(BASE_DIR, 'preprocessing', 'dirichlet_prior'), 'case-topics-{0}-unigram_dir_mu_{1:.2f}.run', rel_levels, 1050, 1050, 1)[0][0]\n",
    "base_query = load_1d_dfs(index_names, qrel_paths, os.path.join(BASE_DIR,'preprocessing', 'dirichlet_prior'), 'case-topics-{0}-unigram_dir_mu_{1:.2f}.run', rel_levels, 1050, 1050, 1, per_query=True)[0][0]\n",
    "# base_query.sort_index(inplace=True)"
   ]
  },
  {
   "cell_type": "code",
   "execution_count": null,
   "metadata": {},
   "outputs": [],
   "source": [
    "plot = plot_tune_1d_comp(display_names, RERANK_METRICS, [[base_df for x in range(len(kli_dfs[0]))], kli_dfs[0]], 0, 100, 1, ylims=RERANK_YLIMS, legend_x=0.99)\n",
    "# plot.savefig('figures/kli-term-weighting.pdf')"
   ]
  },
  {
   "cell_type": "code",
   "execution_count": null,
   "metadata": {},
   "outputs": [],
   "source": [
    "kli_dfs = load_1d_dfs(index_names, qrel_paths, run_path, 'kli-term-weight-{1}.run', rel_levels[0], 0, 100, 1, per_query=True)"
   ]
  },
  {
   "cell_type": "code",
   "execution_count": null,
   "metadata": {},
   "outputs": [],
   "source": [
    "kli_df = pd.DataFrame(columns=config.METRIC_NAMES)\n",
    "\n",
    "for ab, runs in zip(['KLI'], kli_dfs):\n",
    "    cross = cross_validation(runs, tt_folds, config.METRIC_NAMES, base_query)\n",
    "    kli_df.loc[ab] = cross[0]\n",
    "    \n",
    "# cv_df.loc['R'] = ['{:.4f}'.format(base_df[m]) for m in config.METRIC_NAMES]\n",
    "# print(kli_df.drop('unjudged@20',axis='columns').rename(config.METRIC_NAMES, axis='columns').to_latex())\n",
    "kli_df"
   ]
  },
  {
   "cell_type": "code",
   "execution_count": null,
   "metadata": {},
   "outputs": [],
   "source": [
    "def plot_qry_diff(runs, qry_df, metrics, folds):\n",
    "    _max = [0.0] * len(metrics)\n",
    "#     max_inds = [0] * len(metrics)\n",
    "    qry_res = runs[0].copy(deep=True)\n",
    "    \n",
    "    for i, run in enumerate(runs):\n",
    "        for f, fold in enumerate(folds): \n",
    "            filtered = run[run.index.isin(fold[1])]\n",
    "            for j, m in enumerate(metrics.keys()):\n",
    "                v = filtered[m].mean()\n",
    "                if v > _max[j]:\n",
    "                    _max[j] = v\n",
    "#                     max_inds[j][f] = i\n",
    "                    for ind, item in run[run.index.isin(fold[0])][m].items():\n",
    "                        qry_res.loc[ind][m] = item\n",
    "    \n",
    "    qry_df.sort_index(inplace=True)        \n",
    "    qry_res.sort_index(inplace=True)\n",
    "\n",
    "    qry_comp_df = qry_res-qry_df\n",
    "    qry_comp_fig = qry_comp_df[metrics.keys()].rename(metrics, axis='columns').plot.box(fontsize=15, boxprops=dict(linestyle='-', linewidth=2), medianprops=dict(linestyle='-', linewidth=2), color=dict(boxes='black', whiskers='black', medians='b', caps='r'),figsize=(16, 4)).axhline(y=0, xmin=0.0, xmax=1.0, linestyle='--', linewidth=1.0, color='grey')\n",
    "    return qry_comp_fig\n",
    "\n",
    "kli_diff = plot_qry_diff(kli_dfs[0], base_query, RERANK_METRICS, tt_folds)\n",
    "# kli_diff.get_figure().savefig('figures/ausnl-kli-weight-qry-diff.pdf')"
   ]
  },
  {
   "cell_type": "code",
   "execution_count": null,
   "metadata": {},
   "outputs": [],
   "source": [
    "runs = ['idf-term-weight.run', 'ictf-term-weight.run', \n",
    "        'emb-term-ictf-weight.run', 'emb-term-idf-weight.run', 'emb-term-weight.run',\n",
    "        'emb-term-diff-ictf-weight.run', 'emb-term-diff-idf-weight.run', 'emb-term-diff-weight.run', \n",
    "        'avg-cooccur-weight.run', 'coocur-covariance.run']\n",
    "\n",
    "dfs = load_dfs(config.AUS_QREL_PATH, config.AUS_REL_LEVEL, run_path, runs, per_query=True)\n",
    "# dfs = [base_query] + dfs"
   ]
  },
  {
   "cell_type": "code",
   "execution_count": null,
   "metadata": {},
   "outputs": [],
   "source": [
    "cv_df = pd.DataFrame(columns=config.METRIC_NAMES)\n",
    "\n",
    "for ab, r in zip(run_names, [[x] for x in dfs]):\n",
    "    cross = cross_validation(r, tt_folds, config.METRIC_NAMES, base_query)\n",
    "    cv_df.loc[ab] = cross[0]\n",
    "    \n",
    "cv_df.loc['$R$'] = ['{:.4f}'.format(base_df[m]) for m in config.METRIC_NAMES]\n",
    "cv_df.loc['kli'] = kli_df.loc['KLI']\n",
    "# write_table('tables/term-weighting', bold_max(cv_df).drop('unjudged@20',axis='columns').rename(config.METRIC_NAMES, axis='columns').to_latex(escape=False))"
   ]
  },
  {
   "cell_type": "code",
   "execution_count": null,
   "metadata": {},
   "outputs": [],
   "source": [
    "metrics = copy.deepcopy(config.METRIC_NAMES)\n",
    "del metrics['unjudged@20']\n",
    "diff = dfs[1]-base_query\n",
    "box = diff[metrics.keys()].rename(metrics, axis='columns').plot.box(fontsize=15, boxprops=dict(linestyle='-', linewidth=2), medianprops=dict(linestyle='-', linewidth=2), color=dict(boxes='black', whiskers='black', medians='b', caps='r'),figsize=(16, 4)).axhline(y=0, xmin=0.0, xmax=1.0, linestyle='--', linewidth=1.0, color='grey')\n",
    "# box.get_figure().savefig('figures/ausnl-ictf-weight.pdf')"
   ]
  },
  {
   "cell_type": "code",
   "execution_count": null,
   "metadata": {},
   "outputs": [],
   "source": [
    "query_dfs = load_dfs(config.AUS_QREL_PATH, config.AUS_REL_LEVEL, run_path, runs, per_query=True)"
   ]
  },
  {
   "cell_type": "code",
   "execution_count": null,
   "metadata": {},
   "outputs": [],
   "source": [
    "keys = ['recip_rank', 'recall_20', 'recall_100', 'ndcg', 'rbp@0.80']\n",
    "\n",
    "def cnt_increases(run, base, keys=keys):\n",
    "    l = len(keys)\n",
    "    \n",
    "    increases = [0]*l\n",
    "    decreases = [0]*l\n",
    "    inc_all = []\n",
    "    dec_all = []\n",
    "    all_same = []\n",
    "    \n",
    "    diff = run-base\n",
    "    \n",
    "    for row in diff.iterrows():\n",
    "        _all_d = True \n",
    "        _all_i = True\n",
    "        _all_same = True\n",
    "        for i, key in enumerate(keys):   \n",
    "            if row[1][key] > 0.0:\n",
    "                increases[i] += 1\n",
    "                _all_d = False \n",
    "                _all_same = False \n",
    "            elif row[1][key] < 0.0:\n",
    "                decreases[i] += 1\n",
    "                _all_i = False \n",
    "            else:\n",
    "                _all_d = False\n",
    "        if _all_d: \n",
    "            dec_all.append(row[0]) \n",
    "        if _all_i and not _all_same:\n",
    "            inc_all.append(row[0])\n",
    "        elif _all_same:\n",
    "            all_same.append(row[0])\n",
    "    \n",
    "    return increases, decreases, inc_all, dec_all, all_same\n",
    "\n",
    "runs_inc = []\n",
    "runs_dec = []\n",
    "rai = []\n",
    "rad = []\n",
    "sad = []\n",
    "for run in query_dfs:\n",
    "    a, b, c, d, e = cnt_increases(run, base_query) \n",
    "    runs_inc.append(a)\n",
    "    runs_dec.append(b)\n",
    "    rai.append(c)\n",
    "    rad.append(d)\n",
    "    sad.append(e)"
   ]
  },
  {
   "cell_type": "code",
   "execution_count": null,
   "metadata": {},
   "outputs": [],
   "source": [
    "comb = [None]*(len(runs_inc)+len(runs_dec))\n",
    "comb[::2] = runs_inc\n",
    "comb[1::2] = runs_dec\n",
    "mi = pd.MultiIndex.from_product([run_names, ['+', '-']], names=['', 'Change'])\n",
    "# write_table('tables/weighting-changes', (pd.DataFrame(comb, index=mi, columns=['RR', 'R@20', 'R@100', 'NDCG', 'RBP'])/len(base_query.index)).round(4).rename(metrics, axis='columns').to_latex(escape=False))"
   ]
  },
  {
   "cell_type": "code",
   "execution_count": null,
   "metadata": {},
   "outputs": [],
   "source": [
    "ch_df = pd.DataFrame(list(zip([len(x) for x in rai], [len(x) for x in rad])), columns=['+', '-'], index=run_names)/len(base_query.index)"
   ]
  },
  {
   "cell_type": "code",
   "execution_count": null,
   "metadata": {},
   "outputs": [],
   "source": [
    "pd.DataFrame([x.loc[8, : ]-base_query.loc[8, : ] for x in query_dfs], index=run_names)"
   ]
  },
  {
   "cell_type": "code",
   "execution_count": null,
   "metadata": {},
   "outputs": [],
   "source": [
    "def get_portions(queries, portions):\n",
    "    p = len(portions)\n",
    "    overlap = [0]*p\n",
    "    for q in queries:\n",
    "        for i, portion in enumerate(portions):\n",
    "            if q in portion: \n",
    "                overlap[i] += 1\n",
    "    \n",
    "    for i in range(p):\n",
    "        overlap[i] = float(overlap[i]) / float(len(portions[i]))\n",
    "    return overlap\n",
    "\n",
    "query_portions = [set(queries.keys()), set(broad), set(specific), set(law), set(fact), set(generic)]"
   ]
  },
  {
   "cell_type": "code",
   "execution_count": null,
   "metadata": {},
   "outputs": [],
   "source": [
    "inc_t = [get_portions(x, query_portions) for x in rai]\n",
    "dec_t = [get_portions(x, query_portions) for x in rad]\n",
    "cbqt = [None]*(len(runs_inc)+len(runs_dec))\n",
    "cbqt[::2] = inc_t\n",
    "cbqt[1::2] = dec_t\n",
    "print((pd.DataFrame(cbqt, index=mi, columns=['all', 'broad','specific', 'law', 'fact', 'generic']).round(4)).to_latex())"
   ]
  }
 ],
 "metadata": {
  "kernelspec": {
   "display_name": "Python 3",
   "language": "python",
   "name": "python3"
  },
  "language_info": {
   "codemirror_mode": {
    "name": "ipython",
    "version": 3
   },
   "file_extension": ".py",
   "mimetype": "text/x-python",
   "name": "python",
   "nbconvert_exporter": "python",
   "pygments_lexer": "ipython3",
   "version": "3.9.9"
  }
 },
 "nbformat": 4,
 "nbformat_minor": 4
}
