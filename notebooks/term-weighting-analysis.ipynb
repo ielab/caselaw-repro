{
 "cells": [
  {
   "cell_type": "code",
   "execution_count": 1,
   "metadata": {},
   "outputs": [],
   "source": [
    "%matplotlib inline\n",
    "\n",
    "import sys \n",
    "import os \n",
    "\n",
    "nb_dir = os.getcwd()\n",
    "if nb_dir not in sys.path:\n",
    "    sys.path.append(nb_dir)\n",
    "\n",
    "from plotlib.loaders import *\n",
    "from plotlib.plotters import *\n",
    "\n",
    "\n",
    "from phdconf import config\n",
    "from phdconf import stop\n",
    "\n",
    "from sklearn.metrics.pairwise import linear_kernel, cosine_similarity\n",
    "\n",
    "\n",
    "all_ylims = [0.67, 0.45, 0.60, 0.75, 0.59, 0.38, 20]\n",
    "ylims=[0.67, 0.45, 0.60, 0.59, 0.38, 20]"
   ]
  },
  {
   "cell_type": "code",
   "execution_count": 2,
   "metadata": {},
   "outputs": [],
   "source": [
    "queries = load_queries(config.AUS_TOPIC_PATH)\n",
    "broad, specific = load_query_types(queries)\n",
    "law, fact, generic = load_query_focus_types(queries)"
   ]
  },
  {
   "cell_type": "code",
   "execution_count": 3,
   "metadata": {},
   "outputs": [],
   "source": [
    "metrics = copy.copy(config.METRIC_NAMES)\n",
    "del metrics['unjudged@20']"
   ]
  },
  {
   "cell_type": "code",
   "execution_count": 4,
   "metadata": {},
   "outputs": [],
   "source": [
    "index_names = ['filtered-phrasestop']#, config.SIGIR_INDEX_NAME]\n",
    "qrel_paths = [config.AUS_QREL_PATH]#, config.SIGIR_QREL_PATH]\n",
    "rel_levels = [config.AUS_REL_LEVEL]#, config.SIGIR_REL_LEVEL]\n",
    "display_names = ['unweighted', 'weighted']#, 'SIGIR']"
   ]
  },
  {
   "cell_type": "code",
   "execution_count": 5,
   "metadata": {},
   "outputs": [],
   "source": [
    "BASE_DIR = os.path.join(os.environ[\"HOME\"], 'phd-generated')"
   ]
  },
  {
   "cell_type": "code",
   "execution_count": 6,
   "metadata": {},
   "outputs": [],
   "source": [
    "tt_folds = read_folds('ausnl-folds.txt')"
   ]
  },
  {
   "cell_type": "code",
   "execution_count": 7,
   "metadata": {},
   "outputs": [],
   "source": [
    "run_path = os.path.join(BASE_DIR, 'qry-weights')\n",
    "runs = ['idf-term-weight.run', 'ictf-term-weight.run', \n",
    "        'emb-term-ictf-weight.run', 'emb-term-idf-weight.run', 'emb-term-weight.run',\n",
    "        'emb-term-diff-ictf-weight.run', 'emb-term-diff-idf-weight.run', 'emb-term-diff-weight.run', \n",
    "        'avg-cooccur-weight.run', 'coocur-covariance.run']\n",
    "\n",
    "\n",
    "run_names = ['idf', 'ictf', 'emb-ictf', 'emb-idf', 'emb', 'emb-diff-ictf', 'emb-diff-idf', 'emb-diff', 'avg-cooccur', 'co-covar']"
   ]
  },
  {
   "cell_type": "code",
   "execution_count": 8,
   "metadata": {},
   "outputs": [],
   "source": [
    "kli_dfs = load_1d_dfs(index_names, qrel_paths, run_path, 'kli-term-weight-{1}.run', rel_levels[0], 0, 100, 1)"
   ]
  },
  {
   "cell_type": "code",
   "execution_count": 9,
   "metadata": {},
   "outputs": [],
   "source": [
    "base_df = load_1d_dfs(index_names, qrel_paths, os.path.join(BASE_DIR, 'preprocessing', 'dirichlet_prior'), 'case-topics-{0}-unigram_dir_mu_{1:.2f}.run', rel_levels, 1050, 1050, 1)[0][0]\n",
    "base_query = load_1d_dfs(index_names, qrel_paths, os.path.join(BASE_DIR,'preprocessing', 'dirichlet_prior'), 'case-topics-{0}-unigram_dir_mu_{1:.2f}.run', rel_levels, 1050, 1050, 1, per_query=True)[0][0]\n",
    "# base_query.sort_index(inplace=True)"
   ]
  },
  {
   "cell_type": "code",
   "execution_count": 10,
   "metadata": {},
   "outputs": [
    {
     "data": {
      "application/pdf": "[encoded data removed]",
      "text/plain": [
       "<Figure size 1152x432 with 7 Axes>"
      ]
     },
     "metadata": {},
     "output_type": "display_data"
    }
   ],
   "source": [
    "plot = plot_tune_1d_comp(display_names, config.METRIC_NAMES, [[base_df for x in range(len(kli_dfs[0]))], kli_dfs[0]], 0, 100, 1, ylims=all_ylims, legend_x=0.99)\n",
    "plot.savefig('figures/kli-term-weighting.pdf')"
   ]
  },
  {
   "cell_type": "code",
   "execution_count": 11,
   "metadata": {},
   "outputs": [],
   "source": [
    "kli_dfs = load_1d_dfs(index_names, qrel_paths, run_path, 'kli-term-weight-{1}.run', rel_levels[0], 0, 100, 1, per_query=True)"
   ]
  },
  {
   "cell_type": "code",
   "execution_count": 12,
   "metadata": {},
   "outputs": [
    {
     "data": {
      "text/html": [
       "<div>\n",
       "<style scoped>\n",
       "    .dataframe tbody tr th:only-of-type {\n",
       "        vertical-align: middle;\n",
       "    }\n",
       "\n",
       "    .dataframe tbody tr th {\n",
       "        vertical-align: top;\n",
       "    }\n",
       "\n",
       "    .dataframe thead th {\n",
       "        text-align: right;\n",
       "    }\n",
       "</style>\n",
       "<table border=\"1\" class=\"dataframe\">\n",
       "  <thead>\n",
       "    <tr style=\"text-align: right;\">\n",
       "      <th></th>\n",
       "      <th>recip_rank</th>\n",
       "      <th>err@20</th>\n",
       "      <th>recall_20</th>\n",
       "      <th>recall_100</th>\n",
       "      <th>ndcg</th>\n",
       "      <th>rbp@0.80</th>\n",
       "      <th>unjudged@20</th>\n",
       "    </tr>\n",
       "  </thead>\n",
       "  <tbody>\n",
       "    <tr>\n",
       "      <th>KLI</th>\n",
       "      <td>0.5883</td>\n",
       "      <td>0.3861</td>\n",
       "      <td>0.4592</td>\n",
       "      <td>0.7174</td>\n",
       "      <td>0.4657</td>\n",
       "      <td>0.3167</td>\n",
       "      <td>2.0632$^{**}$</td>\n",
       "    </tr>\n",
       "  </tbody>\n",
       "</table>\n",
       "</div>"
      ],
      "text/plain": [
       "    recip_rank  err@20 recall_20 recall_100    ndcg rbp@0.80    unjudged@20\n",
       "KLI     0.5883  0.3861    0.4592     0.7174  0.4657   0.3167  2.0632$^{**}$"
      ]
     },
     "execution_count": 12,
     "metadata": {},
     "output_type": "execute_result"
    }
   ],
   "source": [
    "kli_df = pd.DataFrame(columns=config.METRIC_NAMES)\n",
    "\n",
    "for ab, runs in zip(['KLI'], kli_dfs):\n",
    "    cross = cross_validation(runs, tt_folds, config.METRIC_NAMES, base_query)\n",
    "    kli_df.loc[ab] = cross[0]\n",
    "    \n",
    "# cv_df.loc['R'] = ['{:.4f}'.format(base_df[m]) for m in config.METRIC_NAMES]\n",
    "# print(kli_df.drop('unjudged@20',axis='columns').rename(config.METRIC_NAMES, axis='columns').to_latex())\n",
    "kli_df"
   ]
  },
  {
   "cell_type": "code",
   "execution_count": 13,
   "metadata": {},
   "outputs": [
    {
     "name": "stderr",
     "output_type": "stream",
     "text": [
      "/home/danlocke/.local/lib/python3.7/site-packages/numpy/core/_asarray.py:83: VisibleDeprecationWarning: Creating an ndarray from ragged nested sequences (which is a list-or-tuple of lists-or-tuples-or ndarrays with different lengths or shapes) is deprecated. If you meant to do this, you must specify 'dtype=object' when creating the ndarray\n",
      "  return array(a, dtype, copy=False, order=order)\n"
     ]
    },
    {
     "data": {
      "application/pdf": "[encoded data removed]",
      "text/plain": [
       "<Figure size 1152x288 with 1 Axes>"
      ]
     },
     "metadata": {},
     "output_type": "display_data"
    }
   ],
   "source": [
    "def plot_qry_diff(runs, qry_df, metrics, folds):\n",
    "    _max = [0.0] * len(metrics)\n",
    "#     max_inds = [0] * len(metrics)\n",
    "    qry_res = runs[0].copy(deep=True)\n",
    "    \n",
    "    for i, run in enumerate(runs):\n",
    "        for f, fold in enumerate(folds): \n",
    "            filtered = run[run.index.isin(fold[1])]\n",
    "            for j, m in enumerate(metrics.keys()):\n",
    "                v = filtered[m].mean()\n",
    "                if v > _max[j]:\n",
    "                    _max[j] = v\n",
    "#                     max_inds[j][f] = i\n",
    "                    for ind, item in run[run.index.isin(fold[0])][m].items():\n",
    "                        qry_res.loc[ind][m] = item\n",
    "    \n",
    "    qry_df.sort_index(inplace=True)        \n",
    "    qry_res.sort_index(inplace=True)\n",
    "\n",
    "    qry_comp_df = qry_res-qry_df\n",
    "    qry_comp_fig = qry_comp_df[metrics.keys()].rename(metrics, axis='columns').plot.box(fontsize=15, boxprops=dict(linestyle='-', linewidth=2), medianprops=dict(linestyle='-', linewidth=2), color=dict(boxes='black', whiskers='black', medians='b', caps='r'),figsize=(16, 4)).axhline(y=0, xmin=0.0, xmax=1.0, linestyle='--', linewidth=1.0, color='grey')\n",
    "    return qry_comp_fig\n",
    "\n",
    "kli_diff = plot_qry_diff(kli_dfs[0], base_query, metrics, tt_folds)\n",
    "kli_diff.get_figure().savefig('figures/ausnl-kli-weight-qry-diff.pdf')"
   ]
  },
  {
   "cell_type": "code",
   "execution_count": 14,
   "metadata": {},
   "outputs": [],
   "source": [
    "runs = ['idf-term-weight.run', 'ictf-term-weight.run', \n",
    "        'emb-term-ictf-weight.run', 'emb-term-idf-weight.run', 'emb-term-weight.run',\n",
    "        'emb-term-diff-ictf-weight.run', 'emb-term-diff-idf-weight.run', 'emb-term-diff-weight.run', \n",
    "        'avg-cooccur-weight.run', 'coocur-covariance.run']\n",
    "\n",
    "dfs = load_dfs(config.AUS_QREL_PATH, config.AUS_REL_LEVEL, run_path, runs, per_query=True)\n",
    "# dfs = [base_query] + dfs"
   ]
  },
  {
   "cell_type": "code",
   "execution_count": 15,
   "metadata": {},
   "outputs": [],
   "source": [
    "cv_df = pd.DataFrame(columns=config.METRIC_NAMES)\n",
    "\n",
    "for ab, r in zip(run_names, [[x] for x in dfs]):\n",
    "    cross = cross_validation(r, tt_folds, config.METRIC_NAMES, base_query)\n",
    "    cv_df.loc[ab] = cross[0]\n",
    "    \n",
    "cv_df.loc['$R$'] = ['{:.4f}'.format(base_df[m]) for m in config.METRIC_NAMES]\n",
    "cv_df.loc['kli'] = kli_df.loc['KLI']\n",
    "write_table('tables/term-weighting', bold_max(cv_df).drop('unjudged@20',axis='columns').rename(config.METRIC_NAMES, axis='columns').to_latex(escape=False))"
   ]
  },
  {
   "cell_type": "code",
   "execution_count": 16,
   "metadata": {},
   "outputs": [
    {
     "data": {
      "text/plain": [
       "recip_rank      0.568606\n",
       "unjudged@20     0.000000\n",
       "recall_20       0.459971\n",
       "recall_100      0.721831\n",
       "ndcg            0.461328\n",
       "set_P           0.079579\n",
       "set_recall      0.721831\n",
       "set_F_.5        0.107272\n",
       "rbp@0.10        0.467295\n",
       "rbp-res@0.10    0.000000\n",
       "rbp@0.50        0.395954\n",
       "rbp-res@0.50    0.000000\n",
       "rbp@0.80        0.311286\n",
       "rbp-res@0.80    0.004524\n",
       "err@20          0.379366\n",
       "dtype: float64"
      ]
     },
     "execution_count": 16,
     "metadata": {},
     "output_type": "execute_result"
    }
   ],
   "source": [
    "# base_query = load_1d_dfs(index_names, qrel_paths, os.path.join(BASE_DIR, 'dirichlet_prior'), 'case-topics-{0}-unigram_dir_mu_{1:.2f}.run', rel_levels, 1050, 1050, 1, per_query=True)[0][0]\n",
    "# base_query.sort_index(inplace=True)\n",
    "base_df"
   ]
  },
  {
   "cell_type": "code",
   "execution_count": 17,
   "metadata": {},
   "outputs": [
    {
     "name": "stderr",
     "output_type": "stream",
     "text": [
      "/home/danlocke/.local/lib/python3.7/site-packages/numpy/core/_asarray.py:83: VisibleDeprecationWarning: Creating an ndarray from ragged nested sequences (which is a list-or-tuple of lists-or-tuples-or ndarrays with different lengths or shapes) is deprecated. If you meant to do this, you must specify 'dtype=object' when creating the ndarray\n",
      "  return array(a, dtype, copy=False, order=order)\n"
     ]
    },
    {
     "data": {
      "application/pdf": "[encoded data removed]",
      "text/plain": [
       "<Figure size 1152x288 with 1 Axes>"
      ]
     },
     "metadata": {},
     "output_type": "display_data"
    }
   ],
   "source": [
    "import copy\n",
    "metrics = copy.deepcopy(config.METRIC_NAMES)\n",
    "del metrics['unjudged@20']\n",
    "diff = dfs[1]-base_query\n",
    "box = diff[metrics.keys()].rename(metrics, axis='columns').plot.box(fontsize=15, boxprops=dict(linestyle='-', linewidth=2), medianprops=dict(linestyle='-', linewidth=2), color=dict(boxes='black', whiskers='black', medians='b', caps='r'),figsize=(16, 4)).axhline(y=0, xmin=0.0, xmax=1.0, linestyle='--', linewidth=1.0, color='grey')\n",
    "box.get_figure().savefig('figures/ausnl-ictf-weight.pdf')"
   ]
  },
  {
   "cell_type": "code",
   "execution_count": 18,
   "metadata": {},
   "outputs": [],
   "source": [
    "query_dfs = load_dfs(config.AUS_QREL_PATH, config.AUS_REL_LEVEL, run_path, runs, per_query=True)"
   ]
  },
  {
   "cell_type": "code",
   "execution_count": 19,
   "metadata": {},
   "outputs": [],
   "source": [
    "keys = ['recip_rank', 'recall_20', 'recall_100', 'ndcg', 'rbp@0.80']\n",
    "\n",
    "def cnt_increases(run, base, keys=keys):\n",
    "    l = len(keys)\n",
    "    \n",
    "    increases = [0]*l\n",
    "    decreases = [0]*l\n",
    "    inc_all = []\n",
    "    dec_all = []\n",
    "    all_same = []\n",
    "    \n",
    "    diff = run-base\n",
    "    \n",
    "    for row in diff.iterrows():\n",
    "        _all_d = True \n",
    "        _all_i = True\n",
    "        _all_same = True\n",
    "        for i, key in enumerate(keys):   \n",
    "            if row[1][key] > 0.0:\n",
    "                increases[i] += 1\n",
    "                _all_d = False \n",
    "                _all_same = False \n",
    "            elif row[1][key] < 0.0:\n",
    "                decreases[i] += 1\n",
    "                _all_i = False \n",
    "            else:\n",
    "                _all_d = False\n",
    "        if _all_d: \n",
    "            dec_all.append(row[0]) \n",
    "        if _all_i and not _all_same:\n",
    "            inc_all.append(row[0])\n",
    "        elif _all_same:\n",
    "            all_same.append(row[0])\n",
    "    \n",
    "    return increases, decreases, inc_all, dec_all, all_same\n",
    "\n",
    "runs_inc = []\n",
    "runs_dec = []\n",
    "rai = []\n",
    "rad = []\n",
    "sad = []\n",
    "for run in query_dfs:\n",
    "    a, b, c, d, e = cnt_increases(run, base_query) \n",
    "    runs_inc.append(a)\n",
    "    runs_dec.append(b)\n",
    "    rai.append(c)\n",
    "    rad.append(d)\n",
    "    sad.append(e)"
   ]
  },
  {
   "cell_type": "code",
   "execution_count": 20,
   "metadata": {},
   "outputs": [],
   "source": [
    "comb = [None]*(len(runs_inc)+len(runs_dec))\n",
    "comb[::2] = runs_inc\n",
    "comb[1::2] = runs_dec\n",
    "mi = pd.MultiIndex.from_product([run_names, ['+', '-']], names=['', 'Change'])\n",
    "write_table('tables/weighting-changes', (pd.DataFrame(comb, index=mi, columns=['RR', 'R@20', 'R@100', 'NDCG', 'RBP'])/len(base_query.index)).round(4).rename(metrics, axis='columns').to_latex(escape=False))"
   ]
  },
  {
   "cell_type": "code",
   "execution_count": 21,
   "metadata": {},
   "outputs": [],
   "source": [
    "# print([len(x) for x in rai])\n",
    "# print([len(x) for x in rad])\n",
    "ch_df = pd.DataFrame(list(zip([len(x) for x in rai], [len(x) for x in rad])), columns=['+', '-'], index=run_names)/len(base_query.index)"
   ]
  },
  {
   "cell_type": "code",
   "execution_count": 22,
   "metadata": {},
   "outputs": [
    {
     "data": {
      "text/html": [
       "<div>\n",
       "<style scoped>\n",
       "    .dataframe tbody tr th:only-of-type {\n",
       "        vertical-align: middle;\n",
       "    }\n",
       "\n",
       "    .dataframe tbody tr th {\n",
       "        vertical-align: top;\n",
       "    }\n",
       "\n",
       "    .dataframe thead th {\n",
       "        text-align: right;\n",
       "    }\n",
       "</style>\n",
       "<table border=\"1\" class=\"dataframe\">\n",
       "  <thead>\n",
       "    <tr style=\"text-align: right;\">\n",
       "      <th></th>\n",
       "      <th>recip_rank</th>\n",
       "      <th>unjudged@20</th>\n",
       "      <th>recall_20</th>\n",
       "      <th>recall_100</th>\n",
       "      <th>ndcg</th>\n",
       "      <th>set_P</th>\n",
       "      <th>set_recall</th>\n",
       "      <th>set_F_.5</th>\n",
       "      <th>rbp@0.10</th>\n",
       "      <th>rbp-res@0.10</th>\n",
       "      <th>rbp@0.50</th>\n",
       "      <th>rbp-res@0.50</th>\n",
       "      <th>rbp@0.80</th>\n",
       "      <th>rbp-res@0.80</th>\n",
       "      <th>err@20</th>\n",
       "    </tr>\n",
       "  </thead>\n",
       "  <tbody>\n",
       "    <tr>\n",
       "      <th>idf</th>\n",
       "      <td>0.7500</td>\n",
       "      <td>0.0</td>\n",
       "      <td>0.0</td>\n",
       "      <td>0.0</td>\n",
       "      <td>0.5941</td>\n",
       "      <td>0.00</td>\n",
       "      <td>0.0</td>\n",
       "      <td>0.0000</td>\n",
       "      <td>0.9891</td>\n",
       "      <td>0.000</td>\n",
       "      <td>0.6875</td>\n",
       "      <td>0.0000</td>\n",
       "      <td>0.2540</td>\n",
       "      <td>-0.0069</td>\n",
       "      <td>0.70518</td>\n",
       "    </tr>\n",
       "    <tr>\n",
       "      <th>ictf</th>\n",
       "      <td>0.7500</td>\n",
       "      <td>0.0</td>\n",
       "      <td>0.0</td>\n",
       "      <td>0.0</td>\n",
       "      <td>0.5138</td>\n",
       "      <td>0.00</td>\n",
       "      <td>0.0</td>\n",
       "      <td>0.0000</td>\n",
       "      <td>0.9081</td>\n",
       "      <td>0.000</td>\n",
       "      <td>0.5625</td>\n",
       "      <td>0.0000</td>\n",
       "      <td>0.2220</td>\n",
       "      <td>-0.0051</td>\n",
       "      <td>0.68695</td>\n",
       "    </tr>\n",
       "    <tr>\n",
       "      <th>emb-ictf</th>\n",
       "      <td>0.0833</td>\n",
       "      <td>1.0</td>\n",
       "      <td>0.0</td>\n",
       "      <td>0.0</td>\n",
       "      <td>0.0450</td>\n",
       "      <td>0.00</td>\n",
       "      <td>0.0</td>\n",
       "      <td>0.0000</td>\n",
       "      <td>0.0081</td>\n",
       "      <td>0.000</td>\n",
       "      <td>0.0625</td>\n",
       "      <td>0.0000</td>\n",
       "      <td>0.0265</td>\n",
       "      <td>-0.0009</td>\n",
       "      <td>0.07323</td>\n",
       "    </tr>\n",
       "    <tr>\n",
       "      <th>emb-idf</th>\n",
       "      <td>0.7500</td>\n",
       "      <td>0.0</td>\n",
       "      <td>0.0</td>\n",
       "      <td>0.0</td>\n",
       "      <td>0.4713</td>\n",
       "      <td>0.00</td>\n",
       "      <td>0.0</td>\n",
       "      <td>0.0000</td>\n",
       "      <td>0.9000</td>\n",
       "      <td>0.000</td>\n",
       "      <td>0.5000</td>\n",
       "      <td>0.0000</td>\n",
       "      <td>0.1964</td>\n",
       "      <td>-0.0055</td>\n",
       "      <td>0.67783</td>\n",
       "    </tr>\n",
       "    <tr>\n",
       "      <th>emb</th>\n",
       "      <td>-0.1667</td>\n",
       "      <td>1.0</td>\n",
       "      <td>-0.5</td>\n",
       "      <td>0.0</td>\n",
       "      <td>-0.1310</td>\n",
       "      <td>0.00</td>\n",
       "      <td>0.0</td>\n",
       "      <td>0.0000</td>\n",
       "      <td>-0.0009</td>\n",
       "      <td>0.000</td>\n",
       "      <td>-0.0623</td>\n",
       "      <td>0.0000</td>\n",
       "      <td>-0.0888</td>\n",
       "      <td>0.0017</td>\n",
       "      <td>-0.15159</td>\n",
       "    </tr>\n",
       "    <tr>\n",
       "      <th>emb-diff-ictf</th>\n",
       "      <td>0.2500</td>\n",
       "      <td>1.0</td>\n",
       "      <td>0.0</td>\n",
       "      <td>0.0</td>\n",
       "      <td>0.1342</td>\n",
       "      <td>0.00</td>\n",
       "      <td>0.0</td>\n",
       "      <td>0.0000</td>\n",
       "      <td>0.0891</td>\n",
       "      <td>0.000</td>\n",
       "      <td>0.1875</td>\n",
       "      <td>0.0000</td>\n",
       "      <td>0.0628</td>\n",
       "      <td>-0.0009</td>\n",
       "      <td>0.22028</td>\n",
       "    </tr>\n",
       "    <tr>\n",
       "      <th>emb-diff-idf</th>\n",
       "      <td>0.7500</td>\n",
       "      <td>0.0</td>\n",
       "      <td>0.0</td>\n",
       "      <td>0.0</td>\n",
       "      <td>0.5941</td>\n",
       "      <td>0.00</td>\n",
       "      <td>0.0</td>\n",
       "      <td>0.0000</td>\n",
       "      <td>0.9891</td>\n",
       "      <td>0.000</td>\n",
       "      <td>0.6875</td>\n",
       "      <td>0.0000</td>\n",
       "      <td>0.2540</td>\n",
       "      <td>-0.0047</td>\n",
       "      <td>0.70518</td>\n",
       "    </tr>\n",
       "    <tr>\n",
       "      <th>emb-diff</th>\n",
       "      <td>0.7500</td>\n",
       "      <td>5.0</td>\n",
       "      <td>0.0</td>\n",
       "      <td>0.0</td>\n",
       "      <td>0.5941</td>\n",
       "      <td>0.00</td>\n",
       "      <td>0.0</td>\n",
       "      <td>0.0000</td>\n",
       "      <td>0.9891</td>\n",
       "      <td>0.009</td>\n",
       "      <td>0.6875</td>\n",
       "      <td>0.1256</td>\n",
       "      <td>0.2540</td>\n",
       "      <td>0.1648</td>\n",
       "      <td>0.70518</td>\n",
       "    </tr>\n",
       "    <tr>\n",
       "      <th>avg-cooccur</th>\n",
       "      <td>-0.2500</td>\n",
       "      <td>2.0</td>\n",
       "      <td>-1.0</td>\n",
       "      <td>-1.0</td>\n",
       "      <td>-0.4059</td>\n",
       "      <td>-0.02</td>\n",
       "      <td>-1.0</td>\n",
       "      <td>-0.0297</td>\n",
       "      <td>-0.0009</td>\n",
       "      <td>0.000</td>\n",
       "      <td>-0.0625</td>\n",
       "      <td>0.0000</td>\n",
       "      <td>-0.1060</td>\n",
       "      <td>0.0066</td>\n",
       "      <td>-0.22451</td>\n",
       "    </tr>\n",
       "    <tr>\n",
       "      <th>co-covar</th>\n",
       "      <td>-0.2500</td>\n",
       "      <td>2.0</td>\n",
       "      <td>-1.0</td>\n",
       "      <td>-1.0</td>\n",
       "      <td>-0.4059</td>\n",
       "      <td>-0.02</td>\n",
       "      <td>-1.0</td>\n",
       "      <td>-0.0297</td>\n",
       "      <td>-0.0009</td>\n",
       "      <td>0.000</td>\n",
       "      <td>-0.0625</td>\n",
       "      <td>0.0000</td>\n",
       "      <td>-0.1060</td>\n",
       "      <td>0.0066</td>\n",
       "      <td>-0.22451</td>\n",
       "    </tr>\n",
       "  </tbody>\n",
       "</table>\n",
       "</div>"
      ],
      "text/plain": [
       "               recip_rank  unjudged@20  recall_20  recall_100    ndcg  set_P  \\\n",
       "idf                0.7500          0.0        0.0         0.0  0.5941   0.00   \n",
       "ictf               0.7500          0.0        0.0         0.0  0.5138   0.00   \n",
       "emb-ictf           0.0833          1.0        0.0         0.0  0.0450   0.00   \n",
       "emb-idf            0.7500          0.0        0.0         0.0  0.4713   0.00   \n",
       "emb               -0.1667          1.0       -0.5         0.0 -0.1310   0.00   \n",
       "emb-diff-ictf      0.2500          1.0        0.0         0.0  0.1342   0.00   \n",
       "emb-diff-idf       0.7500          0.0        0.0         0.0  0.5941   0.00   \n",
       "emb-diff           0.7500          5.0        0.0         0.0  0.5941   0.00   \n",
       "avg-cooccur       -0.2500          2.0       -1.0        -1.0 -0.4059  -0.02   \n",
       "co-covar          -0.2500          2.0       -1.0        -1.0 -0.4059  -0.02   \n",
       "\n",
       "               set_recall  set_F_.5  rbp@0.10  rbp-res@0.10  rbp@0.50  \\\n",
       "idf                   0.0    0.0000    0.9891         0.000    0.6875   \n",
       "ictf                  0.0    0.0000    0.9081         0.000    0.5625   \n",
       "emb-ictf              0.0    0.0000    0.0081         0.000    0.0625   \n",
       "emb-idf               0.0    0.0000    0.9000         0.000    0.5000   \n",
       "emb                   0.0    0.0000   -0.0009         0.000   -0.0623   \n",
       "emb-diff-ictf         0.0    0.0000    0.0891         0.000    0.1875   \n",
       "emb-diff-idf          0.0    0.0000    0.9891         0.000    0.6875   \n",
       "emb-diff              0.0    0.0000    0.9891         0.009    0.6875   \n",
       "avg-cooccur          -1.0   -0.0297   -0.0009         0.000   -0.0625   \n",
       "co-covar             -1.0   -0.0297   -0.0009         0.000   -0.0625   \n",
       "\n",
       "               rbp-res@0.50  rbp@0.80  rbp-res@0.80   err@20  \n",
       "idf                  0.0000    0.2540       -0.0069  0.70518  \n",
       "ictf                 0.0000    0.2220       -0.0051  0.68695  \n",
       "emb-ictf             0.0000    0.0265       -0.0009  0.07323  \n",
       "emb-idf              0.0000    0.1964       -0.0055  0.67783  \n",
       "emb                  0.0000   -0.0888        0.0017 -0.15159  \n",
       "emb-diff-ictf        0.0000    0.0628       -0.0009  0.22028  \n",
       "emb-diff-idf         0.0000    0.2540       -0.0047  0.70518  \n",
       "emb-diff             0.1256    0.2540        0.1648  0.70518  \n",
       "avg-cooccur          0.0000   -0.1060        0.0066 -0.22451  \n",
       "co-covar             0.0000   -0.1060        0.0066 -0.22451  "
      ]
     },
     "execution_count": 22,
     "metadata": {},
     "output_type": "execute_result"
    }
   ],
   "source": [
    "pd.DataFrame([x.loc[8, : ]-base_query.loc[8, : ] for x in query_dfs], index=run_names)"
   ]
  },
  {
   "cell_type": "code",
   "execution_count": 23,
   "metadata": {},
   "outputs": [],
   "source": [
    "def get_portions(queries, portions):\n",
    "    p = len(portions)\n",
    "    overlap = [0]*p\n",
    "    for q in queries:\n",
    "        for i, portion in enumerate(portions):\n",
    "            if q in portion: \n",
    "                overlap[i] += 1\n",
    "    \n",
    "    for i in range(p):\n",
    "        overlap[i] = float(overlap[i]) / float(len(portions[i]))\n",
    "    return overlap\n",
    "\n",
    "query_portions = [set(queries.keys()), set(broad), set(specific), set(law), set(fact), set(generic)]\n",
    "# [get_portions(x, query_portions) for x in rai]"
   ]
  },
  {
   "cell_type": "code",
   "execution_count": 24,
   "metadata": {},
   "outputs": [
    {
     "name": "stdout",
     "output_type": "stream",
     "text": [
      "\\begin{tabular}{llrrrrrr}\n",
      "\\toprule\n",
      "         &   &     all &  broad &  specific &     law &  fact &  generic \\\\\n",
      "{} & Change &         &        &           &         &       &          \\\\\n",
      "\\midrule\n",
      "idf & + &  0.2526 &   0.36 &    0.2143 &  0.2714 &  0.20 &      0.2 \\\\\n",
      "         & - &  0.0737 &   0.04 &    0.0857 &  0.0429 &  0.10 &      0.4 \\\\\n",
      "ictf & + &  0.3579 &   0.32 &    0.3714 &  0.4000 &  0.20 &      0.4 \\\\\n",
      "         & - &  0.0211 &   0.00 &    0.0286 &  0.0143 &  0.05 &      0.0 \\\\\n",
      "emb-ictf & + &  0.2842 &   0.20 &    0.3143 &  0.3286 &  0.15 &      0.2 \\\\\n",
      "         & - &  0.0105 &   0.00 &    0.0143 &  0.0143 &  0.00 &      0.0 \\\\\n",
      "emb-idf & + &  0.3474 &   0.40 &    0.3286 &  0.3286 &  0.30 &      0.8 \\\\\n",
      "         & - &  0.0211 &   0.04 &    0.0143 &  0.0143 &  0.05 &      0.0 \\\\\n",
      "emb & + &  0.2842 &   0.36 &    0.2571 &  0.2857 &  0.35 &      0.0 \\\\\n",
      "         & - &  0.0632 &   0.00 &    0.0857 &  0.0714 &  0.05 &      0.0 \\\\\n",
      "emb-diff-ictf & + &  0.2947 &   0.20 &    0.3286 &  0.3571 &  0.10 &      0.2 \\\\\n",
      "         & - &  0.0211 &   0.00 &    0.0286 &  0.0143 &  0.00 &      0.2 \\\\\n",
      "emb-diff-idf & + &  0.2421 &   0.24 &    0.2429 &  0.2857 &  0.15 &      0.0 \\\\\n",
      "         & - &  0.0842 &   0.16 &    0.0571 &  0.0714 &  0.05 &      0.4 \\\\\n",
      "emb-diff & + &  0.1895 &   0.16 &    0.2000 &  0.2286 &  0.10 &      0.0 \\\\\n",
      "         & - &  0.2421 &   0.40 &    0.1857 &  0.2000 &  0.30 &      0.6 \\\\\n",
      "avg-cooccur & + &  0.2211 &   0.12 &    0.2571 &  0.2000 &  0.35 &      0.0 \\\\\n",
      "         & - &  0.2105 &   0.24 &    0.2000 &  0.2286 &  0.10 &      0.4 \\\\\n",
      "co-covar & + &  0.2211 &   0.12 &    0.2571 &  0.2143 &  0.30 &      0.0 \\\\\n",
      "         & - &  0.2211 &   0.24 &    0.2143 &  0.2286 &  0.15 &      0.4 \\\\\n",
      "\\bottomrule\n",
      "\\end{tabular}\n",
      "\n"
     ]
    }
   ],
   "source": [
    "inc_t = [get_portions(x, query_portions) for x in rai]\n",
    "dec_t = [get_portions(x, query_portions) for x in rad]\n",
    "cbqt = [None]*(len(runs_inc)+len(runs_dec))\n",
    "cbqt[::2] = inc_t\n",
    "cbqt[1::2] = dec_t\n",
    "print((pd.DataFrame(cbqt, index=mi, columns=['all', 'broad','specific', 'law', 'fact', 'generic']).round(4)).to_latex())"
   ]
  },
  {
   "cell_type": "code",
   "execution_count": null,
   "metadata": {},
   "outputs": [],
   "source": []
  }
 ],
 "metadata": {
  "kernelspec": {
   "display_name": "Python 3",
   "language": "python",
   "name": "python3"
  },
  "language_info": {
   "codemirror_mode": {
    "name": "ipython",
    "version": 3
   },
   "file_extension": ".py",
   "mimetype": "text/x-python",
   "name": "python",
   "nbconvert_exporter": "python",
   "pygments_lexer": "ipython3",
   "version": "3.7.5"
  }
 },
 "nbformat": 4,
 "nbformat_minor": 4
}
