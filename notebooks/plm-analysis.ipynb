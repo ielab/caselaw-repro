{
 "cells": [
  {
   "cell_type": "markdown",
   "metadata": {},
   "source": [
    "Tuning of PLM across different $\\mu$ and $\\sigma$ values"
   ]
  },
  {
   "cell_type": "code",
   "execution_count": null,
   "metadata": {},
   "outputs": [],
   "source": [
    "import sys \n",
    "import os \n",
    "\n",
    "nb_dir = os.getcwd()\n",
    "if nb_dir not in sys.path:\n",
    "    sys.path.append(nb_dir)\n",
    "\n",
    "from plotlib.loaders import *\n",
    "from plotlib.plotters import *\n",
    "\n",
    "from phdconf import config\n",
    "from phdconf.config import *\n",
    "\n",
    "%matplotlib inline"
   ]
  },
  {
   "cell_type": "code",
   "execution_count": null,
   "metadata": {},
   "outputs": [],
   "source": [
    "queries = load_queries(config.AUS_TOPIC_PATH)\n",
    "broad, specific = load_query_types(queries)\n",
    "law, fact, generic = load_query_focus_types(queries)"
   ]
  },
  {
   "cell_type": "code",
   "execution_count": null,
   "metadata": {},
   "outputs": [],
   "source": [
    "index_names = ['filtered-phrasestop']#, config.SIGIR_INDEX_NAME]\n",
    "qrel_paths = [config.AUS_QREL_PATH]#, config.SIGIR_QREL_PATH]\n",
    "rel_levels = [config.AUS_REL_LEVEL]#, config.SIGIR_REL_LEVEL]\n",
    "display_names = ['aus']#, 'SIGIR']"
   ]
  },
  {
   "cell_type": "code",
   "execution_count": null,
   "metadata": {},
   "outputs": [],
   "source": [
    "mu = 1050\n",
    "base_df = load_1d_dfs(['filtered-phrasestop'], qrel_paths, os.path.join(BASE_DIR, 'preprocessing', 'dirichlet_prior'), 'case-topics-{0}-unigram_dir_mu_{1:.2f}.run', rel_levels, mu, mu, 1)[0][0]\n",
    "base_qry = load_1d_dfs(['filtered-phrasestop'], qrel_paths, os.path.join(BASE_DIR, 'preprocessing', 'dirichlet_prior'), 'case-topics-{0}-unigram_dir_mu_{1:.2f}.run', rel_levels, mu, mu, 1, per_query=True)[0][0]"
   ]
  },
  {
   "cell_type": "code",
   "execution_count": null,
   "metadata": {},
   "outputs": [],
   "source": [
    "start = 10\n",
    "end = 200\n",
    "inc = 10\n",
    "\n",
    "# plm_dfs = load_1d_dfs(index_names, qrel_paths, os.path.join(BASE_DIR, 'plm'), 'case-topics-{0}-plm-dir-mu-300.00-sigma-{1:.2f}.run', rel_levels[0], start, end, inc)\n",
    "\n",
    "def load_plm(ind, qrel_path, str_format, results_path, rel_level, per_query=False):\n",
    "    dfs = []\n",
    "    # sigma\n",
    "    for s in range(10, 510, 10):\n",
    "        temp = []\n",
    "        for mu in range(300, 2050, 50):\n",
    "            temp.append((s, mu, to_trec_df(qrel_path, \n",
    "              os.path.join(results_path, str_format.format(ind, mu, s)), rel_level, per_query=per_query)))        \n",
    "        dfs.append(temp)\n",
    "    \n",
    "    return dfs \n",
    "\n",
    "plm_dfs = load_plm(index_names[0], qrel_paths[0], 'case-topics-{0}-plm-dir-mu-{1:.2f}-sigma-{2:.2f}.run', os.path.join(BASE_DIR, 'plm'), '1')"
   ]
  },
  {
   "cell_type": "code",
   "execution_count": null,
   "metadata": {},
   "outputs": [],
   "source": [
    "# metrics = config.METRIC_NAMES\n",
    "# # del metrics['recall_100']\n",
    "# # plot = plot_tune_1d_comp(['baseline', 'plm'], metrics, [[base_df[0][0] for x in range(len(plm_dfs[0]))], plm_dfs[0]], start, end, inc)\n",
    "# plot = plot_tune_1d_comp(display_names, config.METRIC_NAMES, plm_dfs, start, end, inc)\n",
    "\n",
    "def plot_plm_tuning(dfs, metric_names):\n",
    "    if len(metric_names) == 1:\n",
    "        r = 1\n",
    "        c = 1\n",
    "    elif len(metric_names) == 2:\n",
    "        r = 1\n",
    "        c = 2\n",
    "    else:\n",
    "        r = int(len(metric_names)/2)\n",
    "        c = r\n",
    "        if c == r and r > 2: \n",
    "            r-=1\n",
    "        if len(metric_names)%2 != 0:\n",
    "            c += 1 \n",
    "        \n",
    "    fig, axs = plt.subplots(r, c, subplot_kw=dict(projection='3d'))\n",
    "    fig.set_size_inches(12, 8)\n",
    "    \n",
    "    num_x = len(dfs[0])\n",
    "    num_y = len(dfs)\n",
    "    \n",
    "    x = np.array([[i]*num_x for i in np.arange(10, 510, 10)])\n",
    "    y = np.array([list(np.arange(300, 2050, 50))] * num_y)\n",
    "    \n",
    "    cnt = 0 \n",
    "    for i, m in enumerate(metric_names): \n",
    "        z = [[y[2][m] for y in x] for x in dfs]\n",
    "        z = np.array(z)\n",
    "\n",
    "        axs.plot_surface(x, y, z, cmap=cm.gray)\n",
    "\n",
    "        axs.tick_params(labelsize=20)\n",
    "        axs.zaxis.set_major_formatter(FormatStrFormatter('%.2f'))\n",
    "        axs.invert_xaxis()\n",
    "        axs.view_init(30,50)\n",
    "        axs.tick_params(axis='z', pad=10)\n",
    "        axs.set_zlabel(metric_names[m], fontsize=30, rotation=91, labelpad=20)\n",
    "        axs.set_ylabel('$\\mu$', fontsize=30, labelpad=15)\n",
    "        axs.set_xlabel('$\\sigma$', fontsize=30, labelpad=15)\n",
    "        cnt += 1\n",
    "\n",
    "    # if len(metric_names) % 2 != 0: \n",
    "    #     fig.delaxes(axs[row, -1])\n",
    "            \n",
    "#     fig.subplots_adjust(wspace=0.07, hspace=0.05, left=0.01, right=1.7)\n",
    "    fig.tight_layout()\n",
    "    return fig \n",
    "\n",
    "plm_fig = plot_plm_tuning(plm_dfs, {'rbp@0.80': 'RBP'})"
   ]
  },
  {
   "cell_type": "code",
   "execution_count": null,
   "metadata": {},
   "outputs": [],
   "source": [
    "# plm_fig.savefig('figures/plm-tune.pdf')"
   ]
  },
  {
   "cell_type": "code",
   "execution_count": null,
   "metadata": {},
   "outputs": [],
   "source": [
    "def read_folds(path: str):\n",
    "    folds = []\n",
    "    with open(path) as f:\n",
    "        for line in f:\n",
    "            parts = line.split('] [') \n",
    "            test = list(map(int, parts[1].replace(']', '').split(', ')))\n",
    "            train = list(map(int, parts[0].replace('[', '').split(', ')))\n",
    "            folds.append((test, train))\n",
    "            \n",
    "    return folds\n",
    "            \n",
    "tt_folds = read_folds(os.path.join('../eval-folds', 'ausnl-folds.txt'))"
   ]
  },
  {
   "cell_type": "code",
   "execution_count": null,
   "metadata": {},
   "outputs": [],
   "source": [
    "plm_qry_dfs = load_plm(index_names[0], qrel_paths[0], 'case-topics-{0}-plm-dir-mu-{1:.2f}-sigma-{2:.2f}.run', os.path.join(BASE_DIR, 'plm'), '1', per_query=True)"
   ]
  },
  {
   "cell_type": "code",
   "execution_count": null,
   "metadata": {},
   "outputs": [],
   "source": [
    "flattened = [x[2] for y in plm_qry_dfs for x in y]"
   ]
  },
  {
   "cell_type": "code",
   "execution_count": null,
   "metadata": {},
   "outputs": [],
   "source": [
    "cv_df = pd.DataFrame(columns=config.METRIC_NAMES)\n",
    "\n",
    "for ab, runs in zip(['PLM'], [flattened]):\n",
    "    cross = cross_validation(runs, tt_folds, config.METRIC_NAMES, base_qry)\n",
    "    cv_df.loc[ab] = cross[0]\n",
    "    \n",
    "cv_df.loc['R'] = ['{:.4f}'.format(base_df[m]) for m in config.METRIC_NAMES]\n",
    "print(bold_max(cv_df).drop('unjudged@20',axis='columns').rename(config.METRIC_NAMES, axis='columns').to_latex(escape=False))"
   ]
  },
  {
   "cell_type": "code",
   "execution_count": null,
   "metadata": {},
   "outputs": [],
   "source": [
    "def create_max_df(dfs): \n",
    "#     mu_start = 300\n",
    "#     mu_end = 2050\n",
    "#     mu_inc = 50\n",
    "    \n",
    "#     sig_start = 10\n",
    "#     sig_end = 500\n",
    "#     sig_inc = 10\n",
    "    \n",
    "#     num_x = len(dfs[0])\n",
    "#     num_y = len(dfs)\n",
    "    \n",
    "#     x = np.array([[i]*num_x for i in np.arange(sig_start, sig_end, sig_inc)])\n",
    "#     y = np.array([list(np.arange(mu_start, mu_end, mu_inc))] * num_y)\n",
    "    \n",
    "    max_for = {}\n",
    "    # for diff values of sig \n",
    "    for i in range(len(dfs)):\n",
    "        for j in range(len(dfs[i])):\n",
    "            inds = dfs[i][j][2].index\n",
    "            for ind in inds:\n",
    "                if ind not in max_for:\n",
    "                    max_for[ind] = (dfs[i][j][2][ind], dfs[i][j][0], dfs[i][j][1])\n",
    "                else:\n",
    "                    if dfs[i][j][2][ind] > max_for[ind][0]:\n",
    "                        max_for[ind] = (dfs[i][j][2][ind], dfs[i][j][0], dfs[i][j][1])\n",
    "\n",
    "    for measure in max_for:\n",
    "        max_for[measure] = {'\\mu': max_for[measure][2], '\\sigma': max_for[measure][1], 'score': max_for[measure][0]}\n",
    "        \n",
    "    max_df = pd.DataFrame.from_dict(max_for, orient='index')\n",
    "    return max_df\n",
    "\n",
    "max_df = create_max_df(plm_dfs)"
   ]
  },
  {
   "cell_type": "code",
   "execution_count": null,
   "metadata": {},
   "outputs": [],
   "source": [
    "print(max_df[max_df.index.isin(config.METRIC_NAMES)].rename(index=config.METRIC_NAMES).round(4).to_latex())"
   ]
  },
  {
   "cell_type": "code",
   "execution_count": null,
   "metadata": {},
   "outputs": [],
   "source": [
    "# SIGIR SDM\n",
    "\n",
    "sig_plm = load_dfs(config.SIGIR_QREL_PATH, config.AUS_REL_LEVEL, '', [os.path.join(BASE_DIR, 'plm', 'sigir-topic-topics-sigir-stop-plm-dir-mu-1500.00-sigma-{0:.2f}.run'.format(x)) for x in range(25, 525, 25)], filtered=[1, 3, 9, 19, 23, 25, 31, 37, 39, 45, 51, 97])"
   ]
  },
  {
   "cell_type": "code",
   "execution_count": null,
   "metadata": {},
   "outputs": [],
   "source": [
    "sig_plot = plot_tune_1d_comp(['plm'], config.METRIC_NAMES, [sig_plm], 25, 500, 25)\n",
    "sig_plot.savefig('figures/sigir-plm-tune.pdf')"
   ]
  },
  {
   "cell_type": "code",
   "execution_count": null,
   "metadata": {},
   "outputs": [],
   "source": [
    "sig_plm = load_dfs(config.SIGIR_QREL_PATH, config.AUS_REL_LEVEL, '', [os.path.join(BASE_DIR, 'plm', 'sigir-topic-topics-sigir-stop-plm-dir-mu-1500.00-sigma-{0:.2f}.run'.format(x)) for x in range(25, 525, 25)], per_query=True, filtered=[1, 3, 9, 19, 23, 25, 31, 37, 39, 45, 51, 97])"
   ]
  },
  {
   "cell_type": "code",
   "execution_count": null,
   "metadata": {},
   "outputs": [],
   "source": [
    "base_sig = load_1d_dfs(['sigir-stop'], [config.SIGIR_QREL_PATH], os.path.join(BASE_DIR, 'dirichlet_prior'), 'sigir-topic-topics-{0}-unigram_dir_mu_{1:.2f}.run', rel_levels, 1500, 1500, 1, per_query=True, filtered=[1, 3, 9, 19, 23, 25, 31, 37, 39, 45, 51, 97])[0][0]\n",
    "\n",
    "sig_folds = read_folds('sigir-folds.txt')"
   ]
  },
  {
   "cell_type": "code",
   "execution_count": null,
   "metadata": {},
   "outputs": [],
   "source": [
    "cv_df = pd.DataFrame(columns=config.METRIC_NAMES)\n",
    "\n",
    "\n",
    "def cross_validation(runs, folds, metrics, base_qry):\n",
    "    _max = [0.0] * len(metrics)\n",
    "    max_inds = [0] * len(metrics)\n",
    "    qry_res = []\n",
    "    for m in metrics:\n",
    "        qry_res.append(pd.Series(dtype='float64'))\n",
    "    \n",
    "    for i, run in enumerate(runs):\n",
    "        for fold in folds: \n",
    "            filtered = run[run.index.isin(fold[1])]\n",
    "            for j, m in enumerate(metrics.keys()):\n",
    "                v = filtered[m].mean()\n",
    "                # if j == 0: \n",
    "                #     print(v)\n",
    "                if v > _max[j] or i == 0:\n",
    "                    _max[j] = v\n",
    "                    max_inds[j] = i\n",
    "                    for ind, item in run[run.index.isin(fold[0])][m].items():\n",
    "                        qry_res[j].loc[ind] = item\n",
    "    \n",
    "    for i, m in enumerate(metrics):\n",
    "        qry_res[i].sort_index(inplace=True)\n",
    "        p = stats.ttest_rel(qry_res[i], base_qry[m]).pvalue\n",
    "        mean = base_qry[m].mean()\n",
    "        if p < 0.01:\n",
    "            _max[i] = '{0:.4f}'.format((_max[i])) + \"$^{**}$\"\n",
    "        elif p < 0.05: \n",
    "            _max[i] = '{0:.4f}'.format((_max[i])) + \"$^{*}$\"\n",
    "        else:\n",
    "            _max[i] = '{0:.4f}'.format((_max[i]))\n",
    "\n",
    "    return _max, max_inds\n",
    "\n",
    "\n",
    "for ab, runs in zip(['PLM'], [sig_plm]):\n",
    "    cross = cross_validation(runs, sig_folds, config.METRIC_NAMES, base_sig)\n",
    "    cv_df.loc[ab] = cross[0]\n",
    "    \n",
    "cv_df.loc['R'] = ['{:.4f}'.format(base_sig[m].mean()) for m in config.METRIC_NAMES]\n",
    "print(cv_df.drop('unjudged@20',axis='columns').rename(config.METRIC_NAMES, axis='columns'))"
   ]
  }
 ],
 "metadata": {
  "kernelspec": {
   "display_name": "Python 3",
   "language": "python",
   "name": "python3"
  },
  "language_info": {
   "codemirror_mode": {
    "name": "ipython",
    "version": 3
   },
   "file_extension": ".py",
   "mimetype": "text/x-python",
   "name": "python",
   "nbconvert_exporter": "python",
   "pygments_lexer": "ipython3",
   "version": "3.9.9"
  }
 },
 "nbformat": 4,
 "nbformat_minor": 4
}
