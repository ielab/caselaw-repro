{
 "cells": [
  {
   "cell_type": "code",
   "execution_count": 4,
   "metadata": {},
   "outputs": [],
   "source": [
    "# manual stemming based phrase expansions\n",
    "%matplotlib inline\n",
    "\n",
    "import sys \n",
    "import os \n",
    "\n",
    "\n",
    "nb_dir = os.getcwd()\n",
    "if nb_dir not in sys.path:\n",
    "    sys.path.append(nb_dir)\n",
    "\n",
    "from plotlib.loaders import *\n",
    "from plotlib.plotters import *\n",
    "\n",
    "from phdconf import config "
   ]
  },
  {
   "cell_type": "code",
   "execution_count": 5,
   "metadata": {},
   "outputs": [],
   "source": [
    "def load_queries(path: str):  \n",
    "    queries = {}\n",
    "    with open(path) as f:\n",
    "        data = json.load(f)\n",
    "        for topic in data['topics']:\n",
    "            queries[topic['id']] = {'topic': topic['topic'], 'type': topic['type']}\n",
    "    return queries\n",
    "\n",
    "def load_qrel(path: str, rel: bool=False):\n",
    "    qrels = {}\n",
    "    with open(path) as f:\n",
    "        for line in f:\n",
    "            parts = line.strip().split()\n",
    "            if int(parts[0]) not in qrels:\n",
    "                qrels[int(parts[0])] = set()\n",
    "            if rel:\n",
    "                if parts[3] == '1':\n",
    "                    qrels[int(parts[0])].add(parts[2])\n",
    "            else:\n",
    "                qrels[int(parts[0])].add(parts[2])\n",
    "            \n",
    "    return qrels\n",
    "\n",
    "def load_relevant_docs(path: str): \n",
    "    with open(path) as f: \n",
    "        return json.load(f)\n",
    "        "
   ]
  },
  {
   "cell_type": "code",
   "execution_count": 6,
   "metadata": {},
   "outputs": [],
   "source": [
    "queries = load_queries('/home/danlocke/go/src/github.com/dan-locke/phd-data/case-topics.json')"
   ]
  },
  {
   "cell_type": "code",
   "execution_count": 11,
   "metadata": {},
   "outputs": [
    {
     "name": "stdout",
     "output_type": "stream",
     "text": [
      "95\n",
      "39\n"
     ]
    }
   ],
   "source": [
    "print(len(queries.keys()))\n",
    "queries = load_queries('/home/danlocke/go/src/github.com/dan-locke/phd-data/legislative-queries.json')\n",
    "print(len(queries.keys()))"
   ]
  },
  {
   "cell_type": "code",
   "execution_count": 4,
   "metadata": {},
   "outputs": [],
   "source": [
    "l = 0\n",
    "r = {}\n",
    "\n",
    "with open('/home/danlocke/go/src/github.com/dan-locke/phd-data/aus/filtered-qrels.txt') as f:\n",
    "    for line in f:\n",
    "        ls = line.strip()\n",
    "        if ls == '':\n",
    "            continue\n",
    "        \n",
    "        parts = ls.split()\n",
    "        if parts[3] not in r:\n",
    "            r[parts[3]] = 0\n",
    "        \n",
    "        r[parts[3]] += 1\n",
    "        l += 1\n",
    "        "
   ]
  },
  {
   "cell_type": "code",
   "execution_count": 5,
   "metadata": {},
   "outputs": [
    {
     "name": "stdout",
     "output_type": "stream",
     "text": [
      "10732 [('0', 9534), ('1', 476), ('2', 396), ('3', 326)]\n"
     ]
    }
   ],
   "source": [
    "# number of assessed and relevant docs\n",
    "print(l, sorted(r.items()))"
   ]
  },
  {
   "cell_type": "code",
   "execution_count": 7,
   "metadata": {},
   "outputs": [
    {
     "data": {
      "application/pdf": "[encoded data removed]",
      "text/plain": [
       "<Figure size 1152x720 with 1 Axes>"
      ]
     },
     "metadata": {},
     "output_type": "display_data"
    }
   ],
   "source": [
    "def plot_lens(rel):\n",
    "    fig = plt.figure()\n",
    "    ax = fig.add_axes([0,0,1,1])\n",
    "    ax.bar([x[0] for x in rel], [x[1] for x in rel])\n",
    "    plt.xlabel('Relevance', fontsize=20)\n",
    "    plt.ylabel('# assessments', fontsize=20)\n",
    "    ax.tick_params(axis='both', which='major', labelsize=20)\n",
    "    fig.savefig('figures/aus-rel-counts.pdf')\n",
    "    \n",
    "plot_lens(sorted(r.items()))"
   ]
  },
  {
   "cell_type": "code",
   "execution_count": 7,
   "metadata": {},
   "outputs": [
    {
     "ename": "FileNotFoundError",
     "evalue": "[Errno 2] No such file or directory: '/home/danlocke/go/src/github.com/dan-locke/phd/experiments/relevant-docs.json'",
     "output_type": "error",
     "traceback": [
      "\u001b[0;31m---------------------------------------------------------------------------\u001b[0m",
      "\u001b[0;31mFileNotFoundError\u001b[0m                         Traceback (most recent call last)",
      "\u001b[0;32m<ipython-input-7-4d080870207e>\u001b[0m in \u001b[0;36m<module>\u001b[0;34m\u001b[0m\n\u001b[0;32m----> 1\u001b[0;31m \u001b[0mrel_docs\u001b[0m \u001b[0;34m=\u001b[0m \u001b[0mload_relevant_docs\u001b[0m\u001b[0;34m(\u001b[0m\u001b[0;34m'/home/danlocke/go/src/github.com/dan-locke/phd/experiments/relevant-docs.json'\u001b[0m\u001b[0;34m)\u001b[0m\u001b[0;34m\u001b[0m\u001b[0;34m\u001b[0m\u001b[0m\n\u001b[0m",
      "\u001b[0;32m<ipython-input-4-260cdb764cd5>\u001b[0m in \u001b[0;36mload_relevant_docs\u001b[0;34m(path)\u001b[0m\n\u001b[1;32m     23\u001b[0m \u001b[0;34m\u001b[0m\u001b[0m\n\u001b[1;32m     24\u001b[0m \u001b[0;32mdef\u001b[0m \u001b[0mload_relevant_docs\u001b[0m\u001b[0;34m(\u001b[0m\u001b[0mpath\u001b[0m\u001b[0;34m:\u001b[0m \u001b[0mstr\u001b[0m\u001b[0;34m)\u001b[0m\u001b[0;34m:\u001b[0m\u001b[0;34m\u001b[0m\u001b[0;34m\u001b[0m\u001b[0m\n\u001b[0;32m---> 25\u001b[0;31m     \u001b[0;32mwith\u001b[0m \u001b[0mopen\u001b[0m\u001b[0;34m(\u001b[0m\u001b[0mpath\u001b[0m\u001b[0;34m)\u001b[0m \u001b[0;32mas\u001b[0m \u001b[0mf\u001b[0m\u001b[0;34m:\u001b[0m\u001b[0;34m\u001b[0m\u001b[0;34m\u001b[0m\u001b[0m\n\u001b[0m\u001b[1;32m     26\u001b[0m         \u001b[0;32mreturn\u001b[0m \u001b[0mjson\u001b[0m\u001b[0;34m.\u001b[0m\u001b[0mload\u001b[0m\u001b[0;34m(\u001b[0m\u001b[0mf\u001b[0m\u001b[0;34m)\u001b[0m\u001b[0;34m\u001b[0m\u001b[0;34m\u001b[0m\u001b[0m\n\u001b[1;32m     27\u001b[0m \u001b[0;34m\u001b[0m\u001b[0m\n",
      "\u001b[0;31mFileNotFoundError\u001b[0m: [Errno 2] No such file or directory: '/home/danlocke/go/src/github.com/dan-locke/phd/experiments/relevant-docs.json'"
     ]
    }
   ],
   "source": [
    "rel_docs = load_relevant_docs('/home/danlocke/go/src/github.com/dan-locke/phd/experiments/relevant-docs.json')"
   ]
  },
  {
   "cell_type": "code",
   "execution_count": 72,
   "metadata": {},
   "outputs": [
    {
     "name": "stdout",
     "output_type": "stream",
     "text": [
      "1 {'topic': 'What is the effect of reinstating a company that was in liquidation as regards money that may be recovered?', 'type': 'specific'}\n",
      "{'of', 'money', 'may', 'as', 'effect', 'was', 'is', 'be', 'recovered', 'company', 'liquidation', 'what', 'the', 'reinstating', 'that', 'a', 'regards', 'in'}\n",
      "                term  count  query_term\n",
      "494        companies    259       False\n",
      "327    reinstatement    230       False\n",
      "274            order    216       False\n",
      "140     deregistered    174       False\n",
      "26               601    169       False\n",
      "276           orders    157       False\n",
      "401               up    141       False\n",
      "65              asic    140       False\n",
      "49                ah    131       False\n",
      "1055    commissioner    127       False\n",
      "20                 3    123       False\n",
      "1864      plaintiffs    122       False\n",
      "9                  2    121       False\n",
      "141   deregistration    114       False\n",
      "235       liquidator    105       False\n",
      "324     registration    100       False\n",
      "0                  1    100       False\n",
      "1445             tax     99       False\n",
      "126     corporations     95       False\n",
      "326       reinstated     89       False\n",
      "413          winding     87       False\n",
      "2829           group     84       False\n",
      "102       commission     82       False\n",
      "2137         mauviel     80       False\n",
      "657         property     78       False\n",
      "3272            tbgl     75       False\n",
      "2516            bell     75       False\n",
      "234      liquidation     74       False\n",
      "649            power     71       False\n",
      "351       securities     70       False\n",
      "1087       creditors     70       False\n",
      "301      proceedings     69       False\n",
      "202         holdings     66       False\n",
      "222             just     63       False\n",
      "73        australian     62       False\n",
      "954           action     61       False\n",
      "1633      defendants     61       False\n",
      "45         aggrieved     58       False\n",
      "1020        binetter     57       False\n",
      "317               re     54       False\n",
      "3360        woodings     53       False\n",
      "543         evidence     52       False\n",
      "765              acn     50       False\n",
      "22                 4     50       False\n",
      "2100     enterprises     47       False\n",
      "319          reasons     45       False\n",
      "325        reinstate     45       False\n",
      "376       subsection     45       False\n",
      "310          purpose     44       False\n",
      "2132        legrande     44       False\n"
     ]
    }
   ],
   "source": [
    "# a lazy simple version of the query tokenization \n",
    "import re\n",
    "\n",
    "# \n",
    "for topic_id, topic in queries.items():\n",
    "    print(topic_id, topic)\n",
    "    terms = set(re.sub('[^0-9a-zA-Z]+', ' ', topic['topic']).lower().split())\n",
    "    print(terms)\n",
    "    total = {}\n",
    "    for rel_doc_id in qrels[topic_id]:\n",
    "#         fig = plt.figure() \n",
    "#         ax = fig.add_subplot(111)\n",
    "#         fig.set_size_inches(16, 10)\n",
    "        for term, count in rel_docs[rel_doc_id]['Terms'].items():\n",
    "            if term not in total:\n",
    "                total[term] = 0\n",
    "            total[term] += count \n",
    "        \n",
    "    \n",
    "    df = pd.DataFrame.from_dict({'term': list(total.keys()), 'count': list(total.values())})\n",
    "    df.sort_values(['count'], ascending=False, inplace=True)\n",
    "    df['query_term'] = pd.Series([x in terms for x in df.term])\n",
    "    print(df[:50])\n",
    "#         colors = ['b' if x in terms else 'r' for x in sort.term]\n",
    "#         g = sns.barplot(x=df.index, y='count', data=df, order=sort.index, ax=ax, palette=colors, alpha=0.7)\n",
    "#         ax.set_xticklabels([])\n",
    "    break\n",
    "\n",
    "# print(rel_docs['2000FCA120'])"
   ]
  },
  {
   "cell_type": "code",
   "execution_count": null,
   "metadata": {},
   "outputs": [],
   "source": []
  }
 ],
 "metadata": {
  "kernelspec": {
   "display_name": "Python 3",
   "language": "python",
   "name": "python3"
  },
  "language_info": {
   "codemirror_mode": {
    "name": "ipython",
    "version": 3
   },
   "file_extension": ".py",
   "mimetype": "text/x-python",
   "name": "python",
   "nbconvert_exporter": "python",
   "pygments_lexer": "ipython3",
   "version": "3.8.5"
  }
 },
 "nbformat": 4,
 "nbformat_minor": 4
}
