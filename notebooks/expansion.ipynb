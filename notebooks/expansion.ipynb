{
 "cells": [
  {
   "cell_type": "markdown",
   "metadata": {},
   "source": [
    "RM1 and RM3, NTLM and Kuzi et al. embedding methods. Includes tuning of NTLM and Kuzi et al. methods and comparison of different embedding types."
   ]
  },
  {
   "cell_type": "code",
   "execution_count": null,
   "metadata": {},
   "outputs": [],
   "source": [
    "import sys \n",
    "import os \n",
    "import numpy as np\n",
    "\n",
    "nb_dir = os.getcwd()\n",
    "if nb_dir not in sys.path:\n",
    "    sys.path.append(nb_dir)\n",
    "\n",
    "from plotlib.loaders import *\n",
    "from plotlib.plotters import *\n",
    "\n",
    "from phdconf import config \n",
    "from phdconf.config import *\n",
    "\n",
    "%matplotlib inline"
   ]
  },
  {
   "cell_type": "code",
   "execution_count": null,
   "metadata": {},
   "outputs": [],
   "source": [
    "queries = load_queries(config.AUS_TOPIC_PATH)"
   ]
  },
  {
   "cell_type": "code",
   "execution_count": null,
   "metadata": {},
   "outputs": [],
   "source": [
    "tt_folds = read_folds(AUS_FOLDS)"
   ]
  },
  {
   "cell_type": "code",
   "execution_count": null,
   "metadata": {},
   "outputs": [],
   "source": [
    "index_names = ['case-topics']\n",
    "qrel_paths = [config.AUS_QREL_PATH] * len(index_names)\n",
    "rel_levels = [config.AUS_REL_LEVEL] * len(index_names)\n",
    "# display_names = ['base', 'sec-count', 'leg-count', 'date', 'hierarchy']\n",
    "\n",
    "topics = 'case-topics'"
   ]
  },
  {
   "cell_type": "code",
   "execution_count": null,
   "metadata": {},
   "outputs": [],
   "source": [
    "mu = 1050\n",
    "base_df = load_1d_dfs(['filtered-phrasestop'], qrel_paths, os.path.join(BASE_DIR, 'preprocessing', 'dirichlet_prior'), 'case-topics-{0}-unigram_dir_mu_{1:.2f}.run', rel_levels, mu, mu, 1)[0][0]\n",
    "base_qry = load_1d_dfs(['filtered-phrasestop'], qrel_paths, os.path.join(BASE_DIR, 'preprocessing', 'dirichlet_prior'), 'case-topics-{0}-unigram_dir_mu_{1:.2f}.run', rel_levels, mu, mu, 1, per_query=True)[0][0]"
   ]
  },
  {
   "cell_type": "markdown",
   "metadata": {},
   "source": [
    "# RM1"
   ]
  },
  {
   "cell_type": "code",
   "execution_count": null,
   "metadata": {},
   "outputs": [],
   "source": [
    "# ['tmp.run']\n",
    "results = []\n",
    "for n in range(1, 6):\n",
    "    results.append(load_dfs(config.AUS_QREL_PATH, config.AUS_REL_LEVEL, '', [os.path.join(BASE_DIR, 'prf', 'case-topics-prf-text-docs-'+str(n)+'-terms-{0}.run'.format(x)) for x in range(1, 11)]))"
   ]
  },
  {
   "cell_type": "code",
   "execution_count": null,
   "metadata": {},
   "outputs": [],
   "source": [
    "doc_fig = plot_tune_1d_comp(['DP']+[x for x in range(1, 6)], RERANK_METRICS, [[base_df for x in range(10)]]+results, 1, 10, 1, legend_x=0.965, legend_y=0.75, styles=['--'])"
   ]
  },
  {
   "cell_type": "code",
   "execution_count": null,
   "metadata": {},
   "outputs": [],
   "source": [
    "# doc_fig.savefig('figures/rm1-docs.pdf')"
   ]
  },
  {
   "cell_type": "markdown",
   "metadata": {},
   "source": [
    "# RM3"
   ]
  },
  {
   "cell_type": "code",
   "execution_count": null,
   "metadata": {},
   "outputs": [],
   "source": [
    "inter = Interpolater(os.path.join(BASE_DIR, 'preprocessing', 'dirichlet_prior', 'case-topics-filtered-phrasestop-unigram_dir_mu_1050.00.run'), normalize=True)\n",
    "\n",
    "dfs = []\n",
    "for x in [os.path.join(BASE_DIR, 'prf', 'case-topics-prf-text-docs-1-terms-{0}.run'.format(x)) for x in range(1, 11)]: \n",
    "    interped_dfs = []\n",
    "    for _lambda in np.arange(0, 1.0, 0.01):\n",
    "        inter.interpolate(x, _lambda, 'tmp.run')\n",
    "        interped_dfs.append(load_dfs(config.AUS_QREL_PATH, config.AUS_REL_LEVEL, '', ['tmp.run'])[0])\n",
    "    dfs.append(interped_dfs)"
   ]
  },
  {
   "cell_type": "code",
   "execution_count": null,
   "metadata": {},
   "outputs": [],
   "source": [
    "to = 30\n",
    "term_interp_fig = plot_tune_1d_comp(['DP']+[x for x in range(1, 11)], RERANK_METRICS, [[base_df for x in range(to+1)]] + [x[:to+1] for x in dfs], 0.00, (to)/100, 0.01, legend_x=0.73, legend_y=0.93, styles=['--'])"
   ]
  },
  {
   "cell_type": "code",
   "execution_count": null,
   "metadata": {},
   "outputs": [],
   "source": [
    "# term_interp_fig.savefig('figures/rm3.pdf')"
   ]
  },
  {
   "cell_type": "code",
   "execution_count": null,
   "metadata": {},
   "outputs": [],
   "source": [
    "names = [x for x in range(1, 11)]\n",
    "max_1_doc = select_1d_max_with_interp(names, dfs, 0.0, 0.01, '$\\lambda$', inter, base_qry, base_df, 1050, os.path.join(BASE_DIR, 'prf', 'case-topics-prf-text-docs-1-terms-{0}.run'), config.AUS_QREL_PATH, config.AUS_REL_LEVEL, metrics=RERANK_METRICS).T"
   ]
  },
  {
   "cell_type": "code",
   "execution_count": null,
   "metadata": {},
   "outputs": [],
   "source": [
    "print(max_1_doc.drop(['Unjudged@20'], axis='columns').to_latex(escape=False))"
   ]
  },
  {
   "cell_type": "code",
   "execution_count": null,
   "metadata": {},
   "outputs": [],
   "source": [
    "# ['tmp.run']\n",
    "fixed_lambda = 0.1\n",
    "results = []\n",
    "for n in range(1, 6):\n",
    "    res = []\n",
    "    for k in range(1, 11):\n",
    "        inter.interpolate(os.path.join(BASE_DIR, 'prf', 'case-topics-prf-text-docs-{0}-terms-{1}.run'.format(n, k)), fixed_lambda, 'tmp.run')\n",
    "        res.append(load_dfs(config.AUS_QREL_PATH, config.AUS_REL_LEVEL, '', ['tmp.run'])[0])\n",
    "    results.append(res)              "
   ]
  },
  {
   "cell_type": "code",
   "execution_count": null,
   "metadata": {},
   "outputs": [],
   "source": [
    "interp_fig = plot_tune_1d_comp(['base']+[x for x in range(1, 6)], RERANK_METRICS, [[base_df for x in range(10)]]+results, 1, 10, 1, legend_x=0.965, ylims=RERANK_YLIMS, styles=['--'])"
   ]
  },
  {
   "cell_type": "code",
   "execution_count": null,
   "metadata": {},
   "outputs": [],
   "source": [
    "# interp_fig.savefig('figures/ausnl-prf-fixed-interp.pdf')"
   ]
  },
  {
   "cell_type": "markdown",
   "metadata": {},
   "source": [
    "# Kuzi et al methods"
   ]
  },
  {
   "cell_type": "code",
   "execution_count": null,
   "metadata": {},
   "outputs": [],
   "source": [
    "emb_type = 'max'\n",
    "emb_results = []\n",
    "for k in range(1, 11):\n",
    "    res = []\n",
    "    for _lambda in np.arange(0, 1.0, 0.01):\n",
    "        inter.interpolate(os.path.join(BASE_DIR, 'embedding-prf', 'case-topics-skip-emb-{0}-expterms-{1}.run'.format(emb_type, k)), _lambda, 'tmp.run')\n",
    "        res.append(load_dfs(config.AUS_QREL_PATH, config.AUS_REL_LEVEL, '', ['tmp.run'])[0])\n",
    "    emb_results.append(res)              "
   ]
  },
  {
   "cell_type": "code",
   "execution_count": null,
   "metadata": {},
   "outputs": [],
   "source": [
    "to = 40\n",
    "interp_fig = plot_tune_1d_comp(['base']+[x for x in range(1, 11)], RERANK_METRICS, [[base_df for x in range(to+1)]]+[x[:to+1] for x in emb_results], 0, to/100, 0.01, legend_x=0.965, ylims=RERANK_YLIMS, styles=['--'])\n",
    "# interp_fig.savefig('figures/ausnl-emb-interp.pdf')"
   ]
  },
  {
   "cell_type": "code",
   "execution_count": null,
   "metadata": {},
   "outputs": [],
   "source": [
    "grid_dir = os.path.join(BASE_DIR, \"grid-search\")\n",
    "\n",
    "models = ['sum', 'mnz', 'max', 'centroid']\n",
    "ets = ['cbow', 'skip']\n",
    "\n",
    "names = ['rm3']#, '5feat']#, '6feat']\n",
    "for e in ets: \n",
    "    for m in models: \n",
    "        names.append('{0}-{1}'.format(e, m))\n",
    "        names.append('rm3-{0}-{1}'.format(e, m))\n",
    "\n",
    "grid_name = os.path.join(grid_dir, '{0}-{1}-combine-max.run')\n",
    "scores = {}\n",
    "run_res = {}\n",
    "for name in names:\n",
    "    run_res[name] = {}\n",
    "    scores[name] = {}\n",
    "    for m, metric in zip(['RR', 'ERR', 'R@20', 'NDCG', 'RBP'], RERANK_METRICS):\n",
    "        run = load_dfs(config.AUS_QREL_PATH, config.AUS_REL_LEVEL, '', [grid_name.format(name, m)], per_query=True)[0]\n",
    "        run_res[name][metric] = run[metric]\n",
    "        scores[name][metric] = run[metric].mean()"
   ]
  },
  {
   "cell_type": "code",
   "execution_count": null,
   "metadata": {},
   "outputs": [],
   "source": [
    "from scipy import stats \n",
    "\n",
    "base_qry.sort_index(inplace=True)\n",
    "\n",
    "stat = {}\n",
    "for name, rr in scores.items():\n",
    "    stat[name] = {}\n",
    "    for metric, score in rr.items():\n",
    "        run_res[name][metric].sort_index(inplace=True)\n",
    "        p = stats.ttest_rel(run_res[name][metric], base_qry[metric]).pvalue\n",
    "        m = base_qry[metric].mean()\n",
    "        if p < 0.01:\n",
    "             stat[name][metric] = '{0:.4f}'.format((score)) + \"$^{**}$\"\n",
    "        elif p < 0.05: \n",
    "            stat[name][metric] = '{0:.4f}'.format((score)) + \"$^{*}$\"\n",
    "        else:\n",
    "            stat[name][metric] = '{0:.4f}'.format((score))"
   ]
  },
  {
   "cell_type": "code",
   "execution_count": null,
   "metadata": {},
   "outputs": [],
   "source": [
    "df = pd.DataFrame(stat).T"
   ]
  },
  {
   "cell_type": "code",
   "execution_count": null,
   "metadata": {},
   "outputs": [],
   "source": [
    "df.loc['$R$'] = base_df[RERANK_METRICS].round(4)\n",
    "df = df.rename(index={'rm3': 'RM3'})\n",
    "df = df.reindex(['$R$', 'RM3', 'cbow-centroid', 'cbow-sum', 'cbow-max', 'cbow-mnz', \n",
    "                 'rm3-cbow-centroid', 'rm3-cbow-sum', 'rm3-cbow-max', 'rm3-cbow-mnz',\n",
    "                'skip-centroid', 'skip-sum', 'skip-max', 'skip-mnz',\n",
    "                'rm3-skip-centroid', 'rm3-skip-sum', 'rm3-skip-max', 'rm3-skip-mnz'])\n",
    "df\n",
    "# write_table('tables/emb-expansion', bold_max(df).rename(columns=metrics).to_latex(escape=False))"
   ]
  },
  {
   "cell_type": "markdown",
   "metadata": {},
   "source": [
    "# NTLM"
   ]
  },
  {
   "cell_type": "code",
   "execution_count": null,
   "metadata": {},
   "outputs": [],
   "source": [
    "ntlm_emb = ['all-paras-lower-100-skip-minoccur-50', 'all-paras-lower-100-cbow-minoccur-50', 'filtered-wiki-news-300d-1M']\n",
    "abbrev = ['skip', 'cbow', 'generic']\n",
    "ntlm_runs = []\n",
    "for emb, ab in zip(ntlm_emb, abbrev):\n",
    "    ntlm_names = [os.path.join(BASE_DIR, 'expansion/tlm', 'case-topics-filtered-phrasestop-{0}-tlm-dir-mu-1050.00-neighbours-{1}.run'.format(emb, x)) for x in range(1, 21)]\n",
    "    ntlm_runs.append(load_dfs(config.AUS_QREL_PATH, config.AUS_REL_LEVEL, '', ntlm_names, per_query=True))\n"
   ]
  },
  {
   "cell_type": "code",
   "execution_count": null,
   "metadata": {},
   "outputs": [],
   "source": [
    "ntlm_df = pd.DataFrame(columns=RERANK_METRICS)\n",
    "\n",
    "for ab, runs in zip(abbrev, ntlm_runs):\n",
    "    cross = cross_validation(runs, tt_folds, RERANK_METRICS, base_qry)\n",
    "    ntlm_df.loc[ab] = cross[0]\n",
    "    \n",
    "ntlm_df.loc['$R$'] = base_df.round(4)\n",
    "ntlm_df = ntlm_df.reindex(['$R$', 'skip', 'cbow', 'generic'])"
   ]
  },
  {
   "cell_type": "code",
   "execution_count": null,
   "metadata": {},
   "outputs": [],
   "source": [
    "# write_table('tables/ntlm-emb-type', bold_max(ntlm_df).rename(columns=metrics).drop('Unjudged@20',axis='columns').to_latex(escape=False))"
   ]
  },
  {
   "cell_type": "code",
   "execution_count": null,
   "metadata": {},
   "outputs": [],
   "source": [
    "ntlm_fig = plot_tune_1d_comp(['base'] + abbrev, RERANK_METRICS, [[base_df for x in range(20)]] + [[x.mean() for x in y] for y in ntlm_runs], 1, 20, 1, legend_x=0.965, legend_y=0.2, styles=['--'], ylims=RERANK_YLIMS)\n",
    "# ntlm_fig.savefig('figures/ausnl-ntlm.pdf')"
   ]
  },
  {
   "cell_type": "code",
   "execution_count": null,
   "metadata": {},
   "outputs": [],
   "source": [
    "best_qry = load_dfs(config.AUS_QREL_PATH, config.AUS_REL_LEVEL, '', [grid_name.format(x, 'RBP') for x in ['cbow-centroid', 'skip-max']], per_query=True)"
   ]
  },
  {
   "cell_type": "code",
   "execution_count": null,
   "metadata": {},
   "outputs": [],
   "source": [
    "(best_qry[1]-base_qry).sort_values('rbp@0.80')[:5]"
   ]
  }
 ],
 "metadata": {
  "kernelspec": {
   "display_name": "Python 3",
   "language": "python",
   "name": "python3"
  },
  "language_info": {
   "codemirror_mode": {
    "name": "ipython",
    "version": 3
   },
   "file_extension": ".py",
   "mimetype": "text/x-python",
   "name": "python",
   "nbconvert_exporter": "python",
   "pygments_lexer": "ipython3",
   "version": "3.9.9"
  }
 },
 "nbformat": 4,
 "nbformat_minor": 4
}
