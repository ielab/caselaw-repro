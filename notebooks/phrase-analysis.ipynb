{
 "cells": [
  {
   "cell_type": "markdown",
   "metadata": {},
   "source": [
    "Notebook for phrase score interpolation with DP and phrase expansion scoring"
   ]
  },
  {
   "cell_type": "code",
   "execution_count": null,
   "metadata": {},
   "outputs": [],
   "source": [
    "%matplotlib inline\n",
    "\n",
    "import sys \n",
    "import os \n",
    "\n",
    "nb_dir = os.getcwd()\n",
    "if nb_dir not in sys.path:\n",
    "    sys.path.append(nb_dir)\n",
    "\n",
    "from plotlib.loaders import *\n",
    "from plotlib.plotters import *\n",
    "\n",
    "from phdconf import config \n",
    "from phdconf.config import *"
   ]
  },
  {
   "cell_type": "code",
   "execution_count": null,
   "metadata": {},
   "outputs": [],
   "source": [
    "queries = load_queries(config.AUS_TOPIC_PATH)\n",
    "broad, specific = load_query_types(queries)"
   ]
  },
  {
   "cell_type": "code",
   "execution_count": null,
   "metadata": {},
   "outputs": [],
   "source": [
    "index_name = 'filtered-phrasestop'#, config.SIGIR_INDEX_NAME]\n",
    "qrel_paths =  [config.AUS_QREL_PATH]#, config.SIGIR_QREL_PATH]\n",
    "rel_levels = [config.AUS_REL_LEVEL]#, config.SIGIR_REL_LEVEL]\n",
    "display_names = ['AUS']#, 'SIGIR']"
   ]
  },
  {
   "cell_type": "code",
   "execution_count": null,
   "metadata": {},
   "outputs": [],
   "source": [
    "base_df = load_1d_dfs([index_name], qrel_paths, os.path.join('/home/danlocke/phd-generated', 'preprocessing', 'dirichlet_prior'),'case-topics-{0}-unigram_dir_mu_{1:.2f}.run', rel_levels, 1050, 1050, 1)[0][0]\n",
    "base_qry = load_1d_dfs([index_name], qrel_paths, os.path.join('/home/danlocke/phd-generated', 'preprocessing', 'dirichlet_prior'),'case-topics-{0}-unigram_dir_mu_{1:.2f}.run', rel_levels, 1050, 1050, 1, per_query=True)[0][0]"
   ]
  },
  {
   "cell_type": "markdown",
   "metadata": {},
   "source": [
    "## Phrase scoring"
   ]
  },
  {
   "cell_type": "code",
   "execution_count": null,
   "metadata": {},
   "outputs": [],
   "source": [
    "names = ['nnphrase', 'nnphrase-exp', 'phrase-exp-qry', 'nnphrase-exp-qry']\n",
    "inter = Interpolater(os.path.join(BASE_DIR, 'preprocessing', 'dirichlet_prior', 'case-topics-filtered-phrasestop-unigram_dir_mu_1050.00.run'), normalize=True)\n",
    "\n",
    "_dir = '/home/danlocke/go/src/github.com/dan-locke/phd/phrase-expansion/'"
   ]
  },
  {
   "cell_type": "code",
   "execution_count": null,
   "metadata": {},
   "outputs": [],
   "source": [
    "dfs = []\n",
    "for n in names: \n",
    "    interped_dfs = []\n",
    "    for _lambda in np.arange(0, 1.0, 0.01):\n",
    "        inter.interpolate(os.path.join(_dir, 'case-topics-{0}-{1}.run'.format(index_name, n)), _lambda, 'tmp.run')\n",
    "        interped_dfs.append(load_dfs(config.AUS_QREL_PATH, config.AUS_REL_LEVEL, '', ['tmp.run'])[0])\n",
    "    dfs.append(interped_dfs)"
   ]
  },
  {
   "cell_type": "code",
   "execution_count": null,
   "metadata": {},
   "outputs": [],
   "source": [
    "qry_dfs = []\n",
    "for n in names: \n",
    "    interped_dfs = []\n",
    "    for _lambda in np.arange(0, 1.0, 0.01):\n",
    "        inter.interpolate(os.path.join(_dir, 'case-topics-{0}-{1}.run'.format(index_name, n)), _lambda, 'tmp.run')\n",
    "        interped_dfs.append(load_dfs(config.AUS_QREL_PATH, config.AUS_REL_LEVEL, '', ['tmp.run'], per_query=True)[0])\n",
    "    qry_dfs.append(interped_dfs)"
   ]
  },
  {
   "cell_type": "code",
   "execution_count": null,
   "metadata": {},
   "outputs": [],
   "source": [
    "metrics = copy.copy(config.METRIC_NAMES)\n",
    "del metrics['recall_100']"
   ]
  },
  {
   "cell_type": "code",
   "execution_count": null,
   "metadata": {},
   "outputs": [],
   "source": [
    "\n",
    "\n",
    "to = 50\n",
    "\n",
    "plot = plot_tune_1d_comp(['base', 'phrase', 'phrase-exp', 'phrase-qry', 'phrase-exp-qry'], metrics, [[base_df for x in range(to+1)]] + [x[:to+1] for x in dfs], 0.00, (to)/100, 0.01, legend_x=0.991, styles=['--'], ylims=ylims)\n",
    "# plot.savefig('figures/ausnl-phrase-expansion-interp.pdf')"
   ]
  },
  {
   "cell_type": "code",
   "execution_count": null,
   "metadata": {},
   "outputs": [],
   "source": [
    "# base_sdm = load_1d_dfs([index_name], qrel_paths, os.path.join('/home/danlocke/phd-generated', 'sdm_rerank'), 'case-topics-filtered-phrasestop-sdm_rerank-smooth-dir-mu-{1:.2f}-weights-0.80-0.05-0.15-window-6.run', rel_levels, 1050, 1050, 1)[0][0]\n",
    "\n",
    "plot = plot_tune_1d_comp(['base', 'phrase'], metrics, [[base_df for x in range(to+1)]] + [dfs[0][:to+1]], 0.00, (to)/100, 0.01, legend_x=0.965, styles=['--'])\n",
    "# plot.savefig('figures/ausnl-phrase-interp.pdf')"
   ]
  },
  {
   "cell_type": "code",
   "execution_count": null,
   "metadata": {},
   "outputs": [],
   "source": [
    "tt_folds = read_folds('ausnl-folds.txt')"
   ]
  },
  {
   "cell_type": "code",
   "execution_count": null,
   "metadata": {},
   "outputs": [],
   "source": [
    "stop_df = pd.DataFrame(columns=metrics)\n",
    "\n",
    "for ab, runs in zip(['phrase', 'phrase-exp', 'phrase-qry', 'phrase-exp-qry'], qry_dfs):\n",
    "    cross = cross_validation(runs, tt_folds, metrics, base_qry)\n",
    "    stop_df.loc[ab] = cross[0]"
   ]
  },
  {
   "cell_type": "code",
   "execution_count": null,
   "metadata": {},
   "outputs": [],
   "source": [
    "stop_df.loc['$R$'] = base_df.round(4)"
   ]
  },
  {
   "cell_type": "code",
   "execution_count": null,
   "metadata": {},
   "outputs": [],
   "source": [
    "# stop_df = stop_df.rename(index={'nnphrase': 'phrase', 'nnphrase-exp': 'phrase-exp', 'phrase-exp-qry': 'phrase-qry', 'nnphrase-exp-qry': 'phrase-exp-qry'})\n",
    "stop_df = stop_df.reindex(['$R$', 'phrase', 'phrase-exp', 'phrase-qry', 'phrase-exp-qry'])\n",
    "stop_df"
   ]
  },
  {
   "cell_type": "code",
   "execution_count": null,
   "metadata": {},
   "outputs": [],
   "source": [
    "# write_table('tables/ausnl-phrase', bold_max(stop_df.reindex(['$R$', 'phrase'])).rename(columns=metrics).drop('Unjudged@20',axis='columns').to_latex(escape=False))"
   ]
  },
  {
   "cell_type": "code",
   "execution_count": null,
   "metadata": {},
   "outputs": [],
   "source": [
    "# write_table('tables/ausnl-phrase-exp', bold_max(stop_df).rename(columns=metrics).drop('Unjudged@20',axis='columns').to_latex(escape=False))"
   ]
  }
 ],
 "metadata": {
  "kernelspec": {
   "display_name": "Python 3",
   "language": "python",
   "name": "python3"
  },
  "language_info": {
   "codemirror_mode": {
    "name": "ipython",
    "version": 3
   },
   "file_extension": ".py",
   "mimetype": "text/x-python",
   "name": "python",
   "nbconvert_exporter": "python",
   "pygments_lexer": "ipython3",
   "version": "3.8.10"
  }
 },
 "nbformat": 4,
 "nbformat_minor": 4
}
