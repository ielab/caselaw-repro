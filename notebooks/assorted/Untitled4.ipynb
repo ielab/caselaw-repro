{
 "cells": [
  {
   "cell_type": "code",
   "execution_count": 1,
   "metadata": {},
   "outputs": [],
   "source": [
    "from plotlib.loaders import *\n",
    "from plotlib.plotters import *\n",
    "\n",
    "from phdconf import stop\n",
    "from phdconf import config \n",
    "\n",
    "import os\n",
    "import nltk\n",
    "\n",
    "from sentence_transformers import SentenceTransformer \n",
    "from sklearn.metrics.pairwise import cosine_similarity"
   ]
  },
  {
   "cell_type": "code",
   "execution_count": 2,
   "metadata": {},
   "outputs": [],
   "source": [
    "queries = load_queries(config.AUS_TOPIC_PATH)"
   ]
  },
  {
   "cell_type": "code",
   "execution_count": 3,
   "metadata": {},
   "outputs": [],
   "source": [
    "def load_qrel(path: str):\n",
    "    qrels = {}\n",
    "    with open(path) as f:\n",
    "        for line in f:\n",
    "            parts = line.strip().split()\n",
    "            if parts[0] not in qrels:\n",
    "                qrels[parts[0]] = [set(), set()]\n",
    "            if parts[3] == '0': \n",
    "                qrels[parts[0]][1].add(parts[2])\n",
    "            else:\n",
    "                qrels[parts[0]][0].add(parts[2])\n",
    "            \n",
    "    return qrels"
   ]
  },
  {
   "cell_type": "code",
   "execution_count": 4,
   "metadata": {},
   "outputs": [],
   "source": [
    "qrels = load_qrel(config.AUS_QREL_PATH)"
   ]
  },
  {
   "cell_type": "code",
   "execution_count": 5,
   "metadata": {},
   "outputs": [],
   "source": [
    "prefix_path = os.path.join(os.environ[\"HOME\"], 'JSON')\n",
    "\n",
    "def get_case_path_from_id(path: str, prefix:str=prefix_path):\n",
    "    prev = False \n",
    "    parts = []\n",
    "    part = ''\n",
    "    for t in path: \n",
    "        curr = t.isalpha()\n",
    "        if curr == prev: \n",
    "            part += t\n",
    "        else:\n",
    "            parts.append(part)\n",
    "            part = t\n",
    "            \n",
    "        prev = curr\n",
    "        \n",
    "    if part != '':\n",
    "        parts.append(part)\n",
    "            \n",
    "    f_name = ''\n",
    "    _dir = ''\n",
    "    if 'FCA' in parts[1]:\n",
    "        if int(parts[0]) < 2010:\n",
    "            _dir = 'FCAP10/' + parts[0]\n",
    "        else: \n",
    "            _dir = 'FCA/' + parts[0] \n",
    "        parts[2] = '{0:04}'.format(int(parts[2]))\n",
    "        f_name = ''.join(parts) + '.json'\n",
    "    else:\n",
    "        parts[2] = '{0:03}'.format(int(parts[2]))\n",
    "        f_name = '-'.join(parts[:3])\n",
    "        if len(parts) == 4:\n",
    "             parts += parts[3]\n",
    "        f_name += '.json'\n",
    "        _dir = 'QLD/{0}/{1}'.format(parts[1], parts[0])\n",
    "        \n",
    "    return os.path.join(prefix, _dir, f_name)\n",
    "    \n",
    "def load_json_case(_id: str):\n",
    "    path = get_case_path_from_id(_id)\n",
    "    with open(path) as f:\n",
    "        data = json.load(f)\n",
    "        return [x for x in data['body'] if x['type'] == 'paragraph' or x['type'] == 'quote']"
   ]
  },
  {
   "cell_type": "code",
   "execution_count": 6,
   "metadata": {},
   "outputs": [],
   "source": []
  },
  {
   "cell_type": "code",
   "execution_count": 31,
   "metadata": {},
   "outputs": [
    {
     "name": "stdout",
     "output_type": "stream",
     "text": [
      "12003 2000FCA1084\n"
     ]
    }
   ],
   "source": [
    "m = 0\n",
    "m_id = ''\n",
    "large = []\n",
    "for topic in qrels:\n",
    "    for _id in qrels[topic][0].union(qrels[topic][1]):\n",
    "        all_sent = []\n",
    "        for para in load_json_case(_id):\n",
    "            all_sent += nltk.sent_tokenize(para['text'])\n",
    "        if len(all_sent) > m:\n",
    "            m = len(all_sent)\n",
    "            m_id = _id\n",
    "        if len(all_sent) > 200: \n",
    "            large.append((_id, len(all_sent)))\n",
    "        \n",
    "print(m, m_id)"
   ]
  },
  {
   "cell_type": "code",
   "execution_count": 33,
   "metadata": {},
   "outputs": [
    {
     "name": "stdout",
     "output_type": "stream",
     "text": [
      "4704\n"
     ]
    }
   ],
   "source": []
  },
  {
   "cell_type": "code",
   "execution_count": 40,
   "metadata": {},
   "outputs": [
    {
     "name": "stdout",
     "output_type": "stream",
     "text": [
      "3505\n",
      "2706\n",
      "2184\n",
      "1843\n",
      "1588\n",
      "1371\n",
      "1233\n",
      "1085\n",
      "501\n",
      "205\n",
      "174\n"
     ]
    }
   ],
   "source": [
    "print(len([x for x in large if x[1] > 300]))\n",
    "print(len([x for x in large if x[1] > 400]))\n",
    "print(len([x for x in large if x[1] > 500]))\n",
    "print(len([x for x in large if x[1] > 600]))\n",
    "print(len([x for x in large if x[1] > 700]))\n",
    "print(len([x for x in large if x[1] > 800]))\n",
    "print(len([x for x in large if x[1] > 900]))\n",
    "print(len([x for x in large if x[1] > 1000]))\n",
    "print(len([x for x in large if x[1] > 2000]))\n",
    "print(len([x for x in large if x[1] > 4000]))\n",
    "print(len([x for x in large if x[1] > 5000]))"
   ]
  },
  {
   "cell_type": "code",
   "execution_count": 67,
   "metadata": {},
   "outputs": [],
   "source": [
    "def read_crim_file(path: str):\n",
    "    lookup = set()\n",
    "    with open(path) as f:\n",
    "        for line in f:\n",
    "            parts = line.split()\n",
    "            if parts[1] == '1':\n",
    "                lookup.add(parts[0])\n",
    "    return lookup\n",
    "\n",
    "def count_crim_in_res_file(path: str, crim_lookup):\n",
    "    qry = {}\n",
    "    with open(path) as f:\n",
    "        for line in f: \n",
    "            parts = line.split()\n",
    "            v = qry.get(parts[0], 0)\n",
    "            if parts[2] in crim_lookup: \n",
    "                v += 1\n",
    "            qry[parts[0]] = v\n",
    "                           \n",
    "    return qry"
   ]
  },
  {
   "cell_type": "code",
   "execution_count": 68,
   "metadata": {},
   "outputs": [],
   "source": [
    "crim_lookup = read_crim_file('/home/danlocke/go/src/crim-feature-file/crim-cases.txt')"
   ]
  },
  {
   "cell_type": "code",
   "execution_count": 69,
   "metadata": {},
   "outputs": [
    {
     "data": {
      "text/plain": [
       "{'1': 0,\n",
       " '2': 0,\n",
       " '3': 3,\n",
       " '4': 2,\n",
       " '5': 1,\n",
       " '6': 0,\n",
       " '7': 0,\n",
       " '8': 0,\n",
       " '9': 0,\n",
       " '10': 0,\n",
       " '11': 2,\n",
       " '12': 0,\n",
       " '13': 2,\n",
       " '15': 10,\n",
       " '17': 3,\n",
       " '19': 0,\n",
       " '21': 0,\n",
       " '22': 0,\n",
       " '23': 0,\n",
       " '24': 0,\n",
       " '25': 0,\n",
       " '27': 1,\n",
       " '28': 0,\n",
       " '29': 1,\n",
       " '32': 2,\n",
       " '33': 3,\n",
       " '34': 2,\n",
       " '35': 0,\n",
       " '37': 1,\n",
       " '39': 0,\n",
       " '41': 0,\n",
       " '43': 2,\n",
       " '44': 32,\n",
       " '45': 13,\n",
       " '46': 57,\n",
       " '47': 1,\n",
       " '49': 0,\n",
       " '50': 1,\n",
       " '53': 2,\n",
       " '54': 0,\n",
       " '55': 3,\n",
       " '57': 0,\n",
       " '58': 0,\n",
       " '59': 11,\n",
       " '60': 1,\n",
       " '61': 6,\n",
       " '62': 1,\n",
       " '64': 0,\n",
       " '65': 0,\n",
       " '67': 0,\n",
       " '69': 0,\n",
       " '70': 0,\n",
       " '71': 0,\n",
       " '73': 0,\n",
       " '74': 7,\n",
       " '75': 8,\n",
       " '76': 8,\n",
       " '77': 0,\n",
       " '78': 0,\n",
       " '80': 1,\n",
       " '81': 0,\n",
       " '82': 0,\n",
       " '83': 1,\n",
       " '84': 0,\n",
       " '85': 0,\n",
       " '86': 1,\n",
       " '87': 0,\n",
       " '88': 2,\n",
       " '89': 1,\n",
       " '90': 0,\n",
       " '91': 18,\n",
       " '93': 1,\n",
       " '94': 1,\n",
       " '95': 7,\n",
       " '96': 1,\n",
       " '97': 1,\n",
       " '98': 0,\n",
       " '99': 0,\n",
       " '101': 0,\n",
       " '102': 1,\n",
       " '103': 1,\n",
       " '104': 0,\n",
       " '105': 0,\n",
       " '107': 7,\n",
       " '108': 1,\n",
       " '109': 12,\n",
       " '110': 1,\n",
       " '111': 0,\n",
       " '112': 1,\n",
       " '113': 0,\n",
       " '114': 36,\n",
       " '115': 3,\n",
       " '116': 0,\n",
       " '117': 13,\n",
       " '118': 1}"
      ]
     },
     "execution_count": 69,
     "metadata": {},
     "output_type": "execute_result"
    }
   ],
   "source": [
    "count_crim_in_res_file('/home/danlocke/phd-generated/dirichlet_prior/case-topics-filtered-stop-unigram_dir_mu_2400.00.run', crim_lookup)"
   ]
  },
  {
   "cell_type": "code",
   "execution_count": 20,
   "metadata": {},
   "outputs": [],
   "source": [
    "encoder = SentenceTransformer('distilbert-base-nli-stsb-mean-tokens')"
   ]
  },
  {
   "cell_type": "code",
   "execution_count": 21,
   "metadata": {},
   "outputs": [
    {
     "name": "stdout",
     "output_type": "stream",
     "text": [
      "<class 'sentence_transformers.SentenceTransformer.SentenceTransformer'>\n"
     ]
    }
   ],
   "source": [
    "print(type(encoder))"
   ]
  },
  {
   "cell_type": "code",
   "execution_count": 27,
   "metadata": {},
   "outputs": [
    {
     "ename": "TypeError",
     "evalue": "rescore() missing 2 required positional arguments: 'queries' and 'encoder'",
     "output_type": "error",
     "traceback": [
      "\u001b[0;31m---------------------------------------------------------------------------\u001b[0m",
      "\u001b[0;31mTypeError\u001b[0m                                 Traceback (most recent call last)",
      "\u001b[0;32m<ipython-input-27-563a34546a16>\u001b[0m in \u001b[0;36m<module>\u001b[0;34m\u001b[0m\n\u001b[1;32m     27\u001b[0m \u001b[0;34m\u001b[0m\u001b[0m\n\u001b[1;32m     28\u001b[0m \u001b[0;34m\u001b[0m\u001b[0m\n\u001b[0;32m---> 29\u001b[0;31m \u001b[0mrescore\u001b[0m\u001b[0;34m(\u001b[0m\u001b[0;34m'/home/danlocke/phd-generated/dirichlet_prior/case-topics-filtered-stop-unigram_dir_mu_2400.00.run'\u001b[0m\u001b[0;34m,\u001b[0m \u001b[0mqueries\u001b[0m\u001b[0;34m)\u001b[0m\u001b[0;34m\u001b[0m\u001b[0;34m\u001b[0m\u001b[0m\n\u001b[0m",
      "\u001b[0;31mTypeError\u001b[0m: rescore() missing 2 required positional arguments: 'queries' and 'encoder'"
     ]
    }
   ],
   "source": [
    "def rescore(path: str, out_file:str, queries, encoder:SentenceTransformer): \n",
    "    qry = {}\n",
    "    with open(path) as f:\n",
    "        for line in f:\n",
    "            parts = line.split()\n",
    "            vals = []\n",
    "            q = int(parts[0])\n",
    "            if q in qry: \n",
    "                vals = qry[q] \n",
    "                \n",
    "            qry_score = encoder.encode(queries[1]['topic'])\n",
    "\n",
    "            all_sent = []\n",
    "            for para in load_json_case(parts[2]):\n",
    "                all_sent += nltk.sent_tokenize(para['text'])\n",
    "\n",
    "            scored = encoder.encode(all_sent)\n",
    "            sims = cosine_similarity(qry_score, scored)[0]\n",
    "            vals.append((parts[2], max(sims)))\n",
    "            qry[q] = vals\n",
    "            \n",
    "    qry = {k: sorted(v, key=lambda x: x[1], reverse=True) for k, v in qry.items()}\n",
    "    with open(out_file, 'w+') as f:\n",
    "        for key, vals in m.items():\n",
    "            for i, val in enumerate(vals):\n",
    "                f.write('{0} Q0 {1} {2} {3:4f} b\\n'.format(key, val[0], i, val[1]))\n",
    "\n",
    "\n",
    "rescore('/home/danlocke/phd-generated/dirichlet_prior/case-topics-filtered-stop-unigram_dir_mu_2400.00.run', , queries, encoder)"
   ]
  },
  {
   "cell_type": "code",
   "execution_count": 25,
   "metadata": {},
   "outputs": [],
   "source": [
    "m = {1: [('a', 100), ('b', 200), ('c', 120)], 2: [('a', 140), ('b', 200), ('c', 120)]}\n",
    "m = {k: sorted(v, key=lambda x: x[1], reverse=True) for k, v in m.items()}\n",
    "\n",
    "with open('test.txt', 'w+') as f:\n",
    "    for key, vals in m.items():\n",
    "        for i, val in enumerate(vals):\n",
    "            f.write('{0} Q0 {1} {2} {3:4f} b\\n'.format(key, val[0], i, val[1]))"
   ]
  },
  {
   "cell_type": "code",
   "execution_count": 19,
   "metadata": {},
   "outputs": [
    {
     "name": "stdout",
     "output_type": "stream",
     "text": [
      "{1: [('b', 200), ('c', 120), ('a', 100)], 2: [('b', 200), ('a', 140), ('c', 120)]}\n"
     ]
    }
   ],
   "source": [
    "print(m)"
   ]
  },
  {
   "cell_type": "code",
   "execution_count": null,
   "metadata": {},
   "outputs": [],
   "source": []
  }
 ],
 "metadata": {
  "kernelspec": {
   "display_name": "Python 3",
   "language": "python",
   "name": "python3"
  },
  "language_info": {
   "codemirror_mode": {
    "name": "ipython",
    "version": 3
   },
   "file_extension": ".py",
   "mimetype": "text/x-python",
   "name": "python",
   "nbconvert_exporter": "python",
   "pygments_lexer": "ipython3",
   "version": "3.7.5"
  }
 },
 "nbformat": 4,
 "nbformat_minor": 4
}
