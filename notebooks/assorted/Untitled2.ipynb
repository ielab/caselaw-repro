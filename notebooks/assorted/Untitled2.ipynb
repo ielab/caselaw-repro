{
 "cells": [
  {
   "cell_type": "code",
   "execution_count": 20,
   "metadata": {},
   "outputs": [],
   "source": [
    "import json\n",
    "import statistics"
   ]
  },
  {
   "cell_type": "code",
   "execution_count": 3,
   "metadata": {},
   "outputs": [],
   "source": [
    "def load_cooccur(path: str):\n",
    "    with open(path) as f:\n",
    "        data = json.load(f)\n",
    "        return data"
   ]
  },
  {
   "cell_type": "code",
   "execution_count": 17,
   "metadata": {},
   "outputs": [],
   "source": [
    "cooccurences = load_cooccur('/home/danlocke/cooccur.json')"
   ]
  },
  {
   "cell_type": "code",
   "execution_count": 21,
   "metadata": {},
   "outputs": [
    {
     "data": {
      "text/plain": [
       "[0.04714736042063818,\n",
       " 0.044133852762791574,\n",
       " 0.00036167629521645893,\n",
       " 0.019517368076408182,\n",
       " 0.00447024978853185,\n",
       " 0.004459174533558715,\n",
       " 0.016506629232304858,\n",
       " 0.03864502561844916,\n",
       " 0.004935756599121455,\n",
       " 0.04065864541325237]"
      ]
     },
     "execution_count": 21,
     "metadata": {},
     "output_type": "execute_result"
    }
   ],
   "source": [
    "[statistics.mean(x) for x in cooccurences['1']['cooccurences']]\n",
    "# cooccurences['1']"
   ]
  },
  {
   "cell_type": "code",
   "execution_count": 22,
   "metadata": {},
   "outputs": [],
   "source": [
    "from scipy.stats import tstd"
   ]
  },
  {
   "cell_type": "code",
   "execution_count": 33,
   "metadata": {},
   "outputs": [
    {
     "data": {
      "text/plain": [
       "[('liquidation', 1.1650029581705112),\n",
       " ('recovered', 1.1526922982118142),\n",
       " ('reinstating', 1.1386391513504022),\n",
       " ('regards', 1.0774381817848988),\n",
       " ('effect', 1.0126941046431108),\n",
       " ('what', 0.9999690927839399),\n",
       " ('money', 0.9685880164665822),\n",
       " ('company', 0.9579601960897084),\n",
       " ('?', 0.8175983884738844),\n",
       " ('may', 0.801027674763309)]"
      ]
     },
     "execution_count": 33,
     "metadata": {},
     "output_type": "execute_result"
    }
   ],
   "source": [
    "stds = tstd(cooccurences['1']['cooccurences'], axis=1)\n",
    "means = [statistics.mean(x) for x in cooccurences['1']['cooccurences']]\n",
    "sorted(zip(cooccurences['1']['tokens'], [1/(x/means[i]) for i, x in enumerate(stds)]), key=lambda x: x[1], reverse=True)\n",
    "# print([1/(x/means[i]) for i, x in enumerate(stds)])"
   ]
  },
  {
   "cell_type": "code",
   "execution_count": 31,
   "metadata": {},
   "outputs": [
    {
     "data": {
      "text/plain": [
       "[('?', 18.61761442181787, 9),\n",
       " ('reinstating', 12.785731944534353, 2),\n",
       " ('regards', 10.168700071154927, 5),\n",
       " ('recovered', 9.852311933069675, 8),\n",
       " ('liquidation', 9.406674229769719, 4),\n",
       " ('money', 7.6371809435867, 6),\n",
       " ('company', 6.722854192403983, 3),\n",
       " ('effect', 6.495369136733103, 1),\n",
       " ('what', 6.040478344896895, 0),\n",
       " ('may', 5.66584484101717, 7)]"
      ]
     },
     "execution_count": 31,
     "metadata": {},
     "output_type": "execute_result"
    }
   ],
   "source": [
    "sorted(zip(cooccurences['1']['tokens'], cooccurences['1']['ictfs'], [x for x in range(len(cooccurences['1']['tokens']))]), key=lambda x: x[1], reverse=True)"
   ]
  },
  {
   "cell_type": "code",
   "execution_count": 30,
   "metadata": {},
   "outputs": [
    {
     "data": {
      "text/plain": [
       "['what',\n",
       " 'effect',\n",
       " 'reinstating',\n",
       " 'company',\n",
       " 'liquidation',\n",
       " 'regards',\n",
       " 'money',\n",
       " 'may',\n",
       " 'recovered',\n",
       " '?']"
      ]
     },
     "execution_count": 30,
     "metadata": {},
     "output_type": "execute_result"
    }
   ],
   "source": [
    "cooccurences['1']['tokens']"
   ]
  },
  {
   "cell_type": "code",
   "execution_count": null,
   "metadata": {},
   "outputs": [],
   "source": []
  }
 ],
 "metadata": {
  "kernelspec": {
   "display_name": "Python 3",
   "language": "python",
   "name": "python3"
  },
  "language_info": {
   "codemirror_mode": {
    "name": "ipython",
    "version": 3
   },
   "file_extension": ".py",
   "mimetype": "text/x-python",
   "name": "python",
   "nbconvert_exporter": "python",
   "pygments_lexer": "ipython3",
   "version": "3.7.5"
  }
 },
 "nbformat": 4,
 "nbformat_minor": 4
}
